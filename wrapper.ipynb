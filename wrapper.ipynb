{
 "cells": [
  {
   "cell_type": "code",
   "execution_count": null,
   "id": "6ba2bb59",
   "metadata": {},
   "outputs": [],
   "source": [
    "import logging\n",
    "logger = logging.getLogger(__name__)\n",
    "# This can be set to DEBUG, INFO, WARN, ERROR, or CRITICAL\n",
    "logger.setLevel(logging.DEBUG)\n",
    "\n",
    "# If you also run the wrapper.sage file, it can mess with logging? This is a hack.\n",
    "from importlib import reload\n",
    "reload(logging)\n",
    "logging.basicConfig(level=logging.DEBUG)\n",
    "\n",
    "# load the actual code: If you've made changes to the file and it doesn't stick, try restarting the notebook kernel.\n",
    "sage.repl.load.load('main.sage',globals())"
   ]
  },
  {
   "cell_type": "markdown",
   "id": "6ff00c53",
   "metadata": {},
   "source": [
    "Examples:\n",
    "\n",
    "Intitialize the  with the default triangulation, then compute the skein module.\n",
    "```\n",
    "t41 = QuantumAPolynomial('4_1')\n",
    "t41.compute_skein_module()\n",
    "```\n",
    "\n",
    "Do a couple pachner moves:\n",
    "```\n",
    "t62 = QuantumAPolynomial('6_2',[{\"tet\":0,\"face\":3},{\"tet\":0,\"face\":2}])\n",
    "t62.compute_skein_module()\n",
    "```"
   ]
  },
  {
   "cell_type": "code",
   "execution_count": null,
   "id": "334ab0c1",
   "metadata": {},
   "outputs": [],
   "source": [
    "t41 = QuantumAPolynomial('4_1')\n",
    "t41.compute_skein_module()"
   ]
  },
  {
   "cell_type": "code",
   "execution_count": null,
   "id": "8125319e",
   "metadata": {},
   "outputs": [],
   "source": [
    "# See a list of the functions and variables:\n",
    "dir(t41)"
   ]
  },
  {
   "cell_type": "code",
   "execution_count": null,
   "id": "968da62f",
   "metadata": {},
   "outputs": [],
   "source": [
    "# see the meridian:\n",
    "t41.meridian"
   ]
  },
  {
   "cell_type": "code",
   "execution_count": null,
   "id": "d53b1432",
   "metadata": {},
   "outputs": [],
   "source": []
  },
  {
   "cell_type": "code",
   "execution_count": null,
   "id": "d5161509",
   "metadata": {},
   "outputs": [],
   "source": []
  },
  {
   "cell_type": "code",
   "execution_count": null,
   "id": "1f35dfd1",
   "metadata": {},
   "outputs": [],
   "source": []
  }
 ],
 "metadata": {
  "kernelspec": {
   "display_name": "SageMath 9.5",
   "language": "sage",
   "name": "sagemath"
  },
  "language_info": {
   "codemirror_mode": {
    "name": "ipython",
    "version": 3
   },
   "file_extension": ".py",
   "mimetype": "text/x-python",
   "name": "python",
   "nbconvert_exporter": "python",
   "pygments_lexer": "ipython3",
   "version": "3.10.12"
  },
  "toc": {
   "base_numbering": 1,
   "nav_menu": {},
   "number_sections": true,
   "sideBar": true,
   "skip_h1_title": false,
   "title_cell": "Table of Contents",
   "title_sidebar": "Contents",
   "toc_cell": false,
   "toc_position": {},
   "toc_section_display": true,
   "toc_window_display": false
  },
  "varInspector": {
   "cols": {
    "lenName": 16,
    "lenType": 16,
    "lenVar": 40
   },
   "kernels_config": {
    "python": {
     "delete_cmd_postfix": "",
     "delete_cmd_prefix": "del ",
     "library": "var_list.py",
     "varRefreshCmd": "print(var_dic_list())"
    },
    "r": {
     "delete_cmd_postfix": ") ",
     "delete_cmd_prefix": "rm(",
     "library": "var_list.r",
     "varRefreshCmd": "cat(var_dic_list()) "
    }
   },
   "types_to_exclude": [
    "module",
    "function",
    "builtin_function_or_method",
    "instance",
    "_Feature"
   ],
   "window_display": false
  }
 },
 "nbformat": 4,
 "nbformat_minor": 5
}
