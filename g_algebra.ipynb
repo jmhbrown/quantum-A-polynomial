{
 "cells": [
  {
   "cell_type": "code",
   "execution_count": 65,
   "id": "bba72012-bcbe-4c0d-9b1c-d0b4a6117200",
   "metadata": {},
   "outputs": [
    {
     "name": "stderr",
     "output_type": "stream",
     "text": [
      "DEBUG:__main__:Gluing dictionary: {'r0': [1, 1, 1, 1], 's00': [0, 1, 3, 2], 's01': [3, 2, 0, 1], 's02': [2, 0, 3, 1], 's03': [2, 0, 3, 1], 'r1': [0, 0, 0, 0], 's10': [0, 1, 3, 2], 's11': [1, 3, 0, 2], 's12': [2, 3, 1, 0], 's13': [1, 3, 0, 2]}\n",
      "DEBUG:__main__:long_edge_gluing_relations_list:\n",
      "[{'x012_113': -1, 'x131_021': 1, 'A012': 1, 'A113': -1}, {'x113_030': -1, 'x003_131': 1, 'A113': 1, 'A003': -1}, {'x103_012': -1, 'x021_130': 1, 'A103': 1, 'A012': -1}, {'x121_003': -1, 'x030_112': 1, 'A112': 1, 'A003': -1}, {'x013_101': -1, 'x110_031': 1, 'A013': 1, 'A101': -1}, {'x031_121': -1, 'x112_013': 1, 'A013': 1, 'A112': -1}, {'x032_110': -1, 'x101_023': 1, 'A023': 1, 'A101': -1}, {'x123_032': -1, 'x023_132': 1, 'A123': 1, 'A023': -1}, {'x002_123': -1, 'x132_020': 1, 'A002': 1, 'A123': -1}, {'x010_102': -1, 'x120_001': 1, 'A001': 1, 'A102': -1}, {'x130_002': -1, 'x020_103': 1, 'A103': 1, 'A002': -1}, {'x102_010': -1, 'x001_120': 1, 'A102': 1, 'A001': -1}]\n",
      "DEBUG:__main__:short_edge_gluing_relations_list:\n",
      "[{'qrt2': -4, 'a110': 1, 'x112_013': 1, 'a010': 1, 'x012_113': 1}, {'qrt2': -4, 'a120': 1, 'x123_032': 1, 'a030': 1, 'x031_121': 1}, {'qrt2': -4, 'a130': 1, 'x131_021': 1, 'a020': 1, 'x023_132': 1}, {'qrt2': -4, 'a101': 1, 'x103_012': 1, 'a013': 1, 'x010_102': 1}, {'qrt2': -4, 'a121': 1, 'x120_001': 1, 'a003': 1, 'x002_123': 1}, {'qrt2': -4, 'a131': 1, 'x132_020': 1, 'a023': 1, 'x021_130': 1}, {'qrt2': -4, 'a102': 1, 'x101_023': 1, 'a021': 1, 'x020_103': 1}, {'qrt2': -4, 'a112': 1, 'x113_030': 1, 'a031': 1, 'x032_110': 1}, {'qrt2': -4, 'a132': 1, 'x130_002': 1, 'a001': 1, 'x003_131': 1}, {'qrt2': -4, 'a103': 1, 'x102_010': 1, 'a012': 1, 'x013_101': 1}, {'qrt2': -4, 'a113': 1, 'x110_031': 1, 'a032': 1, 'x030_112': 1}, {'qrt2': -4, 'a123': 1, 'x121_003': 1, 'a002': 1, 'x001_120': 1}]\n",
      "DEBUG:__main__:looped threads:\t[]\n",
      "DEBUG:__main__:internal_edge_monodromy_list. These should come in pairs of equal length. \n",
      "{'x012_113': 1, 'x113_030': 1, 'x030_112': 1, 'x112_013': 1, 'x013_101': 1, 'x101_023': 1, 'x023_132': 1, 'x132_020': 1, 'x020_103': 1, 'x103_012': 1, 'qrt2': -10}\n",
      "{'x031_121': 1, 'x121_003': 1, 'x003_131': 1, 'x131_021': 1, 'x021_130': 1, 'x130_002': 1, 'x002_123': 1, 'x123_032': 1, 'x032_110': 1, 'x110_031': 1, 'qrt2': -10}\n",
      "{'x010_102': 1, 'x102_010': 1, 'qrt2': -2}\n",
      "{'x001_120': 1, 'x120_001': 1, 'qrt2': -2}\n",
      "DEBUG:__main__:looped threads:\t[]\n",
      "DEBUG:__main__:meridian: {'x110_031': 1, 'x032_110': 1, 'a030': -1}\n",
      "DEBUG:__main__:longitude: {'x130_002': 1, 'x112_013': 1, 'x101_023': 1, 'x123_032': 1, 'x110_031': 3, 'x010_102': 1, 'x032_110': 4, 'x002_123': 1, 'x021_130': 1, 'a012': -1, 'a020': -1, 'a030': -3, 'a103': -1, 'a113': -1}\n",
      "DEBUG:__main__:central_relations rank: 32\n",
      "DEBUG:__main__:central quotient: Finitely generated module V/W over Integer Ring with invariants (0, 0, 0, 0, 0)\n",
      "DEBUG:__main__:Invariants of the quotient: (1, 1, 1, 1, 1, 1, 1, 1, 1, 1, 1, 1, 1, 1, 1, 1, 1, 1, 1, 1, 1, 1, 1, 1, 1, 1, 1, 1, 1, 1, 1, 1, 0, 0, 0, 0, 0)\n",
      "DEBUG:__main__:thread monomials in quotient: [(-2, 0, 0, 1, 0), (-2, 0, 0, 1, 0), (2, 0, 0, -1, 0), (2, 0, 0, -1, 0)]\n",
      "DEBUG:__main__:q-values of quotient generators: [1, 0, 0, 0, 0]\n",
      "DEBUG:__main__:monomial relation q-values:\n",
      "(-10, -10, -2, -2, -4, -4, -4, -4, -4, -4, -4, -4, -4, -4, -4, -4, 0, 0, 0, 0, 0, 0, 0, 0, 0, 0, 0, 0, -3, -3, -3, -3, -3, -3, -3, -3)\n",
      "DEBUG:__main__:pi(qrt2): (1, 0, 0, 0, 0)\n",
      "DEBUG:__main__:quotient basis:\n",
      "[1 0 0|0 0]\n",
      "[0 1 0|0 0]\n",
      "[0 0 1|0 0]\n",
      "[0 0 0|1 0]\n",
      "[0 0 0|0 1]\n",
      "WARNING:__main__:Including q, the quotient lattice should be rank: 4. It's rank 5\n",
      "DEBUG:__main__:Full lattice rank: 61\n",
      "DEBUG:__main__:T-invariant lattice is rank: 37\n",
      "DEBUG:__main__:Relation for tetrahedron 0: -1 + w0^-1*w1 - M^-4*L*w0^-1\n",
      "DEBUG:__main__:Relation for tetrahedron 1: M^6*L^-1*w1^-1 + M^2*w0*w1^-1 - 1\n",
      "DEBUG:__main__:Reference A-poly: M^6 + L\n",
      "INFO:__main__:A-polynomial for 3_1:\tL * (L*w0^3 + M^2*w0*w1 - L*w0^2*w1 - M^2*w1^2 + w0^2*w1^2 - 2*w0*w1^3 + w1^4 - L*w0)\n",
      "ERROR:__main__:Our A-polynomial has a complicated relationship with the reference one: M^6 + L\n"
     ]
    }
   ],
   "source": [
    "import logging ;logger = logging.getLogger(__name__); logging.basicConfig(level='DEBUG'); load('main.sage')\n",
    "\n",
    "skmod = QuantumAPolynomial('3_1')\n",
    "#skmod = QuantumAPolynomial('3_1',pachner_moves=[{\"tet\":1,\"face\":0}])\n",
    "#skmod = QuantumAPolynomial('4_1',pachner_moves=[{\"tet\":0,\"face\":3}])\n",
    "skmod.compute_skein_module()\n",
    "\n",
    "strip_q = lambda coord : vector([0] + list(coord)[1:])\n",
    "\n",
    "new_basis = [skmod.gens_dict['qrt2'],strip_q(skmod.meridian),strip_q(skmod.longitude)]\n",
    "\n",
    "for vec in skmod.monomial_relations:\n",
    "    if strip_q(vec) not in span(new_basis):\n",
    "        new_basis.append(strip_q(vec))\n",
    "        \n",
    "for vec in skmod.invariant_sublattice.basis():\n",
    "    if strip_q(vec) not in span(new_basis):\n",
    "        new_basis.append(strip_q(vec))\n",
    "\n",
    "inv_lattice = skmod.invariant_sublattice.submodule_with_basis(new_basis)\n",
    "\n",
    "restricted_omega = inv_lattice.basis_matrix()*skmod.omega_with_q*(inv_lattice.basis_matrix().transpose())\n",
    "\n",
    "# this is horrible but change the behavior here:\n",
    "FLAG_inverses_last=True\n",
    "\n",
    "if FLAG_inverses_last:\n",
    "    # here all the originals first then all the inverses\n",
    "    doubled_res_omega = Matrix.block([[restricted_omega[1:,1:],-restricted_omega[1:,1:]],[-restricted_omega[1:,1:],restricted_omega[1:,1:]]])\n",
    "else:\n",
    "    # here its M, Mi, L, Li, x1, xi1,...\n",
    "    doubled_res_omega = matrix(restricted_omega[1:,1:].tensor_product(matrix([[1,-1],[-1,1]])))"
   ]
  },
  {
   "cell_type": "code",
   "execution_count": 4,
   "id": "b6309dd7-4d4a-4fc6-bf95-04b001909db7",
   "metadata": {},
   "outputs": [
    {
     "data": {
      "text/plain": [
       "[(1, 0, 0, 0, 0),\n",
       " (0, 1, 0, 0, 0),\n",
       " (0, 0, 1, 0, 0),\n",
       " (5, -1, 0, -1, -1),\n",
       " (0, 0, 0, 1, 0)]"
      ]
     },
     "execution_count": 4,
     "metadata": {},
     "output_type": "execute_result"
    }
   ],
   "source": [
    "#skmod.quotient_lattice.submodule(skmod.ordered_quotient_lattice_gens).gens()\n",
    "skmod.ordered_quotient_lattice_gens"
   ]
  },
  {
   "cell_type": "code",
   "execution_count": 51,
   "id": "6df7e648-f57c-4866-b000-e891ac182879",
   "metadata": {},
   "outputs": [
    {
     "name": "stdout",
     "output_type": "stream",
     "text": [
      "[ 0  0  0  0  0| 0  0  0  0  0]\n",
      "[ 0  0  1  0  0| 0  0 -1  0  0]\n",
      "[ 0 -1  0  0 -1| 0  1  0  0  1]\n",
      "[ 0  0  0  0  1| 0  0  0  0 -1]\n",
      "[ 0  0  1 -1  0| 0  0 -1  1  0]\n",
      "[--------------+--------------]\n",
      "[ 0  0  0  0  0| 0  0  0  0  0]\n",
      "[ 0  0 -1  0  0| 0  0  1  0  0]\n",
      "[ 0  1  0  0  1| 0 -1  0  0 -1]\n",
      "[ 0  0  0  0 -1| 0  0  0  0  1]\n",
      "[ 0  0 -1  1  0| 0  0  1 -1  0]\n",
      "[ 0  1  0  0| 0 -1  0  0]\n",
      "[-1  0  0 -1| 1  0  0  1]\n",
      "[ 0  0  0  1| 0  0  0 -1]\n",
      "[ 0  1 -1  0| 0 -1  1  0]\n",
      "[-----------+-----------]\n",
      "[ 0 -1  0  0| 0  1  0  0]\n",
      "[ 1  0  0  1|-1  0  0 -1]\n",
      "[ 0  0  0 -1| 0  0  0  1]\n",
      "[ 0 -1  1  0| 0  1 -1  0]\n"
     ]
    }
   ],
   "source": [
    "# quotient by invariant functions:\n",
    "small_lattice = skmod.quotient_lattice\n",
    "small_basis_with_q = skmod.ordered_quotient_lattice_gens\n",
    "small_basis = skmod.ordered_quotient_lattice_gens[1:]\n",
    "small_basis_lift = matrix([g.lift() for g in small_basis])\n",
    "small_basis_with_q_lift = matrix([g.lift() for g in small_basis_with_q])\n",
    "small_restricted_omega = small_basis_lift*skmod.omega_with_q*(small_basis_lift.transpose())\n",
    "small_restricted_omega_with_q = small_basis_with_q_lift*skmod.omega_with_q*(small_basis_with_q_lift.transpose())\n",
    "\n",
    "small_doubled_res_omega = Matrix.block([[small_restricted_omega,-small_restricted_omega],[-small_restricted_omega,small_restricted_omega]])\n",
    "small_doubled_res_omega_with_q = Matrix.block([[small_restricted_omega_with_q,-small_restricted_omega_with_q],[-small_restricted_omega_with_q,small_restricted_omega_with_q]])\n",
    "\n",
    "print(small_doubled_res_omega_with_q)\n",
    "print(small_doubled_res_omega)\n",
    "\n",
    "#print(get_g_alg_element_from_coord(vector(small_lattice.gens()[1]),matrix(new_small_basis),small_restricted_omega,H))"
   ]
  },
  {
   "cell_type": "code",
   "execution_count": 52,
   "id": "b38436fd-ddc9-4d89-853f-cc1b1ad8d16a",
   "metadata": {},
   "outputs": [],
   "source": [
    "# 1-indexed:\n",
    "kth_coord = lambda k,coord: vector((k-1)*[0] + [coord[k-1]] + (len(coord)-k)*[0])\n",
    "\n",
    "\n",
    "def get_doubled_lattice_coord(coord,inverses_last=FLAG_inverses_last):\n",
    "    \"\"\"\n",
    "    Assumes the first coordinate is q, which can be negative and shouldn't be doubled\n",
    "    ex: inverses_last = True means\n",
    "    ( 1, a,b) -> ( 1,a,b,0,0)\n",
    "    (-1,-a,b) -> (-1,0,b,a,0)\n",
    "    \n",
    "    inverses_last = False means:\n",
    "    ( 1, a,b)-> ( 1,a,0,b,0)\n",
    "    (-1,-a,b) -> (-1,0,a,b,0)\n",
    "    \"\"\"\n",
    "    \n",
    "    pos = vector([max(coord[i],0) for i in range(1,len(coord))])\n",
    "    neg = vector([min(coord[i],0) for i in range(1,len(coord))])\n",
    "    if inverses_last:\n",
    "        return [coord[0]] + list(pos) + list(-1*neg)\n",
    "    else:\n",
    "        return  [coord[0]]+flatten([[list(pos)[i],list(-1*neg)[i]] for i in range(len(pos))])\n",
    "         \n",
    "\n",
    "\n",
    "def get_free_alg_element_from_coord(coord,basis_matrix,omega,free_alg,qq_override_value=False):\n",
    "    \"\"\"\n",
    "    Assumes the coordinate is for the skein algebra, i.e. has q as the first coordinate and needs to be doubled to deal with inverses\n",
    "    \n",
    "    Parameters:\n",
    "    coord vector\n",
    "    basis_matrix matrix - the basis for the invariant sublattice\n",
    "    free_alg free_algebra\n",
    "    qq_override_value (default: False) - if this is set then override the default value (q) for qq\n",
    "    \"\"\"\n",
    "    conversion_q_factor = normal_to_lex_q_power(coord,omega)*vector([1]+(len(coord)-1)*[0])\n",
    "    doubled_coord = get_doubled_lattice_coord(basis_matrix.solve_left(conversion_q_factor+coord))\n",
    "    if qq_override_value:\n",
    "        qq = qq_override_value\n",
    "    else:\n",
    "        qq = free_alg.base().gen()\n",
    "        \n",
    "    without_q = '*'.join([\n",
    "        '{0}^({1})'.format(free_alg.gen(i),doubled_coord[i])\n",
    "        for i in range(1,len(doubled_coord)-1) if doubled_coord[i] != 0\n",
    "    ])        \n",
    "    return qq^doubled_coord[0]*free_alg(without_q)\n",
    "    \n",
    "def get_scaling(coord,omega):\n",
    "    upper_triangular_omega = zero_matrix(*omega.dimensions())\n",
    "    for j in range(omega.nrows()):\n",
    "        for i in range(omega.ncols()):\n",
    "            if i <= j:\n",
    "                upper_triangular_omega[i,j] = omega[i,j]\n",
    "         \n",
    "    scaling = (1/2)*(matrix(coord)*upper_triangular_omega*(matrix(coord).transpose()))[0,0]\n",
    "    second_version = (-1)*sum(flatten([\n",
    "        [\n",
    "            coord[i]*coord[j]*omega[i,j] for i in range(j-1)\n",
    "        ] for j in range(len(coord))\n",
    "    ]))\n",
    "    #print(\"first version: \",scaling,\"\\t, second version: \",second_version)\n",
    "    return second_version\n",
    "\n",
    "\n",
    "def get_g_alg_element_from_coord(coord,basis_matrix,omega,g_alg,qq_override_value=False):\n",
    "    \"\"\"\n",
    "    Assumes the coordinate is for the skein algebra, i.e. has q as the first coordinate and needs to be doubled to deal with inverses\n",
    "    \n",
    "    Parameters:\n",
    "    coord vector\n",
    "    basis_matrix matrix - the basis for the invariant sublattice\n",
    "    g_alg g_algebra\n",
    "    qq_override_value (default: False) - if this is set then override the default value (q) for qq\n",
    "    \"\"\"\n",
    " \n",
    "    #logger.info(\"coord: {}\".format(coord))\n",
    "    #logger.info(\"doubled_coord: {}\".format(doubled_coord))\n",
    "    #logger.debug(\"ngens: {0}, double_coord length:{1}\".format(g_alg.ngens(),len(doubled_coord)))\n",
    "    omega_restriction = basis_matrix*omega*basis_matrix.transpose()\n",
    "    inv_coord = basis_matrix.solve_left(coord)\n",
    "    \n",
    "    conversion_q_factor = get_scaling(inv_coord,omega_restriction)\n",
    "    conversion_vector = vector([conversion_q_factor]+[0]*(len(coord)-1))\n",
    "    doubled_coord = get_doubled_lattice_coord(basis_matrix.solve_left(conversion_vector + coord))\n",
    "    if qq_override_value:\n",
    "        qq = qq_override_value\n",
    "    else:\n",
    "        qq = g_alg.base().gen()\n",
    "        \n",
    "    free_alg = g_alg.free_algebra()\n",
    "    # make the monomial as a string:\n",
    "    without_q = '*'.join([\n",
    "        '{0}^({1})'.format(g_alg.gen(i-1),doubled_coord[i])\n",
    "        for i in range(1,len(doubled_coord)) if doubled_coord[i] != 0\n",
    "    ])\n",
    "    #logger.info(\"without_q: {}\".format(without_q))\n",
    "    return qq^doubled_coord[0]*g_alg(free_alg(without_q))\n",
    "\n",
    "#get_free_alg_element_from_coord(inv_lattice.basis_matrix()*skmod.monomial_relations[1],A2)"
   ]
  },
  {
   "cell_type": "code",
   "execution_count": 66,
   "id": "ef516d1a-c993-4afc-907d-b951e6967684",
   "metadata": {},
   "outputs": [],
   "source": [
    "# Functions to get the skein algebra name for an element of the g_algebra\n",
    "#TODO - get all the coordinates straight! It's a mix of the FA and the skalg. @_@\n",
    "\n",
    "def get_folded_coordinate(coord,inverses_last=FLAG_inverses_last):\n",
    "    \"\"\"\n",
    "    Assumes the first coordinate is q, which can be negative and shouldn't be doubled.\n",
    "     \n",
    "     Parameters:\n",
    "     coord Vector, List - the coordinate, should have length 1 + the rank of the free algebra\n",
    "     inverses_last=FLAG_inverses_last - if true it assumes (q,x1,x2,xi1,xi2), if false then (q,x1,xi1,x2,xi2)\n",
    "     \n",
    "     Output:\n",
    "     vector -- the coordinate converted to the dimension of the invariant lattice.\n",
    "     \n",
    "    \"\"\"\n",
    "    l = len(coord)\n",
    "    l_coord = list(coord)\n",
    "    if inverses_last:\n",
    "        return vector(l_coord[:(l+1)/2]) - vector([0]+l_coord[(l+1)/2:])\n",
    "    else:\n",
    "        return vector([l_coord[0]] + [l_coord[i]-l_coord[i+1] for i in range(1,l-1,2)])\n",
    "    \n",
    "\n",
    "def get_coord_from_g_alg(element,free_alg_gens_dict,fold=True):\n",
    "    \"\"\"\n",
    "    Changes a monomial in a g_algebra to a coordinate of length 1+free_algebra.ngens() or 1+ free_algebra.ngens()/2\n",
    "    This output will be in the basis for the invariant lattice.\n",
    "    \"\"\"\n",
    "    q_pow_lambda = lambda s : '-'+s.split('^')[-1].strip(')') if s.startswith('1/') else s.split('^')[-1].strip(')')\n",
    "    x_pow_lambda = lambda x : 1 if x.count('^') == 0 else int(x.split('^')[-1].strip(')'))\n",
    "                                                                                                                       \n",
    "    FA = element.parent().free_algebra()\n",
    "    coord_length = len(list(free_alg_gens_dict.values())[0])\n",
    "    if len(element.monomials()) > 1:\n",
    "        print(\"Only monomials have coordinates!\")\n",
    "        return None\n",
    "    \n",
    "    str_list = str(element).split('*')\n",
    "    x_vars = list(element.exponents()[0])\n",
    "    #x_vars = [vector([0]+list(x_pow_lambda(v)*vector(free_alg_gens_dict[FA(v.split('^')[0])]))) for v in str_list if ['x','L','M'].count(v[0]) == 1]\n",
    "    # both q and 1/q should be replaced by 1, since we add a - when there's a 1/ in the string\n",
    "    scalars = sum([int(q_pow_lambda(v).replace('1/q','1').replace('q','1').replace('--','')) for v in str_list if ['x','L','M'].count(v[0]) == 0 ])\n",
    "    return get_folded_coordinate([scalars]+x_vars) if fold else vector([scalars]+x_vars)\n",
    "    \n",
    "def get_skalg_name_from_g_alg(element,inv_lattice_basis_matrix,free_alg_gens_dict,gens_dict):\n",
    "    return QuantumAPolynomial.lattice_coord_to_dict(inv_lattice_basis_matrix.transpose()*get_coord_from_g_alg(element,free_alg_gens_dict),gens_dict)"
   ]
  },
  {
   "cell_type": "code",
   "execution_count": 67,
   "id": "a86fb7b3-564e-40fa-ba1d-67eb30e89226",
   "metadata": {},
   "outputs": [
    {
     "name": "stdout",
     "output_type": "stream",
     "text": [
      "4\n",
      "Free Algebra on 8 generators (M, L, x0, x1, Mi, Li, xi0, xi1) over Rational Field\n",
      "dict_keys([M, L, x0, x1, Mi, Li, xi0, xi1])\n",
      "Defining M, L, x0, x1, Mi, Li, xi0, xi1\n",
      "[(-2, 0, 0, 1, 0), (-2, 0, 0, 1, 0), (2, 0, 0, -1, 0), (2, 0, 0, -1, 0)]\n",
      "[x0, x0, xi0, xi0]\n",
      "[L*Mi^4*xi0 + x1*xi0 - 1, M^6*Li*xi1 + M^2*x0*xi1 - 1]\n",
      "4\n",
      "2\n"
     ]
    },
    {
     "data": {
      "text/plain": [
       "Left Ideal (M^10 + M^6*L - M^4*L + L^2) of Noncommutative Multivariate Polynomial Ring in M, L, x0, x1, Mi, Li, xi0, xi1 over Rational Field, nc-relations: {}"
      ]
     },
     "execution_count": 67,
     "metadata": {},
     "output_type": "execute_result"
    }
   ],
   "source": [
    "#S = FractionField(QQ['q'])\n",
    "#q = S.gen()\n",
    "S=QQ\n",
    "q=1\n",
    "\n",
    "small_dim_wo_q = len(small_basis)\n",
    "print(small_dim_wo_q)\n",
    "A = FreeAlgebra(S,2*small_dim_wo_q,['M','L'] + ['x{}'.format(i) for i in range(0,small_dim_wo_q-2)]+['Mi','Li']+['xi{}'.format(i) for i in range(0,small_dim_wo_q-2)])\n",
    "small_FA_gens_dict = {A.gen(i) : [0]*(i) + [1] + [0]*(2*small_dim_wo_q-i-1) for i in range(A.ngens())}\n",
    "print(A)\n",
    "print(small_FA_gens_dict.keys())\n",
    "import itertools\n",
    "small_relations_FA = {}\n",
    "for g2,g1 in itertools.combinations(small_FA_gens_dict.keys(),2):\n",
    "    #print(matrix(x_gens_dict[g1])*(restricted_omega*(matrix(x_gens_dict[g2]).transpose())))\n",
    "    power = (matrix(small_FA_gens_dict[g2])*small_doubled_res_omega*(matrix(small_FA_gens_dict[g1]).transpose()))[0][0]\n",
    "    if power != 0:\n",
    "        this_rel = [g1*g2,q**int(-power)*g2*g1]\n",
    "        #print(this_rel)\n",
    "        #this_rel.sort(reverse=True)\n",
    "        small_relations_FA[this_rel[0]] = this_rel[1]\n",
    "        \n",
    "H = A.g_algebra(small_relations_FA)\n",
    "H.inject_variables()\n",
    "print([skmod.pi(v) for v in skmod.thread_monomials])\n",
    "\n",
    "small_crossing_rel = [\n",
    "    reduce(H.summation,\n",
    "           [-1]+[\n",
    "               get_g_alg_element_from_coord(vector(skmod.pi(mon)),matrix(small_basis_with_q),small_restricted_omega_with_q,H)\n",
    "               for mon in relation]\n",
    "          ) for relation in skmod.crossing_relations]\n",
    "print([get_g_alg_element_from_coord(vector(skmod.pi(mon)),matrix(small_basis_with_q),small_restricted_omega_with_q,H) for mon in skmod.thread_monomials])\n",
    "\n",
    "print(small_crossing_rel)\n",
    "\n",
    "small_inverses_relations = [M*Mi-1,L*Li-1]+[H(A('x{0}*xi{1}'.format(j,j)))-1 for j in range(0,small_dim_wo_q-2)]\n",
    "print(len(small_inverses_relations))\n",
    "print(len(small_crossing_rel))\n",
    "small_relations_ideal = H.ideal(small_crossing_rel + small_inverses_relations).elimination_ideal([x1,xi1])\n",
    "H.ideal([g.subs({x0:1,xi0:1}) for g in small_relations_ideal.gens()]).elimination_ideal([x1,xi1,x0,xi0,Mi,Li])\n",
    "#print(small_relations_ideal)\n"
   ]
  },
  {
   "cell_type": "code",
   "execution_count": 26,
   "id": "7590f670-242b-4d84-8ef0-8ed7f2a3d95f",
   "metadata": {},
   "outputs": [
    {
     "name": "stdout",
     "output_type": "stream",
     "text": [
      "14\n",
      "[0, L*Li - 1, M*Mi - 1, Mi^5 + M^3 - Mi^3 + L*Mi + Mi*Li - M - 2*Mi, M^4 + Mi^4 - M^2 - Mi^2 + L + Li - 2, M^5 - M^3 + Mi^3 + M*L + M*Li - 2*M - Mi, M^6 - M^4 + M^2*L + M^2*Li - 2*M^2 + Mi^2 - 1, M^5 - M^3 + Mi^3 + M*L + M*Li - 2*M - Mi, M^4 + Mi^4 - M^2 - Mi^2 + L + Li - 2, Mi^5 + M^3 - Mi^3 + L*Mi + Mi*Li - M - 2*Mi, Mi^6 - Mi^4 + L*Mi^2 + Mi^2*Li + M^2 - 2*Mi^2 - 1, Mi^6*Li - Mi^4*Li + Mi^2*Li^2 + M^2*Li - 2*Mi^2*Li + Mi^2 - Li, Mi^6 - Mi^4 + L*Mi^2 + Mi^2*Li + M^2 - 2*Mi^2 - 1, -Mi^7*Li + Mi^5*Li - Mi^3*Li^2 + 2*Mi^3*Li - Mi^3 - M*Li + Mi*Li]\n"
     ]
    }
   ],
   "source": [
    "#DEBUG:__main__:Relation for tetrahedron 0: M*L^-1*w0^2*w1^3 + M*w1^-1 - 1\n",
    "#DEBUG:__main__:Relation for tetrahedron 1: M*w1 - 1 + M^-1*L*w1^-1\n",
    "#H(L)*H(M)\n",
    "print(small_relations_ideal.ngens())\n",
    "print([g.subs({x0:1,xi0:1}) for g in small_relations_ideal.gens()])"
   ]
  },
  {
   "cell_type": "code",
   "execution_count": 49,
   "id": "7d21d271-dad9-4410-9e75-bd9f3f569fa2",
   "metadata": {},
   "outputs": [
    {
     "name": "stdout",
     "output_type": "stream",
     "text": [
      "Defining M, L, Mi, Li\n"
     ]
    },
    {
     "data": {
      "text/plain": [
       "[M^8*L^3 + (-q^20)*M^8*L + (-q)*M^6*L^3 + (-q^19 + q^15)*M^6*L^2 + (q^6)*M^4*L^4 + (q^17)*M^6*L + (-q^20 - q^18)*M^4*L^3 + (q^30 + q^28)*M^4*L + (-q^21)*M^2*L^3 + (-q^26)*M^4 + (q^33 - q^29)*M^2*L^2 + (q^25)*M^2*L + (q^38)*L^3 + (-q^38)*L,\n",
       " (q^6)*M^10*L + (-q)*M^8*L^2 + (-q^3)*M^8*L + (q^4 + 1)*M^6*L^2 + (-q^16 - q^14)*M^6*L + (-q^3)*M^4*L^3 + (q^12)*M^6 + (q^17 + q^15)*M^4*L^2 + (-q^15 - q^11)*M^4*L + (q^16)*M^2*L^2 + (q^24)*M^2*L + (-q^31)*L^2]"
      ]
     },
     "execution_count": 49,
     "metadata": {},
     "output_type": "execute_result"
    }
   ],
   "source": [
    "S = FractionField(QQ['q'])\n",
    "q = S.gen()\n",
    "A3 = FreeAlgebra(S,4,['M','L','Mi','Li'])\n",
    "H3 = A3.g_algebra({A3('L')*A3('M'):q^-1*A3('M')*A3('L'),A3('Li')*A3('M'):q*A3('M')*A3('Li'),A3('Mi')*A3('L'):q^-1*A3('L')*A3('Mi'),A3('Li')*A3('Mi'):q^-1*A3('Mi')*A3('Li')})\n",
    "H3.inject_variables()\n",
    "[g for g in H3.ideal([0, L*Li - 1, M*Mi - 1, (-q^15)*M^6*Li + (q^8)*M^4*Li + (q^6)*M^4 + (q^20)*Mi^4 + (-q^13)*M^2*Li^2 + (q^17 + q^15)*M^2*Li + (-q^17)*Mi^2*Li + (-q^5 - q)*M^2 + (-q^9)*Mi^2 + L + (q^12 + q^8)*Li + (-q^14 - q^12), (-q^10)*M^7 + (q^3)*M^5*L + (q^5)*M^5 + (-q^4 - 1)*M^3*L + (q^22)*L*Mi^3 + (-q^12)*M^3*Li + (q^16 + q^14)*M^3 + q*M*L^2 + (-q^15 - q^13)*M*L + (-q^11)*L*Mi + (q^13 + q^9)*M + (-q^20)*Mi, (-q^16)*M^5*Li + (q^21)*Mi^5 + (q^9)*M^3*Li + (-q^18)*Mi^3*Li + (q^7)*M^3 + (-q^10)*Mi^3 + (-q^14)*M*Li^2 + L*Mi + (q^18 + q^16)*M*Li + (q^13 + q^9)*Mi*Li + (-q^6 - q^2)*M + (-q^15 - q^13)*Mi, (-q^10)*M^6 + (q^3)*M^4*L + (q^21)*L*Mi^4 + (q^5)*M^4 + (-q^4 - 1)*M^2*L + (-q^10)*L*Mi^2 + (-q^12)*M^2*Li + (q^16 + q^14)*M^2 + q*L^2 + (-q^20)*Mi^2 + (-q^15 - q^13)*L + (q^13 + q^9), (q^22)*Mi^6 + (-q^17)*M^4*Li + (-q^19)*Mi^4*Li + (-q^11)*Mi^4 + L*Mi^2 + (q^10)*M^2*Li + (q^14 + q^10)*Mi^2*Li + (q^8)*M^2 + (-q^16 - q^14)*Mi^2 + (-q^15)*Li^2 + (q^19 + q^17)*Li + (-q^7 - q^3), (q^21)*L*Mi^5 + (-q^11)*M^5 + (q^4)*M^3*L + (-q^10)*L*Mi^3 + (q^6)*M^3 + L^2*Mi + (-q^21)*Mi^3 + (-q^5 - q)*M*L + (-q^15 - q^13)*L*Mi + (-q^13)*M*Li + (q^17 + q^15)*M + (q^14 + q^10)*Mi, (q^23)*Mi^7 + (-q^20)*Mi^5*Li + (-q^12)*Mi^5 + L*Mi^3 + (-q^18)*M^3*Li + (q^15 + q^11)*Mi^3*Li + (-q^17 - q^15)*Mi^3 + (-q^16)*Mi*Li^2 + (q^11)*M*Li + (q^20 + q^18)*Mi*Li + (q^9)*M + (-q^8 - q^4)*Mi, (q^22)*L*Mi^6 + (-q^11)*L*Mi^4 + (-q^13)*M^4 + L^2*Mi^2 + (-q^23)*Mi^4 + (q^6)*M^2*L + (-q^16 - q^14)*L*Mi^2 + (q^8)*M^2 + (q^16 + q^12)*Mi^2 + (-q^7 - q^3)*L + (-q^15)*Li + (q^19 + q^17), (q^31)*M^5*Li^2 + (-q^21)*L*Mi^5 + (-q^22)*M^3*Li^2 + (q^25)*Mi^3*Li^2 + (-q^4)*M^3*L + (q^10)*L*Mi^3 + (q^24 - q^20)*M^3*Li + (q^25)*M*Li^3 - L^2*Mi + (-q^25 + q^21)*Mi^3 + (-q^29 - q^27)*M*Li^2 + (-q^18)*Mi*Li^2 + q*M*L + (q^15 + q^13)*L*Mi + (q^13)*M*Li + (-q^26 + q^22)*Mi*Li + (q^19 - q^15)*M + (-q^10)*Mi, (q^30)*M^6*Li^2 + (-q^21)*M^4*Li^2 + (-q^3)*M^4*L + (-q^21)*L*Mi^4 + (q^23 - q^19)*M^4*Li + (q^24)*M^2*Li^3 + (-q^28 - q^26)*M^2*Li^2 + (q^24)*Mi^2*Li^2 + M^2*L + (q^10)*L*Mi^2 + (q^12)*M^2*Li + (q^18 - q^14)*M^2 + (-q)*L^2 + (-q^24 + q^20)*Mi^2 + (-q^17)*Li^2 + (q^15 + q^13)*L + (-q^25 + q^21)*Li + (-q^9), (-q^22)*Mi^6 + (q^17)*M^4*Li + (q^19)*Mi^4*Li + (q^11)*Mi^4 - L*Mi^2 + (-q^10)*M^2*Li + (-q^14 - q^10)*Mi^2*Li + (-q^8)*M^2 + (q^16 + q^14)*Mi^2 + (q^15)*Li^2 + (-q^19 - q^17)*Li + (q^7 + q^3), (q^16)*M^5*Li + (-q^21)*Mi^5 + (-q^9)*M^3*Li + (q^18)*Mi^3*Li + (-q^7)*M^3 + (q^10)*Mi^3 + (q^14)*M*Li^2 - L*Mi + (-q^18 - q^16)*M*Li + (-q^13 - q^9)*Mi*Li + (q^6 + q^2)*M + (q^15 + q^13)*Mi, (q^15)*M^6*Li + (-q^8)*M^4*Li + (-q^6)*M^4 + (-q^20)*Mi^4 + (q^13)*M^2*Li^2 + (-q^17 - q^15)*M^2*Li + (q^17)*Mi^2*Li + (q^5 + q)*M^2 + (q^9)*Mi^2 - L + (-q^12 - q^8)*Li + (q^14 + q^12), (q^15)*M^7*Li + (-q^8)*M^5*Li + (-q^6)*M^5 + (q^13)*M^3*Li^2 + (-q^17 - q^15)*M^3*Li + (q^5 + q)*M^3 + (-q^20)*Mi^3 - M*L + (-q^12 - q^8)*M*Li + (q^17)*Mi*Li + (q^14 + q^12)*M + (q^9)*Mi, (q^23)*Mi^7 + (-q^20)*Mi^5*Li + (-q^12)*Mi^5 + L*Mi^3 + (-q^18)*M^3*Li + (q^15 + q^11)*Mi^3*Li + (-q^17 - q^15)*Mi^3 + (-q^16)*Mi*Li^2 + (q^11)*M*Li + (q^20 + q^18)*Mi*Li + (q^9)*M + (-q^8 - q^4)*Mi, (q^22)*L*Mi^6 + (-q^33)*M^4*Li^2 + (-q^27)*Mi^4*Li^2 + (-q^11)*L*Mi^4 + L^2*Mi^2 + (q^27 - q^23)*Mi^4 + (q^24)*M^2*Li^2 + (q^20)*Mi^2*Li^2 + (q^6)*M^2*L + (-q^16 - q^14)*L*Mi^2 + (-q^26 + q^22)*M^2*Li + (q^28 - q^24)*Mi^2*Li + (-q^27)*Li^3 + (q^12)*Mi^2 + (q^31 + q^29)*Li^2 + (-q^3)*L + (-q^15)*Li + (-q^21 + q^17), (-q^21)*Mi^5*Li^2 + (q^21)*Mi^5 + (-q^27)*M^3*Li^2 + (q^14)*Mi^3*Li^2 + (q^22 - q^18)*Mi^3*Li + (-q^21)*Mi*Li^3 + (q^7)*M^3 + (-q^10)*Mi^3 + (q^18)*M*Li^2 + (q^25 + q^23)*Mi*Li^2 + L*Mi + (-q^20 + q^16)*M*Li + (-q^2)*M + (-q^15 - q^13)*Mi, (q^21)*L*Mi^5 + (-q^26)*Mi^5*Li + (q^4)*M^3*L + (-q^10)*L*Mi^3 + (-q^24)*M^3*Li + (q^17)*Mi^3*Li + L^2*Mi + (q^25 - q^21)*Mi^3 + (-q^22)*Mi*Li^2 + (-q)*M*L + (-q^15 - q^13)*L*Mi + (q^17)*M*Li + (q^26 + q^24)*Mi*Li + (-q^19 + q^15)*M, (-q^26)*M^4*Li^2 + (-q^20)*Mi^4*Li^2 + (q^6)*M^4 + (q^20)*Mi^4 + (q^17)*M^2*Li^2 + (q^13)*Mi^2*Li^2 + (-q^19 + q^15)*M^2*Li + (q^21 - q^17)*Mi^2*Li + (-q^20)*Li^3 + (-q)*M^2 + (-q^9)*Mi^2 + (q^24 + q^22)*Li^2 + L + (-q^14 - q^12), (q^21)*L^2*Mi^5 + (-q^26)*M^5*Li + q*M^3*L^2 + (-q^10)*L^2*Mi^3 + L^3*Mi + (q^25 - q^21)*L*Mi^3 + (q^19)*M^3*Li + (-q^28)*Mi^3*Li + (-q^21 + q^17)*M^3 - M*L^2 + (-q^15 - q^13)*L^2*Mi + (-q^24)*M*Li^2 + (-q^18 + q^14)*M*L + (q^10)*L*Mi + (q^28 + q^26)*M*Li + (q^19)*Mi*Li + (-q^12)*M + (q^27 - q^23)*Mi, (q^3)*M^4*L + (q^21)*L*Mi^4 + (-q^23)*M^4*Li + (-q^25)*Mi^4*Li - M^2*L + (-q^10)*L*Mi^2 + (q^16)*M^2*Li + (q^16)*Mi^2*Li + (-q^18 + q^14)*M^2 + q*L^2 + (q^24 - q^20)*Mi^2 + (-q^21)*Li^2 + (-q^15 - q^13)*L + (q^25 + q^23)*Li, (-q^21)*L*Mi^5 + (q^11)*M^5 + (-q^4)*M^3*L + (q^10)*L*Mi^3 + (-q^6)*M^3 - L^2*Mi + (q^21)*Mi^3 + (q^5 + q)*M*L + (q^15 + q^13)*L*Mi + (q^13)*M*Li + (-q^17 - q^15)*M + (-q^14 - q^10)*Mi, (-q^26)*M^6*Li + q*M^4*L^2 + (q^23)*L^2*Mi^4 + (q^19)*M^4*Li + (-q^21 + q^17)*M^4 - M^2*L^2 + (-q^12)*L^2*Mi^2 + (-q^24)*M^2*Li^2 + (-q^18 + q^14)*M^2*L + (q^3)*L^3 + (q^26 - q^22)*L*Mi^2 + (q^28 + q^26)*M^2*Li + (-q^28)*Mi^2*Li + (-q^12)*M^2 + (-q^17 - q^15)*L^2 + (q^11)*L + (q^19)*Li + (q^27 - q^23), (q^3)*M^5*L + (-q^23)*M^5*Li - M^3*L + (q^22)*L*Mi^3 + (q^16)*M^3*Li + (-q^25)*Mi^3*Li + (-q^18 + q^14)*M^3 + q*M*L^2 + (-q^21)*M*Li^2 + (-q^15 - q^13)*M*L + (-q^11)*L*Mi + (q^25 + q^23)*M*Li + (q^16)*Mi*Li + (q^24 - q^20)*Mi, (q^10)*M^6 + (-q^3)*M^4*L + (-q^21)*L*Mi^4 + (-q^5)*M^4 + (q^4 + 1)*M^2*L + (q^10)*L*Mi^2 + (q^12)*M^2*Li + (-q^16 - q^14)*M^2 + (-q)*L^2 + (q^20)*Mi^2 + (q^15 + q^13)*L + (-q^13 - q^9), q*M^5*L^2 + (-q^21)*M^5 - M^3*L^2 + (q^25)*L^2*Mi^3 + (-q^18 + q^14)*M^3*L + (q^3)*M*L^3 + (q^16)*M^3 + (-q^17 - q^15)*M*L^2 + (-q^14)*L^2*Mi + (-q^31)*Mi^3 + (q^27 - q^23)*L*Mi + (-q^23)*M*Li + (q^27 + q^25)*M + (q^20)*Mi, (q^3)*M^6*L + (-q^23)*M^6*Li - M^4*L + (q^16)*M^4*Li + (-q^18 + q^14)*M^4 + q*M^2*L^2 + (-q^21)*M^2*Li^2 + (-q^15 - q^13)*M^2*L + (q^23)*L*Mi^2 + (q^25 + q^23)*M^2*Li + (-q^25)*Mi^2*Li + (-q^12)*L + (q^16)*Li + (q^24 - q^20), (q^10)*M^7 + (-q^3)*M^5*L + (-q^5)*M^5 + (q^4 + 1)*M^3*L + (-q^22)*L*Mi^3 + (q^12)*M^3*Li + (-q^16 - q^14)*M^3 + (-q)*M*L^2 + (q^15 + q^13)*M*L + (q^11)*L*Mi + (-q^13 - q^9)*M + (q^20)*Mi, q*M^6*L^2 + (-q^21)*M^6 - M^4*L^2 + (-q^18 + q^14)*M^4*L + (q^3)*M^2*L^3 + (q^16)*M^4 + (-q^17 - q^15)*M^2*L^2 + (q^27)*L^2*Mi^2 + (-q^23)*M^2*Li + (q^27 + q^25)*M^2 + (-q^16)*L^2 + (-q^31)*Mi^2 + (q^28 - q^24)*L + (q^20), (q^10)*M^8 + (-q^3)*M^6*L + (-q^5)*M^6 + (q^4 + 1)*M^4*L + (q^12)*M^4*Li + (-q^16 - q^14)*M^4 + (-q)*M^2*L^2 + (q^15 + q^13)*M^2*L + (-q^23)*L*Mi^2 + (-q^13 - q^9)*M^2 + (q^12)*L + (q^20), (-q^3)*M^7*L + M^5*L + (q^18)*M^5 + (-q)*M^3*L^2 + (q^15 + q^13)*M^3*L + (-q^13 - q^9)*M^3 + (q^28)*Mi^3 + (q^12 + q^8)*M*L + (-q^24)*L*Mi + (q^20)*M*Li + (-q^24 - q^22)*M + (-q^17)*Mi, (-q^3)*M^5*L + (q^23)*M^5*Li + M^3*L + (-q^22)*L*Mi^3 + (-q^16)*M^3*Li + (q^25)*Mi^3*Li + (q^18 - q^14)*M^3 + (-q)*M*L^2 + (q^21)*M*Li^2 + (q^15 + q^13)*M*L + (q^11)*L*Mi + (-q^25 - q^23)*M*Li + (-q^16)*Mi*Li + (-q^24 + q^20)*Mi, (q^26)*M^5*Li^2 + (-q^6)*M^5 + (-q^17)*M^3*Li^2 + (q^20)*Mi^3*Li^2 + (q^19 - q^15)*M^3*Li + (q^20)*M*Li^3 + q*M^3 + (-q^20)*Mi^3 + (-q^24 - q^22)*M*Li^2 + (-q^13)*Mi*Li^2 - M*L + (-q^21 + q^17)*Mi*Li + (q^14 + q^12)*M + (q^9)*Mi, (q^26)*M^4*Li^2 + (q^20)*Mi^4*Li^2 + (-q^6)*M^4 + (-q^20)*Mi^4 + (-q^17)*M^2*Li^2 + (-q^13)*Mi^2*Li^2 + (q^19 - q^15)*M^2*Li + (-q^21 + q^17)*Mi^2*Li + (q^20)*Li^3 + q*M^2 + (q^9)*Mi^2 + (-q^24 - q^22)*Li^2 - L + (q^14 + q^12), (q^21)*Mi^5*Li^2 + (-q^21)*Mi^5 + (q^27)*M^3*Li^2 + (-q^14)*Mi^3*Li^2 + (-q^22 + q^18)*Mi^3*Li + (q^21)*Mi*Li^3 + (-q^7)*M^3 + (q^10)*Mi^3 + (-q^18)*M*Li^2 + (-q^25 - q^23)*Mi*Li^2 - L*Mi + (q^20 - q^16)*M*Li + (q^2)*M + (q^15 + q^13)*Mi, (-q^3)*M^6*L + (q^23)*M^6*Li + M^4*L + (-q^16)*M^4*Li + (q^18 - q^14)*M^4 + (-q)*M^2*L^2 + (q^21)*M^2*Li^2 + (q^15 + q^13)*M^2*L + (-q^23)*L*Mi^2 + (-q^25 - q^23)*M^2*Li + (q^25)*Mi^2*Li + (q^12)*L + (-q^16)*Li + (-q^24 + q^20), (q^22)*Mi^6*Li^2 + (-q^22)*Mi^6 + (-q^15)*Mi^4*Li^2 + (-q^23 + q^19)*Mi^4*Li + (q^22)*Mi^2*Li^3 + (q^11)*Mi^4 + (q^28)*M^2*Li^2 + (-q^26 - q^24)*Mi^2*Li^2 - L*Mi^2 + (-q^8)*M^2 + (q^16 + q^14)*Mi^2 + (-q^19)*Li^2 + (q^21 - q^17)*Li + (q^3), (q^37)*M^4*Li^3 + (q^23)*Mi^4*Li^3 + (-q^22)*Mi^6 + (-q^23 + q^19)*Mi^4*Li + (-q^26)*M^2*Li^3 + (-q^18)*Mi^2*Li^3 + (q^11)*Mi^4 + (q^28 - q^24)*M^2*Li^2 + (-q^26 + q^22)*Mi^2*Li^2 + (q^27)*Li^4 - L*Mi^2 + (-q^10)*Mi^2*Li + (-q^31 - q^29)*Li^3 + (-q^8)*M^2 + (q^16 + q^14)*Mi^2 + (q^15)*Li^2 + (q^21 - q^17)*Li + (q^3), (-q^16)*Mi^7*Li + (q^15)*Mi^5*Li^2 + (q^7)*Mi^5*Li + (q^21)*M^3*Li^2 + (-q^12 - q^8)*Mi^3*Li^2 + (q^14 + q^12)*Mi^3*Li + (q^15)*Mi*Li^3 - Mi^3 + (-q^12)*M*Li^2 + (-q^19 - q^17)*Mi*Li^2 + (-q^10)*M*Li + (q^7 + q^3)*Mi*Li, (-q^16)*Mi^8*Li + (q^15)*Mi^6*Li^2 + (q^7)*Mi^6*Li + (-q^12 - q^8)*Mi^4*Li^2 + (q^14 + q^12)*Mi^4*Li + (q^15)*Mi^2*Li^3 - Mi^4 + (q^21)*M^2*Li^2 + (-q^19 - q^17)*Mi^2*Li^2 + (q^7 + q^3)*Mi^2*Li + (-q^12)*Li^2 + (-q^10)*Li, (q^25)*Mi^8*Li + (-q^16)*Mi^6*Li^3 + (-q^24)*Mi^6*Li^2 + (q^11)*Mi^4*Li^3 + (q^21 + q^19 + q^17 - q^15)*Mi^4*Li^2 + (-q^20)*Mi^2*Li^4 + (-q^23 - q^21 - q^7)*Mi^4*Li + (-q^30)*M^2*Li^3 + (q^22)*Mi^2*Li^3 + (q^9)*Mi^4 + (-q^30)*M^2*Li^2 + (q^28 + q^26)*Mi^2*Li^2 + (q^10)*M^2*Li + (-q^16 - q^14 - 2*q^12)*Mi^2*Li + (q^19)*Li^3 + Mi^2 + (q^17)*Li^2 + (q^19 - q^3)*Li, (-q^22)*Mi^6*Li^2 + (q^22)*Mi^6 + (q^15)*Mi^4*Li^2 + (q^23 - q^19)*Mi^4*Li + (-q^22)*Mi^2*Li^3 + (-q^11)*Mi^4 + (-q^28)*M^2*Li^2 + (q^26 + q^24)*Mi^2*Li^2 + L*Mi^2 + (q^8)*M^2 + (-q^16 - q^14)*Mi^2 + (q^19)*Li^2 + (-q^21 + q^17)*Li + (-q^3), (q^19)*Mi^5*Li^4 + (-q^16)*Mi^7*Li + (-q^19 + q^15)*Mi^5*Li^2 + (q^41)*M^3*Li^4 + (-q^16)*Mi^3*Li^4 + (q^7)*Mi^5*Li + (-q^24 + q^20)*Mi^3*Li^3 + (q^27)*Mi*Li^5 + (-q^8)*Mi^3*Li^2 + (-q^28)*M*Li^4 + (-q^31 - q^29)*Mi*Li^4 + (q^14 + q^12)*Mi^3*Li + (q^30 - q^26)*M*Li^3 + (q^15)*Mi*Li^3 - Mi^3 + (q^21 - q^17)*Mi*Li^2 + (-q^10)*M*Li + (q^3)*Mi*Li, (-q^25)*Mi^9*Li + (q^16)*Mi^7*Li^3 + (q^24)*Mi^7*Li^2 + (-q^11)*Mi^5*Li^3 + (-q^21 - q^19 - q^17 + q^15)*Mi^5*Li^2 + (q^20)*Mi^3*Li^4 + (q^23 + q^21 + q^7)*Mi^5*Li + (-q^22)*Mi^3*Li^3 + (-q^9)*Mi^5 + (-q^28 - q^26)*Mi^3*Li^2 + (q^16 + q^14 + 2*q^12)*Mi^3*Li + (q^30)*M*Li^3 + (-q^19)*Mi*Li^3 - Mi^3 + (q^30)*M*Li^2 + (-q^17)*Mi*Li^2 + (-q^10)*M*Li + (-q^19 + q^3)*Mi*Li]).elimination_ideal([Mi,Li]).std().gens()]"
   ]
  },
  {
   "cell_type": "code",
   "execution_count": 20,
   "id": "6a367d6a-47a5-4c2e-8c3c-4bda459f0769",
   "metadata": {},
   "outputs": [
    {
     "name": "stdout",
     "output_type": "stream",
     "text": [
      "Defining M, L, x1, x2, x3, x4, x5, x6, x7, x8, x9, x10, x11, x12, x13, x14, x15, x16, x17, x18, x19, x20, x21, x22, x23, x24, x25, x26, x27, x28, x29, x30, x31, x32, x33, x34, Mi, Li, xi1, xi2, xi3, xi4, xi5, xi6, xi7, xi8, xi9, xi10, xi11, xi12, xi13, xi14, xi15, xi16, xi17, xi18, xi19, xi20, xi21, xi22, xi23, xi24, xi25, xi26, xi27, xi28, xi29, xi30, xi31, xi32, xi33, xi34\n"
     ]
    }
   ],
   "source": [
    "S = FractionField(QQ['q'])\n",
    "q = S.gen()\n",
    "#S=QQ\n",
    "#q=-1\n",
    "\n",
    "dim_wo_q = inv_lattice.dimension()-1\n",
    "# order M,L,x1,...,Mi,Li,xi1,...\n",
    "A2 = FreeAlgebra(S,2*dim_wo_q,['M','L'] + ['x{}'.format(i) for i in range(1,dim_wo_q-2+1)]+['Mi','Li']+['xi{}'.format(i) for i in range(1,dim_wo_q-2+1)])\n",
    "\n",
    "# order M, Mi, L, Li, x1, xi1, ...\n",
    "#A2 = FreeAlgebra(S,2*dim_wo_q,['M','Mi','L','Li'] + flatten([['x{}'.format(i),'xi{}'.format(i)] for i in range(1,dim_wo_q-2+1)]))\n",
    "FA_gens_dict = {A2.gen(i) : [0]*(i) + [1] + [0]*(2*dim_wo_q-i-1) for i in range(A2.ngens())}\n",
    "\n",
    "import itertools\n",
    "relations_FA = {}\n",
    "for g2,g1 in itertools.combinations(FA_gens_dict.keys(),2):\n",
    "    #print(matrix(x_gens_dict[g1])*(restricted_omega*(matrix(x_gens_dict[g2]).transpose())))\n",
    "    power = 2*(matrix(FA_gens_dict[g2])*doubled_res_omega*(matrix(FA_gens_dict[g1]).transpose()))[0][0]\n",
    "    if power != 0:\n",
    "        this_rel = [g1*g2,q**int(power)*g2*g1]\n",
    "        #print(this_rel)\n",
    "        #this_rel.sort(reverse=True)\n",
    "        relations_FA[this_rel[0]] = this_rel[1]\n",
    "        \n",
    "\n",
    "# these relations aren't the right shape for a g_algebra\n",
    "#central_relations_FA = {}\n",
    "#for rel in skmod.monomial_relations:\n",
    "#    if inv_lattice.basis_matrix()*skmod.omega_with_q*rel == 0:\n",
    "#        print(QuantumAPolynomial.lattice_coord_to_dict(rel,skmod.gens_dict))\n",
    "#        print(get_free_alg_element_from_coord(rel,A2))\n",
    "#        central_relations_FA[get_free_alg_element_from_coord(rel,A2)] = A2('1')\n",
    "        \n",
    "#relations_FA.update(central_relations_FA)\n",
    "\n",
    "H2 = A2.g_algebra(relations_FA)\n",
    "\n",
    "H2.inject_variables()"
   ]
  },
  {
   "cell_type": "code",
   "execution_count": 25,
   "id": "a47de987-4892-41e5-b5a4-5ffbd43b846d",
   "metadata": {},
   "outputs": [
    {
     "name": "stdout",
     "output_type": "stream",
     "text": [
      "\n",
      " Thread monodromy!\n",
      "relations: {x1: 1/q^6, x2: 1/q^6, x3: 1/q^6, x4: 1/q^6}\n",
      "\n",
      " Puncture monodromy!\n",
      "relations: {x27: 1/q^3, x28: 1/q^3, x29: 1/q^3, x30: 1/q^3, x31: 1/q^3, x32: 1/q^3, x33: 1/q^3, x5*x6*x7*x8*x9*x10*x11*x12*x13*x14*x15*x16*xi1*xi2*xi3*xi4*xi27*xi28*xi29*xi30*xi31*xi32*xi33: 1/q^3}\n",
      "\n",
      " Short edge gluing:\n",
      "relations: {x5: 1/q^4, x6: 1/q^4, x7: 1/q^4, x8: 1/q^4, x9: 1/q^4, x10: 1/q^4, x11: 1/q^4, x12: 1/q^4, x13: 1/q^4, x14: 1/q^4, x15: 1/q^4, x16: 1/q^4}\n",
      "\n",
      " Long edge gluing:\n",
      "relations: {x17: 1, x18: 1, x19: 1, x20: 1, x21: 1, x22: 1, x23: 1, x24: 1, x4*xi2*xi18*xi20*xi21*xi23*xi24: 1, x25: 1, x26: 1, x1*x17*x19*x25*x26*xi3*xi22: 1}\n",
      "\n",
      " crossing:\n",
      "relations:  [1/(q^3)*x2*x3*x4*x5^2*x8*x11*x12*x15^2*x18*x20*x21^2*x22*x23*x24^2*x29*Mi^2*Li*xi1^2*xi6*xi7*xi10*xi14^2*xi17*xi19*xi27*xi28^2*xi31*xi32^2*xi34 + 1/(q^3)*M^2*x1*x2*x3*x10*x22*x27*x28^2*x30*x31^2*x32*x33*x34*xi5*xi6*xi8^2*xi9*xi11^2*xi12*xi15*xi16*xi18*xi19*xi26 - 1, 1/(q^5)*L*x1*x6*x7*x8*x10*x13*x14*x16*x17^2*x19^2*x25*x32*x34*xi2*xi3^2*xi4*xi15*xi18*xi21*xi22*xi23*xi24*xi29*xi30 + 1/(q^3)*x4*x27*x29*xi7*xi9*xi10*xi12*xi14*xi23*xi24*xi34 - 1]\n"
     ]
    }
   ],
   "source": [
    "x_vars = [g for name,g in H2.gens_dict().items() if name[0]=='x']\n",
    "x_vars_not_threads = [g for name,g in H2.gens_dict().items() if name[0]=='x' and g not in [x1,x2,x3,x4]]\n",
    "\n",
    "# test just the thread monodromies\n",
    "print(\"\\n Thread monodromy!\")\n",
    "thread_monodromy_in_skmod = [QuantumAPolynomial.names_to_lattice_coordinate(rel,skmod.gens_dict) for rel in QuantumAPolynomial.get_internal_edge_monodromy(skmod.gens_dict)]\n",
    "thread_monodromy_relations = {get_g_alg_element_from_coord(strip_q(c),inv_lattice.basis_matrix(),skmod.omega_with_q,H2):q^c[0] for c in thread_monodromy_in_skmod}\n",
    "print(\"relations:\", thread_monodromy_relations)\n",
    "\n",
    "#print(\"elimination ideal: \",H2.ideal(thread_monodromy_relations).elimination_ideal(x_vars).gens())\n",
    "\n",
    "# test just the puncture monodromies:\n",
    "print(\"\\n Puncture monodromy!\")\n",
    "puncture_monodromy_in_skmod = [QuantumAPolynomial.names_to_lattice_coordinate(rel,skmod.gens_dict) for rel in QuantumAPolynomial.get_T_monodromy_list(skmod.knot_comp,skmod.gens_dict)]\n",
    "puncture_monodromy_relations = {get_g_alg_element_from_coord(strip_q(c),inv_lattice.basis_matrix(),skmod.omega_with_q,H2):q^c[0] for c in puncture_monodromy_in_skmod}\n",
    "print(\"relations:\", puncture_monodromy_relations)\n",
    "\n",
    "#print(\"elimination ideal: \",H2.ideal(puncture_monodromy_relations).elimination_ideal(x_vars).gens())\n",
    "\n",
    "# test just the short edge gluing relations\n",
    "print(\"\\n Short edge gluing:\")\n",
    "short_edge_in_skmod = [QuantumAPolynomial.names_to_lattice_coordinate(rel,skmod.gens_dict) for rel in skmod.short_edge_gluing_relations_list]\n",
    "short_edge_gluing_relations = {get_g_alg_element_from_coord(strip_q(c),inv_lattice.basis_matrix(),skmod.omega_with_q,H2):q^c[0] for c in short_edge_in_skmod}\n",
    "print(\"relations:\", short_edge_gluing_relations)\n",
    "\n",
    "#test just the long edge gluing relations:\n",
    "print(\"\\n Long edge gluing:\")\n",
    "long_edge_in_skmod = [QuantumAPolynomial.names_to_lattice_coordinate(rel,skmod.gens_dict) for rel in skmod.long_edge_gluing_relations_list]\n",
    "long_edge_gluing_relations = {get_g_alg_element_from_coord(strip_q(c),inv_lattice.basis_matrix(),skmod.omega_with_q,H2):q^c[0] for c in long_edge_in_skmod}\n",
    "print(\"relations:\", long_edge_gluing_relations)\n",
    "\n",
    "\n",
    "#print(\"elimination ideal: \",H2.ideal(short_edge_gluing_relations).elimination_ideal(x_vars).gens())\n",
    "\n",
    "#test just the crossing relations\n",
    "crossing_rel = [\n",
    "    reduce(H2.summation,\n",
    "           [-1]+[\n",
    "               get_g_alg_element_from_coord(mon,inv_lattice.basis_matrix(),skmod.omega_with_q,H2)\n",
    "               for mon in relation]\n",
    "          ) for relation in skmod.crossing_relations]\n",
    "inverses_relations = [M*Mi-1,L*Li-1]+[H2(A2('x{0}*xi{1}'.format(j,j)))-1 for j in range(1,dim_wo_q-2+1)]\n",
    "\n",
    "print(\"\\n crossing:\")\n",
    "print(\"relations: \",crossing_rel)\n",
    "#print(\"elimination ideal: \",H2.ideal(crossing_rel).elimination_ideal(x_vars).gens())\n",
    "\n"
   ]
  },
  {
   "cell_type": "code",
   "execution_count": 7,
   "id": "2f7b9f74-3ff5-4f49-8c43-e964da8ef2bf",
   "metadata": {},
   "outputs": [
    {
     "ename": "KeyboardInterrupt",
     "evalue": "",
     "output_type": "error",
     "traceback": [
      "\u001b[0;31m---------------------------------------------------------------------------\u001b[0m",
      "\u001b[0;31mKeyboardInterrupt\u001b[0m                         Traceback (most recent call last)",
      "Cell \u001b[0;32mIn[7], line 1\u001b[0m\n\u001b[0;32m----> 1\u001b[0m I \u001b[38;5;241m=\u001b[39m \u001b[43mH2\u001b[49m\u001b[38;5;241;43m.\u001b[39;49m\u001b[43mideal\u001b[49m\u001b[43m(\u001b[49m\u001b[43mpuncture_monodromy_relations\u001b[49m\u001b[43m \u001b[49m\u001b[38;5;241;43m+\u001b[39;49m\u001b[43m \u001b[49m\u001b[43mshort_edge_gluing_relations\u001b[49m\u001b[43m \u001b[49m\u001b[38;5;241;43m+\u001b[39;49m\u001b[43m \u001b[49m\u001b[43mlong_edge_gluing_relations\u001b[49m\u001b[43m \u001b[49m\u001b[38;5;241;43m+\u001b[39;49m\u001b[43m \u001b[49m\u001b[43minverses_relations\u001b[49m\u001b[43m \u001b[49m\u001b[38;5;241;43m+\u001b[39;49m\u001b[43m \u001b[49m\u001b[43mcrossing_rel\u001b[49m\u001b[43m)\u001b[49m\u001b[38;5;241;43m.\u001b[39;49m\u001b[43mstd\u001b[49m\u001b[43m(\u001b[49m\u001b[43m)\u001b[49m\u001b[38;5;241;43m.\u001b[39;49m\u001b[43melimination_ideal\u001b[49m\u001b[43m(\u001b[49m\u001b[43m[\u001b[49m\u001b[43mx1\u001b[49m\u001b[43m,\u001b[49m\u001b[43mx3\u001b[49m\u001b[43m]\u001b[49m\u001b[38;5;241;43m+\u001b[39;49m\u001b[43mx_vars_not_threads\u001b[49m\u001b[43m)\u001b[49m\n\u001b[1;32m      2\u001b[0m \u001b[38;5;28mprint\u001b[39m(I)\n",
      "File \u001b[0;32m~/sage/src/sage/rings/polynomial/multi_polynomial_ideal.py:3678\u001b[0m, in \u001b[0;36mNCPolynomialIdeal.elimination_ideal\u001b[0;34m(self, variables)\u001b[0m\n\u001b[1;32m   3676\u001b[0m \u001b[38;5;28;01melse\u001b[39;00m:\n\u001b[1;32m   3677\u001b[0m     J \u001b[38;5;241m=\u001b[39m \u001b[38;5;28mself\u001b[39m\n\u001b[0;32m-> 3678\u001b[0m \u001b[38;5;28;01mreturn\u001b[39;00m J\u001b[38;5;241m.\u001b[39mring()\u001b[38;5;241m.\u001b[39mideal(\u001b[43mJ\u001b[49m\u001b[38;5;241;43m.\u001b[39;49m\u001b[43m__call_singular\u001b[49m\u001b[43m(\u001b[49m\u001b[38;5;124;43m'\u001b[39;49m\u001b[38;5;124;43meliminate\u001b[39;49m\u001b[38;5;124;43m'\u001b[39;49m\u001b[43m,\u001b[49m\u001b[43m \u001b[49m\u001b[43mprod\u001b[49m\u001b[43m(\u001b[49m\u001b[43mvariables\u001b[49m\u001b[43m)\u001b[49m\u001b[43m)\u001b[49m, side\u001b[38;5;241m=\u001b[39m\u001b[38;5;28mself\u001b[39m\u001b[38;5;241m.\u001b[39mside())\n",
      "File \u001b[0;32m~/sage/src/sage/rings/polynomial/multi_polynomial_ideal.py:3576\u001b[0m, in \u001b[0;36mNCPolynomialIdeal.__call_singular\u001b[0;34m(self, cmd, arg)\u001b[0m\n\u001b[1;32m   3573\u001b[0m \u001b[38;5;28;01mif\u001b[39;00m arg \u001b[38;5;129;01mis\u001b[39;00m \u001b[38;5;28;01mNone\u001b[39;00m:\n\u001b[1;32m   3574\u001b[0m     \u001b[38;5;28;01mreturn\u001b[39;00m fun(\u001b[38;5;28mself\u001b[39m, ring\u001b[38;5;241m=\u001b[39m\u001b[38;5;28mself\u001b[39m\u001b[38;5;241m.\u001b[39mring())\n\u001b[0;32m-> 3576\u001b[0m \u001b[38;5;28;01mreturn\u001b[39;00m \u001b[43mfun\u001b[49m\u001b[43m(\u001b[49m\u001b[38;5;28;43mself\u001b[39;49m\u001b[43m,\u001b[49m\u001b[43m \u001b[49m\u001b[43marg\u001b[49m\u001b[43m,\u001b[49m\u001b[43m \u001b[49m\u001b[43mring\u001b[49m\u001b[38;5;241;43m=\u001b[39;49m\u001b[38;5;28;43mself\u001b[39;49m\u001b[38;5;241;43m.\u001b[39;49m\u001b[43mring\u001b[49m\u001b[43m(\u001b[49m\u001b[43m)\u001b[49m\u001b[43m)\u001b[49m\n",
      "File \u001b[0;32m~/sage/src/sage/libs/singular/function.pyx:1310\u001b[0m, in \u001b[0;36msage.libs.singular.function.SingularFunction.__call__\u001b[0;34m()\u001b[0m\n\u001b[1;32m   1308\u001b[0m     if not (isinstance(ring, MPolynomialRing_libsingular) or isinstance(ring, NCPolynomialRing_plural)):\n\u001b[1;32m   1309\u001b[0m         raise TypeError(\"cannot call Singular function '%s' with ring parameter of type '%s'\" % (self._name,type(ring)))\n\u001b[0;32m-> 1310\u001b[0m     return call_function(self, args, ring, interruptible, attributes)\n\u001b[1;32m   1311\u001b[0m \n\u001b[1;32m   1312\u001b[0m def _instancedoc_(self):\n",
      "File \u001b[0;32m~/sage/src/sage/libs/singular/function.pyx:1488\u001b[0m, in \u001b[0;36msage.libs.singular.function.call_function\u001b[0;34m()\u001b[0m\n\u001b[1;32m   1486\u001b[0m     error_messages.pop()\n\u001b[1;32m   1487\u001b[0m \n\u001b[0;32m-> 1488\u001b[0m with opt_ctx: # we are preserving the global options state here\n\u001b[1;32m   1489\u001b[0m     if signal_handler:\n\u001b[1;32m   1490\u001b[0m         sig_on()\n",
      "File \u001b[0;32m~/sage/src/sage/libs/singular/function.pyx:1490\u001b[0m, in \u001b[0;36msage.libs.singular.function.call_function\u001b[0;34m()\u001b[0m\n\u001b[1;32m   1488\u001b[0m with opt_ctx: # we are preserving the global options state here\n\u001b[1;32m   1489\u001b[0m     if signal_handler:\n\u001b[0;32m-> 1490\u001b[0m         sig_on()\n\u001b[1;32m   1491\u001b[0m         _res = self.call_handler.handle_call(argument_list, si_ring)\n\u001b[1;32m   1492\u001b[0m         sig_off()\n",
      "\u001b[0;31mKeyboardInterrupt\u001b[0m: "
     ]
    }
   ],
   "source": [
    "I = H2.ideal(puncture_monodromy_relations + short_edge_gluing_relations + long_edge_gluing_relations + inverses_relations + crossing_rel).std().elimination_ideal([x1,x3]+x_vars_not_threads)\n",
    "print(I)"
   ]
  },
  {
   "cell_type": "code",
   "execution_count": 8,
   "id": "36e403b1-83d0-4d77-a239-6e1964e0162f",
   "metadata": {},
   "outputs": [
    {
     "name": "stderr",
     "output_type": "stream",
     "text": [
      "\n",
      "KeyboardInterrupt\n",
      "\n"
     ]
    }
   ],
   "source": [
    "J=I.elimination_ideal([x1,x3]+x_vars_not_threads)"
   ]
  },
  {
   "cell_type": "code",
   "execution_count": null,
   "id": "b2ecaca5-4685-4869-927a-8355717b107a",
   "metadata": {},
   "outputs": [],
   "source": [
    "K=J.elimination_ideal([Mi,Li])"
   ]
  },
  {
   "cell_type": "code",
   "execution_count": null,
   "id": "19082602-c6b8-4796-b9d8-70a79bb692ab",
   "metadata": {},
   "outputs": [],
   "source": [
    "print([g for g in K.gens()])\n",
    "A3 = FreeAlgebra(S,4,['M','L','x2','x4'])\n",
    "H3 = A3.g_algebra({A3('L')*A3('M'):q^2*A3('M')*A3('L')})\n",
    "H3.inject_variables()\n",
    "II=H3.ideal([x2-q^6,x4-q^6,x2^2*x4^2 + (-q^24), (q^51 - q^43)*M^6*L^2*x2^3*x4 + (q^84)*M^8*L^3 + (-q^66)*M^8*L*x2^2 + (q^43)*M^4*L^4*x2*x4 + (-q^47)*M^4*x2^5*x4 + (-q^19 + q^11)*M^2*L^2*x2^5*x4 + (-q^78)*M^6*L^3 + (q^68)*M^6*L*x2^2 + (-q^44 - q^40)*M^4*L^3*x2^2 + (q^46 + q^42)*M^4*L*x2^4 + (-q^34)*M^2*L^3*x2^2 + (q^48)*M^2*L*x2^4 + L^3*x2^4 + (-q^22)*L*x2^6, (q^68)*M^8*L^2*x2*x4 + (-q^83)*M^10*L + (-q^66 - q^58)*M^6*L^2*x2*x4 + (-q^64)*M^6*x2^3*x4 + (-q^36 - q^32)*M^4*L^2*x2^3*x4 + (q^85)*M^8*L + (q^63 + q^59)*M^6*L*x2^2 + (-q^30)*M^2*L^2*x2^3*x4 + L^2*x2^5*x4 + (q^59)*M^4*L^3 + (q^65 + q^57)*M^4*L*x2^2 + (-q^39)*M^2*L*x2^4, (-q^84)*M^8*L^3*x4 + (q^66)*M^8*L*x2^2*x4 + (-q^43)*M^4*L^4*x2*x4^2 + (q^78)*M^6*L^3*x4 + (-q^68)*M^6*L*x2^2*x4 + (q^44 + q^40)*M^4*L^3*x2^2*x4 + (-q^46 - q^42)*M^4*L*x2^4*x4 + (-q^75 + q^67)*M^6*L^2*x2 + (q^34)*M^2*L^3*x2^2*x4 + (-q^48)*M^2*L*x2^4*x4 - L^3*x2^4*x4 + (q^22)*L*x2^6*x4 + (q^71)*M^4*x2^3 + (q^43 - q^35)*M^2*L^2*x2^3, (-q^44)*M^8*L*x2^3*x4 + (q^81)*M^10*L^2 + (q^48)*M^6*L^3*x2*x4 + (q^54 + q^46)*M^6*L*x2^3*x4 + (q^24 + q^20)*M^4*L*x2^5*x4 + (-q^79)*M^8*L^2 + (-q^49 - q^45)*M^6*L^2*x2^2 + (q^26)*M^2*L*x2^5*x4 - L*x2^7*x4 + (-q^51 - q^43)*M^4*L^2*x2^2 + (-q^49)*M^4*x2^4 + (q^13)*M^2*L^2*x2^4, (-q^59)*M^10*L*x2*x4 + (q^61)*M^8*L*x2*x4 + (q^39 + q^35)*M^6*L*x2^3*x4 + (q^68)*M^8*L^2 + (q^35)*M^4*L^3*x2*x4 + (q^41 + q^33)*M^4*L*x2^3*x4 + (-q^15)*M^2*L*x2^5*x4 + (-q^66 - q^58)*M^6*L^2 + (-q^64)*M^6*x2^2 + (-q^36 - q^32)*M^4*L^2*x2^2 + (-q^30)*M^2*L^2*x2^2 + L^2*x2^4, (-q^68)*M^10*L^2*x4 + (-q^35)*M^6*L^3*x2*x4^2 + (q^66)*M^8*L^2*x4 + (q^36 + q^32)*M^6*L^2*x2^2*x4 + (q^55)*M^8*L*x2 + (q^38 + q^30)*M^4*L^2*x2^2*x4 + (q^36)*M^4*x2^4*x4 - M^2*L^2*x2^4*x4 + (-q^65 - q^57)*M^6*L*x2 + (-q^35 - q^31)*M^4*L*x2^3 + (-q^37)*M^2*L*x2^3 + (q^11)*L*x2^5, (q^109)*M^10*L^3 + (-q^83)*M^10*L*x2^2 + (q^68)*M^6*L^4*x2*x4 + (-q^64)*M^6*x2^5*x4 + (q^40 - q^32)*M^4*L^2*x2^5*x4 + (-q^107 - q^103 - q^99)*M^8*L^3 + (q^89 + q^85 + q^81)*M^8*L*x2^2 + (-q^69 - q^65)*M^6*L^3*x2^2 + (q^63 + q^59)*M^6*L*x2^4 + (-q^66 - q^58)*M^4*L^4*x2*x4 + (q^70 + q^62)*M^4*x2^5*x4 + (q^42 + q^38 - q^30 - q^26)*M^2*L^2*x2^5*x4 + (-q^8 + 1)*L^2*x2^7*x4 + (q^101 + q^93)*M^6*L^3 + (-q^91 - q^83)*M^6*L*x2^2 + (q^63 + q^59 + q^55)*M^4*L^3*x2^2 + (-q^69 - q^65 - q^61)*M^4*L*x2^4 + (q^25)*M^2*L^3*x2^4 + (-q^39)*M^2*L*x2^6 + (q^57 + q^49)*M^2*L^3*x2^2 + (-q^71 - q^63)*M^2*L*x2^4 + (-q^23 - q^15)*L^3*x2^4 + (q^45 + q^37)*L*x2^6, (-q^93)*M^12*L + (-q^74)*M^8*x2^3*x4 + (q^95 - q^83)*M^10*L + (q^73 + q^69 + q^65)*M^8*L*x2^2 + (-q^66 - q^58)*M^6*L^2*x2*x4 + (-q^64)*M^6*x2^3*x4 + (q^48 - q^36 - q^32)*M^4*L^2*x2^3*x4 + (q^46)*M^4*x2^5*x4 + (q^85)*M^8*L + (q^63 + q^59)*M^6*L*x2^2 + (-q^49 - q^45 - q^41)*M^4*L*x2^4 + (-q^30)*M^2*L^2*x2^3*x4 + L^2*x2^5*x4 + (q^59)*M^4*L^3 + (q^65 + q^57)*M^4*L*x2^2 + (-q^47 - q^39)*M^2*L*x2^4 + (q^21)*L*x2^6]).std()"
   ]
  },
  {
   "cell_type": "code",
   "execution_count": null,
   "id": "24098d3c-f15e-4a65-b504-521ed0647a1f",
   "metadata": {},
   "outputs": [],
   "source": [
    "print(K.gens())"
   ]
  },
  {
   "cell_type": "code",
   "execution_count": 55,
   "id": "c5b2a313-8f11-465c-95e5-a8291fd11319",
   "metadata": {},
   "outputs": [
    {
     "data": {
      "text/plain": [
       "(x4 + (-q^6),\n",
       " x2 + (-q^6),\n",
       " (q^60)*M^8*L^3 + (-q^54)*M^8*L + (-q^54)*M^6*L^3 + (q^51 - q^43)*M^6*L^2 + (q^31)*M^4*L^4 + (q^56)*M^6*L + (-q^32 - q^28)*M^4*L^3 + (q^46 + q^42)*M^4*L + (-q^22)*M^2*L^3 + (-q^59)*M^4 + (-q^31 + q^23)*M^2*L^2 + (q^48)*M^2*L + L^3 + (-q^34)*L,\n",
       " (q^47)*M^10*L + (-q^44)*M^8*L^2 + (-q^49)*M^8*L + (q^42 + q^34)*M^6*L^2 + (-q^39 - q^35)*M^6*L + (-q^23)*M^4*L^3 + (q^52)*M^6 + (q^24 + q^20)*M^4*L^2 + (-q^41 - q^33)*M^4*L + (q^18)*M^2*L^2 + (q^27)*M^2*L - L^2)"
      ]
     },
     "execution_count": 55,
     "metadata": {},
     "output_type": "execute_result"
    }
   ],
   "source": [
    "II.gens()"
   ]
  },
  {
   "cell_type": "code",
   "execution_count": 77,
   "id": "0e38a3b8-6a45-4d00-b5e4-8c7b1d52bca8",
   "metadata": {},
   "outputs": [],
   "source": [
    "I3=H3.ideal([x4 + (-q^6),\n",
    " x2 + (-q^6),\n",
    " (q^60)*M^8*L^3 + (-q^54)*M^8*L + (-q^54)*M^6*L^3 + (q^51 - q^43)*M^6*L^2 + (q^31)*M^4*L^4 + (q^56)*M^6*L + (-q^32 - q^28)*M^4*L^3 + (q^46 + q^42)*M^4*L + (-q^22)*M^2*L^3 + (-q^59)*M^4 + (-q^31 + q^23)*M^2*L^2 + (q^48)*M^2*L + L^3 + (-q^34)*L,\n",
    " (q^47)*M^10*L + (-q^44)*M^8*L^2 + (-q^49)*M^8*L + (q^42 + q^34)*M^6*L^2 + (-q^39 - q^35)*M^6*L + (-q^23)*M^4*L^3 + (q^52)*M^6 + (q^24 + q^20)*M^4*L^2 + (-q^41 - q^33)*M^4*L + (q^18)*M^2*L^2 + (q^27)*M^2*L - L^2]).std()"
   ]
  },
  {
   "cell_type": "code",
   "execution_count": 78,
   "id": "f7d8d1a3-d777-488b-8ac5-3a407c1df77f",
   "metadata": {},
   "outputs": [
    {
     "data": {
      "text/plain": [
       "False"
      ]
     },
     "execution_count": 78,
     "metadata": {},
     "output_type": "execute_result"
    }
   ],
   "source": [
    "M^8*L + M^4*L^2*x2*x4 + M^4*x2^3*x4 - M^6*L - 2*M^4*L*x2^2 - M^2*L*x2^2 + L*x2^4 in I3"
   ]
  },
  {
   "cell_type": "code",
   "execution_count": 80,
   "id": "5c11e054-1e3a-417c-a669-6429a5cb9b2c",
   "metadata": {},
   "outputs": [
    {
     "data": {
      "text/plain": [
       "False"
      ]
     },
     "execution_count": 80,
     "metadata": {},
     "output_type": "execute_result"
    }
   ],
   "source": [
    "I3.gens()[2] in H3.ideal([M^8*L + M^4*L^2*x2*x4 + M^4*x2^3*x4 - M^6*L - 2*M^4*L*x2^2 - M^2*L*x2^2 + L*x2^4])"
   ]
  },
  {
   "cell_type": "code",
   "execution_count": 11,
   "id": "af5d106d-5389-4d5f-b734-2ff652f9301d",
   "metadata": {},
   "outputs": [
    {
     "name": "stdout",
     "output_type": "stream",
     "text": [
      "Defining M, L\n"
     ]
    },
    {
     "data": {
      "text/plain": [
       "M^10 - M^6*L + M^4*L + L^2"
      ]
     },
     "execution_count": 11,
     "metadata": {},
     "output_type": "execute_result"
    }
   ],
   "source": [
    "R=LaurentPolynomialRing(QQ,['M','L'])\n",
    "R.inject_variables()\n",
    "(M^10 - M^6*L + M^4*L + L^2).factor()"
   ]
  },
  {
   "cell_type": "code",
   "execution_count": null,
   "id": "677aec7f-9540-424a-8b45-0e61530e7029",
   "metadata": {},
   "outputs": [],
   "source": []
  }
 ],
 "metadata": {
  "kernelspec": {
   "display_name": "SageMath 10.4",
   "language": "sage",
   "name": "sagemath"
  },
  "language_info": {
   "codemirror_mode": {
    "name": "ipython",
    "version": 3
   },
   "file_extension": ".py",
   "mimetype": "text/x-python",
   "name": "python",
   "nbconvert_exporter": "python",
   "pygments_lexer": "ipython3",
   "version": "3.12.3"
  }
 },
 "nbformat": 4,
 "nbformat_minor": 5
}
