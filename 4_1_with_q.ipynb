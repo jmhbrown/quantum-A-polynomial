{
 "cells": [
  {
   "cell_type": "code",
   "execution_count": 21,
   "id": "e1bf8887-ad44-4e84-b79b-8c4a5839326c",
   "metadata": {},
   "outputs": [
    {
     "name": "stderr",
     "output_type": "stream",
     "text": [
      "INFO:__main__:A-polynomial for 4_1:\tM^14*L - M^12*L - M^10*L^2 - 2*M^10*L + M^10 + M^8*L^2 + 5*M^8*L + 5*M^6*L^2 + M^6*L + M^4*L^3 - 2*M^4*L^2 - M^4*L - M^2*L^2 + L^2\n",
      "ERROR:__main__:Our A-polynomial has a complicated relationship with the reference one!\n"
     ]
    },
    {
     "name": "stdout",
     "output_type": "stream",
     "text": [
      "Defining qrt2, M, L, w0, w1, w0i, w1i\n"
     ]
    }
   ],
   "source": [
    "import logging ;logger = logging.getLogger(__name__); logging.basicConfig(level='INFO'); load('main.sage')\n",
    "\n",
    "skmod = QuantumAPolynomial('4_1',pachner_moves=[{\"tet\":0,\"face\":3}])\n",
    "skmod.compute_skein_module()\n",
    "\n",
    "strip_q = lambda coord : vector([0] + list(coord)[1:])\n",
    "\n",
    "new_basis = [skmod.gens_dict['qrt2'],strip_q(skmod.meridian),strip_q(skmod.longitude)]\n",
    "\n",
    "for vec in skmod.monomial_relations:\n",
    "    if strip_q(vec) not in span(new_basis):\n",
    "        new_basis.append(strip_q(vec))\n",
    "        \n",
    "for vec in skmod.invariant_sublattice.basis():\n",
    "    if strip_q(vec) not in span(new_basis):\n",
    "        new_basis.append(strip_q(vec))\n",
    "\n",
    "inv_lattice = skmod.invariant_sublattice.submodule_with_basis(new_basis)\n",
    "\n",
    "restricted_omega = inv_lattice.basis_matrix()*skmod.omega_with_q*(inv_lattice.basis_matrix().transpose())\n",
    "\n",
    "# this is horrible but change the behavior here:\n",
    "FLAG_inverses_last=True\n",
    "\n",
    "if FLAG_inverses_last:\n",
    "    # here all the originals first then all the inverses\n",
    "    doubled_res_omega = Matrix.block([[restricted_omega[1:,1:],-restricted_omega[1:,1:]],[-restricted_omega[1:,1:],restricted_omega[1:,1:]]])\n",
    "else:\n",
    "    # here its M, Mi, L, Li, x1, xi1,...\n",
    "    doubled_res_omega = matrix(restricted_omega[1:,1:].tensor_product(matrix([[1,-1],[-1,1]])))"
   ]
  },
  {
   "cell_type": "code",
   "execution_count": 7,
   "id": "59d57453",
   "metadata": {},
   "outputs": [],
   "source": []
  },
  {
   "cell_type": "code",
   "execution_count": 10,
   "id": "d2607355",
   "metadata": {},
   "outputs": [
    {
     "data": {
      "text/plain": [
       "55 x 91 dense matrix over Rational Field (use the '.str()' method to see the entries)"
      ]
     },
     "execution_count": 10,
     "metadata": {},
     "output_type": "execute_result"
    }
   ],
   "source": [
    "\n"
   ]
  },
  {
   "cell_type": "code",
   "execution_count": null,
   "id": "3288fe23",
   "metadata": {},
   "outputs": [],
   "source": [
    "# quotient by invariant functions:\n",
    "central_relations = []\n",
    "for rel in skmod.monomial_relations:\n",
    "    if inv_lattice.basis_matrix()*skmod.omega_with_q*rel == 0:\n",
    "        central_relations.append(rel)\n",
    "        \n",
    "small_lattice = inv_lattice.quotient(central_relations)\n",
    "\n",
    "pi = small_lattice.coerce_map_from(small_lattice.V())\n",
    "\n",
    "new_small_basis = [pi(skmod.gens_dict['qrt2']),pi(skmod.meridian),pi(skmod.longitude)]\n",
    "for vec in small_lattice.gens():\n",
    "    if vec not in small_lattice.submodule(new_small_basis):\n",
    "        new_small_basis.append(vec)"
   ]
  },
  {
   "cell_type": "code",
   "execution_count": null,
   "id": "8e13580b",
   "metadata": {},
   "outputs": [],
   "source": [
    "small_basis_lift = matrix([g.lift() for g in new_small_basis])\n",
    "small_basis_lift\n",
    "small_restricted_omega = small_basis_lift*skmod.omega_with_q*(small_basis_lift.transpose())\n",
    "small_restricted_omega\n",
    "\n",
    "small_doubled_res_omega = Matrix.block([[small_restricted_omega[1:,1:],-small_restricted_omega[1:,1:]],[-small_restricted_omega[1:,1:],small_restricted_omega[1:,1:]]])"
   ]
  },
  {
   "cell_type": "code",
   "execution_count": null,
   "id": "87451ec4",
   "metadata": {},
   "outputs": [],
   "source": []
  },
  {
   "cell_type": "markdown",
   "id": "ea0c0181",
   "metadata": {},
   "source": [
    "# Helper Functions"
   ]
  },
  {
   "cell_type": "code",
   "execution_count": 12,
   "id": "b78ef4c6",
   "metadata": {},
   "outputs": [],
   "source": [
    "# 1-indexed:\n",
    "kth_coord = lambda k,coord: vector((k-1)*[0] + [coord[k-1]] + (len(coord)-k)*[0])\n",
    "\n",
    "\n",
    "def get_doubled_lattice_coord(coord,inverses_last=FLAG_inverses_last):\n",
    "    \"\"\"\n",
    "    Assumes the first coordinate is q, which can be negative and shouldn't be doubled\n",
    "    ex: inverses_last = True means\n",
    "    ( 1, a,b) -> ( 1,a,b,0,0)\n",
    "    (-1,-a,b) -> (-1,0,b,a,0)\n",
    "    \n",
    "    inverses_last = False means:\n",
    "    ( 1, a,b)-> ( 1,a,0,b,0)\n",
    "    (-1,-a,b) -> (-1,0,a,b,0)\n",
    "    \"\"\"\n",
    "    \n",
    "    pos = vector([max(coord[i],0) for i in range(1,len(coord))])\n",
    "    neg = vector([min(coord[i],0) for i in range(1,len(coord))])\n",
    "    if inverses_last:\n",
    "        return [coord[0]] + list(pos) + list(-1*neg)\n",
    "    else:\n",
    "        return  [coord[0]]+flatten([[list(pos)[i],list(-1*neg)[i]] for i in range(len(pos))])\n",
    "         \n",
    "\n",
    "\n",
    "def get_free_alg_element_from_coord(coord,basis_matrix,omega,free_alg,qq_override_value=False):\n",
    "    \"\"\"\n",
    "    Assumes the coordinate is for the skein algebra, i.e. has q as the first coordinate and needs to be doubled to deal with inverses\n",
    "    \n",
    "    Parameters:\n",
    "    coord vector\n",
    "    basis_matrix matrix - the basis for the invariant sublattice\n",
    "    free_alg free_algebra\n",
    "    qq_override_value (default: False) - if this is set then override the default value (q) for qq\n",
    "    \"\"\"\n",
    "    conversion_q_factor = normal_to_lex_q_power(coord,omega)*vector([1]+(len(coord)-1)*[0])\n",
    "    doubled_coord = get_doubled_lattice_coord(basis_matrix.solve_left(conversion_q_factor+coord))\n",
    "    if qq_override_value:\n",
    "        qq = qq_override_value\n",
    "    else:\n",
    "        qq = free_alg.base().gen()\n",
    "        \n",
    "    without_q = '*'.join([\n",
    "        '{0}^({1})'.format(free_alg.gen(i),doubled_coord[i])\n",
    "        for i in range(1,len(doubled_coord)-1) if doubled_coord[i] != 0\n",
    "    ])        \n",
    "    return qq^doubled_coord[0]*free_alg(without_q)\n",
    "    \n",
    "def get_scaling(coord,omega):\n",
    "    upper_triangular_omega = zero_matrix(*omega.dimensions())\n",
    "    for j in range(omega.nrows()):\n",
    "        for i in range(omega.ncols()):\n",
    "            if i <= j:\n",
    "                upper_triangular_omega[i,j] = omega[i,j]\n",
    "         \n",
    "    scaling = (1/2)*(matrix(coord)*upper_triangular_omega*(matrix(coord).transpose()))[0,0]\n",
    "    second_version = (-1)*sum(flatten([\n",
    "        [\n",
    "            coord[i]*coord[j]*omega[i,j] for i in range(j-1)\n",
    "        ] for j in range(len(coord))\n",
    "    ]))\n",
    "    #print(\"first version: \",scaling,\"\\t, second version: \",second_version)\n",
    "    return second_version\n",
    "\n",
    "\n",
    "def get_g_alg_element_from_coord(coord,basis_matrix,omega,g_alg,qq_override_value=False):\n",
    "    \"\"\"\n",
    "    Assumes the coordinate is for the skein algebra, i.e. has q as the first coordinate and needs to be doubled to deal with inverses\n",
    "    \n",
    "    Parameters:\n",
    "    coord vector\n",
    "    basis_matrix matrix - the basis for the invariant sublattice\n",
    "    g_alg g_algebra\n",
    "    qq_override_value (default: False) - if this is set then override the default value (q) for qq\n",
    "    \"\"\"\n",
    " \n",
    "    #logger.info(\"coord: {}\".format(coord))\n",
    "    #logger.info(\"doubled_coord: {}\".format(doubled_coord))\n",
    "    #logger.debug(\"ngens: {0}, double_coord length:{1}\".format(g_alg.ngens(),len(doubled_coord)))\n",
    "    omega_restriction = basis_matrix*omega*basis_matrix.transpose()\n",
    "    inv_coord = basis_matrix.solve_left(coord)\n",
    "    \n",
    "    conversion_q_factor = get_scaling(inv_coord,omega_restriction)\n",
    "    conversion_vector = vector([conversion_q_factor]+[0]*(len(coord)-1))\n",
    "    doubled_coord = get_doubled_lattice_coord(basis_matrix.solve_left(conversion_vector + coord))\n",
    "    if qq_override_value:\n",
    "        qq = qq_override_value\n",
    "    else:\n",
    "        qq = g_alg.base().gen()\n",
    "        \n",
    "    free_alg = g_alg.free_algebra()\n",
    "    # make the monomial as a string:\n",
    "    without_q = '*'.join([\n",
    "        '{0}^({1})'.format(g_alg.gen(i-1),doubled_coord[i])\n",
    "        for i in range(1,len(doubled_coord)) if doubled_coord[i] != 0\n",
    "    ])\n",
    "    #logger.info(\"without_q: {}\".format(without_q))\n",
    "    return qq^doubled_coord[0]*g_alg(free_alg(without_q))\n",
    "\n",
    "#get_free_alg_element_from_coord(inv_lattice.basis_matrix()*skmod.monomial_relations[1],A2)"
   ]
  },
  {
   "cell_type": "markdown",
   "id": "fe5f4819",
   "metadata": {},
   "source": [
    "### Debugging"
   ]
  },
  {
   "cell_type": "code",
   "execution_count": 13,
   "id": "e698eca4",
   "metadata": {},
   "outputs": [
    {
     "name": "stdout",
     "output_type": "stream",
     "text": [
      "We expect a(c1)+a(c2)-a(c1+c2) = 1/2*omega(c1,c2)\n",
      "a(r1) =  0 ,\t a(r2) =  0 ,\t a(r1+r2) =  0\n",
      "a(r1)+a(r2)-a(r1+r2) = \t 0\n",
      "1/2*omega(c1,c2) = \t -1/2\n",
      "\n",
      "\n",
      "\n",
      "without q:\n",
      "a(r1) =  0 ,\t a(r2) =  0 ,\t a(r1+r2) =  0\n",
      "a(r1)+a(r2)-a(r1+r2) = \t 0\n",
      "1/2*omega(c1,c2) = \t -1/2\n",
      "\n",
      "\n",
      "\n",
      "a(c1)+a(c2)-a(c1+c2) = \t 0\n",
      "1/2*omega(c1,c2) = \t 1/2\n",
      "\n",
      "a(c1)+a(c2)-a(c1+c2) = \t 0\n",
      "1/2*omega(c1,c2) = \t 0\n",
      "\n",
      "a(c1)+a(c2)-a(c1+c2) = \t 0\n",
      "1/2*omega(c1,c2) = \t 0\n",
      "\n",
      "a(c1)+a(c2)-a(c1+c2) = \t 0\n",
      "1/2*omega(c1,c2) = \t 0\n",
      "\n",
      "a(c1)+a(c2)-a(c1+c2) = \t 0\n",
      "1/2*omega(c1,c2) = \t 0\n",
      "\n",
      "a(c1)+a(c2)-a(c1+c2) = \t 0\n",
      "1/2*omega(c1,c2) = \t 0\n",
      "\n",
      "a(c1)+a(c2)-a(c1+c2) = \t 0\n",
      "1/2*omega(c1,c2) = \t 0\n",
      "\n",
      "a(c1)+a(c2)-a(c1+c2) = \t 0\n",
      "1/2*omega(c1,c2) = \t 0\n",
      "\n",
      "a(c1)+a(c2)-a(c1+c2) = \t 0\n",
      "1/2*omega(c1,c2) = \t 0\n",
      "\n",
      "a(c1)+a(c2)-a(c1+c2) = \t 0\n",
      "1/2*omega(c1,c2) = \t 0\n",
      "\n",
      "a(c1)+a(c2)-a(c1+c2) = \t 0\n",
      "1/2*omega(c1,c2) = \t 0\n",
      "\n",
      "a(c1)+a(c2)-a(c1+c2) = \t 0\n",
      "1/2*omega(c1,c2) = \t 0\n",
      "\n",
      "a(c1)+a(c2)-a(c1+c2) = \t 0\n",
      "1/2*omega(c1,c2) = \t 0\n",
      "\n",
      "a(c1)+a(c2)-a(c1+c2) = \t 0\n",
      "1/2*omega(c1,c2) = \t 0\n",
      "\n",
      "a(c1)+a(c2)-a(c1+c2) = \t 0\n",
      "1/2*omega(c1,c2) = \t 0\n",
      "\n",
      "a(c1)+a(c2)-a(c1+c2) = \t 0\n",
      "1/2*omega(c1,c2) = \t 0\n",
      "\n",
      "a(c1)+a(c2)-a(c1+c2) = \t 0\n",
      "1/2*omega(c1,c2) = \t 0\n",
      "\n",
      "a(c1)+a(c2)-a(c1+c2) = \t 0\n",
      "1/2*omega(c1,c2) = \t 0\n",
      "\n",
      "a(c1)+a(c2)-a(c1+c2) = \t 0\n",
      "1/2*omega(c1,c2) = \t 0\n",
      "\n",
      "a(c1)+a(c2)-a(c1+c2) = \t 0\n",
      "1/2*omega(c1,c2) = \t 0\n",
      "\n",
      "a(c1)+a(c2)-a(c1+c2) = \t 0\n",
      "1/2*omega(c1,c2) = \t 0\n",
      "\n",
      "a(c1)+a(c2)-a(c1+c2) = \t 0\n",
      "1/2*omega(c1,c2) = \t 0\n",
      "\n",
      "a(c1)+a(c2)-a(c1+c2) = \t 0\n",
      "1/2*omega(c1,c2) = \t 0\n",
      "\n",
      "a(c1)+a(c2)-a(c1+c2) = \t 0\n",
      "1/2*omega(c1,c2) = \t 0\n",
      "\n",
      "a(c1)+a(c2)-a(c1+c2) = \t 0\n",
      "1/2*omega(c1,c2) = \t 0\n",
      "\n",
      "a(c1)+a(c2)-a(c1+c2) = \t 0\n",
      "1/2*omega(c1,c2) = \t 0\n",
      "\n",
      "a(c1)+a(c2)-a(c1+c2) = \t 0\n",
      "1/2*omega(c1,c2) = \t 0\n",
      "\n",
      "a(c1)+a(c2)-a(c1+c2) = \t 0\n",
      "1/2*omega(c1,c2) = \t 0\n",
      "\n",
      "a(c1)+a(c2)-a(c1+c2) = \t 0\n",
      "1/2*omega(c1,c2) = \t 0\n",
      "\n",
      "a(c1)+a(c2)-a(c1+c2) = \t 0\n",
      "1/2*omega(c1,c2) = \t 0\n",
      "\n",
      "a(c1)+a(c2)-a(c1+c2) = \t 0\n",
      "1/2*omega(c1,c2) = \t 0\n",
      "\n",
      "a(c1)+a(c2)-a(c1+c2) = \t 0\n",
      "1/2*omega(c1,c2) = \t 0\n",
      "\n",
      "a(c1)+a(c2)-a(c1+c2) = \t 0\n",
      "1/2*omega(c1,c2) = \t 0\n",
      "\n",
      "a(c1)+a(c2)-a(c1+c2) = \t 0\n",
      "1/2*omega(c1,c2) = \t 0\n",
      "\n",
      "a(c1)+a(c2)-a(c1+c2) = \t 0\n",
      "1/2*omega(c1,c2) = \t 0\n",
      "\n",
      "a(c1)+a(c2)-a(c1+c2) = \t 0\n",
      "1/2*omega(c1,c2) = \t 0\n",
      "\n"
     ]
    }
   ],
   "source": [
    "to_inv = lambda c : inv_lattice.basis_matrix().solve_left(c)\n",
    "print(\"We expect a(c1)+a(c2)-a(c1+c2) = 1/2*omega(c1,c2)\")\n",
    "\n",
    "randomish_vector = lambda combo,basis: sum([combo[i]*basis[i] for i in range(len(combo))])\n",
    "\n",
    "r1 = randomish_vector(vector((0,1,1,1,0,2,0,1,1,0,0)),inv_lattice.basis())\n",
    "r2 = randomish_vector((0,1,0,0,1,1,0,0,0,0,0,0,0,0,0),inv_lattice.basis())\n",
    "\n",
    "print(\"a(r1) = \",get_scaling(to_inv(r1),restricted_omega), \",\\t a(r2) = \", get_scaling(to_inv(r2),restricted_omega), \",\\t a(r1+r2) = \",get_scaling(to_inv(r1+r2),restricted_omega))\n",
    "print(\"a(r1)+a(r2)-a(r1+r2) = \\t\", get_scaling(to_inv(r1),restricted_omega)+get_scaling(to_inv(r2),restricted_omega)-get_scaling(to_inv(r1+r2),restricted_omega))\n",
    "print(\"1/2*omega(c1,c2) = \\t\", (1/2)*(r1*skmod.omega_with_q*matrix(r2).transpose())[0])\n",
    "print(\"\\n\\n\")\n",
    "\n",
    "print(\"without q:\")\n",
    "print(\"a(r1) = \",get_scaling(to_inv(r1)[1:],restricted_omega[1:,1:]), \",\\t a(r2) = \", get_scaling(to_inv(r2)[1:],restricted_omega[1:,1:]), \",\\t a(r1+r2) = \",get_scaling(to_inv(r1+r2)[1:],restricted_omega[1:,1:]))\n",
    "print(\"a(r1)+a(r2)-a(r1+r2) = \\t\", get_scaling(to_inv(r1)[1:],restricted_omega[1:,1:])+get_scaling(to_inv(r2)[1:],restricted_omega[1:,1:])-get_scaling(to_inv(r1+r2)[1:],restricted_omega[1:,1:]))\n",
    "print(\"1/2*omega(c1,c2) = \\t\", (1/2)*(r1*skmod.omega_with_q*matrix(r2).transpose())[0])\n",
    "print(\"\\n\\n\")\n",
    "\n",
    "if True:\n",
    "    import itertools\n",
    "    for c1,c2 in itertools.combinations(inv_lattice.basis()[1:10],2):\n",
    "        s1 = get_scaling(to_inv(c1),restricted_omega)\n",
    "        s2 = get_scaling(to_inv(c2),restricted_omega)\n",
    "        s12 = get_scaling(to_inv(c1+c2),restricted_omega)\n",
    "        #print(\"a(c1):\",s1,\"a(c2):\",s2,\"a(c1+c2):\",s12)\n",
    "        #print(\"pairing c1,c2:\", c1*skmod.omega_with_q*matrix(c2).transpose())\n",
    "        print(\"a(c1)+a(c2)-a(c1+c2) = \\t\",s1+s2-s12)\n",
    "        print(\"1/2*omega(c1,c2) = \\t\",(1/2)*(to_inv(c1)*restricted_omega*matrix(to_inv(c2)).transpose())[0])\n",
    "       # print(\"omega(c1,c2) = \\t\",c1*skmod.omega_with_q*matrix(c2).transpose())\n",
    "        print()"
   ]
  },
  {
   "cell_type": "code",
   "execution_count": null,
   "id": "4721870a",
   "metadata": {},
   "outputs": [],
   "source": []
  },
  {
   "cell_type": "code",
   "execution_count": null,
   "id": "281291f8",
   "metadata": {},
   "outputs": [],
   "source": [
    "#print(get_g_alg_element_from_coord(L_coord+M_coord,inv_lattice.basis_matrix(),skmod.omega_with_q,H2))\n",
    "#print(get_g_alg_element_from_coord(M_coord,inv_lattice.basis_matrix(),skmod.omega_with_q,H2))\n",
    "#print(get_g_alg_element_from_coord(L_coord,inv_lattice.basis_matrix(),skmod.omega_with_q,H2))\n",
    "#print(\"\\n\")\n",
    "#print(L_coord*skmod.omega_with_q*matrix(M_coord).transpose())\n",
    "#print(L*M)\n",
    "\n",
    "import itertools\n",
    "for coord1,coord2 in itertools.combinations(inv_lattice.basis()[1:5],2):\n",
    "    #print(get_scaling(coord,skmod.omega_with_q))\n",
    "    elem1 = get_g_alg_element_from_coord(coord1,inv_lattice.basis_matrix(),skmod.omega_with_q,H2)\n",
    "    elem2 = get_g_alg_element_from_coord(coord2,inv_lattice.basis_matrix(),skmod.omega_with_q,H2)\n",
    "    together = get_g_alg_element_from_coord(coord1+coord2,inv_lattice.basis_matrix(),skmod.omega_with_q,H2)\n",
    "    print(\" c1: \",elem1,\",\\n c2: \",elem2)\n",
    "    print(\"c1+c2: \",together)\n",
    "    print(elem1.monomials()[0]*elem2.monomials()[0], \" vs \",elem2.monomials()[0]*elem1.monomials()[0])\n",
    "    print(coord1*skmod.omega_with_q*matrix(coord2).transpose())\n",
    "    print(\"\\n\")\n",
    "\n"
   ]
  },
  {
   "cell_type": "code",
   "execution_count": null,
   "id": "908ffc06",
   "metadata": {},
   "outputs": [],
   "source": [
    "import itertools\n",
    "for c1,c2,c3,c4 in itertools.combinations(inv_lattice.basis()[1:11],4):\n",
    "    #print(get_scaling(coord,skmod.omega_with_q))\n",
    "    elem1 = get_g_alg_element_from_coord(c1,inv_lattice.basis_matrix(),skmod.omega_with_q,H2)\n",
    "    elem2 = get_g_alg_element_from_coord(c2,inv_lattice.basis_matrix(),skmod.omega_with_q,H2)\n",
    "    elem3 = get_g_alg_element_from_coord(c3,inv_lattice.basis_matrix(),skmod.omega_with_q,H2)\n",
    "    together = get_g_alg_element_from_coord(c1+c2+c3,inv_lattice.basis_matrix(),skmod.omega_with_q,H2)\n",
    "    print(\" c1: \",elem1,\",\\n c2: \",elem2,\"\\n c3: \",elem3)\n",
    "    print(\"c1+c2 times c3:\",get_g_alg_element_from_coord(c1+c2,inv_lattice.basis_matrix(),skmod.omega_with_q,H2)*get_g_alg_element_from_coord(c3,inv_lattice.basis_matrix(),skmod.omega_with_q,H2))\n",
    "    print(\"c3 times c1+c2:\",get_g_alg_element_from_coord(c3,inv_lattice.basis_matrix(),skmod.omega_with_q,H2)*get_g_alg_element_from_coord(c1+c2,inv_lattice.basis_matrix(),skmod.omega_with_q,H2))\n",
    "    print((c1+c2)*skmod.omega_with_q*matrix(c3).transpose())\n",
    "    print(\"\\n\")"
   ]
  },
  {
   "cell_type": "code",
   "execution_count": null,
   "id": "eaf82fd0",
   "metadata": {},
   "outputs": [],
   "source": [
    "first_random = 2*inv_lattice.basis()[2]+inv_lattice.basis()[5]+2*inv_lattice.basis()[8]\n",
    "second_random = inv_lattice.basis()[1]+2*inv_lattice.basis()[3]+inv_lattice()[7]+2*inv_lattice()[11]\n",
    "elem1 = get_g_alg_element_from_coord(first_random,inv_lattice.basis_matrix(),skmod.omega_with_q,H2)\n",
    "elem2 = get_g_alg_element_from_coord(second_random,inv_lattice.basis_matrix(),skmod.omega_with_q,H2)\n",
    "together = get_g_alg_element_from_coord(first_random+second_random,inv_lattice.basis_matrix(),skmod.omega_with_q,H2)\n",
    "print(\"first:\",elem1,\"second:\",elem2)\n",
    "print(\"together:\",together)\n",
    "print(elem1*elem2,\" vs \",elem2*elem1)\n",
    "print(get_scaling(inv_lattice.basis_matrix().solve_left(first_random),restricted_omega),get_scaling(inv_lattice.basis_matrix().solve_left(second_random),restricted_omega),get_scaling(inv_lattice.basis_matrix().solve_left(first_random+second_random),restricted_omega))"
   ]
  },
  {
   "cell_type": "code",
   "execution_count": null,
   "id": "6f80c794",
   "metadata": {},
   "outputs": [],
   "source": [
    "get_g_alg_element_from_coord(new_basis[3],inv_lattice.basis_matrix(),skmod.omega_with_q,H2)"
   ]
  },
  {
   "cell_type": "code",
   "execution_count": null,
   "id": "316b36d5",
   "metadata": {},
   "outputs": [],
   "source": []
  },
  {
   "cell_type": "markdown",
   "id": "2d2de202",
   "metadata": {},
   "source": [
    "### More helper functions"
   ]
  },
  {
   "cell_type": "code",
   "execution_count": 14,
   "id": "37f69a77",
   "metadata": {},
   "outputs": [],
   "source": [
    "# Functions to get the skein algebra name for an element of the g_algebra\n",
    "#TODO - get all the coordinates straight! It's a mix of the FA and the skalg. @_@\n",
    "\n",
    "def get_folded_coordinate(coord,inverses_last=FLAG_inverses_last):\n",
    "    \"\"\"\n",
    "    Assumes the first coordinate is q, which can be negative and shouldn't be doubled.\n",
    "     \n",
    "     Parameters:\n",
    "     coord Vector, List - the coordinate, should have length 1 + the rank of the free algebra\n",
    "     inverses_last=FLAG_inverses_last - if true it assumes (q,x1,x2,xi1,xi2), if false then (q,x1,xi1,x2,xi2)\n",
    "     \n",
    "     Output:\n",
    "     vector -- the coordinate converted to the dimension of the invariant lattice.\n",
    "     \n",
    "    \"\"\"\n",
    "    l = len(coord)\n",
    "    l_coord = list(coord)\n",
    "    if inverses_last:\n",
    "        return vector(l_coord[:(l+1)/2]) - vector([0]+l_coord[(l+1)/2:])\n",
    "    else:\n",
    "        return vector([l_coord[0]] + [l_coord[i]-l_coord[i+1] for i in range(1,l-1,2)])\n",
    "    \n",
    "\n",
    "def get_coord_from_g_alg(element,free_alg_gens_dict,fold=True):\n",
    "    \"\"\"\n",
    "    Changes a monomial in a g_algebra to a coordinate of length 1+free_algebra.ngens() or 1+ free_algebra.ngens()/2\n",
    "    This output will be in the basis for the invariant lattice.\n",
    "    \"\"\"\n",
    "    q_pow_lambda = lambda s : '-'+s.split('^')[-1].strip(')') if s.startswith('1/') else s.split('^')[-1].strip(')')\n",
    "    x_pow_lambda = lambda x : 1 if x.count('^') == 0 else int(x.split('^')[-1].strip(')'))\n",
    "                                                                                                                       \n",
    "    FA = element.parent().free_algebra()\n",
    "    coord_length = len(list(free_alg_gens_dict.values())[0])\n",
    "    if len(element.monomials()) > 1:\n",
    "        print(\"Only monomials have coordinates!\")\n",
    "        return None\n",
    "    \n",
    "    str_list = str(element).split('*')\n",
    "    x_vars = list(element.exponents()[0])\n",
    "    #x_vars = [vector([0]+list(x_pow_lambda(v)*vector(free_alg_gens_dict[FA(v.split('^')[0])]))) for v in str_list if ['x','L','M'].count(v[0]) == 1]\n",
    "    # both q and 1/q should be replaced by 1, since we add a - when there's a 1/ in the string\n",
    "    scalars = sum([int(q_pow_lambda(v).replace('1/q','1').replace('q','1').replace('--','')) for v in str_list if ['x','L','M'].count(v[0]) == 0 ])\n",
    "    return get_folded_coordinate([scalars]+x_vars) if fold else vector([scalars]+x_vars)\n",
    "    \n",
    "def get_skalg_name_from_g_alg(element,inv_lattice_basis_matrix,free_alg_gens_dict,gens_dict):\n",
    "    return QuantumAPolynomial.lattice_coord_to_dict(inv_lattice_basis_matrix.transpose()*get_coord_from_g_alg(element,free_alg_gens_dict),gens_dict)"
   ]
  },
  {
   "cell_type": "code",
   "execution_count": null,
   "id": "0b61c297",
   "metadata": {},
   "outputs": [],
   "source": []
  },
  {
   "cell_type": "markdown",
   "id": "319cfc0f",
   "metadata": {},
   "source": [
    "# Checks"
   ]
  },
  {
   "cell_type": "code",
   "execution_count": null,
   "id": "0264a394",
   "metadata": {},
   "outputs": [],
   "source": [
    "# These should agree:\n",
    "print(inv_lattice.basis_matrix().transpose()*get_coord_from_g_alg(get_g_alg_element_from_coord(skmod.monomial_relations[3],inv_lattice.basis_matrix(),skmod.omega_with_q,H2),FA_gens_dict))\n",
    "print(skmod.monomial_relations[3])"
   ]
  },
  {
   "cell_type": "code",
   "execution_count": null,
   "id": "03656c9b",
   "metadata": {
    "scrolled": true
   },
   "outputs": [],
   "source": [
    "H2.ideal(thread_monodromy_relations+puncture_monodromy_relations+short_edge_gluing_relations).std().gens()\n",
    "for a in short_edge_gluing_relations+puncture_monodromy_relations+thread_monodromy_relations:\n",
    "    for b in H2.gens():\n",
    "        if a*b != b*a:\n",
    "            print(a,b)"
   ]
  },
  {
   "cell_type": "code",
   "execution_count": null,
   "id": "8809989a",
   "metadata": {},
   "outputs": [],
   "source": [
    "# DEBUGGING - check that long edges always show up in pairs.\n",
    "for elem in inv_lattice.basis():\n",
    "    elem_dict = QuantumAPolynomial.lattice_coord_to_dict(elem,skmod.gens_dict)\n",
    "    #print({k:v for k,v in elem_dict.items() if k[0] == 'A'})\n",
    "\n",
    "# list out the non-central relations\n",
    "for rel in skmod.monomial_relations:\n",
    "    if inv_lattice.basis_matrix()*skmod.omega_with_q*rel != 0:\n",
    "        print(QuantumAPolynomial.lattice_coord_to_dict(rel,skmod.gens_dict))\n",
    "\n",
    "# show the commutation relations matrix\n",
    "show(plot(doubled_res_omega))\n",
    "doubled_res_omega.is_skew_symmetric()"
   ]
  },
  {
   "cell_type": "markdown",
   "id": "12f9352b-3583-4524-a10d-a09c53d208ef",
   "metadata": {},
   "source": [
    "# Set up g_algebra"
   ]
  },
  {
   "cell_type": "code",
   "execution_count": 22,
   "id": "fba9ce04-1218-4d23-87e4-a5f79be3c809",
   "metadata": {},
   "outputs": [
    {
     "name": "stdout",
     "output_type": "stream",
     "text": [
      "Defining M, L, x1, x2, x3, x4, x5, x6, x7, x8, x9, x10, x11, x12, x13, x14, x15, x16, x17, x18, x19, x20, x21, x22, x23, x24, x25, x26, x27, x28, x29, x30, x31, x32, x33, x34, x35, x36, x37, x38, x39, x40, x41, x42, x43, x44, x45, x46, x47, x48, x49, x50, x51, x52, Mi, Li, xi1, xi2, xi3, xi4, xi5, xi6, xi7, xi8, xi9, xi10, xi11, xi12, xi13, xi14, xi15, xi16, xi17, xi18, xi19, xi20, xi21, xi22, xi23, xi24, xi25, xi26, xi27, xi28, xi29, xi30, xi31, xi32, xi33, xi34, xi35, xi36, xi37, xi38, xi39, xi40, xi41, xi42, xi43, xi44, xi45, xi46, xi47, xi48, xi49, xi50, xi51, xi52\n"
     ]
    }
   ],
   "source": [
    "S = FractionField(QQ['q'])\n",
    "q = S.gen()\n",
    "#A.<x1,x2,x3,x4,x5,x6,x7,x8,x9,x10,x11,x12,x13,x14,x15,x16,x17,x18,x19,x20,x21,x22,x23,x24,x25,x26,x27,x28,x29,x30,x31,x32,x33,x34,x35,x36> = FreeAlgebra(S,36)\n",
    "\n",
    "dim_wo_q = inv_lattice.dimension()-1\n",
    "# order M,L,x1,...,Mi,Li,xi1,...\n",
    "A2 = FreeAlgebra(S,2*dim_wo_q,['M','L'] + ['x{}'.format(i) for i in range(1,dim_wo_q-2+1)]+['Mi','Li']+['xi{}'.format(i) for i in range(1,dim_wo_q-2+1)])\n",
    "\n",
    "# order M, Mi, L, Li, x1, xi1, ...\n",
    "#A2 = FreeAlgebra(S,2*dim_wo_q,['M','Mi','L','Li'] + flatten([['x{}'.format(i),'xi{}'.format(i)] for i in range(1,dim_wo_q-2+1)]))\n",
    "FA_gens_dict = {A2.gen(i) : [0]*(i) + [1] + [0]*(2*dim_wo_q-i-1) for i in range(A2.ngens())}\n",
    "\n",
    "import itertools\n",
    "relations_FA = {}\n",
    "for g2,g1 in itertools.combinations(FA_gens_dict.keys(),2):\n",
    "    #print(matrix(x_gens_dict[g1])*(restricted_omega*(matrix(x_gens_dict[g2]).transpose())))\n",
    "    power = 2*(matrix(FA_gens_dict[g2])*doubled_res_omega*(matrix(FA_gens_dict[g1]).transpose()))[0][0]\n",
    "    if power != 0:\n",
    "        this_rel = [g1*g2,q**int(power)*g2*g1]\n",
    "        #print(this_rel)\n",
    "        #this_rel.sort(reverse=True)\n",
    "        relations_FA[this_rel[0]] = this_rel[1]\n",
    "        \n",
    "\n",
    "# these relations aren't the right shape for a g_algebra\n",
    "#central_relations_FA = {}\n",
    "#for rel in skmod.monomial_relations:\n",
    "#    if inv_lattice.basis_matrix()*skmod.omega_with_q*rel == 0:\n",
    "#        print(QuantumAPolynomial.lattice_coord_to_dict(rel,skmod.gens_dict))\n",
    "#        print(get_free_alg_element_from_coord(rel,A2))\n",
    "#        central_relations_FA[get_free_alg_element_from_coord(rel,A2)] = A2('1')\n",
    "        \n",
    "#relations_FA.update(central_relations_FA)\n",
    "\n",
    "H2 = A2.g_algebra(relations_FA)\n",
    "H2.inject_variables()"
   ]
  },
  {
   "cell_type": "code",
   "execution_count": 23,
   "id": "763d9c5b",
   "metadata": {},
   "outputs": [
    {
     "data": {
      "image/png": "[encoded data removed]",
      "text/plain": [
       "Graphics object consisting of 1 graphics primitive"
      ]
     },
     "execution_count": 23,
     "metadata": {},
     "output_type": "execute_result"
    }
   ],
   "source": [
    "matrix_plot(doubled_res_omega)\n",
    "#QuantumAPolynomial.lattice_coord_to_ring_element(bm.solve_left(skmod.monomial_relations[0]),H2,restricted_omega)\n",
    "\n",
    "#(list(bm.solve_left(skmod.monomial_relations[0])))"
   ]
  },
  {
   "cell_type": "markdown",
   "id": "2aa45fd0-3e64-4acd-9c1b-5fa44352ea84",
   "metadata": {},
   "source": [
    "### Get relations into g_algebra"
   ]
  },
  {
   "cell_type": "code",
   "execution_count": 24,
   "id": "b136ad28",
   "metadata": {},
   "outputs": [],
   "source": [
    "\n",
    "monomial_relations = [get_g_alg_element_from_coord(c,inv_lattice.basis_matrix(),skmod.omega_with_q,H2)-1 for c in skmod.monomial_relations]\n",
    "\n",
    "\n",
    "crossing_rel = [\n",
    "    reduce(H2.summation,\n",
    "           [-1]+[\n",
    "               get_g_alg_element_from_coord(mon,inv_lattice.basis_matrix(),skmod.omega_with_q,H2)\n",
    "               for mon in relation]\n",
    "          ) for relation in skmod.crossing_relations]\n",
    "inverses_relations = [M*Mi-1,L*Li-1]+[H2(A2('x{0}*xi{1}'.format(j,j)))-1 for j in range(1,dim_wo_q-2+1)]\n",
    "\n",
    "relations_ideal = H2.ideal(monomial_relations + crossing_rel+inverses_relations)\n",
    "\n",
    "x_vars = [g for name,g in H2.gens_dict().items() if name[0]=='x']\n"
   ]
  },
  {
   "cell_type": "code",
   "execution_count": 25,
   "id": "a8c1c61d",
   "metadata": {},
   "outputs": [
    {
     "data": {
      "text/plain": [
       "(1,)"
      ]
     },
     "execution_count": 25,
     "metadata": {},
     "output_type": "execute_result"
    }
   ],
   "source": [
    "# check - is the elimination ideal wrong?\n",
    "relations_ideal.elimination_ideal([x1]).gens()"
   ]
  },
  {
   "cell_type": "code",
   "execution_count": null,
   "id": "2edbf102",
   "metadata": {},
   "outputs": [],
   "source": []
  },
  {
   "cell_type": "code",
   "execution_count": null,
   "id": "c7340233",
   "metadata": {},
   "outputs": [],
   "source": []
  },
  {
   "cell_type": "code",
   "execution_count": null,
   "id": "ca12edba",
   "metadata": {},
   "outputs": [],
   "source": []
  },
  {
   "cell_type": "code",
   "execution_count": 26,
   "id": "eda3e137",
   "metadata": {},
   "outputs": [
    {
     "name": "stdout",
     "output_type": "stream",
     "text": [
      "(-9, 0, 0, 0, 0, 0, 0, 0, 0, 0, 0, 0, 0, 0, 0, 0, 0, 0, 0, 0, 0, 0, 0, 0, 0, 0, 0, 0, 0, 0, 0, 0, 0, 0, 0, 0, 0, 0, 0, 0, 0, 0, 0, 0, 0, 0, 0, 0, 0, 0, 0, 0, 0, 0, 0, 1, 0, 0, 0, 0, 1, 0, 0, 1, 0, 0, 0, 0, 0, 0, 0, 1, 0, 0, 1, 1, 0, 0, 0, 1, 0, 0, 0, 1, 0, 0, 1, 0, 0, 0, 0)\n",
      "1/(q^9)*x1\n"
     ]
    }
   ],
   "source": [
    "print(skmod.monomial_relations[0])\n",
    "print(get_g_alg_element_from_coord(skmod.monomial_relations[0],inv_lattice.basis_matrix(),skmod.omega_with_q,H2))"
   ]
  },
  {
   "cell_type": "code",
   "execution_count": null,
   "id": "667f5ea5",
   "metadata": {},
   "outputs": [],
   "source": [
    "# little check: the commutation relation agrees on M and L:\n",
    "print(matrix(skmod.longitude)*skmod.omega_with_q*(matrix(skmod.meridian).transpose()))\n",
    "print(M*L == L*M)\n",
    "\n",
    "# what is the meridian?\n",
    "print(get_skalg_name_from_g_alg(M,inv_lattice.basis_matrix(),FA_gens_dict,skmod.gens_dict))\n",
    "#QuantumAPolynomial.lattice_coord_to_dict(inv_lattice.basis_matrix().transpose()*get_coord_from_g_alg(M,fold=True),skmod.gens_dict)"
   ]
  },
  {
   "cell_type": "markdown",
   "id": "4f73bef5",
   "metadata": {},
   "source": [
    "# set up g algebra with the quotient lattice"
   ]
  },
  {
   "cell_type": "code",
   "execution_count": null,
   "id": "af1e0d22",
   "metadata": {},
   "outputs": [],
   "source": [
    "small_dim_wo_q = small_lattice.ngens()-1\n",
    "A = FreeAlgebra(S,2*small_dim_wo_q,['M','L'] + ['x{}'.format(i) for i in range(1,small_dim_wo_q-2+1)]+['Mi','Li']+['xi{}'.format(i) for i in range(1,small_dim_wo_q-2+1)])\n",
    "small_FA_gens_dict = {A.gen(i) : [0]*(i) + [1] + [0]*(2*small_dim_wo_q-i-1) for i in range(A.ngens())}\n",
    "\n",
    "import itertools\n",
    "small_relations_FA = {}\n",
    "for g2,g1 in itertools.combinations(small_FA_gens_dict.keys(),2):\n",
    "    #print(matrix(x_gens_dict[g1])*(restricted_omega*(matrix(x_gens_dict[g2]).transpose())))\n",
    "    power = (matrix(small_FA_gens_dict[g2])*small_doubled_res_omega*(matrix(small_FA_gens_dict[g1]).transpose()))[0][0]\n",
    "    if power != 0:\n",
    "        this_rel = [g1*g2,q**int(-power)*g2*g1]\n",
    "        #print(this_rel)\n",
    "        #this_rel.sort(reverse=True)\n",
    "        small_relations_FA[this_rel[0]] = this_rel[1]\n",
    "        \n",
    "H = A.g_algebra(small_relations_FA)"
   ]
  },
  {
   "cell_type": "code",
   "execution_count": null,
   "id": "b33aa11a",
   "metadata": {},
   "outputs": [],
   "source": [
    "H.inject_variables()"
   ]
  },
  {
   "cell_type": "markdown",
   "id": "562469f6",
   "metadata": {},
   "source": [
    "### Get relations into g_algebra"
   ]
  },
  {
   "cell_type": "code",
   "execution_count": null,
   "id": "e8ba4b72",
   "metadata": {},
   "outputs": [],
   "source": [
    "non_central_relations = []\n",
    "for rel in skmod.monomial_relations:\n",
    "    if inv_lattice.basis_matrix()*skmod.omega_with_q*rel != 0:\n",
    "        non_central_relations.append(pi(rel))\n",
    "        \n",
    "small_monomial_relations = [\n",
    "    get_g_alg_element_from_coord(vector(c),matrix(new_small_basis),small_restricted_omega,H)-1 for c in non_central_relations\n",
    "]\n",
    "\n",
    "small_crossing_rel = [\n",
    "    reduce(H.summation,\n",
    "           [-1]+[\n",
    "               get_g_alg_element_from_coord(vector(pi(mon)),matrix(new_small_basis),small_restricted_omega,H)\n",
    "               for mon in relation]\n",
    "          ) for relation in skmod.crossing_relations]\n",
    "small_inverses_relations = [M*Mi-1,L*Li-1]+[H(A('x{0}*xi{1}'.format(j,j)))-1 for j in range(1,small_dim_wo_q-2+1)]\n",
    "\n",
    "small_relations_ideal = H.ideal(small_monomial_relations+small_inverses_relations)"
   ]
  },
  {
   "cell_type": "code",
   "execution_count": null,
   "id": "27b4e2dd",
   "metadata": {},
   "outputs": [],
   "source": [
    "small_relations_ideal.std()"
   ]
  },
  {
   "cell_type": "code",
   "execution_count": null,
   "id": "487b9f82",
   "metadata": {},
   "outputs": [],
   "source": [
    "# check if any of the thread monodromies are fine:\n",
    "small_monomial_relations\n",
    "for mon_relation in small_monomial_relations:\n",
    "    test_ideal = H.ideal(small_crossing_rel+[mon_relation])\n",
    "    if test_ideal.std().gens().count(1) > 0:\n",
    "        print(mon_relation)\n",
    "        \n",
    "print(\"\\n GB for crossing+inverses relations ideal:\", H.ideal(small_crossing_rel+small_inverses_relations).std().gens())\n",
    "print(\"\\n GB for monomial relations+inverses ideal:\", H.ideal(small_monomial_relations+small_inverses_relations).std().gens())"
   ]
  },
  {
   "cell_type": "markdown",
   "id": "a8ca5613",
   "metadata": {},
   "source": [
    "# Debug full elimination ideal."
   ]
  },
  {
   "cell_type": "code",
   "execution_count": null,
   "id": "cb2dc31b",
   "metadata": {},
   "outputs": [],
   "source": [
    "build_up_rel = []\n",
    "for rel in monomial_relations + crossing_rel:\n",
    "    build_up_rel.append(rel)\n",
    "    tmp_elim_ideal = H2.ideal(build_up_rel).elimination_ideal([g for name,g in H2.gens_dict().items() if name[0]=='x'])\n",
    "    if tmp_elim_ideal.gens().count(1) != 0:\n",
    "        print(\"Adding {} broke the ideal!\".format(rel))\n",
    "        build_up_rel.remove(rel)\n",
    "        #break"
   ]
  },
  {
   "cell_type": "code",
   "execution_count": null,
   "id": "8bfb9219",
   "metadata": {},
   "outputs": [],
   "source": []
  },
  {
   "cell_type": "code",
   "execution_count": null,
   "id": "1458dcd7",
   "metadata": {},
   "outputs": [],
   "source": []
  },
  {
   "cell_type": "code",
   "execution_count": 27,
   "id": "8fa6ca08",
   "metadata": {},
   "outputs": [
    {
     "name": "stdout",
     "output_type": "stream",
     "text": [
      "1/(q^9)*x1 - 1 \t 1/(q^4)*M^2*x7^2*x9*x10*x16^2*x19*x20*x21^2*x22^2*x24^2*x29*x30*x32*x38*x51^2*x52*Li*xi1*xi3*xi6*xi8*xi27*xi36^2*xi40^2*xi41*xi42^2*xi44^2*xi47^2*xi48^2 + 1/(q^3)*M^2*x4*x5*x7*x16*x21^2*x22*x24*x28*x29*x30*x33*x38*x41*x43*x45*x49*x50*x51^2*Li*xi3*xi8*xi11*xi13*xi14*xi17*xi20*xi23*xi27*xi36^2*xi37*xi42*xi44*xi47*xi48 - 1\n",
      "1/(q^9)*x1 - 1 \t 1/q*L*x2*x3^2*x4*x5*x6*x33*x37*x40*x41*x42*x43*x44^2*x45*x46^2*x47^2*x48^2*x49*Mi^4*xi7*xi8*xi9*xi10*xi11*xi12*xi13*xi16^2*xi18^2*xi19*xi20*xi21*xi22^2*xi23*xi24*xi25*xi26*xi28^2*xi30^2*xi34*xi35*xi51 + 1/(q^4)*L*x3^2*x9*x11*x14*x17*x20*x27*x32*x36*x37*x42*x44*x48*x52*Mi^2*xi1*xi4*xi7*xi10*xi16*xi21*xi22*xi26*xi28^2*xi30^2*xi31*xi34*xi38*xi41*xi45*xi50*xi51 - 1\n",
      "1/(q^9)*x1 - 1 \t q*M^2*x8^2*x9*x11*x12^2*x13^2*x14*x16*x17*x18^2*x20*x23*x24*x25*x28*x30*x34*x36*x39*xi2^2*xi3*xi4*xi5*xi33*xi37*xi38*xi41*xi43^2*xi45*xi46^2*xi47*xi49*xi50*xi51 + 1/(q^4)*x1*x3*x6*x14*x25*x39*x42*x44*x52*xi7*xi10*xi15*xi21*xi22*xi33*xi50*xi51 - 1\n",
      "1/(q^6)*x2 - 1 \t 1/(q^4)*M^2*x7^2*x9*x10*x16^2*x19*x20*x21^2*x22^2*x24^2*x29*x30*x32*x38*x51^2*x52*Li*xi1*xi3*xi6*xi8*xi27*xi36^2*xi40^2*xi41*xi42^2*xi44^2*xi47^2*xi48^2 + 1/(q^3)*M^2*x4*x5*x7*x16*x21^2*x22*x24*x28*x29*x30*x33*x38*x41*x43*x45*x49*x50*x51^2*Li*xi3*xi8*xi11*xi13*xi14*xi17*xi20*xi23*xi27*xi36^2*xi37*xi42*xi44*xi47*xi48 - 1\n",
      "1/(q^6)*x2 - 1 \t 1/q*L*x2*x3^2*x4*x5*x6*x33*x37*x40*x41*x42*x43*x44^2*x45*x46^2*x47^2*x48^2*x49*Mi^4*xi7*xi8*xi9*xi10*xi11*xi12*xi13*xi16^2*xi18^2*xi19*xi20*xi21*xi22^2*xi23*xi24*xi25*xi26*xi28^2*xi30^2*xi34*xi35*xi51 + 1/(q^4)*L*x3^2*x9*x11*x14*x17*x20*x27*x32*x36*x37*x42*x44*x48*x52*Mi^2*xi1*xi4*xi7*xi10*xi16*xi21*xi22*xi26*xi28^2*xi30^2*xi31*xi34*xi38*xi41*xi45*xi50*xi51 - 1\n",
      "1/(q^6)*x2 - 1 \t q*M^2*x8^2*x9*x11*x12^2*x13^2*x14*x16*x17*x18^2*x20*x23*x24*x25*x28*x30*x34*x36*x39*xi2^2*xi3*xi4*xi5*xi33*xi37*xi38*xi41*xi43^2*xi45*xi46^2*xi47*xi49*xi50*xi51 + 1/(q^4)*x1*x3*x6*x14*x25*x39*x42*x44*x52*xi7*xi10*xi15*xi21*xi22*xi33*xi50*xi51 - 1\n",
      "1/(q^9)*x3 - 1 \t 1/(q^4)*M^2*x7^2*x9*x10*x16^2*x19*x20*x21^2*x22^2*x24^2*x29*x30*x32*x38*x51^2*x52*Li*xi1*xi3*xi6*xi8*xi27*xi36^2*xi40^2*xi41*xi42^2*xi44^2*xi47^2*xi48^2 + 1/(q^3)*M^2*x4*x5*x7*x16*x21^2*x22*x24*x28*x29*x30*x33*x38*x41*x43*x45*x49*x50*x51^2*Li*xi3*xi8*xi11*xi13*xi14*xi17*xi20*xi23*xi27*xi36^2*xi37*xi42*xi44*xi47*xi48 - 1\n",
      "1/(q^9)*x3 - 1 \t 1/q*L*x2*x3^2*x4*x5*x6*x33*x37*x40*x41*x42*x43*x44^2*x45*x46^2*x47^2*x48^2*x49*Mi^4*xi7*xi8*xi9*xi10*xi11*xi12*xi13*xi16^2*xi18^2*xi19*xi20*xi21*xi22^2*xi23*xi24*xi25*xi26*xi28^2*xi30^2*xi34*xi35*xi51 + 1/(q^4)*L*x3^2*x9*x11*x14*x17*x20*x27*x32*x36*x37*x42*x44*x48*x52*Mi^2*xi1*xi4*xi7*xi10*xi16*xi21*xi22*xi26*xi28^2*xi30^2*xi31*xi34*xi38*xi41*xi45*xi50*xi51 - 1\n",
      "1/(q^9)*x3 - 1 \t q*M^2*x8^2*x9*x11*x12^2*x13^2*x14*x16*x17*x18^2*x20*x23*x24*x25*x28*x30*x34*x36*x39*xi2^2*xi3*xi4*xi5*xi33*xi37*xi38*xi41*xi43^2*xi45*xi46^2*xi47*xi49*xi50*xi51 + 1/(q^4)*x1*x3*x6*x14*x25*x39*x42*x44*x52*xi7*xi10*xi15*xi21*xi22*xi33*xi50*xi51 - 1\n",
      "1/(q^6)*x4 - 1 \t 1/(q^4)*M^2*x7^2*x9*x10*x16^2*x19*x20*x21^2*x22^2*x24^2*x29*x30*x32*x38*x51^2*x52*Li*xi1*xi3*xi6*xi8*xi27*xi36^2*xi40^2*xi41*xi42^2*xi44^2*xi47^2*xi48^2 + 1/(q^3)*M^2*x4*x5*x7*x16*x21^2*x22*x24*x28*x29*x30*x33*x38*x41*x43*x45*x49*x50*x51^2*Li*xi3*xi8*xi11*xi13*xi14*xi17*xi20*xi23*xi27*xi36^2*xi37*xi42*xi44*xi47*xi48 - 1\n",
      "1/(q^6)*x4 - 1 \t 1/q*L*x2*x3^2*x4*x5*x6*x33*x37*x40*x41*x42*x43*x44^2*x45*x46^2*x47^2*x48^2*x49*Mi^4*xi7*xi8*xi9*xi10*xi11*xi12*xi13*xi16^2*xi18^2*xi19*xi20*xi21*xi22^2*xi23*xi24*xi25*xi26*xi28^2*xi30^2*xi34*xi35*xi51 + 1/(q^4)*L*x3^2*x9*x11*x14*x17*x20*x27*x32*x36*x37*x42*x44*x48*x52*Mi^2*xi1*xi4*xi7*xi10*xi16*xi21*xi22*xi26*xi28^2*xi30^2*xi31*xi34*xi38*xi41*xi45*xi50*xi51 - 1\n",
      "1/(q^6)*x4 - 1 \t q*M^2*x8^2*x9*x11*x12^2*x13^2*x14*x16*x17*x18^2*x20*x23*x24*x25*x28*x30*x34*x36*x39*xi2^2*xi3*xi4*xi5*xi33*xi37*xi38*xi41*xi43^2*xi45*xi46^2*xi47*xi49*xi50*xi51 + 1/(q^4)*x1*x3*x6*x14*x25*x39*x42*x44*x52*xi7*xi10*xi15*xi21*xi22*xi33*xi50*xi51 - 1\n",
      "sus:  {x29, xi2, xi13, xi48, xi11, xi17, x11, x36, x23, xi3, x4, xi31, xi1, xi51, x25, xi38, xi18, xi35, xi21, xi30, xi6, xi42, xi49, M, xi23, x3, xi43, x47, Mi, xi4, x12, L, x22, x39, x43, x45, x52, xi28, x17, xi14, x41, x6, x32, x48, x28, xi20, xi26, xi50, x16, xi16, xi15, x2, x44, xi40, x14, xi47, xi22, xi41, xi33, x10, x9, x18, xi5, x34, x51, x5, x8, x21, x49, xi19, x30, xi37, x13, x38, x1, xi27, xi46, xi24, x20, x37, x50, xi25, xi44, xi36, xi9, x27, xi34, xi45, xi10, x42, xi8, xi12, x7, x24, x19, x40, Li, xi7, x33, x46}\n",
      "maybe okay:  {x29, xi2, xi13, xi48, xi29, xi11, xi17, x11, x36, x23, xi3, x4, xi31, xi1, x25, xi51, xi38, xi18, xi35, xi21, xi30, xi6, xi42, x26, xi49, M, xi23, x3, xi43, x47, Mi, xi4, x12, L, x22, x39, x43, x45, x52, x17, xi28, xi14, x6, x41, x32, x48, x28, xi20, xi26, xi50, x16, xi16, xi15, x2, x44, x14, xi40, xi47, xi22, xi41, xi33, x9, x10, x18, xi5, x34, x5, x8, x51, x21, x49, xi19, x30, xi37, x13, x38, x1, xi27, xi46, x35, xi24, x20, x37, x50, xi25, x31, xi44, xi36, xi9, x27, xi34, xi32, x15, xi45, xi10, x42, xi8, xi12, x7, x24, x19, x40, Li, xi7, x33, x46}\n",
      "intersection:  {x29, xi2, xi13, xi48, xi11, xi17, x11, x36, x23, xi3, x4, xi31, xi1, xi51, x25, xi38, xi18, xi35, xi21, xi30, xi6, xi42, xi49, M, xi23, x3, xi43, x47, Mi, xi4, x12, L, x22, x39, x43, x45, x52, xi28, x17, xi14, x41, x6, x32, x48, x28, xi20, xi26, xi50, x16, xi16, xi15, x2, x44, xi40, x14, xi47, xi22, xi41, xi33, x10, x9, x18, xi5, x34, x51, x5, x8, x21, x49, xi19, x30, xi37, x13, x38, x1, xi27, xi46, xi24, x20, x37, x50, xi25, xi44, xi36, xi9, x27, xi34, xi45, xi10, x42, xi8, xi12, x24, x19, x40, Li, x46, xi7, x33, x7}\n",
      "only in okay:  {x26, x31, x35, xi29, xi32, x15}\n",
      "only in sus:  set()\n"
     ]
    }
   ],
   "source": [
    "# test all pairs of relations\n",
    "all_sus_variables = []\n",
    "all_sus_pairs = []\n",
    "all_maybe_fine_variables = []\n",
    "x_vars = [g for name,g in H2.gens_dict().items() if name[0]=='x']\n",
    "\n",
    "linear_combo = lambda r1, r2: r1.coefficient(r1.monomials()[0])*r2.monomials()[0]*r1 + r2 \n",
    "\n",
    "for pair in itertools.combinations(monomial_relations+crossing_rel,2):\n",
    "    small_elimination_ideal = H2.ideal(pair).elimination_ideal(x_vars)\n",
    "    if small_elimination_ideal.gens().count(1) != 0:\n",
    "        rel1,rel2 = pair\n",
    "        print(rel1,\"\\t\",rel2)\n",
    "        lc12 = linear_combo(rel1,rel2)\n",
    "        lc21 = linear_combo(rel2,rel1)\n",
    "        #print(\"BAD: \", lc12.coefficient(lc12.monomials()[0]), \" vs \",lc21.coefficient(lc21.monomials()[0]))\n",
    "        for rel in pair:\n",
    "            for mon in rel.monomials():\n",
    "                all_sus_variables += A2(str(mon)).variables()\n",
    "        \n",
    "    else:\n",
    "        rel1,rel2 = pair\n",
    "        lc12 = linear_combo(rel1,rel2)\n",
    "        lc21 = linear_combo(rel2,rel1)\n",
    "        coeff12 = lc12.coefficient(lc12.monomials()[0])\n",
    "        coeff21 = lc21.coefficient(lc21.monomials()[0])\n",
    "        #if coeff12 == coeff21:\n",
    "        #print(\"OKAY: \",coeff12 , \" vs \",coeff21)\n",
    "        #else:\n",
    "        #    print(\"OKAY: \", (coeff12, lc12.constant_coefficient()),\" vs \",(coeff21,lc21.constant_coefficient()))\n",
    "        for rel in pair:\n",
    "            for mon in rel.monomials():\n",
    "                all_maybe_fine_variables += A2(str(mon)).variables()\n",
    "        #print(\"ZERO:  \",monomial_relations[i:i+2])\n",
    "\n",
    "sus_set = set(all_sus_variables)\n",
    "maybe_okay_set = set(all_maybe_fine_variables)\n",
    "print(\"sus: \",sus_set)\n",
    "print(\"maybe okay: \", maybe_okay_set)\n",
    "print(\"intersection: \", sus_set.intersection(maybe_okay_set))\n",
    "print(\"only in okay: \",maybe_okay_set.difference(sus_set))\n",
    "print(\"only in sus: \",sus_set.difference(maybe_okay_set))"
   ]
  },
  {
   "cell_type": "code",
   "execution_count": null,
   "id": "943fd4eb",
   "metadata": {},
   "outputs": [],
   "source": [
    "## Do it again but with all n-tuples of relations.\n",
    "\n",
    "all_sus_variables = []\n",
    "all_sus_pairs = []\n",
    "all_maybe_fine_variables = []\n",
    "x_vars = [g for name,g in H2.gens_dict().items() if name[0]=='x']\n",
    "linear_combo = lambda r1, r2: r1.coefficient(r1.monomials()[0])*r2.monomials()[0]*r1 + r2 \n",
    "\n",
    "for small_batch in itertools.combinations(monomial_relations,5):\n",
    "    small_elimination_ideal = H2.ideal(small_batch).elimination_ideal(x_vars)\n",
    "    if small_elimination_ideal.gens().count(1) != 0:\n",
    "        print(\"BAD! \",small_batch)\n",
    "        for rel in small_batch:\n",
    "            for mon in rel.monomials():\n",
    "                all_sus_variables += A2(str(mon)).variables()\n",
    "        \n",
    "    else:\n",
    "        for rel in small_batch:\n",
    "            for mon in rel.monomials():\n",
    "                all_maybe_fine_variables += A2(str(mon)).variables()\n",
    "\n",
    "sus_set = set(all_sus_variables)\n",
    "maybe_okay_set = set(all_maybe_fine_variables)\n",
    "print(\"sus: \",sus_set)\n",
    "print(\"maybe okay: \", maybe_okay_set)\n",
    "print(\"intersection: \", sus_set.intersection(maybe_okay_set))\n",
    "print(\"only in okay: \",maybe_okay_set.difference(sus_set))\n",
    "print(\"only in sus: \",sus_set.difference(maybe_okay_set))"
   ]
  },
  {
   "cell_type": "code",
   "execution_count": 28,
   "id": "ad35cddb",
   "metadata": {},
   "outputs": [
    {
     "name": "stdout",
     "output_type": "stream",
     "text": [
      "\n",
      " Thread monodromy!\n",
      "relations: [1/(q^9)*x1 - 1, 1/(q^6)*x2 - 1, 1/(q^9)*x3 - 1, 1/(q^6)*x4 - 1, 1/(q^3)*x5 - 1, 1/(q^3)*x6 - 1]\n",
      "elimination ideal:  (0,)\n",
      "\n",
      " Puncture monodromy!\n",
      "relations: [1/(q^3)*x40 - 1, 1/(q^3)*x41 - 1, 1/(q^3)*x42 - 1, 1/(q^3)*x43 - 1, 1/(q^3)*x44 - 1, 1/(q^3)*x45 - 1, 1/(q^3)*x46 - 1, 1/(q^3)*x47 - 1, 1/(q^3)*x48 - 1, 1/(q^3)*x49 - 1, 1/(q^3)*x50 - 1, 1/(q^3)*x7*x8*x9*x10*x11*x12*x13*x14*x15*x16*x17*x18*x19*x20*x21*x22*x23*x24*xi1*xi2*xi3*xi4*xi5*xi6*xi40*xi41*xi42*xi43*xi44*xi45*xi46*xi47*xi48*xi49*xi50 - 1]\n",
      "elimination ideal:  (0,)\n",
      "\n",
      " Short edge gluing:\n",
      "relations: [1/(q^4)*x7 - 1, 1/(q^4)*x8 - 1, 1/(q^4)*x9 - 1, 1/(q^4)*x10 - 1, 1/(q^4)*x11 - 1, 1/(q^4)*x12 - 1, 1/(q^4)*x13 - 1, 1/(q^4)*x14 - 1, 1/(q^4)*x15 - 1, 1/(q^4)*x16 - 1, 1/(q^4)*x17 - 1, 1/(q^4)*x18 - 1, 1/(q^4)*x19 - 1, 1/(q^4)*x20 - 1, 1/(q^4)*x21 - 1, 1/(q^4)*x22 - 1, 1/(q^4)*x23 - 1, 1/(q^4)*x24 - 1]\n",
      "elimination ideal:  (0,)\n",
      "\n",
      " crossing:\n",
      "relations:  [1/(q^4)*M^2*x7^2*x9*x10*x16^2*x19*x20*x21^2*x22^2*x24^2*x29*x30*x32*x38*x51^2*x52*Li*xi1*xi3*xi6*xi8*xi27*xi36^2*xi40^2*xi41*xi42^2*xi44^2*xi47^2*xi48^2 + 1/(q^3)*M^2*x4*x5*x7*x16*x21^2*x22*x24*x28*x29*x30*x33*x38*x41*x43*x45*x49*x50*x51^2*Li*xi3*xi8*xi11*xi13*xi14*xi17*xi20*xi23*xi27*xi36^2*xi37*xi42*xi44*xi47*xi48 - 1, 1/q*L*x2*x3^2*x4*x5*x6*x33*x37*x40*x41*x42*x43*x44^2*x45*x46^2*x47^2*x48^2*x49*Mi^4*xi7*xi8*xi9*xi10*xi11*xi12*xi13*xi16^2*xi18^2*xi19*xi20*xi21*xi22^2*xi23*xi24*xi25*xi26*xi28^2*xi30^2*xi34*xi35*xi51 + 1/(q^4)*L*x3^2*x9*x11*x14*x17*x20*x27*x32*x36*x37*x42*x44*x48*x52*Mi^2*xi1*xi4*xi7*xi10*xi16*xi21*xi22*xi26*xi28^2*xi30^2*xi31*xi34*xi38*xi41*xi45*xi50*xi51 - 1, q*M^2*x8^2*x9*x11*x12^2*x13^2*x14*x16*x17*x18^2*x20*x23*x24*x25*x28*x30*x34*x36*x39*xi2^2*xi3*xi4*xi5*xi33*xi37*xi38*xi41*xi43^2*xi45*xi46^2*xi47*xi49*xi50*xi51 + 1/(q^4)*x1*x3*x6*x14*x25*x39*x42*x44*x52*xi7*xi10*xi15*xi21*xi22*xi33*xi50*xi51 - 1]\n",
      "elimination ideal:  (0,)\n",
      "\n",
      " Long edge gluing:\n",
      "relations: [x25 - 1, x26 - 1, x27 - 1, x28 - 1, x29 - 1, x30 - 1, x31 - 1, x32 - 1, x33 - 1, x34 - 1, x35 - 1, x36 - 1, x37 - 1, x38 - 1, x39 - 1, x1*x25*x26*x28*x30*x34*x39*xi3*xi33*xi37 - 1, x2*x27*x35*x36*xi4*xi29*xi38 - 1, x6*x31*xi5*xi32 - 1]\n",
      "elimination ideal:  (0,)\n"
     ]
    }
   ],
   "source": [
    "\n",
    "# test just the thread monodromies\n",
    "print(\"\\n Thread monodromy!\")\n",
    "thread_monodromy_in_skmod = [QuantumAPolynomial.names_to_lattice_coordinate(rel,skmod.gens_dict) for rel in QuantumAPolynomial.get_internal_edge_monodromy(skmod.gens_dict)]\n",
    "thread_monodromy_relations = [get_g_alg_element_from_coord(c,inv_lattice.basis_matrix(),skmod.omega_with_q,H2)-1 for c in thread_monodromy_in_skmod]\n",
    "print(\"relations:\", thread_monodromy_relations)\n",
    "\n",
    "print(\"elimination ideal: \",H2.ideal(thread_monodromy_relations).elimination_ideal(x_vars).gens())\n",
    "\n",
    "# test just the puncture monodromies:\n",
    "print(\"\\n Puncture monodromy!\")\n",
    "puncture_monodromy_in_skmod = [QuantumAPolynomial.names_to_lattice_coordinate(rel,skmod.gens_dict) for rel in QuantumAPolynomial.get_T_monodromy_list(skmod.knot_comp,skmod.gens_dict)]\n",
    "puncture_monodromy_relations = [get_g_alg_element_from_coord(c,inv_lattice.basis_matrix(),skmod.omega_with_q,H2)-1 for c in puncture_monodromy_in_skmod]\n",
    "print(\"relations:\", puncture_monodromy_relations)\n",
    "\n",
    "print(\"elimination ideal: \",H2.ideal(puncture_monodromy_relations).elimination_ideal(x_vars).gens())\n",
    "\n",
    "# test just the short edge gluing relations\n",
    "print(\"\\n Short edge gluing:\")\n",
    "short_edge_in_skmod = [QuantumAPolynomial.names_to_lattice_coordinate(rel,skmod.gens_dict) for rel in skmod.short_edge_gluing_relations_list]\n",
    "short_edge_gluing_relations = [get_g_alg_element_from_coord(QuantumAPolynomial.names_to_lattice_coordinate(c,skmod.gens_dict),inv_lattice.basis_matrix(),skmod.omega_with_q,H2)-1 for c in skmod.short_edge_gluing_relations_list]\n",
    "print(\"relations:\", short_edge_gluing_relations)\n",
    "\n",
    "print(\"elimination ideal: \",H2.ideal(short_edge_gluing_relations).elimination_ideal(x_vars).gens())\n",
    "\n",
    "#test just the crossing relations\n",
    "print(\"\\n crossing:\")\n",
    "print(\"relations: \",crossing_rel)\n",
    "print(\"elimination ideal: \",H2.ideal(crossing_rel).elimination_ideal(x_vars).gens())\n",
    "\n",
    "#test just the long edge gluing relations:\n",
    "print(\"\\n Long edge gluing:\")\n",
    "long_edge_in_skmod = [QuantumAPolynomial.names_to_lattice_coordinate(rel,skmod.gens_dict) for rel in skmod.long_edge_gluing_relations_list]\n",
    "long_edge_gluing_relations = [get_g_alg_element_from_coord(QuantumAPolynomial.names_to_lattice_coordinate(c,skmod.gens_dict),inv_lattice.basis_matrix(),skmod.omega_with_q,H2)-1 for c in skmod.long_edge_gluing_relations_list]\n",
    "print(\"relations:\", long_edge_gluing_relations)\n",
    "\n",
    "print(\"elimination ideal: \",H2.ideal(long_edge_gluing_relations).elimination_ideal(x_vars).gens())"
   ]
  },
  {
   "cell_type": "code",
   "execution_count": null,
   "id": "97e641fa",
   "metadata": {},
   "outputs": [],
   "source": [
    "len(long_edge_in_skmod)"
   ]
  },
  {
   "cell_type": "code",
   "execution_count": null,
   "id": "e5bc8bb8",
   "metadata": {},
   "outputs": [],
   "source": [
    "H2.ideal(long_edge_gluing_relations+short_edge_gluing_relations+puncture_monodromy_relations+crossing_rel).elimination_ideal(x_vars)"
   ]
  },
  {
   "cell_type": "code",
   "execution_count": null,
   "id": "41531cdf",
   "metadata": {},
   "outputs": [],
   "source": []
  },
  {
   "cell_type": "code",
   "execution_count": null,
   "id": "031ea858",
   "metadata": {},
   "outputs": [],
   "source": [
    "# check combinations\n",
    "types = {\"thread\":thread_monodromy_relations,\"puncture\":puncture_monodromy_relations,\"short edge\":short_edge_gluing_relations,\"long edge\":long_edge_gluing_relations,\"crossing\":crossing_rel}\n",
    "for batch in itertools.combinations(types.items(),3):\n",
    "    this_batch_gens = []\n",
    "    this_batch_names = []\n",
    "    for name,rel in batch:\n",
    "        this_batch_names.append(name)\n",
    "        this_batch_gens += rel \n",
    "    \n",
    "    print(\"\\n\",\", \".join(this_batch_names),\":\")\n",
    "    print(H2.ideal(this_batch_gens).elimination_ideal(x_vars).gens())"
   ]
  },
  {
   "cell_type": "code",
   "execution_count": 52,
   "id": "01f41da6",
   "metadata": {
    "scrolled": true
   },
   "outputs": [
    {
     "data": {
      "text/plain": [
       "((q^3)*xi50 - 1,\n",
       " (q^3)*xi49 - 1,\n",
       " (q^3)*xi48 - 1,\n",
       " (q^3)*xi47 - 1,\n",
       " (q^3)*xi46 - 1,\n",
       " (q^3)*xi45 - 1,\n",
       " (q^3)*xi44 - 1,\n",
       " (q^3)*xi43 - 1,\n",
       " (q^3)*xi42 - 1,\n",
       " (q^3)*xi41 - 1,\n",
       " (q^3)*xi40 - 1,\n",
       " xi39 - 1,\n",
       " xi38 - 1,\n",
       " xi37 - 1,\n",
       " xi36 - 1,\n",
       " xi35 - 1,\n",
       " xi34 - 1,\n",
       " xi33 - 1,\n",
       " xi32 - 1,\n",
       " xi31 - 1,\n",
       " xi30 - 1,\n",
       " xi29 - 1,\n",
       " xi28 - 1,\n",
       " xi27 - 1,\n",
       " xi26 - 1,\n",
       " xi25 - 1,\n",
       " (q^4)*xi24 - 1,\n",
       " (q^4)*xi23 - 1,\n",
       " (q^4)*xi22 - 1,\n",
       " (q^4)*xi21 - 1,\n",
       " (q^4)*xi20 - 1,\n",
       " (q^4)*xi19 - 1,\n",
       " (q^4)*xi18 - 1,\n",
       " (q^4)*xi17 - 1,\n",
       " (q^4)*xi16 - 1,\n",
       " (q^4)*xi15 - 1,\n",
       " (q^4)*xi14 - 1,\n",
       " (q^4)*xi13 - 1,\n",
       " (q^4)*xi12 - 1,\n",
       " (q^4)*xi11 - 1,\n",
       " (q^4)*xi10 - 1,\n",
       " (q^4)*xi9 - 1,\n",
       " (q^4)*xi8 - 1,\n",
       " (q^4)*xi7 - 1,\n",
       " (q^3)*xi6 - 1,\n",
       " (q^3)*xi5 - 1,\n",
       " (q^6)*xi4 - 1,\n",
       " (q^9)*xi3 - 1,\n",
       " (q^6)*xi2 - 1,\n",
       " (q^9)*xi1 - 1,\n",
       " x50 + (-q^3),\n",
       " x49 + (-q^3),\n",
       " x48 + (-q^3),\n",
       " x47 + (-q^3),\n",
       " x46 + (-q^3),\n",
       " x45 + (-q^3),\n",
       " x44 + (-q^3),\n",
       " x43 + (-q^3),\n",
       " x42 + (-q^3),\n",
       " x41 + (-q^3),\n",
       " x40 + (-q^3),\n",
       " x39 - 1,\n",
       " x38 - 1,\n",
       " x37 - 1,\n",
       " x36 - 1,\n",
       " x35 - 1,\n",
       " x34 - 1,\n",
       " x33 - 1,\n",
       " x32 - 1,\n",
       " x31 - 1,\n",
       " x30 - 1,\n",
       " x29 - 1,\n",
       " x28 - 1,\n",
       " x27 - 1,\n",
       " x26 - 1,\n",
       " x25 - 1,\n",
       " x24 + (-q^4),\n",
       " x23 + (-q^4),\n",
       " x22 + (-q^4),\n",
       " x21 + (-q^4),\n",
       " x20 + (-q^4),\n",
       " x19 + (-q^4),\n",
       " x18 + (-q^4),\n",
       " x17 + (-q^4),\n",
       " x16 + (-q^4),\n",
       " x15 + (-q^4),\n",
       " x14 + (-q^4),\n",
       " x13 + (-q^4),\n",
       " x12 + (-q^4),\n",
       " x11 + (-q^4),\n",
       " x10 + (-q^4),\n",
       " x9 + (-q^4),\n",
       " x8 + (-q^4),\n",
       " x7 + (-q^4),\n",
       " x6 + (-q^3),\n",
       " x5 + (-q^3),\n",
       " x4 + (-q^6),\n",
       " x3 + (-q^9),\n",
       " x2 + (-q^6),\n",
       " x1 + (-q^9),\n",
       " x52*xi52 - 1,\n",
       " x51*xi51 - 1,\n",
       " L*Li - 1,\n",
       " M*Mi - 1)"
      ]
     },
     "execution_count": 52,
     "metadata": {},
     "output_type": "execute_result"
    }
   ],
   "source": [
    "H2.ideal(\n",
    "    thread_monodromy_relations\n",
    "    +puncture_monodromy_relations\n",
    "    +short_edge_gluing_relations\n",
    "    +long_edge_gluing_relations\n",
    "    +inverses_relations\n",
    ").std().gens()"
   ]
  },
  {
   "cell_type": "markdown",
   "id": "ce70fe51",
   "metadata": {},
   "source": [
    "## Test inter-relation dependencies"
   ]
  },
  {
   "cell_type": "code",
   "execution_count": 30,
   "id": "9cfe5929",
   "metadata": {},
   "outputs": [
    {
     "name": "stdout",
     "output_type": "stream",
     "text": [
      "(1, 1, 1, 1, 1, 1, 1, 1, 1, 1, 1, 1, 1, 1, 1, 1, 1, 1, -1, -1, -1, -1, -1, -1, -1, -1, -1, -1, -1, -1, -1, -1, -1, -1, -1, -1)\n",
      "If this isn't zero then there's a problem with the q-powers: 0\n"
     ]
    }
   ],
   "source": [
    "dependence_thread_puncture_short = matrix([v[1:] for v in thread_monodromy_in_skmod+puncture_monodromy_in_skmod+short_edge_in_skmod]).kernel().basis()[0]\n",
    "print(dependence_thread_puncture_short)\n",
    "print(\"If this isn't zero then there's a problem with the q-powers:\", matrix(thread_monodromy_in_skmod+puncture_monodromy_in_skmod+short_edge_in_skmod).linear_combination_of_rows(dependence_thread_puncture_short)[0])"
   ]
  },
  {
   "cell_type": "code",
   "execution_count": 44,
   "id": "ec6cc4e4",
   "metadata": {},
   "outputs": [
    {
     "name": "stdout",
     "output_type": "stream",
     "text": [
      "1/(q^72)*x1*x2*x3*x4*x5*x6*x7*x8*x9*x10*x11*x12*x13*x14*x15*x16*x17*x18*x19*x20*x21*x22*x23*x24*x40*x41*x42*x43*x44*x45*x46*x47*x48*x49*x50*xi1*xi2*xi3*xi4*xi5*xi6*xi40*xi41*xi42*xi43*xi44*xi45*xi46*xi47*xi48*xi49*xi50\n",
      "1/(q^72)*x7*x8*x9*x10*x11*x12*x13*x14*x15*x16*x17*x18*x19*x20*x21*x22*x23*x24\n"
     ]
    }
   ],
   "source": [
    "thread_puncture_short_list = thread_monodromy_relations+puncture_monodromy_relations+short_edge_gluing_relations\n",
    "print(reduce(H2.product,[(thread_puncture_short_list[i]+1)^dependence_thread_puncture_short[i] for i in range(len(dependence_thread_puncture_short)) if dependence_thread_puncture_short[i] > 0]))\n",
    "print(reduce(H2.product,[(thread_puncture_short_list[i]+1)^-dependence_thread_puncture_short[i] for i in range(len(dependence_thread_puncture_short)) if dependence_thread_puncture_short[i] < 0]))\n"
   ]
  },
  {
   "cell_type": "code",
   "execution_count": 31,
   "id": "cb58595d",
   "metadata": {},
   "outputs": [
    {
     "name": "stdout",
     "output_type": "stream",
     "text": [
      "just threads: (-36, 0, 0, 0, 0, 0, 0, 0, 0, 0, 0, 0, 0, 0, 0, 0, 0, 0, 0, 0, 0, 0, 0, 0, 0, 0, 0, 0, 0, 0, 0, 0, 0, 0, 0, 0, 0, 0, 0, 0, 0, 0, 0, 0, 0, 0, 0, 0, 0, 0, 0, 0, 0, 0, 0, 1, 1, 1, 1, 1, 1, 1, 1, 1, 1, 1, 1, 1, 1, 1, 1, 1, 1, 1, 1, 1, 1, 1, 1, 1, 1, 1, 1, 1, 1, 1, 1, 1, 1, 1, 1)\n",
      "just puncture: (-36, 1, 1, 1, 1, 1, 1, 1, 1, 1, 1, 1, 1, 0, 0, 0, 0, 0, 0, 1, 1, 1, 1, 1, 1, 1, 1, 1, 1, 1, 1, 0, 0, 0, 0, 0, 0, 1, 1, 1, 1, 1, 1, 1, 1, 1, 1, 1, 1, 0, 0, 0, 0, 0, 0, 0, 0, 0, 0, 0, 0, 0, 0, 0, 0, 0, 0, 0, 0, 0, 0, 0, 0, 0, 0, 0, 0, 0, 0, 0, 0, 0, 0, 0, 0, 0, 0, 0, 0, 0, 0)\n",
      "just short edge: (-72, 1, 1, 1, 1, 1, 1, 1, 1, 1, 1, 1, 1, 0, 0, 0, 0, 0, 0, 1, 1, 1, 1, 1, 1, 1, 1, 1, 1, 1, 1, 0, 0, 0, 0, 0, 0, 1, 1, 1, 1, 1, 1, 1, 1, 1, 1, 1, 1, 0, 0, 0, 0, 0, 0, 1, 1, 1, 1, 1, 1, 1, 1, 1, 1, 1, 1, 1, 1, 1, 1, 1, 1, 1, 1, 1, 1, 1, 1, 1, 1, 1, 1, 1, 1, 1, 1, 1, 1, 1, 1)\n"
     ]
    }
   ],
   "source": [
    "print(\"just threads:\", matrix(thread_monodromy_in_skmod).linear_combination_of_rows(vector([1 for v in thread_monodromy_in_skmod])))\n",
    "print(\"just puncture:\",matrix(puncture_monodromy_in_skmod).linear_combination_of_rows(vector([1 for v in puncture_monodromy_in_skmod])))\n",
    "print(\"just short edge:\",matrix(short_edge_in_skmod).linear_combination_of_rows(vector([1 for v in short_edge_in_skmod])))"
   ]
  },
  {
   "cell_type": "code",
   "execution_count": 32,
   "id": "eed0943b",
   "metadata": {},
   "outputs": [
    {
     "name": "stdout",
     "output_type": "stream",
     "text": [
      "number of thread relations: 6\n"
     ]
    }
   ],
   "source": [
    "print(\"number of thread relations:\",len(thread_monodromy_in_skmod))\n",
    "dependence_long_edges = matrix([v[1:] for v in thread_monodromy_in_skmod+long_edge_in_skmod]).kernel().basis()\n",
    "for dep in dependence_long_edges:\n",
    "    combination = matrix(thread_monodromy_in_skmod+long_edge_in_skmod).linear_combination_of_rows(dep)\n",
    "    if combination[0] != 0:\n",
    "        print(dep,\" is incompatible with q-powers!\")\n",
    "        print(\"power is:\", combination[0])"
   ]
  },
  {
   "cell_type": "code",
   "execution_count": null,
   "id": "53559816",
   "metadata": {},
   "outputs": [],
   "source": [
    "#print(matrix([v[1:] for v in thread_monodromy_in_skmod+puncture_monodromy_in_skmod+short_edge_in_skmod]))\n",
    "#for rel in thread_monodromy_in_skmod+puncture_monodromy_in_skmod+short_edge_in_skmod:\n",
    "#    print(get_g_alg_element_from_coord(rel,inv_lattice.basis_matrix(),skmod.omega_with_q,H2))\n",
    "    \n",
    "print(1/(q^7)*L*x5*x23*x24*x26*Mi*1/(q^6)*x32*1/(q^6)*x33*1/(q^6)*x34*q*x1*x2*x3*q*x4*x5*x6*x7*x8*x9*x10*x11*x12*q*x19*x20*Mi*q*x21*x22*x23*x24*x25*x26*x27)\n",
    "#print(1/(q^3)*L*x4*x5*x21*x23*x24*x26*Mi*1/(q^2)*x10*x24*x33*1/(q^2)*x7*x26*x32*1/(q^2)*x5*x19*1/(q^2)*x3*x25*1/(q^2)*x9*1/(q^2)*x6*x20*1/(q^2)*x2*x23*1/(q^2)*x11*x27*1/(q^2)*x8*Mi*1/(q^2)*x1*x22*1/(q^2)*x12*x34)\n",
    "\n",
    "factors = [\n",
    "    1/(q^3)*L*x4*x5*x21*x23*x24*x26*Mi,\n",
    "    1/(q^2)*x10*x24*x33,\n",
    "    1/(q^2)*x7*x26*x32,\n",
    "    1/(q^2)*x5*x19,\n",
    "    1/(q^2)*x3*x25,\n",
    "    1/(q^2)*x9,\n",
    "    1/(q^2)*x6*x20,\n",
    "    1/(q^2)*x2*x23,\n",
    "    1/(q^2)*x11*x27,\n",
    "    1/(q^2)*x8*Mi,\n",
    "    1/(q^2)*x1*x22,\n",
    "    1/(q^2)*x12*x34\n",
    "]\n",
    "factors.reverse()\n",
    "print(reduce(H2.product,factors))\n",
    "factors.reverse()\n",
    "print(reduce(H2.product,factors))\n",
    "#print(L*x5*x23*x24*x26*Mi*x32*x33*x34*x1*x2*x3*x4*x5*x6*x7*x8*x9*x10*x11*x12*x19*x20*Mi*x21*x22*x23*x24*x25*x26*x27)\n",
    "#print(L*x4*x5*x21*x23*x24*x26*Mi*x10*x24*x33*x7*x26*x32*x5*x19*x3*x25*x9*x6*x20*x2*x23*x11*x27*x8*Mi*x1*x22*x12*x34)"
   ]
  },
  {
   "cell_type": "code",
   "execution_count": null,
   "id": "9c9f664e",
   "metadata": {},
   "outputs": [],
   "source": [
    "#[H2.gen(i) in range(len(dependence_thread_puncture_short)):\n"
   ]
  },
  {
   "cell_type": "code",
   "execution_count": null,
   "id": "7397eba7",
   "metadata": {},
   "outputs": [],
   "source": [
    "print(\"thread, crossing:\\n\",H2.ideal(crossing_rel+thread_monodromy_relations).elimination_ideal(x_vars).gens())\n",
    "# check combinations\n",
    "types = {\"thread\":thread_monodromy_relations,\"puncture\":puncture_monodromy_relations,\"short edge\":short_edge_gluing_relations,\"long edge\":long_edge_gluing_relations,\"crossing\":crossing_rel}\n",
    "for batch in itertools.combinations(types.items(),4):\n",
    "    this_batch_gens = []\n",
    "    this_batch_names = []\n",
    "    for name,rel in batch:\n",
    "        this_batch_names.append(name)\n",
    "        this_batch_gens += rel \n",
    "    \n",
    "    print(\"\\n\",\", \".join(this_batch_names),\":\")\n",
    "    print(H2.ideal(this_batch_gens).elimination_ideal(x_vars).gens())"
   ]
  },
  {
   "cell_type": "code",
   "execution_count": null,
   "id": "c91ff79d",
   "metadata": {},
   "outputs": [],
   "source": [
    "# start running through the singular code\n",
    "from sage.misc.misc_c import prod\n",
    "\n",
    "def __call_singular(obj,cmd,arg = None):\n",
    "    from sage.libs.singular.function import singular_function\n",
    "    fun = singular_function(cmd)\n",
    "    if arg is None:\n",
    "        return fun(obj,ring=obj.ring())\n",
    "    return fun(obj,arg,ring=obj.ring())\n",
    "\n",
    "small_bad.ring().ideal(__call_singular(small_bad,'eliminate',arg=prod([x1])),side=small_bad.side())\n",
    "\n",
    "singular.ring(H2)"
   ]
  },
  {
   "cell_type": "code",
   "execution_count": null,
   "id": "17a6cdf2",
   "metadata": {},
   "outputs": [],
   "source": [
    "# david asked for this:\n",
    "print((x8*x9*x10)*(q*x11*x12*x13-1)+x8*x9*x10 - 1/q)\n",
    "print((x11*x12*x13)*(q*x8*x9*x10 - 1)+x11*x12*x13 - 1/q)"
   ]
  },
  {
   "cell_type": "code",
   "execution_count": null,
   "id": "d18551aa",
   "metadata": {},
   "outputs": [],
   "source": [
    "H2.ideal([q*x2*x3*x4 - 1,q*x22*x23*x24*xi1 - 1]).elimination_ideal([x5])"
   ]
  },
  {
   "cell_type": "code",
   "execution_count": null,
   "id": "f81b3f25",
   "metadata": {},
   "outputs": [],
   "source": [
    "sus_in_skalg = set()\n",
    "maybe_okay_in_skalg = set()\n",
    "for s in sus_set:\n",
    "    sus_in_skalg.update(set(get_skalg_name_from_g_alg(H2(s),inv_lattice.basis_matrix(),FA_gens_dict,skmod.gens_dict).keys()))\n",
    "\n",
    "for mo in maybe_okay_set:\n",
    "    maybe_okay_in_skalg.update(set(get_skalg_name_from_g_alg(H2(mo),inv_lattice.basis_matrix(),FA_gens_dict,skmod.gens_dict).keys()))\n",
    "\n",
    "print(\"sus: \",sus_in_skalg)\n",
    "print(\"maybe okay: \", maybe_okay_in_skalg)\n",
    "print(\"intersection: \", sus_in_skalg.intersection(maybe_okay_in_skalg))\n",
    "print(\"only in okay: \",maybe_okay_in_skalg.difference(sus_in_skalg))\n",
    "print(\"only in sus: \",sus_in_skalg.difference(maybe_okay_in_skalg))"
   ]
  },
  {
   "cell_type": "code",
   "execution_count": null,
   "id": "37d8d419",
   "metadata": {},
   "outputs": [],
   "source": [
    "get_skalg_name_from_g_alg?"
   ]
  },
  {
   "cell_type": "code",
   "execution_count": null,
   "id": "25bd57d5",
   "metadata": {},
   "outputs": [],
   "source": [
    "zero_example = H2.ideal([q*x2*x3*x4 - 1, q*x5*x6*x7*xi1 - 1])\n",
    "all_example = H2.ideal([x9*x19^2*x33*xi8*xi30 - 1, q*x2*x3*x4 - 1])"
   ]
  },
  {
   "cell_type": "code",
   "execution_count": null,
   "id": "ecc04260",
   "metadata": {},
   "outputs": [],
   "source": [
    "all_x = [g for name,g in H2.gens_dict().items() if name[0]=='x']\n",
    "print(\"eliminate x variables: \", zero_example.elimination_ideal(all_x).gens())\n",
    "print(\"eliminate x variables:\",all_example.elimination_ideal(all_x).gens())\n",
    "\n",
    "\n",
    "print(\"Groebner basis: \", zero_example.std().gens())\n",
    "print(\"Groebner basis: \", all_example.std().gens())"
   ]
  },
  {
   "cell_type": "code",
   "execution_count": null,
   "id": "056eb63d",
   "metadata": {},
   "outputs": [],
   "source": [
    "# small example - bad case\n",
    "sus_variables = [x9, x19, x33, xi8, xi30, x2, x3, x4]\n",
    "orig_relations = {}\n",
    "\n",
    "import itertools\n",
    "split_vars = lambda monomial : [A2(f) for f in str(monomial.lm()).split('*')]\n",
    "\n",
    "# build a dictionary of the original relations where they're non-commutative\n",
    "for g2,g1 in itertools.combinations(sus_variables,2):\n",
    "    if g1*g2 != g2*g1:\n",
    "        variables = split_vars(g1*g2)\n",
    "        variables.sort(reverse=True)\n",
    "        key_rel = A2.product(*variables)\n",
    "        orig_relations[key_rel] = H2.relations().get(key_rel)\n",
    "        \n",
    "        \n",
    "        \n",
    "get_skalg_name_from_g_alg(x4,inv_lattice.basis_matrix(),skmod.gens_dict)"
   ]
  },
  {
   "cell_type": "code",
   "execution_count": null,
   "id": "38668c3d",
   "metadata": {},
   "outputs": [],
   "source": [
    "# Try different relations.\n",
    "#TODO - this doesn't let me play with things we assume commute. I'm pretty confident about those on the level of the skein algebra, but here the rules are different.\n",
    "test_rel = {\n",
    "    A2('xi30')*A2('x9'): 1/q*A2('x9')*A2('xi30'), # OKAY\n",
    "    A2('xi8')*A2('x19'): q*A2('x19')*A2('xi8'), # OKAY\n",
    "    A2('xi30')*A2('x19'): q*A2('x19')*A2('xi30'), # OKAY\n",
    "    A2('x19')*A2('x2'): A2('x2')*A2('x19'), # this one breaks it! only q^0 works for q^-10 to q^10\n",
    "    A2('x19')*A2('x4'): A2('x4')*A2('x19'), # this one breaks it! only q^0 works for q^-10 to q^10\n",
    "    A2('xi30')*A2('x4'): A2('x4')*A2('xi30'), # this one breaks it! only q^0 works for q^-10 to q^10\n",
    "    A2('x3')*A2('x2'): 1/q*A2('x2')*A2('x3') # OKAY\n",
    "}\n",
    "\n",
    "test_rel_full = H2.relations()\n",
    "test_rel_full.update(test_rel)\n",
    "H2_test = A2.g_algebra(test_rel)\n",
    "\n",
    "H2_test.inject_variables()\n",
    "monomial_relations_test = [get_g_alg_element_from_coord(c,inv_lattice.basis_matrix(),skmod.omega_with_q,H2_test)-1 for c in skmod.monomial_relations]\n",
    "crossing_rel_test = [\n",
    "    reduce(H2_test.summation,\n",
    "           [-1]+[\n",
    "               get_g_alg_element_from_coord(mon,inv_lattice.basis_matrix(),skmod.omega_with_q,H2_test)\n",
    "               for mon in relation]\n",
    "          ) for relation in skmod.crossing_relations]\n",
    "inverses_relations_test = [H2_test(A2('M*Mi'))-1,H2_test(A2('L*Li'))-1]+[H2_test(A2('x{0}*xi{1}'.format(j,j)))-1 for j in range(1,dim_wo_q-2+1)]\n",
    "\n",
    "relations_ideal_test = H2_test.ideal(monomial_relations_test + crossing_rel_test+inverses_relations_test)\n",
    "\n",
    "# test with smaller ideal\n",
    "bad_ideal_test = H2_test.ideal([H2_test(A2('x9*x19^2*x33*xi8*xi30')) - 1, q*H2_test(A2('x2*x3*x4')) - 1])\n",
    "bad_ideal_test.std()"
   ]
  },
  {
   "cell_type": "code",
   "execution_count": null,
   "id": "807a5b8f",
   "metadata": {},
   "outputs": [],
   "source": [
    "print('x2: ',get_skalg_name_from_g_alg(x2,skmod.gens_dict))\n",
    "print('x4: ',get_skalg_name_from_g_alg(x4,skmod.gens_dict))\n",
    "print('x19: ',get_skalg_name_from_g_alg(x19,skmod.gens_dict))\n",
    "print('xi30: ',get_skalg_name_from_g_alg(xi30,skmod.gens_dict))"
   ]
  },
  {
   "cell_type": "code",
   "execution_count": null,
   "id": "6623303e",
   "metadata": {},
   "outputs": [],
   "source": []
  },
  {
   "cell_type": "code",
   "execution_count": null,
   "id": "301f907e",
   "metadata": {},
   "outputs": [],
   "source": [
    "test_rel_backup = {\n",
    "    A2('xi30')*A2('x9'): 1/q*A2('x9')*A2('xi30'),\n",
    "    A2('xi8')*A2('x19'): q*A2('x19')*A2('xi8'),\n",
    "    A2('xi30')*A2('x19'): q*A2('x19')*A2('xi30'),\n",
    "    A2('x19')*A2('x2'): q*A2('x2')*A2('x19'),\n",
    "    A2('x19')*A2('x4'): q*A2('x4')*A2('x19'),\n",
    "    A2('xi30')*A2('x4'): q*A2('x4')*A2('xi30'),\n",
    "    A2('x3')*A2('x2'): 1/q*A2('x2')*A2('x3')\n",
    "}"
   ]
  },
  {
   "cell_type": "code",
   "execution_count": null,
   "id": "6eed224b",
   "metadata": {},
   "outputs": [],
   "source": [
    "# compare to good cases\n",
    "fine_variables_1 = [x2, x3, x4, x5, x6, x7, xi1]\n",
    "for g2,g1 in itertools.combinations(fine_variables_1,2):\n",
    "    if not g1*g2==g2*g1:\n",
    "        print(g1*g2,g2*g1)\n",
    "        \n",
    "print(\"\\n\\n Second Example:\\n\")\n",
    "fine_variables_2 = [x3, x6, x8, x11, x21, x26, x29, Mi, Li, xi1, xi4, xi7, xi9, xi13, xi14, xi19, xi20, xi25, xi30, xi33, x3, x6, x13, x21, x23, x33, xi2, xi7, xi11, xi14, xi15, xi19, xi20, xi24, xi29, xi30]\n",
    "for g2,g1 in itertools.combinations(fine_variables_2,2):\n",
    "    if not g1*g2==g2*g1:\n",
    "        print(g1*g2,g2*g1)"
   ]
  },
  {
   "cell_type": "code",
   "execution_count": null,
   "id": "9517f5b5",
   "metadata": {},
   "outputs": [],
   "source": [
    "all_relations = H2.relations()\n",
    "all_relations"
   ]
  },
  {
   "cell_type": "markdown",
   "id": "eca97eb4",
   "metadata": {},
   "source": [
    "## back off debugging"
   ]
  },
  {
   "cell_type": "code",
   "execution_count": null,
   "id": "68cc24d0-d9ed-4728-b99c-2d461fc37284",
   "metadata": {},
   "outputs": [],
   "source": [
    "# This ideal should be generated by the quantum A-polynomial\n",
    "# it is infact (1).\n",
    "# The whole relations ideal isn't (1).\n",
    "# If I include either the monomial relations or the crossing relations I get (1).\n",
    "relations_ideal.elimination_ideal([g for name,g in H2.gens_dict().items() if name[0]=='x'])"
   ]
  },
  {
   "cell_type": "markdown",
   "id": "1c066145",
   "metadata": {},
   "source": [
    "## Commutative case"
   ]
  },
  {
   "cell_type": "code",
   "execution_count": null,
   "id": "67a76c60",
   "metadata": {},
   "outputs": [],
   "source": [
    "A_comm = FreeAlgebra(QQ,2*dim_wo_q,['M','L'] + ['x{}'.format(i) for i in range(1,dim_wo_q-2+1)]+['Mi','Li']+['xi{}'.format(i) for i in range(1,dim_wo_q-2+1)])\n",
    "H_comm = A_comm.g_algebra({})\n",
    "\n",
    "comm_monomial_relations = [get_g_alg_element_from_coord(c,inv_lattice.basis_matrix(),H_comm,qq_override_value=-1)-1 for c in skmod.monomial_relations]\n",
    "comm_crossing_rel = [\n",
    "    reduce(H_comm.summation,\n",
    "           [-1]+[\n",
    "               get_g_alg_element_from_coord(mon,inv_lattice.basis_matrix(),H_comm,qq_override_value=-1)\n",
    "               for mon in relation]\n",
    "          ) for relation in skmod.crossing_relations]\n",
    "comm_inverses_relations = [H_comm(A_comm('M*Mi'))-1,H_comm(A_comm('L*Li'))-1]+[H_comm(A_comm('x{0}*xi{1}'.format(j,j)))-1 for j in range(1,dim_wo_q-2+1)]\n",
    "\n",
    "comm_relations_ideal = H_comm.ideal(comm_monomial_relations + comm_crossing_rel + comm_inverses_relations)"
   ]
  },
  {
   "cell_type": "code",
   "execution_count": null,
   "id": "f97d0a74-661a-43d1-9136-8b7967f3bed1",
   "metadata": {},
   "outputs": [],
   "source": [
    "comm_all_example = H_comm.ideal([H_comm(A_comm('x9*x19^2*x33*xi8*xi30')) - 1, H_comm(A_comm('x2*x3*x4')) - 1])\n",
    "comm_all_example.std().gens()"
   ]
  },
  {
   "cell_type": "code",
   "execution_count": null,
   "id": "c9de60a5",
   "metadata": {},
   "outputs": [],
   "source": [
    "all_comm_x_variables = [g for name,g in H_comm.gens_dict().items() if name[0]=='x']"
   ]
  },
  {
   "cell_type": "code",
   "execution_count": null,
   "id": "ed4f32b9",
   "metadata": {},
   "outputs": [],
   "source": [
    "comm_relations_ideal.elimination_ideal([x1])"
   ]
  },
  {
   "cell_type": "code",
   "execution_count": null,
   "id": "51bb849e",
   "metadata": {},
   "outputs": [],
   "source": [
    "comm_relations_ideal.elimination_ideal(all_comm_x_variables)"
   ]
  },
  {
   "cell_type": "markdown",
   "id": "4489072b",
   "metadata": {},
   "source": [
    "# David Code"
   ]
  },
  {
   "cell_type": "code",
   "execution_count": null,
   "id": "80b59f37",
   "metadata": {},
   "outputs": [],
   "source": [
    "MLspan = t41.invariant_sublattice.span([t41.meridian,t41.longitude])\n",
    "dir(t41.invariant_sublattice)\n",
    "B=[t41.gens_dict['qrt2'],t41.meridian,t41.longitude]\n",
    "for b in t41.invariant_sublattice.basis():\n",
    "    if not b in span(B):\n",
    "        B.append(b)\n",
    "\n",
    "new_invariant_sublattice=t41.invariant_sublattice.submodule_with_basis(B)\n",
    "B.remove(t41.gens_dict['qrt2'])\n",
    "\n",
    "def vector_to_monomial(v):\n",
    "    assert v in t41.invariant_sublattice\n",
    "    gens_list=[]\n",
    "    for i in range(len(v)):\n",
    "        if v[i]>0:\n",
    "            gens_list.append(QuantumTorus.gen(i)^v[i])\n",
    "        if v[i]<0:\n",
    "            gens_list.append(QuantumTorus.gen(i+len(B))^-v[i])\n",
    "    return mul(gens_list)\n",
    "\n",
    "R.<A>=PolynomialRing(QQ)\n",
    "F=R.fraction_field()\n",
    "names = [\"M\",\"L\"] + ['x{}'.format(i) for i in range(len(B)-2)] + [\"Mi\",\"Li\"] + ['x{}i'.format(i) for i in range(len(B)-2)]\n",
    "QuantumTorusFA = FreeAlgebra(F,len(names),names)\n",
    "QuantumTorusFA.inject_variables()\n",
    "crossrels = {QuantumTorusFA(names[i])*QuantumTorusFA(names[j]): A^((matrix(B[i])*t41.omega_with_q*matrix(B[j]).transpose())[0,0])*QuantumTorusFA(names[j])*QuantumTorusFA(names[i]) for i in range(len(B)) for j in range(len(B)) if i>j} | {QuantumTorusFA(names[i+len(B)])*QuantumTorusFA(names[j+len(B)]): A^((matrix(B[i])*t41.omega_with_q*matrix(B[j]).transpose())[0,0])*QuantumTorusFA(names[j+len(B)])*QuantumTorusFA(names[i+len(B)]) for i in range(len(B)) for j in range(len(B)) if i>j} | {QuantumTorusFA(names[i+len(B)])*QuantumTorusFA(names[j]): A^((matrix(B[j])*t41.omega_with_q*matrix(B[i]).transpose())[0,0])*QuantumTorusFA(names[j])*QuantumTorusFA(names[i+len(B)]) for i in range(len(B)) for j in range(len(B))} \n",
    "QuantumTorus=QuantumTorusFA.g_algebra(crossrels)"
   ]
  }
 ],
 "metadata": {
  "kernelspec": {
   "display_name": "SageMath 9.5",
   "language": "sage",
   "name": "sagemath"
  },
  "language_info": {
   "codemirror_mode": {
    "name": "ipython",
    "version": 3
   },
   "file_extension": ".py",
   "mimetype": "text/x-python",
   "name": "python",
   "nbconvert_exporter": "python",
   "pygments_lexer": "ipython3",
   "version": "3.10.12"
  },
  "varInspector": {
   "cols": {
    "lenName": 16,
    "lenType": 16,
    "lenVar": 40
   },
   "kernels_config": {
    "python": {
     "delete_cmd_postfix": "",
     "delete_cmd_prefix": "del ",
     "library": "var_list.py",
     "varRefreshCmd": "print(var_dic_list())"
    },
    "r": {
     "delete_cmd_postfix": ") ",
     "delete_cmd_prefix": "rm(",
     "library": "var_list.r",
     "varRefreshCmd": "cat(var_dic_list()) "
    }
   },
   "types_to_exclude": [
    "module",
    "function",
    "builtin_function_or_method",
    "instance",
    "_Feature"
   ],
   "window_display": false
  }
 },
 "nbformat": 4,
 "nbformat_minor": 5
}
