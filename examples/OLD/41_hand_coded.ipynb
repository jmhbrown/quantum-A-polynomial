{
 "cells": [
  {
   "cell_type": "markdown",
   "metadata": {},
   "source": [
    "# Support and Setup"
   ]
  },
  {
   "cell_type": "markdown",
   "metadata": {},
   "source": [
    "## Relations matrix for tetrahedra\n",
    "Omega is the relations matrix for a 4-punctured sphere."
   ]
  },
  {
   "cell_type": "code",
   "execution_count": 2,
   "metadata": {
    "init_cell": true
   },
   "outputs": [],
   "source": [
    "# first do short edges around a puncture\n",
    "omega_short_one_puncture = matrix([\n",
    "    [ 0, 1,-1],\n",
    "    [-1, 0, 1],\n",
    "    [ 1,-1, 0]\n",
    "])\n",
    "omega_short = matrix.block_diagonal([omega_short_one_puncture]*4)\n",
    "\n",
    "# columns are A_1, ... , A_6\n",
    "omega_short_long = matrix([\n",
    "    [0,0,0,1,1,0],\n",
    "    [0,0,1,0,1,0],\n",
    "    [0,0,1,1,0,0],\n",
    "    #\n",
    "    [0,0,1,0,0,1],\n",
    "    [0,1,1,0,0,0],\n",
    "    [0,1,0,0,0,1],\n",
    "    #\n",
    "    [0,1,0,0,1,0],\n",
    "    [1,0,0,0,1,0],\n",
    "    [1,1,0,0,0,0],\n",
    "    #\n",
    "    [1,0,0,0,0,1],\n",
    "    [1,0,0,1,0,0],\n",
    "    [0,0,0,1,0,1]\n",
    "])\n",
    "\n",
    "\n",
    "\n",
    "# columns are a_11,a_12,...,a_41,a_42,a_42, A_1, ... , A_6\n",
    "omega = block_matrix([\n",
    "    [omega_short,omega_short_long],\n",
    "    [-omega_short_long.transpose(),0]\n",
    "])"
   ]
  },
  {
   "cell_type": "code",
   "execution_count": null,
   "metadata": {},
   "outputs": [],
   "source": [
    "omega"
   ]
  },
  {
   "cell_type": "markdown",
   "metadata": {},
   "source": [
    "## Helper methods"
   ]
  },
  {
   "cell_type": "code",
   "execution_count": 3,
   "metadata": {
    "init_cell": true
   },
   "outputs": [],
   "source": [
    "import functools\n",
    "\n",
    "# Get the short and long edges in vector form.\n",
    "def short_edge(i,j,power=1):\n",
    "    vec = [0]*18\n",
    "    vec[3*(i-1)+j-1] = power\n",
    "    return vec\n",
    "\n",
    "def long_edge(i,power=1):\n",
    "    vec = [0]*18\n",
    "    vec[11+i] = power\n",
    "    return vec\n",
    "\n",
    "def std_basis(i,dim,power=1):\n",
    "    # returns (0,...,0,power,0,...,0) in ZZ^dim\n",
    "    vec = [0]*dim\n",
    "    vec[i] = power\n",
    "    return vector(vec)\n",
    "\n",
    "# list + list is concatenation, here's a method to add lists termwise:\n",
    "# needs the library functools for reduce.\n",
    "def add_termwise(*args):\n",
    "    return list(reduce(lambda x,y: vector(x)+vector(y), args))\n",
    "\n",
    "# multiply_termwise(v,w) returns (v1*w1,...,vn*wn)\n",
    "def multiply_termwise(*args):\n",
    "    return reduce(lambda vec1, vec2: list(map(lambda x,y: x*y, vec1,vec2)), args)\n",
    "    \n",
    "\n",
    "def get_normal_ordering_power(term,relations=omega):\n",
    "    # :ab: = q^{-n}:a: :b:, if ab = q^{2n}ba\n",
    "    dim = len(vector(ZZ,term))\n",
    "    scalar_power = 0\n",
    "    for i in range(dim):\n",
    "        if not (term[i].is_zero() or vector(term[i+1:]).is_zero()):\n",
    "            leading_factor = vector([0]*dim)\n",
    "            leading_factor[i] = term[i]\n",
    "            trailing_terms = vector([0]*dim)\n",
    "            trailing_terms[i+1:] = term[i+1:]\n",
    "        \n",
    "            scalar_power -= (matrix(leading_factor)*relations*matrix(trailing_terms).transpose())[0]\n",
    "    return (scalar_power/2)[0]\n",
    "\n",
    "def add_normal_ordering_scalar(list_of_terms,relations=omega):\n",
    "    new_list_of_terms = list_of_terms\n",
    "    for term in new_list_of_terms:\n",
    "        term[0] += get_normal_ordering_power(term,relations)\n",
    "    return new_list_of_terms\n",
    "\n",
    "def dict_monomial_to_list(monomial):\n",
    "    coeff = LaurentPolynomialRing(ZZ,'qrt4')(list(monomial.values())[0])\n",
    "    if not coeff.is_monomial():\n",
    "        raise Exception('I can only deal with coefficients in the form q^a')\n",
    "    else:\n",
    "        lattice_coord = list(list(monomial.keys())[0])\n",
    "        lattice_coord[0] += coeff.degree()/2 # the coeff is in terms of qrt4, qrt4^4 = q\n",
    "        return lattice_coord"
   ]
  },
  {
   "cell_type": "code",
   "execution_count": null,
   "metadata": {},
   "outputs": [],
   "source": [
    "coeff_tmp = 'qrt4^3'\n",
    "LaurentPolynomialRing(ZZ,'qrt4')"
   ]
  },
  {
   "cell_type": "markdown",
   "metadata": {},
   "source": [
    "## Variables and spaces"
   ]
  },
  {
   "cell_type": "code",
   "execution_count": 4,
   "metadata": {
    "init_cell": true
   },
   "outputs": [],
   "source": [
    "# coefficients - helps translate from vectors to elements in the torus.\n",
    "\n",
    "# a11,a12,a13,a21,a22,a23,a31,a32,a33,a41,a42,a43,A1,A2,A3,A4,A5,A6 = var('a11','a12','a13','a21','a22','a23','a31','a32','a33','a41','a42','a43','A1','A2','A3','A4','A5','A6');\n",
    "# b11,b12,b13,b21,b22,b23,b31,b32,b33,b41,b42,b43,B1,B2,B3,B4,B5,B6 = var('b11','b12','b13','b21','b22','b23','b31','b32','b33','b41','b42','b43','B1','B2','B3','B4','B5','B6');\n",
    "# x1,x2,x3,x4,x5,x6,y1,y2,y3,y4,y5,y6,z1,z2,z3,z4,z5,z6,w1,w2,w3,w4,w5,w6 = var('x1','x2','x3','x4','x5','x6','y1','y2','y3','y4','y5','y6','z1','z2','z3','z4','z5','z6','w1','w2','w3','w4','w5','w6')\n",
    "R.<qrt4,a11,a12,a13,a21,a22,a23,a31,a32,a33,a41,a42,a43,A1,A2,A3,A4,A5,A6,b11,b12,b13,b21,b22,b23,b31,b32,b33,b41,b42,b43,B1,B2,B3,B4,B5,B6,x1,x2,x3,x4,x5,x6,y1,y2,y3,y4,y5,y6,z1,z2,z3,z4,z5,z6,w1,w2,w3,w4,w5,w6> = LaurentPolynomialRing(ZZ) #[q,a11,a12,a13,a21,a22,a23,a31,a32,a33,a41,a42,a43,A1,A2,A3,A4,A5,A6,b11,b12,b13,b21,b22,b23,b31,b32,b33,b41,b42,b43,B1,B2,B3,B4,B5,B6,x1,x2,x3,x4,x5,x6,y1,y2,y3,y4,y5,y6,z1,z2,z3,z4,z5,z6,w1,w2,w3,w4,w5,w6]\n",
    "q = var('q')\n",
    "qrt2 = var('qrt2')\n",
    "q = qrt4^4\n",
    "q = qrt2^2\n",
    "qrt2 = qrt4^2\n",
    "\n",
    "coeffs = matrix(R,[qrt2^2,a11,a12,a13,a21,a22,a23,a31,a32,a33,a41,a42,a43,A1,A2,A3,A4,A5,A6,b11,b12,b13,b21,b22,b23,b31,b32,b33,b41,b42,b43,B1,B2,B3,B4,B5,B6,x1,x2,x3,x4,x5,x6,y1,y2,y3,y4,y5,y6,z1,z2,z3,z4,z5,z6,w1,w2,w3,w4,w5,w6])\n",
    "\n",
    "Rnew.<qrt4,al21,al31,al01,al02,al32,al12,al30,al20,al10,al13,al23,al03,A03,A02,A12,A13,A01,A23,be21,be31,be01,be02,be32,be12,be30,be20,be10,be13,be23,be03,B03,B02,B12,B13,B01,B23,x1,x2,x3,x4,x5,x6,y1,y2,y3,y4,y5,y6,z1,z2,z3,z4,z5,z6,w1,w2,w3,w4,w5,w6> =LaurentPolynomialRing(ZZ)\n",
    "new_coeffs = matrix(Rnew,[qrt2^2,al21,al31,al01,al02,al32,al12,al30,al20,al10,al13,al23,al03,A03,A02,A12,A13,A01,A23,be21,be31,be01,be02,be32,be12,be30,be20,be10,be13,be23,be03,B03,B02,B12,B13,B01,B23,x1,x2,x3,x4,x5,x6,y1,y2,y3,y4,y5,y6,z1,z2,z3,z4,z5,z6,w1,w2,w3,w4,w5,w6])\n"
   ]
  },
  {
   "cell_type": "code",
   "execution_count": 5,
   "metadata": {
    "init_cell": true
   },
   "outputs": [],
   "source": [
    "# First q. The first lattice is in terms of qrt2 = q^(1/2)\n",
    "gens_dict = {'q': vector([2] + [0]*18 + [0]*18 + [0]*24)}\n",
    "\n",
    "# Then add edges for tet A\n",
    "gens_dict.update({\"a{0}{1}\".format(i,j): vector([0] + short_edge(i,j) + [0]*18 + [0]*24) for i in range(1,5) for j in range(1,4)})\n",
    "gens_dict.update({\"A{0}\".format(i) : vector([0] + long_edge(i) + [0]*18 + [0]*24) for i in range(1,7)})\n",
    "\n",
    "# Edges for tet B\n",
    "gens_dict.update({\"b{0}{1}\".format(i,j): vector([0] + [0]*18 + short_edge(i,j) + [0]*24) for i in range(1,5) for j in range(1,4)})\n",
    "gens_dict.update({\"B{0}\".format(i) : vector([0] + [0]*18 + long_edge(i) + [0]*24) for i in range(1,7)})\n",
    "\n",
    "# Finally the threads\n",
    "gens_dict.update({\"x{0}\".format(i+1): vector([0] + [0]*18 + [0]*18 + list(std_basis(i+0 ,24))) for i in range(6)})\n",
    "gens_dict.update({\"y{0}\".format(i+1): vector([0] + [0]*18 + [0]*18 + list(std_basis(i+6 ,24))) for i in range(6)})\n",
    "gens_dict.update({\"z{0}\".format(i+1): vector([0] + [0]*18 + [0]*18 + list(std_basis(i+12,24))) for i in range(6)})\n",
    "gens_dict.update({\"w{0}\".format(i+1): vector([0] + [0]*18 + [0]*18 + list(std_basis(i+18,24))) for i in range(6)})\n",
    "\n",
    "lex_order_41 = list(gens_dict.keys())\n",
    "lex_order_41[0] = 'qrt4'\n",
    "# shorthand:\n",
    "lat = gens_dict\n",
    "\n"
   ]
  },
  {
   "cell_type": "code",
   "execution_count": 6,
   "metadata": {
    "init_cell": true
   },
   "outputs": [],
   "source": [
    "# translating between new and old indices. these might change with the orientation convention for the tetrahedra\n",
    "# { 'new' : ['old',sign] }\n",
    "gens_map = {'q' : ['q',1],\n",
    "                 'al21' : ['a11', 1],\n",
    "                 'al31' : ['a12', 1],\n",
    "                 'al01' : ['a13', 1],\n",
    "                 'al02' : ['a21',1],\n",
    "                 'al32' : ['a22',1],\n",
    "                 'al12' : ['a23',1],\n",
    "                 'al30' : ['a31',1],\n",
    "                 'al20' : ['a32',1],\n",
    "                 'al10' : ['a33',1],\n",
    "                 'al13' : ['a41', 1],\n",
    "                 'al23' : ['a42', 1],\n",
    "                 'al03' : ['a43', 1],\n",
    "                 'A03' : ['A1',1],\n",
    "                 'A02' : ['A2',1],\n",
    "                 'A12' : ['A3',1],\n",
    "                 'A13' : ['A4',1],\n",
    "                 'A01' : ['A5',1],\n",
    "                 'A23' : ['A6',1],\n",
    "                 'be21' : ['b11', 1],\n",
    "                 'be31' : ['b12', 1],\n",
    "                 'be01' : ['b13', 1],\n",
    "                 'be02' : ['b21',1],\n",
    "                 'be32' : ['b22',1],\n",
    "                 'be12' : ['b23',1],\n",
    "                 'be30' : ['b31',1],\n",
    "                 'be20' : ['b32',1],\n",
    "                 'be10' : ['b33',1],\n",
    "                 'be13' : ['b41', 1],\n",
    "                 'be23' : ['b42', 1],\n",
    "                 'be03' : ['b43', 1],\n",
    "                 'B03' : ['B1',1],\n",
    "                 'B02' : ['B2',1],\n",
    "                 'B12' : ['B3',1],\n",
    "                 'B13' : ['B4',1],\n",
    "                 'B01' : ['B5',1],\n",
    "                 'B23' : ['B6',1],\n",
    "                }\n",
    "\n",
    "# include threads for safety.\n",
    "gens_map.update({'{0}{1}'.format(th,i) : ['{0}{1}'.format(th,i),1] for th in ['x','y','z','w'] for i in range(1,7)})\n",
    "\n",
    "def new_gens(new, translation=gens_map,old_lattice=gens_dict):\n",
    "    old = translation[new]\n",
    "    return old[1]*gens_dict[old[0]]\n"
   ]
  },
  {
   "cell_type": "code",
   "execution_count": null,
   "metadata": {},
   "outputs": [],
   "source": [
    "#print(list(gens_dict.keys()))\n",
    "\n",
    "for k,v in gens_dict.items():\n",
    "        if not k == str((coeffs*vector(v))[0]):\n",
    "            print(v)\n",
    "            print(k, \"and\", str((coeffs*vector(v))[0]),\" don't agree\")\n",
    "            \n"
   ]
  },
  {
   "cell_type": "markdown",
   "metadata": {},
   "source": [
    "# The 4_1 knot compelement"
   ]
  },
  {
   "cell_type": "markdown",
   "metadata": {},
   "source": [
    "## Relations for the complement"
   ]
  },
  {
   "cell_type": "markdown",
   "metadata": {
    "heading_collapsed": true
   },
   "source": [
    "### Thread relations"
   ]
  },
  {
   "cell_type": "code",
   "execution_count": 7,
   "metadata": {
    "hidden": true,
    "init_cell": true
   },
   "outputs": [],
   "source": [
    "omega_x_threads = matrix(ZZ,[\n",
    "    sum([vector(edge[1:18+18+1]) for edge in edges]) for edges in [\n",
    "        [new_gens('al03'),new_gens('al23'),-new_gens('be02'),-new_gens('be32'),lat['A4'],lat['B3']],\n",
    "        [new_gens('be02'),new_gens('be12'),-new_gens('al03'),-new_gens('al13'),lat['A6'],lat['B6']],\n",
    "        [new_gens('al02'),new_gens('al12'),-new_gens('be03'),-new_gens('be13'),lat['A6'],lat['B6']],\n",
    "        [new_gens('be03'),new_gens('be23'),-new_gens('al02'),-new_gens('al32'),lat['A3'],lat['B4']],\n",
    "        [new_gens('al01'),new_gens('al31'),-new_gens('be01'),-new_gens('be21'),lat['A3'],lat['B4']],\n",
    "        [new_gens('be01'),new_gens('be31'),-new_gens('al01'),-new_gens('al21'),lat['A4'],lat['B3']]\n",
    "    ]\n",
    "])\n",
    "\n",
    "omega_y_threads = matrix(ZZ,[\n",
    "    sum([vector(edge[1:18+18+1]) for edge in edges]) for edges in [\n",
    "        [new_gens('be02'),new_gens('be32'),-new_gens('al13'),-new_gens('al23'),lat['A1'],lat['B3']],\n",
    "        [new_gens('al03'),new_gens('al13'),-new_gens('be12'),-new_gens('be32'),lat['A6'],lat['B2']],\n",
    "        [new_gens('be10'),new_gens('be30'),-new_gens('al02'),-new_gens('al12'),lat['A6'],lat['B2']],\n",
    "        [new_gens('al12'),new_gens('al32'),-new_gens('be20'),-new_gens('be30'),lat['A2'],lat['B6']],\n",
    "        [new_gens('be21'),new_gens('be31'),-new_gens('al10'),-new_gens('al30'),lat['A2'],lat['B5']],\n",
    "        [new_gens('al10'),new_gens('al20'),-new_gens('be01'),-new_gens('be31'),lat['A1'],lat['B3']]\n",
    "    ]\n",
    "])\n",
    "\n",
    "omega_z_threads = matrix(ZZ,[\n",
    "    sum([vector(edge[1:18+18+1]) for edge in edges]) for edges in [\n",
    "        [new_gens('al13'),new_gens('al23'),-new_gens('be23'),-new_gens('be03'),lat['A1'],lat['B4']],\n",
    "        [new_gens('be23'),new_gens('be13'),-new_gens('al03'),-new_gens('al23'),lat['A4'],lat['B1']],\n",
    "        [new_gens('al01'),new_gens('al21'),-new_gens('be10'),-new_gens('be20'),lat['A4'],lat['B1']],\n",
    "        [new_gens('be20'),new_gens('be30'),-new_gens('al31'),-new_gens('al21'),lat['A5'],lat['B5']],\n",
    "        [new_gens('al20'),new_gens('al30'),-new_gens('be21'),-new_gens('be31'),lat['A5'],lat['B5']],\n",
    "        [new_gens('be01'),new_gens('be21'),-new_gens('al10'),-new_gens('al20'),lat['A1'],lat['B4']]\n",
    "    ]\n",
    "])\n",
    "\n",
    "omega_w_threads = matrix(ZZ,[\n",
    "    sum([vector(edge[1:18+18+1]) for edge in edges]) for edges in [\n",
    "        [new_gens('be03'),new_gens('be13'),-new_gens('al12'),-new_gens('al32'),lat['A2'],lat['B6']],\n",
    "        [new_gens('al02'),new_gens('al32'),-new_gens('be13'),-new_gens('be23'),lat['A3'],lat['B1']],\n",
    "        [new_gens('be10'),new_gens('be20'),-new_gens('al01'),-new_gens('al31'),lat['A3'],lat['B1']],\n",
    "        [new_gens('al21'),new_gens('al31'),-new_gens('be10'),-new_gens('be30'),lat['A5'],lat['B2']],\n",
    "        [new_gens('be12'),new_gens('be32'),-new_gens('al20'),-new_gens('al30'),lat['A5'],lat['B2']],\n",
    "        [new_gens('al10'),new_gens('al30'),-new_gens('be12'),-new_gens('be02'),lat['A2'],lat['B6']]\n",
    "    ]\n",
    "])\n",
    "\n",
    "omega_threads = block_matrix([[omega_x_threads],[omega_y_threads],[omega_z_threads],[omega_w_threads]])"
   ]
  },
  {
   "cell_type": "code",
   "execution_count": 8,
   "metadata": {
    "hidden": true,
    "init_cell": true
   },
   "outputs": [
    {
     "data": {
      "text/plain": [
       "True"
      ]
     },
     "execution_count": 8,
     "metadata": {},
     "output_type": "execute_result"
    }
   ],
   "source": [
    "omega_threads_threads = matrix(ZZ,[\n",
    "    # x1 - x6\n",
    "    vector(new_gens('y1'))-vector(new_gens('z2')),\n",
    "    vector(new_gens('y2'))-vector(new_gens('w6')),\n",
    "    vector(new_gens('w1'))-vector(new_gens('y3')),\n",
    "    vector(new_gens('w2'))-vector(new_gens('z1')),\n",
    "    vector(new_gens('z6'))-vector(new_gens('w3')),\n",
    "    vector(new_gens('z3'))-vector(new_gens('y6')),\n",
    "    # y1 - y6\n",
    "    vector(new_gens('z1'))-vector(new_gens('x1')),\n",
    "    vector(new_gens('w5'))-vector(new_gens('x2')),\n",
    "    vector(new_gens('x3'))-vector(new_gens('w4')),\n",
    "    vector(new_gens('z4'))-vector(new_gens('w1')),\n",
    "    vector(new_gens('w6'))-vector(new_gens('z5')),\n",
    "    vector(new_gens('x6'))-vector(new_gens('z6')),\n",
    "    # z1 - z6\n",
    "    vector(new_gens('x4'))-vector(new_gens('y1')),\n",
    "    vector(new_gens('x1'))-vector(new_gens('w2')),\n",
    "    vector(new_gens('w3'))-vector(new_gens('x6')),\n",
    "    vector(new_gens('w4'))-vector(new_gens('y4')),\n",
    "    vector(new_gens('y5'))-vector(new_gens('w5')),\n",
    "    vector(new_gens('y6'))-vector(new_gens('x5')),\n",
    "    # w1 - w6\n",
    "    vector(new_gens('y4'))-vector(new_gens('x3')),\n",
    "    vector(new_gens('z2'))-vector(new_gens('x4')),\n",
    "    vector(new_gens('x5'))-vector(new_gens('z3')),\n",
    "    vector(new_gens('y3'))-vector(new_gens('z4')),\n",
    "    vector(new_gens('z5'))-vector(new_gens('y2')),\n",
    "    vector(new_gens('x2'))-vector(new_gens('y5'))\n",
    "])[:,-24:]\n",
    "# check that it's skew symmetric\n",
    "omega_threads_threads.is_skew_symmetric()"
   ]
  },
  {
   "cell_type": "code",
   "execution_count": null,
   "metadata": {
    "hidden": true
   },
   "outputs": [],
   "source": [
    "for v in omega_threads_threads.kernel().basis():\n",
    "    #print out the kernel elements\n",
    "    print(matrix(Rnew,v)*(new_coeffs[:,-24:]).transpose())"
   ]
  },
  {
   "cell_type": "markdown",
   "metadata": {},
   "source": [
    "### Full relations matrix for the complement."
   ]
  },
  {
   "cell_type": "code",
   "execution_count": 9,
   "metadata": {
    "init_cell": true
   },
   "outputs": [
    {
     "name": "stdout",
     "output_type": "stream",
     "text": [
      "omega_41 is skew symmetric:  True\n",
      "Center is rank: 9\n"
     ]
    }
   ],
   "source": [
    "# Get the relations matrix, then its kernel\n",
    "omega_41_with_q = block_diagonal_matrix(matrix([0]),block_matrix([[block_diagonal_matrix(omega,omega),-omega_threads.transpose()],[omega_threads,omega_threads_threads]]))\n",
    "print(\"omega_41 is skew symmetric: \", omega_41_with_q.is_skew_symmetric())\n",
    "kernel_41 = omega_41_with_q.kernel().basis()\n",
    "\n",
    "print(\"Center is rank:\", omega_41_with_q.right_kernel_matrix().rank())"
   ]
  },
  {
   "cell_type": "code",
   "execution_count": 24,
   "metadata": {},
   "outputs": [
    {
     "data": {
      "image/png": "[encoded data removed]",
      "text/plain": [
       "Graphics object consisting of 1 graphics primitive"
      ]
     },
     "execution_count": 24,
     "metadata": {},
     "output_type": "execute_result"
    }
   ],
   "source": [
    "matrix_plot(omega_41_with_q)\n",
    "#omega_41_with_q.rows()"
   ]
  },
  {
   "cell_type": "markdown",
   "metadata": {},
   "source": [
    "## Taking invariants at gates.\n",
    "\n",
    "The weight function $\\mathbb{Z}^{61} \\to \\mathbb{Z}^{24}$ is given by a 24 by 61 matrix `weights_41`. Its right kernel is the invariant sublattice."
   ]
  },
  {
   "cell_type": "markdown",
   "metadata": {
    "heading_collapsed": true,
    "init_cell": true
   },
   "source": [
    "### Weight Matrix"
   ]
  },
  {
   "cell_type": "code",
   "execution_count": 10,
   "metadata": {
    "hidden": true,
    "init_cell": true
   },
   "outputs": [],
   "source": [
    "\n",
    "# first keep track of the ordering on the vertices. Need this to make a basis.\n",
    "vertex_index_list = [[k,i,j] for k in ['a','b'] for i in range(4) for j in range(4) if i != j]\n",
    "vertex_dict = {'V{0}{1}{2}'.format(*vertex_index_list[i]) : std_basis(i,len(vertex_index_list)) for i in range(len(vertex_index_list)) }\n",
    "#print(vertex_dict)\n",
    "\n",
    "# order on rows is q,a11, a12,...,a43,A1,...,A6,b11,...,B6,x1,x2,...,y's,z's,w's\n",
    "weights_41 = matrix(ZZ,[\n",
    "    [0]*24,\n",
    "    vertex_dict['Va21']-vertex_dict['Va31'], # a11 - al21\n",
    "    vertex_dict['Va31']-vertex_dict['Va01'], # a12 - al31\n",
    "    vertex_dict['Va01']-vertex_dict['Va21'], # a13 - al01\n",
    "    vertex_dict['Va02']-vertex_dict['Va32'], # a21 - al02\n",
    "    vertex_dict['Va32']-vertex_dict['Va12'], # a22 - al32\n",
    "    vertex_dict['Va12']-vertex_dict['Va02'], # a23 - al12\n",
    "    vertex_dict['Va30']-vertex_dict['Va20'], # a31 - al30\n",
    "    vertex_dict['Va20']-vertex_dict['Va10'], # a32 - al20\n",
    "    vertex_dict['Va10']-vertex_dict['Va30'], # a33 - al10\n",
    "    vertex_dict['Va13']-vertex_dict['Va23'], # a41 - al13\n",
    "    vertex_dict['Va23']-vertex_dict['Va03'], # a42 - al23\n",
    "    vertex_dict['Va03']-vertex_dict['Va13'], # a43 - al03\n",
    "    vertex_dict['Va10']+vertex_dict['Va23'], # A1 - A03\n",
    "    vertex_dict['Va30']+vertex_dict['Va12'], # A2 - A02\n",
    "    vertex_dict['Va32']+vertex_dict['Va01'], # A3 - A12\n",
    "    vertex_dict['Va21']+vertex_dict['Va03'], # A4 - A13\n",
    "    vertex_dict['Va20']+vertex_dict['Va31'], # A5 - A01\n",
    "    vertex_dict['Va13']+vertex_dict['Va02'], # A6 - A23\n",
    "    vertex_dict['Vb21']-vertex_dict['Vb31'], # b11 - be21\n",
    "    vertex_dict['Vb31']-vertex_dict['Vb01'], # b12 - be31\n",
    "    vertex_dict['Vb01']-vertex_dict['Vb21'], # b13 - be01\n",
    "    vertex_dict['Vb02']-vertex_dict['Vb32'], # b21 - be02\n",
    "    vertex_dict['Vb32']-vertex_dict['Vb12'], # b22 - be32\n",
    "    vertex_dict['Vb12']-vertex_dict['Vb02'], # b23 - be12\n",
    "    vertex_dict['Vb30']-vertex_dict['Vb20'], # b31 - be30\n",
    "    vertex_dict['Vb20']-vertex_dict['Vb10'], # b32 - be20\n",
    "    vertex_dict['Vb10']-vertex_dict['Vb30'], # b33 - be10\n",
    "    vertex_dict['Vb13']-vertex_dict['Vb23'], # b41 - be13\n",
    "    vertex_dict['Vb23']-vertex_dict['Vb03'], # b42 - be23\n",
    "    vertex_dict['Vb03']-vertex_dict['Vb13'], # b43 - be03\n",
    "    vertex_dict['Vb10']+vertex_dict['Vb23'], # B1 - B03\n",
    "    vertex_dict['Vb30']+vertex_dict['Vb12'], # B2 - B02\n",
    "    vertex_dict['Vb32']+vertex_dict['Vb01'], # B3 - B12\n",
    "    vertex_dict['Vb21']+vertex_dict['Vb03'], # B4 - B13\n",
    "    vertex_dict['Vb20']+vertex_dict['Vb31'], # B5 - B01\n",
    "    vertex_dict['Vb13']+vertex_dict['Vb02'], # B6 - B23\n",
    "    # x1,...,x6\n",
    "    vertex_dict['Vb32']-vertex_dict['Va03'],\n",
    "    vertex_dict['Va13']-vertex_dict['Vb02'],\n",
    "    vertex_dict['Vb13']-vertex_dict['Va02'],\n",
    "    vertex_dict['Va32']-vertex_dict['Vb03'],\n",
    "    vertex_dict['Vb21']-vertex_dict['Va01'],\n",
    "    vertex_dict['Va21']-vertex_dict['Vb01'],\n",
    "    # y1,...,y6\n",
    "    vertex_dict['Va23']-vertex_dict['Vb32'],\n",
    "    vertex_dict['Vb12']-vertex_dict['Va13'],\n",
    "    vertex_dict['Va02']-vertex_dict['Vb30'],\n",
    "    vertex_dict['Vb20']-vertex_dict['Va12'],\n",
    "    vertex_dict['Va30']-vertex_dict['Vb31'],\n",
    "    vertex_dict['Vb01']-vertex_dict['Va10'],\n",
    "    # z1,...,z6\n",
    "    vertex_dict['Vb03']-vertex_dict['Va23'],\n",
    "    vertex_dict['Va03']-vertex_dict['Vb23'],\n",
    "    vertex_dict['Vb10']-vertex_dict['Va21'],\n",
    "    vertex_dict['Va31']-vertex_dict['Vb20'],\n",
    "    vertex_dict['Vb31']-vertex_dict['Va20'],\n",
    "    vertex_dict['Va10']-vertex_dict['Vb21'],\n",
    "    # w1,...,w6\n",
    "    vertex_dict['Va12']-vertex_dict['Vb13'],\n",
    "    vertex_dict['Vb23']-vertex_dict['Va32'],\n",
    "    vertex_dict['Va01']-vertex_dict['Vb10'],\n",
    "    vertex_dict['Vb30']-vertex_dict['Va31'],\n",
    "    vertex_dict['Va20']-vertex_dict['Vb12'],\n",
    "    vertex_dict['Vb02']-vertex_dict['Va30']\n",
    "]).transpose()\n"
   ]
  },
  {
   "cell_type": "code",
   "execution_count": null,
   "metadata": {
    "code_folding": [],
    "hidden": true
   },
   "outputs": [],
   "source": [
    "# Looking at the center of the torus. These elements should all be weight zero!\n",
    "print(\"center is rank \",len(kernel_41))\n",
    "for v in kernel_41:\n",
    "    #print out the kernel elements\n",
    "    print(matrix(Rnew,v)*new_coeffs.transpose())\n",
    "    if not (weights_41*v).is_zero():\n",
    "        print(weights_41*v)\n",
    "    \n"
   ]
  },
  {
   "cell_type": "code",
   "execution_count": 125,
   "metadata": {
    "hidden": true
   },
   "outputs": [
    {
     "name": "stdout",
     "output_type": "stream",
     "text": [
      "weights dims: (24, 61) , relations dims: (61, 61)\n",
      "[  0  -1   1  -1   1   0  -1  10   0   0  -9   0   0   0   0  -1   0   0   2   0   0   0  -1   0]\n",
      "[  1   0  -1   0 -10   0   0   0   1  -1   1   9   0   0   0   1   0   1   0   0  -2   0   0   0]\n",
      "[ -1   1   0  -1   0   9   0   0 -10   0   1   1   0   0   0   0  -2   1   0   0   0   0   0   1]\n",
      "[  1   0   1   0   1  -1  -9  -1   0   9  -1   0   1  -1   0   0   1   0   0  -1   0   0   0   0]\n",
      "[ -1  10   0  -1   0   1   1   0   0   0  -1  -9   0  -1   2  -1   0  -2   1   0   0   0   1   0]\n",
      "[  0   0  -9   1  -1   0  -1  -1   9   1   0   1   0  -1  -1   0   1   0   0   0   1   0   0   0]\n",
      "[  1   0   0   9  -1   1   0  -1   1 -10   0   0  -2   0   0   0   0   0   0   0   0   0   1   1]\n",
      "[-10   0   0   1   0   1   1   0  -1   0   9  -1   0   0   0   1   0   0   0   0   0  -2   1   0]\n",
      "[  0  -1  10   0   0  -9  -1   1   0   1   0  -1   0   2   0   0   0  -1   0   0   0   0   0  -1]\n",
      "[  0   1   0  -9   0  -1  10   0  -1   0   1  -1   0   0   0   0   0   0   0   2   0   0  -1  -1]\n",
      "[  9  -1  -1   1   1   0   0  -9   0  -1   0   1   1   0   0   0   0   0  -1  -1   0   1   0   0]\n",
      "[  0  -9  -1   0   9  -1   0   1   1   1  -1   0   0   0  -1   0   0   0  -1   0   1   1   0   0]\n",
      "[  0   0   0  -1   0   0   2   0   0   0  -1   0   0  -1   1  -1   1   0  -1  10   0   0  -9   0]\n",
      "[  0   0   0   1   1   1   0   0  -2   0   0   0   1   0  -1   0 -10   0  -1   0   1  -1   1   9]\n",
      "[  0   0   0   0  -2   1   0   0   0   0   0   1  -1   1   0  -1   0   9   0   0 -10   0   1   1]\n",
      "[  1  -1   0   0   1   0   0  -1   0   0   0   0   1   0   1   0   1  -1  -9  -1   0   9  -1   0]\n",
      "[  0   0   2  -1   0  -1   0   0   0   0   0   0  -1  10   0  -1   0   1   1   0   0   0  -1  -9]\n",
      "[  0  -1  -1   0   2   0   0   0   1   0   0   0   0   0  -9   1  -1   0  -2  -1   9   1   0   1]\n",
      "[ -2   0   0   0  -1   0   0   0   0   0   1   1   1   1   0   9  -1   2   0  -1   1 -10  -1   0]\n",
      "[  0   0   0   1   0   0   0   0   0  -2   1   0 -10   0   0   1   0   1   1   0  -1   0   9  -1]\n",
      "[  0   2   0   0   0  -1   0   0   0   0   0  -1   0  -1  10   0   0  -9  -1   1   0   1   0  -1]\n",
      "[  0   0   0   0   0   0   0   2   0   0  -1  -1   0   1   0  -9   0  -1  10   0  -1   0   1  -1]\n",
      "[  1   0   0   0  -1   0  -1  -1   0   1   0   0   9  -1  -1   1   1   0   1  -9   0  -1   0   1]\n",
      "[  0   0  -1   0   0   0  -1   0   1   1   0   0   0  -9  -1   0   9  -1   0   1   1   1  -1   0]\n"
     ]
    }
   ],
   "source": [
    "# Scratch - looking for the relationship between the weight matrix and the relations matrix\n",
    "print(\"weights dims:\", weights_41.dimensions(), \", relations dims:\",omega_41_with_q.dimensions())\n",
    "print((weights_41*omega_41_with_q*(weights_41.transpose())).str())"
   ]
  },
  {
   "cell_type": "code",
   "execution_count": 124,
   "metadata": {
    "hidden": true
   },
   "outputs": [
    {
     "name": "stdout",
     "output_type": "stream",
     "text": [
      "[ 5  0  0  0  0  0  0 -1  0  0 -1  1  0  0  0 -1  0  0  0 -1  0  0  0  0]\n",
      "[ 0  5  0  0 -1  1  0  0  0  0  0 -1  0  0  0  0  0 -1  0  0  0 -1  0  0]\n",
      "[ 0  0  5  0  0 -1  0  1 -1  0  0  0  0  0  0  0  0  0  0  0 -1  0  0 -1]\n",
      "[ 0  0  0  5  0  0 -1  0  1 -1  0  0 -1  0  0  0  0  0  0 -1  0  0  0  0]\n",
      "[ 0 -1  0  0  5  0  0  0  0  1  0 -1  0  0  0  0  0 -1 -1  0  0  0  0  0]\n",
      "[ 0  1 -1  0  0  5  0  0 -1  0  0  0  0 -1  0  0 -1  0  0  0  0  0  0  0]\n",
      "[ 0  0  0 -1  0  0  5  0  0 -1  1  0  0  0  0  0 -1  0  0  0  0  0 -1  0]\n",
      "[-1  0  1  0  0  0  0  5  0  0 -1  0 -1  0  0 -1  0  0  0  0  0  0  0  0]\n",
      "[ 0  0 -1  1  0 -1  0  0  5  0  0  0  0  0 -1  0  0  0  0  0  0  0  0 -1]\n",
      "[ 0  0  0 -1  1  0 -1  0  0  5  0  0  0 -1  0  0  0  0  0  0  0  0 -1  0]\n",
      "[-1  0  0  0  0  0  1 -1  0  0  5  0  0  0  0  0  0  0 -1  0  0 -1  0  0]\n",
      "[ 1 -1  0  0 -1  0  0  0  0  0  0  5  0  0 -1  0  0  0  0  0 -1  0  0  0]\n",
      "[ 0  0  0 -1  0  0  0 -1  0  0  0  0  5  0  0  0  0  0  0 -1  0  0 -1  1]\n",
      "[ 0  0  0  0  0 -1  0  0  0 -1  0  0  0  5  0  0 -1  1  0  0  0  0  0 -1]\n",
      "[ 0  0  0  0  0  0  0  0 -1  0  0 -1  0  0  5  0  0 -1  0  1 -1  0  0  0]\n",
      "[-1  0  0  0  0  0  0 -1  0  0  0  0  0  0  0  5  0  0 -1  0  1 -1  0  0]\n",
      "[ 0  0  0  0  0 -1 -1  0  0  0  0  0  0 -1  0  0  5  0  0  0  0  1  0 -1]\n",
      "[ 0 -1  0  0 -1  0  0  0  0  0  0  0  0  1 -1  0  0  5  0  0 -1  0  0  0]\n",
      "[ 0  0  0  0 -1  0  0  0  0  0 -1  0  0  0  0 -1  0  0  5  0  0 -1  1  0]\n",
      "[-1  0  0 -1  0  0  0  0  0  0  0  0 -1  0  1  0  0  0  0  5  0  0 -1  0]\n",
      "[ 0  0 -1  0  0  0  0  0  0  0  0 -1  0  0 -1  1  0 -1  0  0  5  0  0  0]\n",
      "[ 0 -1  0  0  0  0  0  0  0  0 -1  0  0  0  0 -1  1  0 -1  0  0  5  0  0]\n",
      "[ 0  0  0  0  0  0 -1  0  0 -1  0  0 -1  0  0  0  0  0  1 -1  0  0  5  0]\n",
      "[ 0  0 -1  0  0  0  0  0 -1  0  0  0  1 -1  0  0 -1  0  0  0  0  0  0  5]\n"
     ]
    }
   ],
   "source": [
    "print((weights_41*(weights_41.transpose())).str())"
   ]
  },
  {
   "cell_type": "code",
   "execution_count": 94,
   "metadata": {
    "hidden": true
   },
   "outputs": [
    {
     "name": "stdout",
     "output_type": "stream",
     "text": [
      "(-1)\n",
      "x1 : (-y1 - z2)\n",
      "x2 : (-y2 - w6)\n",
      "x3 : (-y3 - w1)\n",
      "x4 : (-z1 - w2)\n",
      "x5 : (-z6 - w3)\n",
      "x6 : (-y6 - z3)\n",
      "y1 : (-x1 - z1)\n",
      "y2 : (-x2 - w5)\n",
      "y3 : (-x3 - w4)\n",
      "y4 : (-z4 - w1)\n",
      "y5 : (-z5 - w6)\n",
      "y6 : (-x6 - z6)\n",
      "z1 : (-x4 - y1)\n",
      "z2 : (-x1 - w2)\n",
      "z3 : (-x6 - w3)\n",
      "z4 : (-y4 - w4)\n",
      "z5 : (-y5 - w5)\n",
      "z6 : (-x5 - y6)\n",
      "w1 : (-x3 - y4)\n",
      "w2 : (-x4 - z2)\n",
      "w3 : (-x5 - z3)\n",
      "w4 : (-y3 - z4)\n",
      "w5 : (-y2 - z5)\n",
      "w6 : (-x2 - y5)\n"
     ]
    }
   ],
   "source": [
    "print(matrix(weights_41*lat['z2'])*(weights_41*lat['x1']))\n",
    "#print(coeffs*(lat['a11']*(weights_41.transpose()*weights_41-2*matrix.identity(61))))\n",
    "#print(coeffs*(lat['a11']*(weights_41.transpose()*weights_41)))\n",
    "for i in range(61-24,61):\n",
    "    th = std_basis(i,61)\n",
    "    print((new_coeffs*th)[0],\":\", (new_coeffs[:,-24:])*((th*(weights_41.transpose()*weights_41-2*matrix.identity(61)))[-24:]))\n"
   ]
  },
  {
   "cell_type": "code",
   "execution_count": 11,
   "metadata": {
    "hidden": true,
    "init_cell": true
   },
   "outputs": [
    {
     "name": "stdout",
     "output_type": "stream",
     "text": [
      "Rank of invariant sublattice: 37\n",
      "[qrt4^4]\n",
      "[al21 - be10 + z3 - w4]\n",
      "[al31 + be10 + w3 + w4]\n",
      "[al01 - z3 - w3]\n",
      "[al02 + be03 + x4 - y3 - y4 - z4 - w1 - w4]\n",
      "[al32 - be03 - x4 + w1]\n",
      "[al12 + y3 + y4 + z4 + w4]\n",
      "[al30 - y5 - z5]\n",
      "[al20 - be03 + B13 - B23 + y5 + z5 + z6 + w6]\n",
      "[al10 + be03 - B13 + B23 - z6 - w6]\n",
      "[al13 - be10 + B13 - B23 + x6 + y2 - y4 + y5 + y6 - z1 + z3 - z4 + z5 + z6 - w1 - w4 + w5 + w6]\n",
      "[al23 + x4 + z1 + z2 + w2]\n",
      "[al03 + be10 - B13 + B23 - x4 - x6 - y2 + y4 - y5 - y6 - z2 - z3 + z4 - z5 - z6 + w1 - w2 + w4 - w5 - w6]\n",
      "[A03 - B13 + z1 - z6]\n",
      "[A02 - B23 - w1 + w6]\n",
      "[A12 - B13 - x4 - x6 - y6 - z3 - z6 - w3]\n",
      "[A13 - B13 - x4 - x6 - y6 - z2 - z6 - w2]\n",
      "[A01 - B23 - y4 + y5 - z4 + z5 - w1 + w6]\n",
      "[A23 - B23 + y2 - y3 - y4 + y5 - z4 + z5 - w1 - w4 + w5 + w6]\n",
      "[be21 + be03 - B13 + B23 - y5 - w6]\n",
      "[be31 - be03 + B13 - B23 + y5 + y6 + z6 + w6]\n",
      "[be01 - y6 - z6]\n",
      "[be02 - be10 + B13 - B23 + x6 - y1 - y4 + y6 - z1 + z3 - z4 + z6 - w1 - w4]\n",
      "[be32 + be10 - B13 + B23 - x6 + y1 + y4 - y5 - y6 + z1 - z3 + z4 - z5 - z6 + w1 + w4 - w5 - w6]\n",
      "[be12 + y5 + z5 + w5 + w6]\n",
      "[be30 - z4 - w4]\n",
      "[be20 + be10 + z4 + w4]\n",
      "[be13 + be03 + x4 + w2]\n",
      "[be23 - x4 - w2]\n",
      "[B03 - B13 - x4 - x6 - y6 - z3 - z6 - w2]\n",
      "[B02 - B23 - y4 + y5 - z4 + z5 - w1 - w4 + w5 + w6]\n",
      "[B12 - B13 + y1 - y6 + z1 - z6]\n",
      "[B01 - B23 - y4 + y5 - w1 + w6]\n",
      "[x1 + x4 + y1 + z1 + z2 + w2]\n",
      "[x2 + y2 + y5 + z5 + w5 + w6]\n",
      "[x3 + y3 + y4 + z4 + w1 + w4]\n",
      "[x5 + x6 + y6 + z3 + z6 + w3]\n"
     ]
    }
   ],
   "source": [
    "# The right kernel is the sublattice of invariants with respect to the T-action at all 24 gates.\n",
    "invariant_sublattice_41 = weights_41.right_kernel()\n",
    "print(\"Rank of invariant sublattice:\", invariant_sublattice_41.rank())\n",
    "\n",
    "for v in invariant_sublattice_41.basis():\n",
    "    #print out the kernel elements\n",
    "    print(matrix(Rnew,v)*new_coeffs.transpose())"
   ]
  },
  {
   "cell_type": "markdown",
   "metadata": {},
   "source": [
    "## Quotients\n",
    "\n",
    "Any quotient of the form $M^{x} = 1$ in the quantum torus can be expressed in terms of the lattice as $x = 0$. We want to quotient by\n",
    "1. Monodromy at each of the 8 punctures\n",
    "1. The gluing constraints, 6 from each face so 24 total.\n",
    "1. Monodromy around the long edge handles - looks like there are 2 from each edge so 4 total.\n",
    "1. The great circle relations, 1 from each tetrahedron so 2 total.\n",
    "\n",
    "The first three types of relations are monomial. I expect to get a lattice of rank 3 once those are imposed. The last relation will have to be done in terms of the quantum torus, not the lattice.\n"
   ]
  },
  {
   "cell_type": "markdown",
   "metadata": {
    "heading_collapsed": true
   },
   "source": [
    "### Quotient by kernel (scratch)"
   ]
  },
  {
   "cell_type": "code",
   "execution_count": null,
   "metadata": {
    "hidden": true
   },
   "outputs": [],
   "source": [
    "#quotient_by_kernel_41 = invariant_sublattice_41.quotient(kernel_41)\n",
    "#print(\"Dimension of invariant sublattice quotient by central elements:\", quotient_by_kernel_41.ngens())\n",
    "#W = quotient_by_kernel_41.W()\n",
    "#V = quotient_by_kernel_41.V()\n",
    "#pi = (V/W).quotient_map()\n",
    "#for g in (V/W).gens():\n",
    "#    print(coeffs*vector(R,list((V/W).lift(g))))"
   ]
  },
  {
   "cell_type": "markdown",
   "metadata": {},
   "source": [
    "### Monodromy and Gluing Quotients"
   ]
  },
  {
   "cell_type": "code",
   "execution_count": 12,
   "metadata": {
    "init_cell": true
   },
   "outputs": [],
   "source": [
    "%run ../quantum_tori.ipynb"
   ]
  },
  {
   "cell_type": "code",
   "execution_count": 13,
   "metadata": {
    "init_cell": true
   },
   "outputs": [
    {
     "name": "stdout",
     "output_type": "stream",
     "text": [
      "Checking Gluing Constraints:\n",
      "Checking Monodromy Constraints:\n"
     ]
    }
   ],
   "source": [
    "# We'll want to check what's in the kernel:\n",
    "#kernel_space_41 = invariant_sublattice_41.subspace(kernel_41)\n",
    "\n",
    "# Make the gluing constraints in a form where the power of q is tracked properly:\n",
    "qrt2 = qrt4^2\n",
    "\n",
    "list_of_gluing_constraints_41 = [ # first short edges. The loop is q^(-1) x2 a11 x1 b43 and set equal to q^(-1)\n",
    "    # the order depends on the orientation around the loop.\n",
    "    dict_monomial_to_list(constraint) for constraint in [\n",
    "        scale_polynomial(multiply_lattice_monomials(new_gens(thread1),new_gens(edgeA),new_gens(thread2),new_gens(edgeB),relations=omega_41_with_q),q^(0))\n",
    "        for thread1,edgeA,thread2,edgeB in [\n",
    "            ('x2','al03','x1','be02'),\n",
    "            ('x4','al02','x3','be03'),\n",
    "            ('x6','al01','x5','be01'),\n",
    "            ('y1','al13','y2','be32'),\n",
    "            ('y3','al12','y4','be30'),\n",
    "            ('y5','al10','y6','be31'),\n",
    "            ('z2','al23','z1','be23'),\n",
    "            ('z4','al21','z3','be20'),\n",
    "            ('z6','al20','z5','be21'),\n",
    "            ('w1','al32','w2','be13'),\n",
    "            ('w3','al31','w4','be10'),\n",
    "            ('w5','al30','w6','be12')\n",
    "        ]\n",
    "    ]\n",
    "] + [ # then long edges. These get set to 1. It's :x2 A4:(:x3 B6:)^{-1} = 1.\n",
    "    dict_monomial_to_list(constraint) for constraint in [ \n",
    "        multiply_polynomials({ tuple(new_gens(thread1)+new_gens(edgeA)):1 },{tuple(-new_gens(thread2)-new_gens(edgeB)):1},relations=omega_41_with_q)\n",
    "        for thread1,edgeA,thread2,edgeB in [\n",
    "            ('x2','B23','x3','A23'),\n",
    "            ('x4','B13','x5','A12'),\n",
    "            ('x6','B12','x1','A13'),\n",
    "            ('y2','A23','y3','B02'),\n",
    "            ('y4','A02','y5','B01'),\n",
    "            ('y6','A03','y1','B12'),\n",
    "            ('z2','B03','z3','A13'),\n",
    "            ('z4','B01','z5','A01'),\n",
    "            ('z6','B13','z1','A03'),\n",
    "            ('w2','A12','w3','B03'),\n",
    "            ('w4','A01','w5','B02'),\n",
    "            ('w6','A02','w1','B23')\n",
    "        ]\n",
    "    ]\n",
    "]\n",
    "\n",
    "# check that these are T^{24}-invariant and central:\n",
    "print(\"Checking Gluing Constraints:\")\n",
    "for constraint in list_of_gluing_constraints_41:\n",
    "    v = weights_41*vector(constraint)\n",
    "    if not v.is_zero():  print(\"Not Invariant!:\", new_coeffs*matrix(Rnew,constraint).transpose())\n",
    "#    if not (invariant_sublattice_41.subspace([constraint])).is_subspace(kernel_space_41): print(\"Not in kernel:\", constraint)\n",
    "\n",
    "\n",
    "# Monodromy: The loop around the puncture is q^(-1/2) a1p a2p a3p. If it's set to q^(-1/2), then I need to quotient by ap1 ap2 ap3 = q^(0)\n",
    "    \n",
    "list_of_monodromy_constraints_41 = [ dict_monomial_to_list(constraint) for constraint in [ \n",
    "    scale_polynomial(multiply_lattice_monomials(new_gens(edge1),new_gens(edge2),new_gens(edge3),relations=omega_41_with_q),q^(0))\n",
    "    for edge1,edge2,edge3 in [\n",
    "            ('al10','al20','al30'),\n",
    "            ('al01','al21','al31'),\n",
    "            ('al02','al12','al32'),\n",
    "            ('al03','al13','al23'),\n",
    "            ('be10','be20','be30'),\n",
    "            ('be01','be21','be31'),\n",
    "            ('be02','be12','be32'),\n",
    "            ('be03','be13','be23'),\n",
    "        ]\n",
    "    ]\n",
    "]\n",
    "\n",
    "# check that these are T^{24}-invariant\n",
    "print(\"Checking Monodromy Constraints:\")\n",
    "for constraint in list_of_monodromy_constraints_41:\n",
    "    v = weights_41*vector(constraint)\n",
    "    if not v.is_zero():  print(\"Not Invariant!:\", new_coeffs*matrix(Rnew,constraint).transpose())\n",
    "    # to check if they're central. I don't think they should be.\n",
    "    #if not (invariant_sublattice_41.subspace([constraint])).is_subspace(kernel_space_41): print(\"Not in kernel:\", constraint)\n",
    "    \n",
    "# Take the quotient!\n",
    "#quotient_41 = invariant_sublattice_41.quotient(list_of_monodromy_constraints_41+list_of_gluing_constraints_41)\n",
    "\n",
    "#print(\"Ambient space dimensions:\",invariant_sublattice_41.dimension())\n",
    "#print(\"Constraint space dimensions:\",invariant_sublattice_41.subspace(list_of_monodromy_constraints_41+list_of_gluing_constraints_41).dimension())\n",
    "#print(\"Quotient ngens:\",quotient_41.ngens())"
   ]
  },
  {
   "cell_type": "code",
   "execution_count": null,
   "metadata": {},
   "outputs": [],
   "source": [
    "# Checking q-powers for the long edge thread relations\n",
    "A = [0] + long_edge(6,1)+long_edge(3,0)+[0]*24\n",
    "th1 = [0] + long_edge(6,0)+long_edge(3,0)+list(y4vec)\n",
    "B = [0] + long_edge(6,0)+long_edge(3,1)+[0]*24\n",
    "th2 = [0] + long_edge(6,0)+long_edge(3,0)+list(y5vec)\n",
    "\n",
    "def multiply(m,n,relations=omega_41_with_q):\n",
    "    q_power = (vector(m)*relations*matrix(n).transpose())[0]\n",
    "    return add_termwise([q_power]+[0]*(18+18+24),m,n)\n",
    "\n",
    "\n",
    "\n",
    "print(matrix(multiply(A,th1))*coeffs.transpose())\n",
    "print(matrix(multiply(B,th2))*coeffs.transpose())\n",
    "print(matrix(multiply(multiply(A,th1),multiply(-vector(th2),-vector(B))))*coeffs.transpose())\n",
    "\n",
    "print(matrix(multiply([0]+short_edge(1,3)+[0]*(18+24),multiply([0]+short_edge(1,2)+[0]*(18+24),[0]+short_edge(1,1)+[0]*(18+24))))*coeffs.transpose())\n",
    "print(get_normal_ordering_power([0]+short_edge(1,1)+short_edge(4,3)+list(x2vec+x1vec),omega_41_with_q))\n",
    "# b43 x1 a11 x2\n",
    "print(multiply(multiply([0] + [0]*18+short_edge(4,3)+[0]*24,[0] + [0]*36+list(x1vec)),multiply([0] + short_edge(1,1)+[0]*18+[0]*24,[0] + [0]*36+list(x2vec))))\n",
    "# b43 x1 x2 a11\n",
    "print(multiply(multiply([0] + [0]*18+short_edge(4,3)+[0]*24,[0] + [0]*36+list(x1vec)),multiply([0] + [0]*36+list(x2vec),[0] + short_edge(1,1)+[0]*18+[0]*24)))\n",
    "# a11 x2 x1 b43\n",
    "print(multiply(multiply([0] + short_edge(1,1)+[0]*18+[0]*24,[0] + [0]*36+list(x2vec)),multiply([0] + [0]*36+list(x1vec),[0]+[0]*18 + short_edge(4,3)+[0]*24)))"
   ]
  },
  {
   "cell_type": "markdown",
   "metadata": {},
   "source": [
    "### Full Quotient!\n",
    "We expect this to have three generators."
   ]
  },
  {
   "cell_type": "code",
   "execution_count": 14,
   "metadata": {
    "init_cell": true
   },
   "outputs": [
    {
     "name": "stdout",
     "output_type": "stream",
     "text": [
      "Full (threads+monodromy+gluing) quotient ngens:  3\n",
      "(al21 - be10 + z3 - w4)\n",
      "(al20 - be03 + B13 - B23 + y5 + z5 + z6 + w6)\n",
      "(al13 - be10 + B13 - B23 + x6 + y2 - y4 + y5 + y6 - z1 + z3 - z4 + z5 + z6 - w1 - w4 + w5 + w6)\n"
     ]
    }
   ],
   "source": [
    "%run ../quantum_tori.ipynb\n",
    "list_of_thread_monodromy_constraints_41 = [ # the loop is q^(-1/2)(threads in ccw order) -> q^(-1/2)\n",
    "    dict_monomial_to_list(constraint) for constraint in [\n",
    "        scale_polynomial(multiply_lattice_monomials(*[lat[e] for e in edges],relations=omega_41_with_q),1)\n",
    "        for edges in [\n",
    "            ('x1', 'x4', 'y1', 'z1', 'z2', 'w2'),\n",
    "            ('x2', 'y2', 'y5', 'z5', 'w5', 'w6'),\n",
    "            ('x3', 'y3', 'y4', 'z4', 'w1', 'w4'),\n",
    "            ('x5', 'x6', 'y6', 'z3', 'z6', 'w3')\n",
    "        ]\n",
    "    ]\n",
    "]\n",
    "\n",
    "# check that these are T^{24}-invariant \n",
    "for constraint in list_of_thread_monodromy_constraints_41:\n",
    "    v = weights_41*vector(constraint)\n",
    "    if not v.is_zero():  print(\"Not Invariant!:\", constraint)\n",
    "        \n",
    "full_quotient_41 = invariant_sublattice_41.quotient(list_of_gluing_constraints_41+list_of_monodromy_constraints_41+list_of_thread_monodromy_constraints_41)\n",
    "print(\"Full (threads+monodromy+gluing) quotient ngens: \", full_quotient_41.ngens())\n",
    "\n",
    "pi = full_quotient_41.coerce_map_from(full_quotient_41.V())\n",
    "for g in full_quotient_41.gens():\n",
    "    print(new_coeffs*vector(Rnew,list(g.lift())))\n",
    "\n",
    "    "
   ]
  },
  {
   "cell_type": "code",
   "execution_count": null,
   "metadata": {
    "code_folding": []
   },
   "outputs": [],
   "source": [
    "# lets print all the constraints\n",
    "# All of the T-region monodromy constraints should be set to qdim(1). \n",
    "print(\"thread monodromy.\")\n",
    "for constraint in list_of_thread_monodromy_constraints_41:\n",
    "    print(new_coeffs*vector(Rnew,constraint))\n",
    "    \n",
    "print(\"monodromy.\")\n",
    "for constraint in list_of_monodromy_constraints_41:\n",
    "    print(new_coeffs*vector(Rnew,constraint))\n",
    "    \n",
    "print(\"gluing.\")\n",
    "for constraint in list_of_gluing_constraints_41:\n",
    "    print(new_coeffs*vector(Rnew,constraint))"
   ]
  },
  {
   "cell_type": "markdown",
   "metadata": {},
   "source": [
    "### The great circles\n",
    "\n",
    "These are *not* monomials, so I can't take the quotient using the lattice. Here I translate each term into the lattice though, to see if they'll simplify."
   ]
  },
  {
   "cell_type": "code",
   "execution_count": null,
   "metadata": {},
   "outputs": [],
   "source": [
    "%run ../quantum_tori.ipynb"
   ]
  },
  {
   "cell_type": "code",
   "execution_count": 15,
   "metadata": {
    "init_cell": true
   },
   "outputs": [],
   "source": [
    "def list_to_module_element(the_list,the_module):\n",
    "    \"\"\"\n",
    "    Turns a list into a module element.\n",
    "    Plays the role that the_module.monomial() would if it were implemented.\n",
    "    \n",
    "    Parameters:\n",
    "    the_list (List) - the lattice coordinate of a module element.\n",
    "    the_module (fgp_module) - the ambient module\n",
    "    \n",
    "    Returns:\n",
    "    (the_module.element_class) - the module element you'd *expect* from typing the_module(the_list)\n",
    "    \"\"\"\n",
    "    return the_module.sum([\n",
    "        term[0]*term[1] for term in zip(the_list,the_module.gens())\n",
    "    ])"
   ]
  },
  {
   "cell_type": "code",
   "execution_count": 16,
   "metadata": {
    "init_cell": true
   },
   "outputs": [
    {
     "name": "stdout",
     "output_type": "stream",
     "text": [
      "extra_gen in quotient: (0, -1, 0)\n",
      "m_gen in quotient: (1, 0, 0)\n",
      "l_gen in quotient: (1, -1, 1)\n",
      "Commutation Relations in the quotient. These are in terms of q^(1/2).\n",
      "[ 0 -2  0]\n",
      "[ 2  0 -2]\n",
      "[ 0  2  0]\n"
     ]
    }
   ],
   "source": [
    "### Generators for the glued surface!\n",
    "\n",
    "# we want to generate the lattice and have determinant +1 for the basis matrix\n",
    "extra_gen = list_to_module_element([0,-1,0],full_quotient_41).lift()\n",
    "# some sanity checks on the extra generator:\n",
    "if not (weights_41*vector(extra_gen)).is_zero():\n",
    "    print(\"weight of extra generator:\",weights_41*extra_gen)\n",
    "\n",
    "print(\"extra_gen in quotient:\",pi(extra_gen))\n",
    "\n",
    "m_gen = vector(dict_monomial_to_list(\n",
    "    multiply_lattice_monomials(\n",
    "        *[new_gens(edge) for edge in ['x1','al03','al13','y1']],\n",
    "        relations=omega_41_with_q\n",
    "    )))\n",
    "\n",
    "if not (weights_41*vector(m_gen)).is_zero():\n",
    "    print(\"weight of m:\",weights_41*m_gen)\n",
    "    \n",
    "print(\"m_gen in quotient:\",pi(m_gen))\n",
    "\n",
    "l_gen = dict_monomial_to_list(scale_polynomial(\n",
    "    multiply_lattice_monomials(\n",
    "        *[new_gens(edge) for edge in ['z2','al23','al13','y2','w5','z5','be21','be01','x6','z3','be20','be30','y3','x3','be03','be23']],\n",
    "        relations=omega_41_with_q\n",
    "    ),q^(-1/2)))\n",
    "if not (weights_41*vector(l_gen)).is_zero():\n",
    "    print(\"weight of l:\",weights_41*vector(l_gen))\n",
    "    \n",
    "print(\"l_gen in quotient:\",pi(l_gen))\n",
    "\n",
    "\n",
    "favorite_basis_matrix = matrix([\n",
    "    pi(m_gen),\n",
    "    pi(l_gen),\n",
    "    pi(extra_gen)\n",
    "]).transpose()\n",
    "\n",
    "if favorite_basis_matrix.determinant() != 1:\n",
    "    print(\"WARNING: favorite_basis_matrix has determinant:\",favorite_basis_matrix.determinant())\n",
    "    \n",
    "    \n",
    "print(\"Commutation Relations in the quotient. These are in terms of q^(1/2).\") # this is assuming that the quotient preserves the commutation relations.\n",
    "omega_quotient = matrix([m_gen,l_gen,extra_gen])*omega_41_with_q*matrix([m_gen,l_gen,extra_gen]).transpose()\n",
    "print(omega_quotient)\n",
    "\n",
    "tmp_omega = (omega_41_with_q*matrix([m_gen,l_gen]).transpose())\n",
    "#TODO - is there something that commutes with the m and l that I could use as the third generator?"
   ]
  },
  {
   "cell_type": "code",
   "execution_count": 37,
   "metadata": {},
   "outputs": [
    {
     "data": {
      "text/plain": [
       "(4, 0, 0, 0, 0, 0, 0, 0, 0, 0, 1, 0, 1, 0, 0, 0, 0, 0, 0, 0, 0, 0, 0, 0, 0, 0, 0, 0, 0, 0, 0, 0, 0, 0, 0, 0, 0, 1, 0, 0, 0, 0, 0, 1, 0, 0, 0, 0, 0, 0, 0, 0, 0, 0, 0, 0, 0, 0, 0, 0, 0)"
      ]
     },
     "execution_count": 37,
     "metadata": {},
     "output_type": "execute_result"
    }
   ],
   "source": [
    "m_gen"
   ]
  },
  {
   "cell_type": "code",
   "execution_count": 17,
   "metadata": {
    "init_cell": true
   },
   "outputs": [
    {
     "name": "stdout",
     "output_type": "stream",
     "text": [
      "Great Circle:\n",
      "1/qrt4^8*a13^-1*a22^-1*a33^-1*a42^-1*A1*A2^-1*A3*A4^-1 + qrt4^4*a12^-1*a13^-1*a23*a31*a41^-1*a42^-1*A2^-1*A4^-1*A5*A6 + 1*a11*a21^-1*a22^-1*a32^-1*a33^-1*a43*A2^-1*A4^-1*A5*A6 + qrt4^12*a11*a12^-1*a21^-1*a23*a31*a32^-1*a41^-1*a43*A1^-1*A2^-1*A3^-1*A4^-1*A5^2*A6^2 + qrt4^20*a13*a22*a33*a42*A1^-1*A2*A3^-1*A4 + qrt4^20*a11*a13*a22*a23*a32^-1*a41^-1*A1^-1*A3^-1*A5*A6 + qrt4^12*a12^-1*a21^-1*a31*a33*a42*a43*A1^-1*A3^-1*A5*A6\n"
     ]
    },
    {
     "data": {
      "text/html": [
       "<html><script type=\"math/tex; mode=display\">\\newcommand{\\Bold}[1]{\\mathbf{#1}}\\mathit{qrt}_{4}^{20} a_{13} a_{22} a_{33} a_{42} A_{1}^{-1} A_{2} A_{3}^{-1} A_{4} + \\mathit{qrt}_{4}^{20} a_{11} a_{13} a_{22} a_{23} a_{32}^{-1} a_{41}^{-1} A_{1}^{-1} A_{3}^{-1} A_{5} A_{6} + \\mathit{qrt}_{4}^{12} a_{12}^{-1} a_{21}^{-1} a_{31} a_{33} a_{42} a_{43} A_{1}^{-1} A_{3}^{-1} A_{5} A_{6} + \\mathit{qrt}_{4}^{12} a_{11} a_{12}^{-1} a_{21}^{-1} a_{23} a_{31} a_{32}^{-1} a_{41}^{-1} a_{43} A_{1}^{-1} A_{2}^{-1} A_{3}^{-1} A_{4}^{-1} A_{5}^{2} A_{6}^{2} + \\mathit{qrt}_{4}^{4} a_{12}^{-1} a_{13}^{-1} a_{23} a_{31} a_{41}^{-1} a_{42}^{-1} A_{2}^{-1} A_{4}^{-1} A_{5} A_{6} + a_{11} a_{21}^{-1} a_{22}^{-1} a_{32}^{-1} a_{33}^{-1} a_{43} A_{2}^{-1} A_{4}^{-1} A_{5} A_{6} + \\mathit{qrt}_{4}^{-8} a_{13}^{-1} a_{22}^{-1} a_{33}^{-1} a_{42}^{-1} A_{1} A_{2}^{-1} A_{3} A_{4}^{-1}</script></html>"
      ],
      "text/latex": [
       "$$\\newcommand{\\Bold}[1]{\\mathbf{#1}}\\mathit{qrt}_{4}^{20} a_{13} a_{22} a_{33} a_{42} A_{1}^{-1} A_{2} A_{3}^{-1} A_{4} + \\mathit{qrt}_{4}^{20} a_{11} a_{13} a_{22} a_{23} a_{32}^{-1} a_{41}^{-1} A_{1}^{-1} A_{3}^{-1} A_{5} A_{6} + \\mathit{qrt}_{4}^{12} a_{12}^{-1} a_{21}^{-1} a_{31} a_{33} a_{42} a_{43} A_{1}^{-1} A_{3}^{-1} A_{5} A_{6} + \\mathit{qrt}_{4}^{12} a_{11} a_{12}^{-1} a_{21}^{-1} a_{23} a_{31} a_{32}^{-1} a_{41}^{-1} a_{43} A_{1}^{-1} A_{2}^{-1} A_{3}^{-1} A_{4}^{-1} A_{5}^{2} A_{6}^{2} + \\mathit{qrt}_{4}^{4} a_{12}^{-1} a_{13}^{-1} a_{23} a_{31} a_{41}^{-1} a_{42}^{-1} A_{2}^{-1} A_{4}^{-1} A_{5} A_{6} + a_{11} a_{21}^{-1} a_{22}^{-1} a_{32}^{-1} a_{33}^{-1} a_{43} A_{2}^{-1} A_{4}^{-1} A_{5} A_{6} + \\mathit{qrt}_{4}^{-8} a_{13}^{-1} a_{22}^{-1} a_{33}^{-1} a_{42}^{-1} A_{1} A_{2}^{-1} A_{3} A_{4}^{-1}$$"
      ],
      "text/plain": [
       "qrt4^20*a13*a22*a33*a42*A1^-1*A2*A3^-1*A4 + qrt4^20*a11*a13*a22*a23*a32^-1*a41^-1*A1^-1*A3^-1*A5*A6 + qrt4^12*a12^-1*a21^-1*a31*a33*a42*a43*A1^-1*A3^-1*A5*A6 + qrt4^12*a11*a12^-1*a21^-1*a23*a31*a32^-1*a41^-1*a43*A1^-1*A2^-1*A3^-1*A4^-1*A5^2*A6^2 + qrt4^4*a12^-1*a13^-1*a23*a31*a41^-1*a42^-1*A2^-1*A4^-1*A5*A6 + a11*a21^-1*a22^-1*a32^-1*a33^-1*a43*A2^-1*A4^-1*A5*A6 + qrt4^-8*a13^-1*a22^-1*a33^-1*a42^-1*A1*A2^-1*A3*A4^-1"
      ]
     },
     "metadata": {},
     "output_type": "display_data"
    }
   ],
   "source": [
    "scafolding_edges_A = -1*(new_gens('A03')+new_gens('A02')+new_gens('A12')+new_gens('A13'))\n",
    "scafolding_edges_B = -1*(new_gens('B03')+new_gens('B02')+new_gens('B12')+new_gens('B13'))\n",
    "\n",
    "# Define the great circles as dictionaries. These should be set to q + q^(-1)?\n",
    "\n",
    "temp_list_A = [\n",
    "    scale_polynomial( multiply_lattice_monomials(\n",
    "        *[scafolding_edges_A,*edges],\n",
    "        relations=omega_41_with_q\n",
    "    ), q^q_power) for edges,q_power in [\n",
    "                 # 0010\n",
    "                 ([lat['A1'],-lat['a33'],lat['A1'],-lat['a42'],-lat['a22'],lat['A3'],lat['A3'],-lat['a13']],1),\n",
    "                 # 0110\n",
    "                 ([lat['a23'],lat['A6'],-lat['a41'],lat['A1'],-lat['a42'],lat['a31'],lat['A5'],-lat['a12'],lat['A3'],-lat['a13']],0),\n",
    "                 #0011\n",
    "                 ([lat['A1'],-lat['a33'],  lat['a11'],lat['A5'],-lat['a32'],  -lat['a22'],lat['A3'],  lat['a43'],lat['A6'],-lat['a21']],0),\n",
    "                 # 0111\n",
    "                 ([lat['a23'],lat['A6'],-lat['a41'],  lat['a11'],lat['A5'],-lat['a32'], lat['a31'],lat['A5'],-lat['a12'],  lat['a43'],lat['A6'],-lat['a21']],-1),\n",
    "                 # 1101\n",
    "                 ([lat['a13'],lat['A4'],  lat['a42'],lat['A4'],  lat['a22'],lat['A2'],  lat['a33'],lat['A2']],-1),\n",
    "                 # 0101\n",
    "                 ([lat['a13'],lat['A4'],  lat['a11'],lat['A5'],-lat['a32'],  lat['a22'],lat['A2'],  lat['a23'],lat['A6'],-lat['a41']],0),\n",
    "                 # 1111\n",
    "                 ([lat['a43'],lat['A6'],-lat['a21'],  lat['a42'],lat['A4'],  lat['a31'],lat['A5'],-lat['a12'],  lat['a33'],lat['A2']],-2)\n",
    "] ]\n",
    "\n",
    "\n",
    "\n",
    "great_circle_A = add_polynomials(*temp_list_A)\n",
    "print(\"Great Circle:\")\n",
    "pretty_print(dict_to_free_algebra_element(great_circle_A, lex_order=lex_order_41,free_algebra=R))\n",
    "    \n",
    "great_circle_quot_A = add_polynomials(\n",
    "    *[{tuple(favorite_basis_matrix*pi(k).vector()):v} for k,v in great_circle_A.items()]\n",
    ")\n",
    "\n",
    "great_circle_B = {}\n",
    "\n",
    "temp_list_B = [\n",
    "    scale_polynomial( multiply_lattice_monomials(\n",
    "        *[scafolding_edges_B,*edges],\n",
    "        relations=omega_41_with_q\n",
    "    ), q^q_power) for edges,q_power in [\n",
    "                 # 0010\n",
    "                 ([lat['B1'],-lat['b33'],lat['B1'],-lat['b42'],-lat['b22'],lat['B3'],lat['B3'],-lat['b13']],1),\n",
    "                 # 0110\n",
    "                 ([lat['b23'],lat['B6'],-lat['b41'],lat['B1'],-lat['b42'],lat['b31'],lat['B5'],-lat['b12'],lat['B3'],-lat['b13']],0),\n",
    "                 #0011\n",
    "                 ([lat['B1'],-lat['b33'],  lat['b11'],lat['B5'],-lat['b32'],  -lat['b22'],lat['B3'],  lat['b43'],lat['B6'],-lat['b21']],0),\n",
    "                 # 0111\n",
    "                 ([lat['b23'],lat['B6'],-lat['b41'],  lat['b11'],lat['B5'],-lat['b32'], lat['b31'],lat['B5'],-lat['b12'],  lat['b43'],lat['B6'],-lat['b21']],-1),\n",
    "                 # 1101\n",
    "                 ([lat['b13'],lat['B4'],  lat['b42'],lat['B4'],  lat['b22'],lat['B2'],  lat['b33'],lat['B2']],-1),\n",
    "                 # 0101\n",
    "                 ([lat['b13'],lat['B4'],  lat['b11'],lat['B5'],-lat['b32'],  lat['b22'],lat['B2'],  lat['b23'],lat['B6'],-lat['b41']],0),\n",
    "                 # 1111\n",
    "                 ([lat['b43'],lat['B6'],-lat['b21'],  lat['b42'],lat['B4'],  lat['b31'],lat['B5'],-lat['b12'],  lat['b33'],lat['B2']],-2)\n",
    "    ] ]\n",
    "\n",
    "great_circle_B = add_polynomials(*temp_list_B)\n",
    "\n",
    "great_circle_quot_B = add_polynomials(\n",
    "    *[{tuple(favorite_basis_matrix*pi(k).vector()):v} for k,v in great_circle_B.items()]\n",
    ")\n",
    "\n"
   ]
  },
  {
   "cell_type": "code",
   "execution_count": 21,
   "metadata": {
    "init_cell": true
   },
   "outputs": [
    {
     "name": "stdout",
     "output_type": "stream",
     "text": [
      "Circle A:\n"
     ]
    },
    {
     "data": {
      "text/html": [
       "<html><script type=\"math/tex; mode=display\">\\newcommand{\\Bold}[1]{\\mathbf{#1}}\\mathit{qrt}_{4}^{12} m^{-1} l^{3} g^{-1} + \\left(\\mathit{qrt}_{4}^{4} + 1\\right) l + \\frac{1}{\\mathit{qrt}_{4}^{8}} m l^{-1} g + \\left(\\mathit{qrt}_{4}^{20} + \\mathit{qrt}_{4}^{12}\\right) m^{-1} l^{2} g^{-1} + \\frac{-\\mathit{qrt}_{4}^{4} - 1}{\\mathit{qrt}_{4}^{2}} + \\mathit{qrt}_{4}^{20} m^{-1} l g^{-1}</script></html>"
      ],
      "text/latex": [
       "$$\\newcommand{\\Bold}[1]{\\mathbf{#1}}\\mathit{qrt}_{4}^{12} m^{-1} l^{3} g^{-1} + \\left(\\mathit{qrt}_{4}^{4} + 1\\right) l + \\frac{1}{\\mathit{qrt}_{4}^{8}} m l^{-1} g + \\left(\\mathit{qrt}_{4}^{20} + \\mathit{qrt}_{4}^{12}\\right) m^{-1} l^{2} g^{-1} + \\frac{-\\mathit{qrt}_{4}^{4} - 1}{\\mathit{qrt}_{4}^{2}} + \\mathit{qrt}_{4}^{20} m^{-1} l g^{-1}$$"
      ],
      "text/plain": [
       "qrt4^12*m^-1*l^3*g^-1 + (qrt4^4 + 1)*l + 1/qrt4^8*m*l^-1*g + (qrt4^20 + qrt4^12)*m^-1*l^2*g^-1 + (-qrt4^4 - 1)/qrt4^2 + qrt4^20*m^-1*l*g^-1"
      ]
     },
     "metadata": {},
     "output_type": "display_data"
    },
    {
     "name": "stdout",
     "output_type": "stream",
     "text": [
      "Circle B:\n"
     ]
    },
    {
     "data": {
      "text/html": [
       "<html><script type=\"math/tex; mode=display\">\\newcommand{\\Bold}[1]{\\mathbf{#1}}\\mathit{qrt}_{4}^{12} m^{4} l^{3} g^{-2} + \\left(\\mathit{qrt}_{4}^{20} + \\mathit{qrt}_{4}^{12}\\right) m^{3} l^{2} g^{-1} + \\mathit{qrt}_{4}^{20} m^{2} l + \\left(\\mathit{qrt}_{4}^{4} + 1\\right) m l g^{-1} + \\frac{-\\mathit{qrt}_{4}^{4} - 1}{\\mathit{qrt}_{4}^{2}} + \\frac{1}{\\mathit{qrt}_{4}^{8}} m^{-2} l^{-1}</script></html>"
      ],
      "text/latex": [
       "$$\\newcommand{\\Bold}[1]{\\mathbf{#1}}\\mathit{qrt}_{4}^{12} m^{4} l^{3} g^{-2} + \\left(\\mathit{qrt}_{4}^{20} + \\mathit{qrt}_{4}^{12}\\right) m^{3} l^{2} g^{-1} + \\mathit{qrt}_{4}^{20} m^{2} l + \\left(\\mathit{qrt}_{4}^{4} + 1\\right) m l g^{-1} + \\frac{-\\mathit{qrt}_{4}^{4} - 1}{\\mathit{qrt}_{4}^{2}} + \\frac{1}{\\mathit{qrt}_{4}^{8}} m^{-2} l^{-1}$$"
      ],
      "text/plain": [
       "qrt4^12*m^4*l^3*g^-2 + (qrt4^20 + qrt4^12)*m^3*l^2*g^-1 + qrt4^20*m^2*l + (qrt4^4 + 1)*m*l*g^-1 + (-qrt4^4 - 1)/qrt4^2 + 1/qrt4^8*m^-2*l^-1"
      ]
     },
     "metadata": {},
     "output_type": "display_data"
    }
   ],
   "source": [
    "Qq.<qrt4> = FractionField(QQ['qrt4'])\n",
    "var('q')\n",
    "q = qrt4^4\n",
    "\n",
    "quotient_free_algebra = FreeAlgebra(Qq,['m','l','g'])\n",
    "quotient_poly_algebra = LaurentPolynomialRing(Qq,['m','l','g'])\n",
    "classical_poly_algebra = LaurentPolynomialRing(QQ,['m','l','g'])\n",
    "quotient_lex_order = ['m','l','g']\n",
    "\n",
    "# Add -q^(1/2) - q^(-1/2) and turn into an element of the laurent polynomial ring.\n",
    "print(\"Circle A:\")\n",
    "relation_A = quotient_poly_algebra.sum([\n",
    "    quotient_poly_algebra(v)*quotient_poly_algebra.monomial(*k) for k,v in great_circle_quot_A.items()\n",
    "]+[-qrt4^2 + -qrt4^(-2)])\n",
    "pretty_print(relation_A)\n",
    "\n",
    "print(\"Circle B:\")\n",
    "relation_B = quotient_poly_algebra.sum([\n",
    "    quotient_poly_algebra(v)*quotient_poly_algebra.monomial(*k) for k,v in great_circle_quot_B.items()\n",
    "]+[-qrt4^2 - qrt4^(-2)])\n",
    "pretty_print(relation_B)\n",
    "\n",
    "# ideal:\n",
    "\n",
    "relations_ideal = quotient_poly_algebra.ideal([relation_A,relation_B])"
   ]
  },
  {
   "cell_type": "code",
   "execution_count": 24,
   "metadata": {},
   "outputs": [
    {
     "data": {
      "text/plain": [
       "(qrt4^12*m^-1*l^3*g^-1 + (qrt4^4 + 1)*l + 1/qrt4^8*m*l^-1*g + (qrt4^20 + qrt4^12)*m^-1*l^2*g^-1 + (-qrt4^4 - 1)/qrt4^2 + qrt4^20*m^-1*l*g^-1,\n",
       " qrt4^12*m^4*l^3*g^-2 + (qrt4^20 + qrt4^12)*m^3*l^2*g^-1 + qrt4^20*m^2*l + (qrt4^4 + 1)*m*l*g^-1 + (-qrt4^4 - 1)/qrt4^2 + 1/qrt4^8*m^-2*l^-1)"
      ]
     },
     "execution_count": 24,
     "metadata": {},
     "output_type": "execute_result"
    }
   ],
   "source": [
    "relation_A, relation_B\n"
   ]
  },
  {
   "cell_type": "code",
   "execution_count": 76,
   "metadata": {},
   "outputs": [],
   "source": []
  },
  {
   "cell_type": "markdown",
   "metadata": {},
   "source": [
    "### Set q->1 to get the classical expression."
   ]
  },
  {
   "cell_type": "code",
   "execution_count": 25,
   "metadata": {
    "init_cell": true
   },
   "outputs": [
    {
     "name": "stdout",
     "output_type": "stream",
     "text": [
      "Classical relations:\n",
      "m^-1*l^3*g^-1 + 2*l + m*l^-1*g + 2*m^-1*l^2*g^-1 - 2 + m^-1*l*g^-1\n",
      "m^4*l^3*g^-2 + 2*m^3*l^2*g^-1 + m^2*l + 2*m*l*g^-1 - 2 + m^-2*l^-1\n"
     ]
    }
   ],
   "source": [
    "# I want to compare to the q=1 case.\n",
    "f = Qq.hom(1,QQ) # map sending qrt4 -> 1.\n",
    "\n",
    "classical_relation_A = relation_A.map_coefficients(f)\n",
    "    \n",
    "classical_relation_B = relation_B.map_coefficients(f)\n",
    "\n",
    "print(\"Classical relations:\")\n",
    "print(classical_relation_A)\n",
    "print(classical_relation_B)"
   ]
  },
  {
   "cell_type": "code",
   "execution_count": 26,
   "metadata": {},
   "outputs": [
    {
     "data": {
      "text/plain": [
       "(m^-1*l^-1*g^-1) * (l^4 + 2*m*l^2*g + m^2*g^2 + 2*l^3 - 2*m*l*g + l^2)"
      ]
     },
     "execution_count": 26,
     "metadata": {},
     "output_type": "execute_result"
    }
   ],
   "source": [
    "classical_relation_A.factor()"
   ]
  },
  {
   "cell_type": "markdown",
   "metadata": {},
   "source": [
    "### Searching for the A-polynomial - scratch"
   ]
  },
  {
   "cell_type": "code",
   "execution_count": 85,
   "metadata": {},
   "outputs": [
    {
     "data": {
      "text/html": [
       "<html><script type=\"math/tex; mode=display\">\\newcommand{\\Bold}[1]{\\mathbf{#1}}\\left(m^{-1} l^{-1} g^{-1}\\right) \\cdot (l^{4} + 2 m l^{2} g + m^{2} g^{2} + 2 l^{3} - 2 m l g + l^{2})</script></html>"
      ],
      "text/latex": [
       "$$\\newcommand{\\Bold}[1]{\\mathbf{#1}}\\left(m^{-1} l^{-1} g^{-1}\\right) \\cdot (l^{4} + 2 m l^{2} g + m^{2} g^{2} + 2 l^{3} - 2 m l g + l^{2})$$"
      ],
      "text/plain": [
       "(m^-1*l^-1*g^-1) * (l^4 + 2*m*l^2*g + m^2*g^2 + 2*l^3 - 2*m*l*g + l^2)"
      ]
     },
     "metadata": {},
     "output_type": "display_data"
    },
    {
     "data": {
      "text/html": [
       "<html><script type=\"math/tex; mode=display\">\\newcommand{\\Bold}[1]{\\mathbf{#1}}\\left(m^{-2} l^{-1} g^{-2}\\right) \\cdot (m^{6} l^{4} + 2 m^{5} l^{3} g + m^{4} l^{2} g^{2} + 2 m^{3} l^{2} g - 2 m^{2} l g^{2} + g^{2})</script></html>"
      ],
      "text/latex": [
       "$$\\newcommand{\\Bold}[1]{\\mathbf{#1}}\\left(m^{-2} l^{-1} g^{-2}\\right) \\cdot (m^{6} l^{4} + 2 m^{5} l^{3} g + m^{4} l^{2} g^{2} + 2 m^{3} l^{2} g - 2 m^{2} l g^{2} + g^{2})$$"
      ],
      "text/plain": [
       "(m^-2*l^-1*g^-2) * (m^6*l^4 + 2*m^5*l^3*g + m^4*l^2*g^2 + 2*m^3*l^2*g - 2*m^2*l*g^2 + g^2)"
      ]
     },
     "metadata": {},
     "output_type": "display_data"
    },
    {
     "data": {
      "text/plain": [
       "(m^8*l^3 - m^8*g^2 - 2*m^6*l^3 + 2*m^7*l*g + 2*m^5*l^3*g + m^6*l*g^2 - m^6*l^2 + m^4*l^2*g^2 + 2*m^5*l*g + 2*m^3*l^2*g - 2*m^4*g^2 - 2*m^2*l*g^2 - l^3 - 2*m*l*g - 2*l^2 + 2*m*g + g^2 - l,\n",
       " m^9*l*g - 3/2*m^8*l^2 + 2*m^8*g^2 - 3*m^7*l*g - m^5*l^3*g - 2*m^6*l*g^2 - 2*m^5*l^2*g + 1/2*m^6*g^2 - 2*m^4*l^3 - 5*m^5*l*g - 4*m^4*l^2 + m^5*g + 2*m^3*l^2*g + 4*m^4*g^2 - 2*m^4*l + m^2*l^3 + 6*m^3*l*g + 2*m^2*l^2 + m^2*l + 2*l^3 + 3*m*l*g + 7/2*l^2 - 7*m*g + l - 1/2,\n",
       " m^9*g^2 + 6*m^7*l^3 - 2*m^8*l*g - 2*m^6*l^3*g - 4*m^7*l*g^2 + m^7*l^2 + 8*m^6*l^2*g - m^5*l^2*g^2 - 2*m^6*g^3 + 4*m^5*l*g^2 - 2*m^4*l^2*g - 4*m^5*g^2 + 8*m^4*l*g - 4*m^2*l^3*g - 6*m^3*l*g^2 - 8*m^2*l^2*g - 4*m^2*l*g + 2*l^2*g + 3*m*g^2 + 4*l*g + 2*g,\n",
       " m^7*l^2*g + 1/2*m^8*g^2 + m^6*l^3 - m^7*l*g - m^5*l^3*g + 1/2*m^6*l^2 - 1/2*m^4*l^2*g^2 - m^3*l^2*g + m^2*l*g^2 - 1/2*g^2,\n",
       " l^4 + 2*m*l^2*g + m^2*g^2 + 2*l^3 - 2*m*l*g + l^2)"
      ]
     },
     "execution_count": 85,
     "metadata": {},
     "output_type": "execute_result"
    }
   ],
   "source": [
    "# short names for convenience\n",
    "r1 = classical_relation_A\n",
    "r2 = classical_relation_B\n",
    "\n",
    "pretty_print(r1.factor())\n",
    "pretty_print(r2.factor())\n",
    "\n",
    "classical_poly_algebra.ideal([r1,r2]).groebner_basis()"
   ]
  },
  {
   "cell_type": "code",
   "execution_count": null,
   "metadata": {},
   "outputs": [],
   "source": [
    "# Check that all the terms in the great circles are invariant.\n",
    "for k in great_circle_A.keys():\n",
    "    if not (weights_41*matrix(k).transpose()).is_zero():\n",
    "        print(\"Not invariant:\", k)\n",
    "        \n",
    "for k in great_circle_B.keys():\n",
    "    if not (weights_41*matrix(k).transpose()).is_zero():\n",
    "        print(\"Not invariant:\", k)"
   ]
  },
  {
   "cell_type": "code",
   "execution_count": null,
   "metadata": {},
   "outputs": [],
   "source": [
    "#import sage.rings.polynomial.laurent_polynomial_ideal\n",
    "#TODO: Figure out how to make ideals in a laurent polynomial ring!\n",
    "Rquot.<M,L,G> = PolynomialRing(QQ,3) # Order of variables here informs the Groebner basis.\n",
    "M,L,G = var('M','L','G')"
   ]
  },
  {
   "cell_type": "code",
   "execution_count": null,
   "metadata": {},
   "outputs": [],
   "source": [
    "# I'm adding 2 since the great circles should be set to q^(1/2)+q^(-1/2)\n",
    "# and we set q^(1/2) to -1. \n",
    "#r1 = 2 + q^(-1/2)*M*G + (1+q^(1/2))*M^(-1)*L^(-1) + q*M^(-3)*L^(-2)*G^(-1) + q^2*M^(-1)*G^(-1) + (q^(5/2)+q^(1/2))*M^(-2)*L^(-1)*G^(-1)     \n",
    "#r1rescaled = (r1.subs(qrt4=i)*G).collect(G)\n",
    "#r2 = 2 + q^(-1/2)*M^(-3)*G + (1+q^(1/2))*L*G + q*M^(3)*L^(2)*G^(1) + q^2*M^(3)*G^(-1) + (q^(5/2)+q^(1/2))*M^(3)*L^(1)    \n",
    "#r2rescaled = (r2.subs(qrt4=i)*G).collect(G)\n",
    "\n",
    "r1 = q^(-1/2) + (1+q^(1/2))*L*G + q*L^2*G^2 + q^2*M^2*L^4*G^2 + (q^(5/2)+q^(1/2))*M*L^3*G^2 - (q^(1/2)+q^(-1/2))*M*L^2*G\n",
    "r2 = q^(-1/2) + (q+q^(3/2))*M^3*L + q^3*M^6*L^2 + q^2*M^10*L^4*G^2 + (q^(7/2)+q^(3/2))*M^8*L^3*G - (q^(1/2)+q^(-1/2))*M^5*L^2*G\n",
    "\n",
    "r1_comm = r1.subs(qrt4=i).collect(G)\n",
    "r2_comm = r2.subs(qrt4=i).collect(G)\n",
    "\n",
    "pretty_print(r1_comm)\n",
    "pretty_print(r2_comm)\n",
    "\n",
    "\n",
    "#r1 = -M^4*L^2*G^2 + 0 + 1 + M^2*L^2 -2*M*L\n",
    "#r2 = -G^2 + M^6*L^2*G^2 + M^6 -2*M^6*L*G\n",
    "\n",
    "a2 = r1_comm.coefficient(G,2)\n",
    "a1 = r1_comm.coefficient(G,1)\n",
    "a0 = r1_comm.coefficient(G,0)\n",
    "\n",
    "b2 = r2_comm.coefficient(G,2)\n",
    "b1 = r2_comm.coefficient(G,1)\n",
    "b0 = r2_comm.coefficient(G,0)\n",
    "\n",
    "#dict_to_free_algebra_element(great_circle_quot_A,lex_order=['M','L','G'],free_algebra=Rquot)\n",
    "#dict_to_free_algebra_element(great_circle_quot_B,lex_order=['M','L','G'],free_algebra=Rquot)\n",
    "#Iquot.groebner_basis()\n",
    "Apoly = L^2*M^4 + L*(-M^8+M^6+2*M^4+M^2-1)+M^4\n",
    "#Aideal = Rquot.ideal(L^2*M^4 + L*(-M^8+M^6+2*M^4+M^2-1)+M^4)\n",
    "pretty_print(Apoly)"
   ]
  },
  {
   "cell_type": "code",
   "execution_count": null,
   "metadata": {},
   "outputs": [],
   "source": [
    "r1tilde = a2*(b2*a0*b1^(-1)*a2^(-1) - b0*b1^(-1))^2 + a0\n",
    "\n",
    "pretty_print(r1tilde.collect(M))\n",
    "pretty_print(r1tilde.collect(L).factor())"
   ]
  },
  {
   "cell_type": "markdown",
   "metadata": {
    "heading_collapsed": true
   },
   "source": [
    "## Quotienting First - scratch\n",
    "This hasn't been updated to include q as a variable."
   ]
  },
  {
   "cell_type": "code",
   "execution_count": null,
   "metadata": {
    "hidden": true
   },
   "outputs": [],
   "source": []
  },
  {
   "cell_type": "code",
   "execution_count": null,
   "metadata": {
    "hidden": true
   },
   "outputs": [],
   "source": [
    "# Can we quotient first?\n",
    "quotient_first_41 = (ZZ^(60)).quotient(gluing_constraints_41+monodromy_constraints_41)\n",
    "\n",
    "# weights in the quotient: project each row then make them into a new matrix.\n",
    "TMP_weights_in_quotient_41 = []\n",
    "for r in weights_41.rows():\n",
    "    TMP_weights_in_quotient_41.append(list(quotient_first_41.coordinate_vector(r)))\n",
    "    \n",
    "weights_in_quotient_41 = matrix(TMP_weights_in_quotient_41)\n",
    "print(\"Rank of the weight function in the quotient:\",weights_in_quotient_41.rank())\n",
    "\n",
    "# now take the invariants. We guess that this is rank 3.\n",
    "#TODO: Figure out why this has rank 5. Also, figure out what rank the quotient should be.\n",
    "invariants_in_quotient_41 = weights_in_quotient_41.right_kernel(basis='LLL')"
   ]
  },
  {
   "cell_type": "code",
   "execution_count": null,
   "metadata": {
    "hidden": true
   },
   "outputs": [],
   "source": [
    "# Looking at redundant constraints.\n",
    "print(\"The\",len(monodromy_constraints_41),\"monodromy constraints span a sublattice of rank\",(ZZ^(60)).span(monodromy_constraints_41).dimension())\n",
    "print(\"The\",len(gluing_constraints_41),\"gluing constraints span a sublattice of rank\",(ZZ^(60)).span(gluing_constraints_41).dimension())\n",
    "print(\"Together, they span a space of dimension\",(ZZ^(60)).span(gluing_constraints_41+monodromy_constraints_41).dimension())\n",
    "print(\"ngens: Over QQ, for the quotient with all T-gates open:\",(QQ^(60)).quotient(gluing_constraints_41+monodromy_constraints_41).ngens())\n",
    "print(\"ngens: Over ZZ, for the quotient with all T-gates open:\",(ZZ^(60)).quotient(gluing_constraints_41+monodromy_constraints_41).ngens())\n",
    "\n",
    "(ZZ^(60)).quotient(gluing_constraints_41+monodromy_constraints_41)"
   ]
  },
  {
   "cell_type": "markdown",
   "metadata": {
    "hidden": true
   },
   "source": [
    "### Looking for Moment Maps\n",
    "\n",
    "- Turns out there's a more direct approach, using the weight lattice.\n",
    "\n",
    "Let `V` be a moment map. I want to find the set of constraints on `V` such that\n",
    "\n",
    "$M^{V}M^{x}(M^{V})^{-1} = q^{\\text{weight of T action}} M^{x}$ for all $x$ in $R$. Since $M^{V}M^{x}(M^{V})^{-1} = q^{\\langle V,x\\rangle} M^{x}$ this can be written in terms of the lattice elements as\n",
    "\n",
    "`V* omega_41 * X.transpose() == wt_i * X.transpose()`\n",
    "\n",
    "where `wt_i` is the weight of the $T$-action at the $i$th gate."
   ]
  },
  {
   "cell_type": "code",
   "execution_count": null,
   "metadata": {
    "hidden": true
   },
   "outputs": [],
   "source": []
  },
  {
   "cell_type": "code",
   "execution_count": null,
   "metadata": {
    "hidden": true
   },
   "outputs": [],
   "source": [
    "# name the weight after the thread with weight 1 there. \n",
    "gate_x1_weight = matrix(add_termwise(short_edge(1,1,-1),short_edge(1,2,1),long_edge(5)) + [0]*18 + list(x1vec-z2vec))\n",
    "\n",
    "gate_x2_weight = matrix([0]*18 + add_termwise(short_edge(4,3,-1),short_edge(4,1,1),long_edge(6))+list(x2vec-z5vec))\n"
   ]
  },
  {
   "cell_type": "markdown",
   "metadata": {
    "hidden": true
   },
   "source": [
    "The moment map will commute with any weight-zero vector, so we can start by restricting to the centralizer."
   ]
  },
  {
   "cell_type": "code",
   "execution_count": null,
   "metadata": {
    "hidden": true
   },
   "outputs": [],
   "source": [
    "# TODO - this might be cleaner if we start with an identity matrix, then remove rows for non-zero weight vectors.\n",
    "gate_x1_zero_weight_vectors = [\n",
    "    # a_ij short edges besides a11 and a12\n",
    "    short_edge(i,j)+[0]*(18+24) for i in [1,2,3,4] for j in [1,2,3] if (i,j)!= (1,1) and (i,j) != (1,2)\n",
    "]+[ # A_k long edges besides A5\n",
    "    long_edge(k)+[0]*(18+24) for k in range(1,6+1) if k != 5\n",
    "]+[ # b_ij short edges\n",
    "    [0]*18 + short_edge(i,j) + [0]*24 for i in [1,2,3,4] for j in [1,2,3]\n",
    "]+[ #B_k long edges\n",
    "    [0]*18 + long_edge(k) + [0]*24 for k in range(1,6+1)\n",
    "]+[ # threads besides x1 and z2\n",
    "    [0]*(18+18) + list(std_basis(i,24)) for i in range(24) if std_basis(i,24) != x1vec and std_basis(i,24) != z2vec\n",
    "]\n",
    "    \n",
    "gate_x1_zero_weight_space = get_centralizer(gate_x1_zero_weight_vectors,omega_41)"
   ]
  },
  {
   "cell_type": "code",
   "execution_count": null,
   "metadata": {
    "hidden": true
   },
   "outputs": [],
   "source": [
    "print(gate_x1_zero_weight_space.basis_matrix().LLL())"
   ]
  },
  {
   "cell_type": "code",
   "execution_count": null,
   "metadata": {
    "hidden": true
   },
   "outputs": [],
   "source": [
    "# the non-zero weights:\n",
    "print(coeffs*omega_41*std_basis(0,60),gate_x1_weight*std_basis(0,60))\n",
    "print(coeffs*omega_41*std_basis(1,60),gate_x1_weight*std_basis(1,60))\n",
    "print(coeffs*omega_41*vector([0]*(18+18)+list(x1vec)),gate_x1_weight*vector([0]*(18+18)+list(x1vec)))\n",
    "print(coeffs*omega_41*vector([0]*(18+18)+list(z2vec)),gate_x1_weight*vector([0]*(18+18)+list(z2vec)))\n",
    "f = (coeffs*omega_41*std_basis(0,60))[0]\n",
    "g = (gate_x1_weight*std_basis(0,60))[0]\n",
    "\n",
    "# turn them into a system of equations: This is having trouble, since sage doesn't recognize these as symbolic expressions.\n",
    "#solve([coeffs*omega_41*std_basis(0,60)[0]==gate_x1_weight*std_basis(0,60)[0]],a12,a13,A4,A5,x1,x2,y1,w1)\n",
    "print(coeffs*omega_41*std_basis(0,60)[0]==gate_x1_weight*std_basis(0,60)[0])\n",
    "solve([-a12 + a13 - A4 - A5 - x1 + x2 - y1 - z1 - w1==-1,y1==2],y1,x1)"
   ]
  },
  {
   "cell_type": "markdown",
   "metadata": {
    "heading_collapsed": true
   },
   "source": [
    "# Triangulations From SnapPy"
   ]
  },
  {
   "cell_type": "markdown",
   "metadata": {
    "hidden": true
   },
   "source": [
    "On Ubuntu 22.04 and SageMath 9.5 I was able to install SnapPy with the terminal command:\n",
    "```\n",
    "sage -pip install --upgrade --user snappy\n",
    "```"
   ]
  },
  {
   "cell_type": "code",
   "execution_count": 38,
   "metadata": {
    "hidden": true
   },
   "outputs": [
    {
     "name": "stdout",
     "output_type": "stream",
     "text": [
      "[([1, 1, 1, 1], [[0, 1, 3, 2], [1, 3, 0, 2], [1, 0, 2, 3], [2, 0, 3, 1]]), ([0, 0, 0, 0], [[0, 1, 3, 2], [1, 3, 0, 2], [1, 0, 2, 3], [2, 0, 3, 1]])]\n",
      "% Triangulation\n",
      "4_1\n",
      "not_attempted  0.0\n",
      "oriented_manifold\n",
      "CS_unknown\n",
      "\n",
      "1 0\n",
      "    torus   0.000000000000   0.000000000000\n",
      "\n",
      "2\n",
      "   1    1    1    1 \n",
      " 0132 1302 1023 2031\n",
      "   0    0    0    0 \n",
      "  0  0  0  0  0  0  1 -1  0  0  0  0  0  0  0  0\n",
      "  0  0  0  0  0  0  0  0  0  0  0  0  0  0  0  0\n",
      "  0  1  0 -1 -1  0  2 -1  0 -1  0  1  0  1 -1  0\n",
      "  0  0  0  0  0  0  0  0  0  0  0  0  0  0  0  0\n",
      "0.0 0.0\n",
      "\n",
      "   0    0    0    0 \n",
      " 0132 1302 1023 2031\n",
      "   0    0    0    0 \n",
      "  0  1 -1  0  0  0  0  0  0  0  0  0  0  0  0  0\n",
      "  0  0  0  0  0  0  0  0  0  0  0  0  0  0  0  0\n",
      "  0  1 -2  1  1  0  0 -1  0  1  0 -1  0 -1  1  0\n",
      "  0  0  0  0  0  0  0  0  0  0  0  0  0  0  0  0\n",
      "0.0 0.0\n",
      "\n",
      "\n"
     ]
    }
   ],
   "source": [
    "import snappy\n",
    "M = snappy.Triangulation('4_1')\n",
    "gluing = M._get_tetrahedra_gluing_data()\n",
    "print(gluing)\n",
    "print(M._to_string())"
   ]
  },
  {
   "cell_type": "code",
   "execution_count": 57,
   "metadata": {
    "hidden": true
   },
   "outputs": [
    {
     "name": "stdout",
     "output_type": "stream",
     "text": [
      "0 [0, 1, 3, 2]\n",
      "a01 glues to b01\n",
      "a02 glues to b03\n",
      "a03 glues to b02\n",
      "1 [1, 3, 0, 2]\n",
      "a10 glues to b31\n",
      "a12 glues to b30\n",
      "a13 glues to b32\n",
      "2 [1, 0, 2, 3]\n",
      "a20 glues to b21\n",
      "a21 glues to b20\n",
      "a23 glues to b23\n",
      "3 [2, 0, 3, 1]\n",
      "a30 glues to b12\n",
      "a31 glues to b10\n",
      "a32 glues to b13\n"
     ]
    }
   ],
   "source": [
    "for i in range(4):\n",
    "    print(i, gluing[0][1][i])\n",
    "    for j in range(4):\n",
    "        if i != j:\n",
    "            print(\"a{0}{1}\".format(i,j),\"glues to\", \"b{0}{1}\".format(gluing[0][1][i][i],gluing[0][1][i][j]))"
   ]
  },
  {
   "cell_type": "code",
   "execution_count": null,
   "metadata": {
    "hidden": true
   },
   "outputs": [],
   "source": [
    "print(M._get_tetrahedra_gluing_data())"
   ]
  },
  {
   "cell_type": "code",
   "execution_count": null,
   "metadata": {
    "hidden": true
   },
   "outputs": [],
   "source": [
    "snappy.Manifold(M).browse()\n",
    "%gui tk"
   ]
  },
  {
   "cell_type": "code",
   "execution_count": null,
   "metadata": {
    "hidden": true
   },
   "outputs": [],
   "source": [
    "print(M._to_string())\n",
    "M.reverse_orientation()\n",
    "print(M._to_string())"
   ]
  },
  {
   "cell_type": "code",
   "execution_count": null,
   "metadata": {
    "hidden": true
   },
   "outputs": [],
   "source": [
    "import snappy_manifolds\n",
    "Mc = snappy.snap.t3mlite.Mcomplex(M)\n",
    "print(\"Gluing info:\")\n",
    "for tet in Mc.Tetrahedra:\n",
    "    print(tet.Gluing)\n",
    "\n",
    "t1 = Mc.Tetrahedra[0]\n",
    "\n",
    "e1 = Mc.Edges[0]\n",
    "print(\"Embeddings:\")\n",
    "for em in e1.embeddings():\n",
    "    print(em)\n",
    "\n",
    "print(e1.info())\n",
    "a = e1.get_arrow() # I think arrow tells me <Edge | Face | Tet >"
   ]
  },
  {
   "cell_type": "code",
   "execution_count": null,
   "metadata": {
    "hidden": true
   },
   "outputs": [],
   "source": [
    "print(M._to_string())"
   ]
  },
  {
   "cell_type": "code",
   "execution_count": null,
   "metadata": {
    "hidden": true
   },
   "outputs": [],
   "source": [
    "import snappy\n",
    "snappy.snap.t3mlite.Mcomplex?"
   ]
  },
  {
   "cell_type": "markdown",
   "metadata": {
    "hidden": true
   },
   "source": [
    "## Directed Graph"
   ]
  },
  {
   "cell_type": "code",
   "execution_count": null,
   "metadata": {
    "hidden": true
   },
   "outputs": [],
   "source": [
    "#todo - maybe clean this up using DiGraph join() or union() instead of lists and forloops. \n",
    "graph_dict_tet_A = {\n",
    "    'a10': {'a20':'a10'}, 'a20': {'a30':'a20'}, 'a30':{'a10':'a30'},\n",
    "    'a01': {'a21':'a01'}, 'a21': {'a31':'a21'}, 'a31':{'a01':'a31'},\n",
    "    'a02': {'a12':'a02'}, 'a12': {'a32':'a12'}, 'a32':{'a02':'a32'},\n",
    "    'a03': {'a13':'a03'}, 'a13': {'a23':'a13'}, 'a23':{'a03':'a23'}}\n",
    "\n",
    "long_edge_list_A = [\n",
    "    ['a10',{'a32':'A02'}],\n",
    "    ['a20',{'a23':'A03'}],\n",
    "    ['a30',{'a31':'A01'}],\n",
    "    ['a01',{'a02':'A12'}],\n",
    "    ['a21',{'a03':'A13'}],\n",
    "   # ['a31',{'a30':'A01'}],\n",
    "   # ['a02',{'a01':'A12'}],\n",
    "    ['a12',{'a13':'A23'}]\n",
    "   # ['a32',{'a10':'A02'}],\n",
    "   # ['a03',{'a21':'A13'}],\n",
    "   # ['a13',{'a12':'A23'}],\n",
    "   # ['a23',{'a20':'A03'}]\n",
    "]\n",
    "for head,tail in long_edge_list_A:\n",
    "    graph_dict_tet_A[head].update(tail)\n",
    "\n",
    "graph_dict_tet_B = {\n",
    "    'b10': {'b20':'b10'}, 'b20': {'b30':'b20'}, 'b30':{'b10':'b30'},\n",
    "    'b01': {'b21':'b01'}, 'b21': {'b31':'b21'}, 'b31':{'b01':'b31'},\n",
    "    'b02': {'b12':'b02'}, 'b12': {'b32':'b12'}, 'b32':{'b02':'b32'},\n",
    "    'b03': {'b13':'b03'}, 'b13': {'b23':'b13'}, 'b23':{'b03':'b23'}}\n",
    "\n",
    "long_edge_list_B = [\n",
    "    ['b10',{'b32':'B02'}],\n",
    "    ['b20',{'b23':'B03'}],\n",
    "    ['b30',{'b31':'B01'}],\n",
    "    ['b01',{'b02':'B12'}],\n",
    "    ['b21',{'b03':'B13'}],\n",
    "   # ['b31',{'b30':'A01'}],\n",
    "   # ['b02',{'b01':'A12'}],\n",
    "    ['b12',{'b13':'B23'}]\n",
    "   # ['b32',{'b10':'A02'}],\n",
    "   # ['b03',{'b21':'A13'}],\n",
    "   # ['b13',{'b12':'A23'}],\n",
    "   # ['b23',{'b20':'A03'}]\n",
    "]\n",
    "for head,tail in long_edge_list_B:\n",
    "    graph_dict_tet_B[head].update(tail)\n",
    "    \n",
    "DiGraph(graph_dict_tet_B).plot(edge_labels=True)"
   ]
  },
  {
   "cell_type": "code",
   "execution_count": null,
   "metadata": {
    "hidden": true
   },
   "outputs": [],
   "source": [
    "b = DiGraph(graph_dict_tet_B)\n",
    "a = DiGraph(graph_dict_tet_A)\n",
    "skeleton = a.union(b)\n",
    "threads = [\n",
    "    ('b12','a03','x1'),\n",
    "    ('a13','b02','x2'),\n",
    "    ('b13','a02','x3'),\n",
    "    ('a12','b03','x4'),\n",
    "    ('b21','a01','x5'),\n",
    "    ('a21','b01','x6'),\n",
    "    ('a23','b32','y1'),\n",
    "    ('b02','a13','y2'),\n",
    "    ('a32','b30','y3'),\n",
    "    ('b10','a12','y4'),\n",
    "    ('a20','b31','y5'),\n",
    "    ('b01','a10','y6'),\n",
    "    ('b03','a23','z1'),\n",
    "    ('a03','b23','z2'),\n",
    "    ('b30','a21','z3'),\n",
    "    ('a31','b20','z4'),\n",
    "    ('b31','a20','z5'),\n",
    "    ('a30','b21','z6'),\n",
    "    ('a02','b13','w1'),\n",
    "    ('b23','a32','w2'),\n",
    "    ('a01','b10','w3'),\n",
    "    ('b20','a31','w4'),\n",
    "    ('a10','b12','w5'),\n",
    "    ('b32','a30','w6')\n",
    "]\n",
    "skeleton.add_edges(threads)"
   ]
  },
  {
   "cell_type": "code",
   "execution_count": null,
   "metadata": {
    "hidden": true
   },
   "outputs": [],
   "source": [
    "skeleton.plot(edge_labels=True)"
   ]
  },
  {
   "cell_type": "code",
   "execution_count": null,
   "metadata": {
    "hidden": true
   },
   "outputs": [],
   "source": [
    "dir(skeleton)"
   ]
  },
  {
   "cell_type": "code",
   "execution_count": null,
   "metadata": {
    "hidden": true
   },
   "outputs": [],
   "source": [
    "# todo - check that this is right using the edges_incident method.\n",
    "skeleton.edges_incident('a01')"
   ]
  },
  {
   "cell_type": "code",
   "execution_count": null,
   "metadata": {
    "hidden": true
   },
   "outputs": [],
   "source": [
    "skeleton.contract_edges(threads)"
   ]
  },
  {
   "cell_type": "code",
   "execution_count": null,
   "metadata": {
    "hidden": true
   },
   "outputs": [],
   "source": [
    "skeleton.plot3d(edge_labels=True)"
   ]
  },
  {
   "cell_type": "code",
   "execution_count": null,
   "metadata": {
    "hidden": true
   },
   "outputs": [],
   "source": [
    "skeleton.plot()"
   ]
  },
  {
   "cell_type": "code",
   "execution_count": null,
   "metadata": {
    "hidden": true
   },
   "outputs": [],
   "source": []
  },
  {
   "cell_type": "code",
   "execution_count": null,
   "metadata": {
    "hidden": true
   },
   "outputs": [],
   "source": [
    "\"x3\".startswith"
   ]
  },
  {
   "cell_type": "markdown",
   "metadata": {},
   "source": [
    "# q = 1 Version"
   ]
  },
  {
   "cell_type": "markdown",
   "metadata": {},
   "source": [
    "Here's the plan:\n",
    "1. Work with a (Laurent?) polynomial ring in all the edge variables.\n",
    "2. Quotient by the ideal generated by all the relations. By \"all the relations\" I mean $m_i - 1$ for all monomial relations $m_i$, plus the great circles which are already polynomials.\n",
    "\n",
    "\n",
    "There's a silly issue - both R and Rnew have the variables x1,...,z6, and so sometimes think you're trying to multiple elements in different rings. \n",
    "\n",
    "TODO - I expect the quotient to need three generators, but sagemath just uses the images of the generators. Figure out how to get this to work. Playing around with ideals and reduce makes me think I might need to work with polynomial rings instead of laurent ones."
   ]
  },
  {
   "cell_type": "markdown",
   "metadata": {},
   "source": [
    "## With Polynomials"
   ]
  },
  {
   "cell_type": "code",
   "execution_count": null,
   "metadata": {},
   "outputs": [],
   "source": [
    "# Some recap.\n",
    "Rnew # This is the ring with all generators for both tetrahedra and also the threads.\n",
    "Rpoly = R.polynomial_ring()\n",
    "\n",
    "# all the monomial relations, I need to convert them into elements in the ring.\n",
    "list_of_gluing_constraints_41;\n",
    "list_of_monodromy_constraints_41;\n",
    "list_of_thread_monodromy_constraints_41;\n"
   ]
  },
  {
   "cell_type": "code",
   "execution_count": null,
   "metadata": {},
   "outputs": [],
   "source": [
    "# scratch\n",
    "test_constraint = \"*\".join([\"{0}^{1}\".format(var,power) for var,power in list(zip(lex_order_41[1:],list_of_gluing_constraints_41[1][1:])) if power != 0])\n",
    "#lattice_coord_to_free_algebra_element(list_of_gluing_constraints_41[2][1:],lex_order_41[1:],R)\n",
    "\n",
    "R(a43^-1*R(x1))"
   ]
  },
  {
   "cell_type": "code",
   "execution_count": null,
   "metadata": {},
   "outputs": [],
   "source": [
    "monomial_constraints = [\n",
    "    lattice_coord_to_free_algebra_element(\n",
    "        constraint[1:],\n",
    "        lex_order_41[1:],\n",
    "        R\n",
    "    ) -1 for constraint in list_of_gluing_constraints_41 + list_of_monodromy_constraints_41 + list_of_thread_monodromy_constraints_41]\n",
    "\n",
    "monomial_constraint_ideal = R.ideal(monomial_constraints)\n",
    "glued_algebra = R.quotient_ring(monomial_constraint_ideal)"
   ]
  },
  {
   "cell_type": "code",
   "execution_count": null,
   "metadata": {},
   "outputs": [],
   "source": [
    "# A function to clear denominators.\n",
    "\n",
    "def clear_denominator(laurent_poly,ring):\n",
    "    \"\"\"multiplies laurent_poly by a monomial to clear all negative powers.\n",
    "    \n",
    "    Parameters:\n",
    "    laurent_poly (laurent_polynomial) - needs clearing\n",
    "    ring (LaurentPolynomialRing) - the ambient ring\n",
    "    \n",
    "    Returns:\n",
    "    polynomial version of laurent_poly\n",
    "    \"\"\"\n",
    "    powers_grouped_by_variable = list(zip(*laurent_poly.exponents()))    \n",
    "    lowest_exponents = [reduce(lambda x,y : -min(x,y), l) for l in powers_grouped_by_variable]\n",
    "    poly_ring = ring.polynomial_ring()\n",
    "    \n",
    "    return poly_ring(ring.monomial(*lowest_exponents)*laurent_poly)\n",
    "\n",
    "    \n",
    "clear_denominator(R(a43^-1*R(x1) -a21^-2*a43^4),R)"
   ]
  },
  {
   "cell_type": "code",
   "execution_count": null,
   "metadata": {},
   "outputs": [],
   "source": [
    "# now lets look at the quotient in a polynomial ring.\n",
    "positive_powers_constraints = [clear_denominator(f,R) for f in monomial_constraints]"
   ]
  },
  {
   "cell_type": "code",
   "execution_count": null,
   "metadata": {},
   "outputs": [],
   "source": [
    "poly_constraints_ideal = Rpoly.ideal(positive_powers_constraints)\n",
    "poly_glued_algebra = Rpoly.quotient(poly_constraints_ideal)"
   ]
  }
 ],
 "metadata": {
  "celltoolbar": "Initialization Cell",
  "kernelspec": {
   "display_name": "SageMath 9.5",
   "language": "sage",
   "name": "sagemath"
  },
  "language_info": {
   "codemirror_mode": {
    "name": "ipython",
    "version": 3
   },
   "file_extension": ".py",
   "mimetype": "text/x-python",
   "name": "python",
   "nbconvert_exporter": "python",
   "pygments_lexer": "ipython3",
   "version": "3.10.6"
  },
  "toc": {
   "base_numbering": 1,
   "nav_menu": {
    "height": "177px",
    "width": "344px"
   },
   "number_sections": true,
   "sideBar": true,
   "skip_h1_title": false,
   "title_cell": "Table of Contents",
   "title_sidebar": "Contents",
   "toc_cell": false,
   "toc_position": {
    "height": "calc(100% - 180px)",
    "left": "10px",
    "top": "150px",
    "width": "297.333px"
   },
   "toc_section_display": true,
   "toc_window_display": false
  },
  "varInspector": {
   "cols": {
    "lenName": 16,
    "lenType": 16,
    "lenVar": 40
   },
   "kernels_config": {
    "python": {
     "delete_cmd_postfix": "",
     "delete_cmd_prefix": "del ",
     "library": "var_list.py",
     "varRefreshCmd": "print(var_dic_list())"
    },
    "r": {
     "delete_cmd_postfix": ") ",
     "delete_cmd_prefix": "rm(",
     "library": "var_list.r",
     "varRefreshCmd": "cat(var_dic_list()) "
    }
   },
   "types_to_exclude": [
    "module",
    "function",
    "builtin_function_or_method",
    "instance",
    "_Feature"
   ],
   "window_display": false
  }
 },
 "nbformat": 4,
 "nbformat_minor": 4
}
