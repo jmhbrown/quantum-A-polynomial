{
 "cells": [
  {
   "cell_type": "markdown",
   "metadata": {},
   "source": [
    "# Support and Setup"
   ]
  },
  {
   "cell_type": "code",
   "execution_count": null,
   "metadata": {
    "init_cell": true
   },
   "outputs": [],
   "source": [
    "import snappy\n",
    "M = snappy.Triangulation('4_1')\n",
    "A_lit_str = 'l*m^8 - l*m^6 + l^2*m^4 - 2*l*m^4 + m^4 - l*m^2 + l'\n",
    "## Do Pachner Moves Here:\n",
    "#M._two_to_three(0,3)\n",
    "#M._two_to_three(0,2)\n",
    "#M._two_to_three(1,3)\n",
    "num_tet = M.num_tetrahedra()"
   ]
  },
  {
   "cell_type": "markdown",
   "metadata": {},
   "source": [
    "## Logging\n",
    "\n",
    "You can change the logging level here."
   ]
  },
  {
   "cell_type": "code",
   "execution_count": null,
   "metadata": {
    "init_cell": true
   },
   "outputs": [],
   "source": [
    "import logging\n",
    "\n",
    "# create logger\n",
    "logger = logging.getLogger(__name__)\n",
    "\n",
    "# keep from having duplicate messages.\n",
    "logger.handlers = []\n",
    "logger.propagate = False\n",
    "\n",
    "# set log level for all handlers to debug. Options are DEBUG, INFO, WARNING, ERROR, and CRITICAL.\n",
    "logger.setLevel(logging.DEBUG)\n",
    "\n",
    "# create console handler and set level to debug\n",
    "# best for development or debugging\n",
    "consoleHandler = logging.StreamHandler()\n",
    "consoleHandler.setLevel(logging.DEBUG)\n",
    "\n",
    "\n",
    "\n",
    "# create formatter\n",
    "formatter = logging.Formatter('%(levelname)s - %(message)s')\n",
    "\n",
    "# add formatter to ch\n",
    "consoleHandler.setFormatter(formatter)\n",
    "\n",
    "# add console hangler to logger\n",
    "logger.addHandler(consoleHandler)"
   ]
  },
  {
   "cell_type": "code",
   "execution_count": null,
   "metadata": {},
   "outputs": [],
   "source": []
  },
  {
   "cell_type": "markdown",
   "metadata": {},
   "source": [
    "## Helper methods\n",
    "TODO - some of these I don't use and should remove.\n",
    "\n",
    "TODO - there are other helper methods scattered through the code, which would be good to move here.\n",
    "\n",
    "TODO - move anything general-purpose built for quantum tori to the quantum_tori.ipynb file."
   ]
  },
  {
   "cell_type": "code",
   "execution_count": null,
   "metadata": {
    "init_cell": true
   },
   "outputs": [],
   "source": [
    "import functools\n",
    "\n",
    "def std_basis(i,dim,power=1):\n",
    "    # returns (0,...,0,power,0,...,0) in ZZ^dim\n",
    "    vec = [0]*dim\n",
    "    vec[i] = power\n",
    "    return vector(vec)\n",
    "\n",
    "# list + list is concatenation, here's a method to add lists termwise:\n",
    "# needs the library functools for reduce.\n",
    "def add_termwise(*args):\n",
    "    return list(reduce(lambda x,y: vector(x)+vector(y), args))\n",
    "\n",
    "# multiply_termwise(v,w) returns (v1*w1,...,vn*wn)\n",
    "def multiply_termwise(*args):\n",
    "    return reduce(lambda vec1, vec2: list(map(lambda x,y: x*y, vec1,vec2)), args)\n",
    "    \n",
    "\n",
    "def get_normal_ordering_power(term,relations):\n",
    "    # :ab: = q^{-n}:a: :b:, if ab = q^{2n}ba\n",
    "    dim = len(vector(ZZ,term))\n",
    "    scalar_power = 0\n",
    "    for i in range(dim):\n",
    "        if not (term[i].is_zero() or vector(term[i+1:]).is_zero()):\n",
    "            leading_factor = vector([0]*dim)\n",
    "            leading_factor[i] = term[i]\n",
    "            trailing_terms = vector([0]*dim)\n",
    "            trailing_terms[i+1:] = term[i+1:]\n",
    "        \n",
    "            scalar_power -= (matrix(leading_factor)*relations*matrix(trailing_terms).transpose())[0]\n",
    "    return (scalar_power/2)[0]\n",
    "\n",
    "def add_normal_ordering_scalar(list_of_terms,relations):\n",
    "    new_list_of_terms = list_of_terms\n",
    "    for term in new_list_of_terms:\n",
    "        term[0] += get_normal_ordering_power(term,relations)\n",
    "    return new_list_of_terms\n",
    "\n",
    "def dict_monomial_to_list(monomial):\n",
    "    coeff = LaurentPolynomialRing(ZZ,'qrt4')(list(monomial.values())[0])\n",
    "    if not coeff.is_monomial():\n",
    "        raise Exception('I can only deal with coefficients in the form q^a')\n",
    "    else:\n",
    "        lattice_coord = list(list(monomial.keys())[0])\n",
    "        lattice_coord[0] += coeff.degree()/2 # the coeff is in terms of qrt4, qrt4^4 = q\n",
    "        return lattice_coord"
   ]
  },
  {
   "cell_type": "code",
   "execution_count": null,
   "metadata": {
    "init_cell": true
   },
   "outputs": [],
   "source": [
    "# Functions for quantum tori - TODO combine this with the quantum_tori notebook.\n",
    "\n",
    "\n",
    "def names_to_lattice_coordinate(names,gens_dict):\n",
    "    \"\"\"\n",
    "    Gets the lattice coordinate for a monomial. Assumes the coordinates are\n",
    "    Weyl normal order, e.g. ['x','y','z'] -> :xyz:\n",
    "    \n",
    "    Parameters:\n",
    "        names (list of strings or dictionary specifying exponents) - generator names\n",
    "        gens_dict (dict) - maps generator names to lattice coordinates.\n",
    "    \n",
    "    Returns:\n",
    "        vector - the lattice coordinate of the Weyl normal order product of the given generator.\n",
    "    \"\"\"\n",
    "    if isinstance(names,dict): # means powers are specified\n",
    "        return sum([power*gens_dict[gen] for gen,power in names.items()])\n",
    "    else: # its a list or set\n",
    "        return sum([gens_dict[gen] for gen in names])\n",
    "    \n",
    "def lattice_coord_to_dict(coord,gens_dict):\n",
    "    \"\"\"\n",
    "    Converts a lattice coordinate to a dictionary with variable names as keys and powers as values.\n",
    "    Might assume that each generator's coordinate has exactly one non-zero entry.\n",
    "    \n",
    "    Parameters:\n",
    "        coord (list or vector) - the coordinate of an element in the quantum torus\n",
    "        gens_dict (dict) - the dictionary of generator lattice coordinates.\n",
    "    \n",
    "    Returns:\n",
    "        dict - a dictionary representation of the coordinate.\n",
    "    \"\"\"\n",
    "    dict_form = {}\n",
    "    for gen_name,gen_coord in gens_dict.items():\n",
    "        # divide by that entry to deal with qrt2, which is (2,0,...,0)\n",
    "        # does not handle roots of other generators - they'll be set to zero by int()\n",
    "        power = int(sum(ii*jj for (ii,jj) in zip(gen_coord,coord))/max(gen_coord))\n",
    "        if power != 0:\n",
    "            dict_form[gen_name] = power\n",
    "    \n",
    "    return dict_form\n",
    "\n",
    "def lattice_coord_to_ring_element(coord,the_ring):\n",
    "    \"\"\"\n",
    "    Turns a lattice coordinate into a ring element.\n",
    "    Assumes that the coordinate and the_ring.gens() use the same order.\n",
    "    This recreates the functionality of the_ring.monomial, which isn't implemented for all the rings we work with.\n",
    "    \n",
    "    Parameters:\n",
    "        coord (List) - the lattice coordinate of a module element.\n",
    "        the_ring (fgp_module) - the ambient module\n",
    "    \n",
    "    Returns:\n",
    "        (the_ring.element_class) - the ring element corresponding to the lattice coordinate\n",
    "    \"\"\"\n",
    "    return reduce(the_ring.product, [term[0]**term[1] for term in zip(the_ring.gens(),coord)])\n",
    "\n",
    "def product_from_lattice_coordinates(*coords, relations=matrix.identity(3), gens_dict={'qrt2':(2,0,0),'A':(0,1,0),'a':(0,0,1)}):\n",
    "    #TODO - double check that this works like I think it should.\n",
    "    \"\"\"\n",
    "    Gets the lattice coordinate for the product X^coord1 * X^coord2 * ... * X^coordn\n",
    "    This isn't simple termwise addition because lattice coordinates are in normal order, so we have a factor of q introduced.\n",
    "    \n",
    "    If X^coord1 * X^coord2 = q^(2n) X^coord2 * X^coord1, then \n",
    "    X^coord1 * X^coord2 = q^(-n) X^(coord1 + coord2)\n",
    "    \n",
    "    Parameters:\n",
    "        coords (vector or list) - an arbitrary number (>=1) of lattice coordinates, in the order they're being multiplied\n",
    "        relations (matrix) - the relations matrix\n",
    "        gens_dict (dict) - dictionary with generator names. used to specify q.\n",
    "    \n",
    "    Returns:\n",
    "        vector - the lattice coordinate for the product\n",
    "    \"\"\"\n",
    "    \n",
    "    get_q_power = lambda c1, c2: -(matrix(c1)*relations*matrix(c2).transpose())[0,0]\n",
    "    \n",
    "    return reduce(lambda c1,c2: get_q_power(c1,c2)*vector(gens_dict['qrt2'])/2+vector(c1)+vector(c2),coords)\n",
    "\n",
    "def product_from_names(*monomials,relations=matrix.identity(3),gens_dict={'qrt2':(2,0,0),'A':(0,1,0),'a':(0,0,1)}):\n",
    "    \"\"\"\n",
    "    Returns the product of the monomials (in normal order) in the form of a dictionary.\n",
    "    \n",
    "    Parameters:\n",
    "        monomials (dict or list of strings) - an arbitrary number (2 or more?) of dictionarys, in the order they're being multiplied.\n",
    "        relations (matrix) - gives the commutation relations\n",
    "        gens_dict (dict) - maps variable names to lattice coordinates\n",
    "    \n",
    "    Returns:\n",
    "        dict - the product in normal order.\n",
    "    \"\"\"\n",
    "    \n",
    "    coords = [names_to_lattice_coordinate(m,gens_dict) for m in monomials]\n",
    "    \n",
    "    return product_from_lattice_coordinates(*coords,relations=relations,gens_dict=gens_dict)\n",
    "\n",
    "def clear_denominator(element):\n",
    "    \"\"\"Clears denominator by multiplying through by a monomial.\"\"\"\n",
    "    ambient_ring = element.parent()\n",
    "    \n",
    "    return ambient_ring.monomial(*[\n",
    "        -min(powers) for powers in matrix(element.exponents()).transpose().rows()\n",
    "    ])*element"
   ]
  },
  {
   "cell_type": "code",
   "execution_count": 36,
   "metadata": {},
   "outputs": [
    {
     "data": {
      "text/plain": [
       "{'a': 1, 'b': 1, 'c': 2}"
      ]
     },
     "execution_count": 36,
     "metadata": {},
     "output_type": "execute_result"
    }
   ],
   "source": [
    "product_from_lattice_coordinates(gens_dict['a002'],gens_dict['a001'],gens_dict['a001'],relations=omega_with_q,gens_dict=gens_dict)\n",
    "product_from_names({'a002':1},{'a001':1},{'a001':-1}, relations=omega_with_q, gens_dict=gens_dict)\n",
    "{'a':1,'b':-1} | {'b':1,'c':2}"
   ]
  },
  {
   "cell_type": "code",
   "execution_count": null,
   "metadata": {},
   "outputs": [],
   "source": [
    "def merge_or_add(dict1, dict2):\n",
    "    \"\"\"\n",
    "    A version of dict1 | dict2 which adds the values of repeated keys. Does not overwrite the original dictionaries.\n",
    "    \n",
    "    Example: (compare 'b' value)\n",
    "    {'a':1,'b':-1} | {'b':1,'c':2}\n",
    "    >> {'a': 1, 'b': 1, 'c': 2}\n",
    "    merge_or_add({'a':1,'b':-1}, {'b':1,'c':2})\n",
    "    >> {'a':1, 'b':0, 'c':2}\n",
    "    \n",
    "    Parameters:\n",
    "    dict1 (dict)\n",
    "    dict2 (dict)\n",
    "    \n",
    "    Returns:\n",
    "    dict\n",
    "    \"\"\"\n",
    "    \n",
    "    union_keys = set(dict1.keys()) | set(dict2.keys())\n",
    "    \n",
    "    return {k : dict1.get(k,0)+dict2.get(k,0) for k in union_keys}\n"
   ]
  },
  {
   "cell_type": "markdown",
   "metadata": {},
   "source": [
    "## Lattice Coordinates and Weights.\n",
    "\n",
    "Also gluing data"
   ]
  },
  {
   "cell_type": "code",
   "execution_count": 37,
   "metadata": {},
   "outputs": [
    {
     "data": {
      "text/plain": [
       "<class 'snappy.Triangulation'>"
      ]
     },
     "execution_count": 37,
     "metadata": {},
     "output_type": "execute_result"
    }
   ],
   "source": []
  },
  {
   "cell_type": "markdown",
   "metadata": {},
   "source": [
    "Here's a commented version explaining some about the output of `snappy.Triangulation._to_string()`.\n",
    "\n",
    "```\n",
    "\n",
    "3                                       # <-- number of tetrahedron\n",
    "\n",
    "### tetrahedron 1 ###\n",
    "   1    2    1    2                     # <-- which tetrahedron face 0 1 2 3 goes too. \n",
    " 1302 3012 0132 0132                    # <-- permutations on the vertices that defines\n",
    "   0    0    0    0                     #     exactly where the face goes.\n",
    "  0  0  0  0  0  0  0  0  0  1  0 -1  0  0  0  0\n",
    "  0  0  0  0  0  0  0  0  0  0  0  0  0  0  0  0\n",
    "  0 -1  0  1 -1  0  1  0  0  1  0 -1  0  1 -1  0\n",
    "  0  0  0  0  0  0  0  0  0  0  0  0  0  0  0  0\n",
    "0.0 0.0\n",
    "\n",
    "### tetrahedron 2 ###\n",
    "   2    0    2    0 \n",
    " 1302 2031 0132 0132\n",
    "   0    0    0    0 \n",
    "  0  0  0  0  1  0 -1  0  0  0  0  0  0  0  0  0\n",
    "  0  0  0  0  0  0  0  0  0  0  0  0  0  0  0  0\n",
    "  0  0  0  0  2  0 -1 -1 -1  0  0  1  0  1 -1  0\n",
    "  0  0  0  0  0  0  0  0  0  0  0  0  0  0  0  0\n",
    "0.0 0.0\n",
    "\n",
    "### tetrahedron 3 ###\n",
    "   0    1    0    1 \n",
    " 1230 2031 0132 0132\n",
    "   0    0    0    0 \n",
    "  0  0  0  0 -1  0  0  1  0  0  0  0  0 -1  1  0\n",
    "  0  0  0  0  0  0  0  0  0  0  0  0  0  0  0  0\n",
    "  0  1 -1  0 -1  0  0  1 -1  0  0  1  1 -2  1  0\n",
    "  0  0  0  0  0  0  0  0  0  0  0  0  0  0  0  0\n",
    "0.0 0.0\n",
    "```"
   ]
  },
  {
   "cell_type": "code",
   "execution_count": null,
   "metadata": {
    "init_cell": true
   },
   "outputs": [],
   "source": [
    "# Define q and some of its roots.\n",
    "q = var('q')\n",
    "qrt2 = var('qrt2')\n",
    "qrt4 = var('qrt4')\n",
    "q = qrt4^4\n",
    "q = qrt2^2\n",
    "qrt2 = qrt4^2\n",
    "\n",
    "\n",
    "# todo - is this coeffs vector still useful?\n",
    "R.<qrt4> =LaurentPolynomialRing(ZZ)\n",
    "coeffs = matrix(R,[qrt2^2])\n"
   ]
  },
  {
   "cell_type": "markdown",
   "metadata": {},
   "source": [
    "### Lattice Coordinates for Short and Long Edges"
   ]
  },
  {
   "cell_type": "code",
   "execution_count": null,
   "metadata": {
    "init_cell": true
   },
   "outputs": [],
   "source": [
    "# First q. The first lattice is in terms of qrt2 = q^(1/2)\n",
    "gens_dict = {'qrt2': vector([1] + [0]*(num_tet*18) + [0]*(num_tet*12))}\n",
    "\n",
    "# Generators for the skein algebra of the tetrahedra. Threads (from gluing) come later.\n",
    "for t in range(M.num_tetrahedra()):\n",
    "                  # qrt2 + earlier tets\n",
    "    leading_zeros = 1 + 18*t\n",
    "                   # later tets       + threads\n",
    "    trailing_zeros = 18*(num_tet-1-t) + num_tet*12\n",
    "    # short edges\n",
    "    gens_dict.update(\n",
    "        {                        # q + before             + short                     +  long + after & threads\n",
    "            \"a{0}01\".format(t) : vector([0]*leading_zeros + [1,0,0,0,0,0,0,0,0,0,0,0] + [0]*(6+trailing_zeros)),\n",
    "            \"a{0}02\".format(t) : vector([0]*leading_zeros + [0,1,0,0,0,0,0,0,0,0,0,0] + [0]*(6+trailing_zeros)),\n",
    "            \"a{0}03\".format(t) : vector([0]*leading_zeros + [0,0,1,0,0,0,0,0,0,0,0,0] + [0]*(6+trailing_zeros)),\n",
    "            \"a{0}10\".format(t) : vector([0]*leading_zeros + [0,0,0,1,0,0,0,0,0,0,0,0] + [0]*(6+trailing_zeros)),\n",
    "            \"a{0}13\".format(t) : vector([0]*leading_zeros + [0,0,0,0,1,0,0,0,0,0,0,0] + [0]*(6+trailing_zeros)),\n",
    "            \"a{0}12\".format(t) : vector([0]*leading_zeros + [0,0,0,0,0,1,0,0,0,0,0,0] + [0]*(6+trailing_zeros)),\n",
    "            \"a{0}20\".format(t) : vector([0]*leading_zeros + [0,0,0,0,0,0,1,0,0,0,0,0] + [0]*(6+trailing_zeros)),\n",
    "            \"a{0}21\".format(t) : vector([0]*leading_zeros + [0,0,0,0,0,0,0,1,0,0,0,0] + [0]*(6+trailing_zeros)),\n",
    "            \"a{0}23\".format(t) : vector([0]*leading_zeros + [0,0,0,0,0,0,0,0,1,0,0,0] + [0]*(6+trailing_zeros)),\n",
    "            \"a{0}30\".format(t) : vector([0]*leading_zeros + [0,0,0,0,0,0,0,0,0,1,0,0] + [0]*(6+trailing_zeros)),\n",
    "            \"a{0}32\".format(t) : vector([0]*leading_zeros + [0,0,0,0,0,0,0,0,0,0,1,0] + [0]*(6+trailing_zeros)),\n",
    "            \"a{0}31\".format(t) : vector([0]*leading_zeros + [0,0,0,0,0,0,0,0,0,0,0,1] + [0]*(6+trailing_zeros))  \n",
    "        })\n",
    "    # long edges\n",
    "    gens_dict.update(\n",
    "        {\n",
    "        \"A{0}01\".format(t) : vector([0]*(leading_zeros+12) + [1,0,0,0,0,0] + [0]*trailing_zeros),\n",
    "        \"A{0}02\".format(t) : vector([0]*(leading_zeros+12) + [0,1,0,0,0,0] + [0]*trailing_zeros),\n",
    "        \"A{0}03\".format(t) : vector([0]*(leading_zeros+12) + [0,0,1,0,0,0] + [0]*trailing_zeros),\n",
    "        \"A{0}12\".format(t) : vector([0]*(leading_zeros+12) + [0,0,0,1,0,0] + [0]*trailing_zeros),\n",
    "        \"A{0}13\".format(t) : vector([0]*(leading_zeros+12) + [0,0,0,0,1,0] + [0]*trailing_zeros),\n",
    "        \"A{0}23\".format(t) : vector([0]*(leading_zeros+12) + [0,0,0,0,0,1] + [0]*trailing_zeros)\n",
    "        })\n",
    "    # I might want to add the swapped indices - right now this would break later code.\n",
    "    # gens_dict.update(\n",
    "     #   {\n",
    "     #       \"A{0}10\".format(t) : gens_dict[\"A{0}01\".format(t)],\n",
    "     #       \"A{0}20\".format(t) : gens_dict[\"A{0}02\".format(t)],\n",
    "     #       \"A{0}30\".format(t) : gens_dict[\"A{0}03\".format(t)],\n",
    "     #       \"A{0}21\".format(t) : gens_dict[\"A{0}12\".format(t)],\n",
    "     #       \"A{0}31\".format(t) : gens_dict[\"A{0}13\".format(t)],\n",
    "     #       \"A{0}32\".format(t) : gens_dict[\"A{0}23\".format(t)]\n",
    "     #   })\n",
    "    \n",
    "\n",
    "\n",
    "#lex_order_41 = list(gens_dict.keys())\n",
    "#lex_order_41[0] = 'qrt4'\n",
    "# shorthand:\n",
    "lat = gens_dict\n",
    "\n"
   ]
  },
  {
   "cell_type": "markdown",
   "metadata": {},
   "source": [
    "### Vertices"
   ]
  },
  {
   "cell_type": "code",
   "execution_count": null,
   "metadata": {
    "init_cell": true
   },
   "outputs": [],
   "source": [
    "# Vertices\n",
    "\n",
    "vertices_dict = {}\n",
    "\n",
    "# this list isn't used - I just do it by hand\n",
    "\"\"\"\n",
    "vertex_labels = []\n",
    "for t in range(3):\n",
    "    faces = [0,1,2,3]\n",
    "    for f in faces:\n",
    "        punctures = faces.copy()\n",
    "        punctures.remove(f)\n",
    "        for p in punctures:\n",
    "            last_index = punctures.copy()\n",
    "            last_index.remove(p)\n",
    "            for i in last_index:\n",
    "                vertex = \"v{0}{1}{2}\".format(t,p,i)\n",
    "                vertex_labels.append(vertex) if vertex_labels.count(vertex) == 0 else True\n",
    "\"\"\"\n",
    "\n",
    "# make a basis for the vertices. This will be useful for the weights matrix.\n",
    "\n",
    "for t in range(M.num_tetrahedra()):\n",
    "    vertices_dict.update(\n",
    "        {                       \n",
    "            \"v{0}01\".format(t) : [0]*(12*t) + [1,0,0,0,0,0,0,0,0,0,0,0] + [0]*(12*(num_tet-1-t)),\n",
    "            \"v{0}02\".format(t) : [0]*(12*t) + [0,1,0,0,0,0,0,0,0,0,0,0] + [0]*(12*(num_tet-1-t)),\n",
    "            \"v{0}03\".format(t) : [0]*(12*t) + [0,0,1,0,0,0,0,0,0,0,0,0] + [0]*(12*(num_tet-1-t)),\n",
    "            \"v{0}10\".format(t) : [0]*(12*t) + [0,0,0,1,0,0,0,0,0,0,0,0] + [0]*(12*(num_tet-1-t)),\n",
    "            \"v{0}13\".format(t) : [0]*(12*t) + [0,0,0,0,1,0,0,0,0,0,0,0] + [0]*(12*(num_tet-1-t)),\n",
    "            \"v{0}12\".format(t) : [0]*(12*t) + [0,0,0,0,0,1,0,0,0,0,0,0] + [0]*(12*(num_tet-1-t)),\n",
    "            \"v{0}20\".format(t) : [0]*(12*t) + [0,0,0,0,0,0,1,0,0,0,0,0] + [0]*(12*(num_tet-1-t)),\n",
    "            \"v{0}21\".format(t) : [0]*(12*t) + [0,0,0,0,0,0,0,1,0,0,0,0] + [0]*(12*(num_tet-1-t)),\n",
    "            \"v{0}23\".format(t) : [0]*(12*t) + [0,0,0,0,0,0,0,0,1,0,0,0] + [0]*(12*(num_tet-1-t)),\n",
    "            \"v{0}30\".format(t) : [0]*(12*t) + [0,0,0,0,0,0,0,0,0,1,0,0] + [0]*(12*(num_tet-1-t)),\n",
    "            \"v{0}32\".format(t) : [0]*(12*t) + [0,0,0,0,0,0,0,0,0,0,1,0] + [0]*(12*(num_tet-1-t)),\n",
    "            \"v{0}31\".format(t) : [0]*(12*t) + [0,0,0,0,0,0,0,0,0,0,0,1] + [0]*(12*(num_tet-1-t))\n",
    "        })\n",
    "    \n",
    "\n",
    "    "
   ]
  },
  {
   "cell_type": "code",
   "execution_count": 39,
   "metadata": {},
   "outputs": [
    {
     "data": {
      "image/png": "[encoded data removed]",
      "text/plain": [
       "Graphics object consisting of 1 graphics primitive"
      ]
     },
     "execution_count": 39,
     "metadata": {},
     "output_type": "execute_result"
    }
   ],
   "source": [
    "# scratch - visualize the vertices basis. Should look like the identity matrix.\n",
    "matrix_plot([list(v) for v in vertices_dict.values()])"
   ]
  },
  {
   "cell_type": "markdown",
   "metadata": {},
   "source": [
    "### Weights for Short and Long Edges"
   ]
  },
  {
   "cell_type": "code",
   "execution_count": null,
   "metadata": {
    "init_cell": true
   },
   "outputs": [],
   "source": [
    "# Weights\n",
    "weights_dict = {}\n",
    "for t in range(M.num_tetrahedra()):\n",
    "    weights_dict.update({\n",
    "        'a{0}01'.format(t) : {'v{0}02'.format(t): 1, 'v{0}03'.format(t): -1},\n",
    "        'a{0}02'.format(t) : {'v{0}03'.format(t): 1, 'v{0}01'.format(t): -1},\n",
    "        'a{0}03'.format(t) : {'v{0}01'.format(t): 1, 'v{0}02'.format(t): -1},\n",
    "        'a{0}10'.format(t) : {'v{0}13'.format(t): 1, 'v{0}12'.format(t): -1},\n",
    "        'a{0}13'.format(t) : {'v{0}12'.format(t): 1, 'v{0}10'.format(t): -1},\n",
    "        'a{0}12'.format(t) : {'v{0}10'.format(t): 1, 'v{0}13'.format(t): -1},\n",
    "        'a{0}20'.format(t) : {'v{0}21'.format(t): 1, 'v{0}23'.format(t): -1},\n",
    "        'a{0}21'.format(t) : {'v{0}23'.format(t): 1, 'v{0}20'.format(t): -1},\n",
    "        'a{0}23'.format(t) : {'v{0}20'.format(t): 1, 'v{0}21'.format(t): -1},\n",
    "        'a{0}30'.format(t) : {'v{0}32'.format(t): 1, 'v{0}31'.format(t): -1},\n",
    "        'a{0}32'.format(t) : {'v{0}31'.format(t): 1, 'v{0}30'.format(t): -1},\n",
    "        'a{0}31'.format(t) : {'v{0}30'.format(t): 1, 'v{0}32'.format(t): -1}\n",
    "    })\n",
    "    \n",
    "    weights_dict.update({\n",
    "        'A{0}01'.format(t) : {'v{0}01'.format(t): 1, 'v{0}10'.format(t): 1},\n",
    "        'A{0}02'.format(t) : {'v{0}02'.format(t): 1, 'v{0}20'.format(t): 1},\n",
    "        'A{0}03'.format(t) : {'v{0}03'.format(t): 1, 'v{0}30'.format(t): 1},\n",
    "        'A{0}12'.format(t) : {'v{0}12'.format(t): 1, 'v{0}21'.format(t): 1},\n",
    "        'A{0}13'.format(t) : {'v{0}13'.format(t): 1, 'v{0}31'.format(t): 1},\n",
    "        'A{0}23'.format(t) : {'v{0}23'.format(t): 1, 'v{0}32'.format(t): 1},\n",
    "    })\n",
    "    \n"
   ]
  },
  {
   "cell_type": "markdown",
   "metadata": {},
   "source": [
    "### Threads and Gluing Data\n",
    "Including weights and lattice coordinates for threads"
   ]
  },
  {
   "cell_type": "code",
   "execution_count": null,
   "metadata": {
    "init_cell": true
   },
   "outputs": [],
   "source": [
    "def get_short_edges_in_face(tet,face):\n",
    "    \"\"\"\n",
    "    Returns a list of the short edges contained in a specified face.\n",
    "\n",
    "    Parameters:\n",
    "    tet (Integer) - index of the tetrahedron containing the face.\n",
    "    face (Integer) - index of the face.\n",
    "\n",
    "    Returns:\n",
    "    list of str - list of short edges contained in the face.\n",
    "    \"\"\"\n",
    "    edge_indices = [0,1,2,3]\n",
    "    edge_indices.remove(face)\n",
    "    return [\"a{0}{1}{2}\".format(tet,i,face) for i in edge_indices]\n",
    "\n",
    "def get_long_edges_in_face(tet,face):\n",
    "    \"\"\"\n",
    "    Returns a list of the long edges contained in a specified face.\n",
    "\n",
    "    Parameters:\n",
    "    tet (Integer) - index of the tetrahedron containing the face.\n",
    "    face (Integer) - index of the face.\n",
    "\n",
    "    Returns:\n",
    "    list of str - list of long edges contained in the face.\n",
    "    \"\"\"\n",
    "    indices = [0,1,2,3]\n",
    "    indices.remove(face)\n",
    "    return [\"A{0}{1}{2}\".format(tet,indices[i1],indices[i2]) for i1 in range(3) for i2 in range(i1+1,3)]   \n",
    "        \n",
    "        \n",
    "    return [\"A{0}{1}{2}\".format(tet,i,face) for i in edge_indices]\n",
    "\n",
    "def get_long_edges_in_tet(tet):\n",
    "    \"\"\"\n",
    "    Returns a list of the long edges contained in a specified face.\n",
    "\n",
    "    Parameters:\n",
    "    tet (Integer) - index of the tetrahedron.\n",
    "\n",
    "    Returns:\n",
    "    list of str - list of long edges contained in the tet.\n",
    "    \"\"\"\n",
    "    return [name.format(tet) for name in ['A{0}01','A{0}02', 'A{0}03','A{0}12','A{0}13','A{0}23']]\n",
    "    \n",
    "    \n",
    "def get_local_thread_weights(tet,face):\n",
    "    \"\"\"\n",
    "    Finds the weights for the threads that would glue this face to another.\n",
    "\n",
    "    Parameters:\n",
    "    tet (Integer) - index of the tetrahedron containing the face\n",
    "    face (Integer) - index of the face inside the tetrehedron.\n",
    "\n",
    "    Returns:\n",
    "    dict {str : Integer} - gives the weights of the threads for each vertex in the face.\"\"\"\n",
    "    short_edges = get_short_edges_in_face(tet,face)\n",
    "    local_thread_weights = {}\n",
    "    for short_edge in short_edges:\n",
    "        local_thread_weights.update({\n",
    "            vertex: -weight for vertex,weight in weights_dict[short_edge].items()\n",
    "        })\n",
    "\n",
    "    return local_thread_weights\n"
   ]
  },
  {
   "cell_type": "code",
   "execution_count": null,
   "metadata": {
    "init_cell": true
   },
   "outputs": [],
   "source": [
    "# turn the gluing data into a dictionary.\n",
    "\n",
    "def get_gluing_dict(M):\n",
    "    \"\"\"\n",
    "    Reformats the gluing data from a snappy triangulation with n tetrahedra.\n",
    "\n",
    "    Parameters:\n",
    "    M (snappy.Triangulation)\n",
    "\n",
    "    Returns\n",
    "    dict - each item is a map:\n",
    "        'r{i}' specifies which tetrahedrons the faces of the i-th tet ends up in.\n",
    "        's{i}{j}' specifies the gluing map for the j-th face of the i-th tet.\n",
    "    \"\"\"\n",
    "    gluing_data = M._get_tetrahedra_gluing_data()\n",
    "    gluing_dict = {}\n",
    "    for t in range(M.num_tetrahedra()):\n",
    "        gluing_dict.update({\"r{0}\".format(t) : gluing_data[t][0] })\n",
    "        for f in range(4):\n",
    "            gluing_dict.update({\"s{0}{1}\".format(t,f) : gluing_data[t][1][f]})\n",
    "            \n",
    "    return gluing_dict\n",
    "\n",
    "\n",
    "\n",
    "# This list isn't used - it's replaced by get_thread_weights_dict.\n",
    "\"\"\"\n",
    "thread_endpoints = []\n",
    "for t in range(3):\n",
    "    for f in range(4):\n",
    "        second_index = [0,1,2,3]\n",
    "        second_index.remove(f)\n",
    "        face_perm = gluing_dict[\"s{0}{1}\".format(t,f)]\n",
    "        for i2 in second_index:\n",
    "            third_index = second_index.copy()\n",
    "            third_index.remove(i2)\n",
    "            for i3 in third_index:\n",
    "                local_vertex = \"v{0}{1}{2}\".format(t,i2,i3)\n",
    "                distant_vertex = \"v{0}{1}{2}\".format(\n",
    "                    gluing_dict[\"r{0}\".format(t)][f],\n",
    "                    face_perm[i2],\n",
    "                    face_perm[i3]\n",
    "                )\n",
    "                thread_endpoints.append({local_vertex, distant_vertex}) if thread_endpoints.count({local_vertex,distant_vertex}) == 0 else True\n",
    "\"\"\";"
   ]
  },
  {
   "cell_type": "code",
   "execution_count": 90,
   "metadata": {},
   "outputs": [],
   "source": [
    "# checks - are there self gluings?\n",
    "\n",
    "tet_gluings = {k:v for k,v in get_gluing_dict(M).items() if k[0] == 'r'}\n",
    "for k,v in tet_gluings.items():\n",
    "    this_tet = int(k[1:])\n",
    "    if v.count(this_tet) != 0:\n",
    "        print(\"Tet {0} is self-glued!\".format(this_tet))"
   ]
  },
  {
   "cell_type": "code",
   "execution_count": null,
   "metadata": {
    "init_cell": true
   },
   "outputs": [],
   "source": [
    "# This could be more beautiful.\n",
    "def get_thread_weights_dict(M):\n",
    "    \"\"\"\n",
    "    Finds the weights_dict for the threads, based on a snappy Triangulation.\n",
    "    \n",
    "    Parameters:\n",
    "    M (snappy.Triangulation)\n",
    "    \n",
    "    Returns:\n",
    "    dict of the form {str: vector} - gives the weights of the T-actions for the threads.\n",
    "    \"\"\"\n",
    "    gluing_dict = get_gluing_dict(M)\n",
    "    thread_weights_dict = {}\n",
    "    for t in range(M.num_tetrahedra()):\n",
    "        for f in range(4):\n",
    "            face_perm = gluing_dict[\"s{0}{1}\".format(t,f)]\n",
    "            local_thread_weights = get_local_thread_weights(t,f)\n",
    "            # add threads based on where they start. i.e. where they have weight 1.\n",
    "            starting_here = list(filter(lambda k : local_thread_weights[k] == 1, local_thread_weights.keys()))\n",
    "            for local_vertex in starting_here:\n",
    "                distant_vertex = \"v{0}{1}{2}\".format(\n",
    "                    gluing_dict[\"r{0}\".format(t)][f],\n",
    "                    face_perm[Integer(local_vertex[-2])],\n",
    "                    face_perm[Integer(local_vertex[-1])]\n",
    "                )\n",
    "                thread_weights_dict.update({\n",
    "                    \"x{0}_{1}\".format(local_vertex[1:], distant_vertex[1:]) : {local_vertex: 1, distant_vertex: -1}   \n",
    "                })\n",
    "\n",
    "    return thread_weights_dict\n",
    "\n",
    "\n",
    "# Add thread weights to the big weights dictionary.\n",
    "weights_dict.update(get_thread_weights_dict(M))"
   ]
  },
  {
   "cell_type": "code",
   "execution_count": 91,
   "metadata": {},
   "outputs": [
    {
     "data": {
      "text/plain": [
       "{'a001': {'v002': 1, 'v003': -1},\n",
       " 'a002': {'v003': 1, 'v001': -1},\n",
       " 'a003': {'v001': 1, 'v002': -1},\n",
       " 'a010': {'v013': 1, 'v012': -1},\n",
       " 'a013': {'v012': 1, 'v010': -1},\n",
       " 'a012': {'v010': 1, 'v013': -1},\n",
       " 'a020': {'v021': 1, 'v023': -1},\n",
       " 'a021': {'v023': 1, 'v020': -1},\n",
       " 'a023': {'v020': 1, 'v021': -1},\n",
       " 'a030': {'v032': 1, 'v031': -1},\n",
       " 'a032': {'v031': 1, 'v030': -1},\n",
       " 'a031': {'v030': 1, 'v032': -1},\n",
       " 'A001': {'v001': 1, 'v010': 1},\n",
       " 'A002': {'v002': 1, 'v020': 1},\n",
       " 'A003': {'v003': 1, 'v030': 1},\n",
       " 'A012': {'v012': 1, 'v021': 1},\n",
       " 'A013': {'v013': 1, 'v031': 1},\n",
       " 'A023': {'v023': 1, 'v032': 1},\n",
       " 'a101': {'v102': 1, 'v103': -1},\n",
       " 'a102': {'v103': 1, 'v101': -1},\n",
       " 'a103': {'v101': 1, 'v102': -1},\n",
       " 'a110': {'v113': 1, 'v112': -1},\n",
       " 'a113': {'v112': 1, 'v110': -1},\n",
       " 'a112': {'v110': 1, 'v113': -1},\n",
       " 'a120': {'v121': 1, 'v123': -1},\n",
       " 'a121': {'v123': 1, 'v120': -1},\n",
       " 'a123': {'v120': 1, 'v121': -1},\n",
       " 'a130': {'v132': 1, 'v131': -1},\n",
       " 'a132': {'v131': 1, 'v130': -1},\n",
       " 'a131': {'v130': 1, 'v132': -1},\n",
       " 'A101': {'v101': 1, 'v110': 1},\n",
       " 'A102': {'v102': 1, 'v120': 1},\n",
       " 'A103': {'v103': 1, 'v130': 1},\n",
       " 'A112': {'v112': 1, 'v121': 1},\n",
       " 'A113': {'v113': 1, 'v131': 1},\n",
       " 'A123': {'v123': 1, 'v132': 1},\n",
       " 'x012_113': {'v012': 1, 'v113': -1},\n",
       " 'x023_132': {'v023': 1, 'v132': -1},\n",
       " 'x031_121': {'v031': 1, 'v121': -1},\n",
       " 'x003_112': {'v003': 1, 'v112': -1},\n",
       " 'x020_101': {'v020': 1, 'v101': -1},\n",
       " 'x032_120': {'v032': 1, 'v120': -1},\n",
       " 'x001_110': {'v001': 1, 'v110': -1},\n",
       " 'x013_103': {'v013': 1, 'v103': -1},\n",
       " 'x030_131': {'v030': 1, 'v131': -1},\n",
       " 'x002_123': {'v002': 1, 'v123': -1},\n",
       " 'x010_102': {'v010': 1, 'v102': -1},\n",
       " 'x021_130': {'v021': 1, 'v130': -1},\n",
       " 'x112_013': {'v112': 1, 'v013': -1},\n",
       " 'x123_032': {'v123': 1, 'v032': -1},\n",
       " 'x131_021': {'v131': 1, 'v021': -1},\n",
       " 'x103_012': {'v103': 1, 'v012': -1},\n",
       " 'x120_001': {'v120': 1, 'v001': -1},\n",
       " 'x132_020': {'v132': 1, 'v020': -1},\n",
       " 'x101_010': {'v101': 1, 'v010': -1},\n",
       " 'x113_003': {'v113': 1, 'v003': -1},\n",
       " 'x130_031': {'v130': 1, 'v031': -1},\n",
       " 'x102_023': {'v102': 1, 'v023': -1},\n",
       " 'x110_002': {'v110': 1, 'v002': -1},\n",
       " 'x121_030': {'v121': 1, 'v030': -1}}"
      ]
     },
     "execution_count": 91,
     "metadata": {},
     "output_type": "execute_result"
    }
   ],
   "source": [
    "weights_dict"
   ]
  },
  {
   "cell_type": "markdown",
   "metadata": {},
   "source": [
    "#### Lattice Coordinates for Threads"
   ]
  },
  {
   "cell_type": "code",
   "execution_count": null,
   "metadata": {
    "init_cell": true
   },
   "outputs": [],
   "source": [
    "def add_thread_lattice_coordinates(M,gens_dict,weights_dict):\n",
    "    \"\"\" Adds the threads to the gens_dict.\n",
    "    Assumes the the thread weights have already been added. Modifies gens_dict.\n",
    "    \n",
    "    Parameters:\n",
    "    M (snappy.Triangulation()) - the triangulated knot complement\n",
    "    gens_dict (dict {str: vector}) - the lattice coordinates of the generators\n",
    "    weights_dict (dict {str: vector})- the weights of the generators \n",
    "    \"\"\"\n",
    "    num_tet = M.num_tetrahedra()\n",
    "    thread_names = [k for k in weights_dict.keys() if k[0] == 'x']\n",
    "    for i in range(len(thread_names)):\n",
    "        gens_dict.update({\n",
    "            thread_names[i] : vector([0]*(1+18*num_tet+i) + [1] + [0]*(12*num_tet-i-1))\n",
    "        })\n",
    "\n",
    "add_thread_lattice_coordinates(M,gens_dict,weights_dict)"
   ]
  },
  {
   "cell_type": "markdown",
   "metadata": {
    "heading_collapsed": true
   },
   "source": [
    "## Commutation Relations"
   ]
  },
  {
   "cell_type": "markdown",
   "metadata": {
    "hidden": true
   },
   "source": [
    "### Relations for Short and Long Edges."
   ]
  },
  {
   "cell_type": "code",
   "execution_count": null,
   "metadata": {
    "hidden": true,
    "init_cell": true
   },
   "outputs": [],
   "source": [
    "# first do short edges around a puncture\n",
    "omega_short_one_puncture = 2*matrix([\n",
    "    [ 0, 1,-1],\n",
    "    [-1, 0, 1],\n",
    "    [ 1,-1, 0]\n",
    "])\n",
    "omega_short = matrix.block_diagonal([omega_short_one_puncture]*4)\n",
    "\n",
    "# columns are At01, At02, At03, At12, At13, At23\n",
    "omega_short_long = 2*matrix([\n",
    "    [0,1,1,0,0,0],\n",
    "    [1,0,1,0,0,0],\n",
    "    [1,1,0,0,0,0],\n",
    "    #\n",
    "    [0,0,0,1,1,0],\n",
    "    [1,0,0,1,0,0],\n",
    "    [1,0,0,0,1,0],\n",
    "    #\n",
    "    [0,0,0,1,0,1],\n",
    "    [0,1,0,0,0,1],\n",
    "    [0,1,0,1,0,0],\n",
    "    #\n",
    "    [0,0,0,0,1,1],\n",
    "    [0,0,1,0,1,0],\n",
    "    [0,0,1,0,0,1]\n",
    "])\n",
    "\n",
    "\n",
    "\n",
    "# columns are short then long\n",
    "omega_one_tet = block_matrix([\n",
    "    [omega_short,omega_short_long],\n",
    "    [-omega_short_long.transpose(),0]\n",
    "])"
   ]
  },
  {
   "cell_type": "code",
   "execution_count": null,
   "metadata": {
    "hidden": true
   },
   "outputs": [],
   "source": [
    "# SCRATCH\n",
    "omega_one_tet"
   ]
  },
  {
   "cell_type": "markdown",
   "metadata": {
    "hidden": true
   },
   "source": [
    "### Thread Relations"
   ]
  },
  {
   "cell_type": "code",
   "execution_count": null,
   "metadata": {
    "hidden": true,
    "init_cell": true
   },
   "outputs": [],
   "source": [
    "def get_edges_adjacent_to_vertex(vertex,weights_dict):\n",
    "    \"\"\"\n",
    "    Returns a list of generators with non-zero weight at a given vertex.\n",
    "    \n",
    "    Parameters:\n",
    "    vertex (str) - the name of a vertex.\n",
    "    weights_dict (dict) - the weights dictionary.\n",
    "    \n",
    "    Returns:\n",
    "    list of strings - the names of all edges with non-zero weight at this vertex.\n",
    "    \"\"\"\n",
    "    adjacent_edges = []\n",
    "    for edge, weights in weights_dict.items():\n",
    "        if vertex in weights and weights[vertex] != 0:\n",
    "            adjacent_edges.append(edge)\n",
    "            \n",
    "    return adjacent_edges\n",
    "\n",
    "def get_thread_relations(gens_dict,weights_dict):\n",
    "    \"\"\"\n",
    "    Builds the part of the relations matrix concerning threads.\n",
    "    \"\"\"\n",
    "    thread_names = list(filter(lambda k : k[0] == 'x', gens_dict.keys()))\n",
    "    thread_relations = []\n",
    "    \n",
    "    for thread in thread_names:\n",
    "        this_threads_relations = []\n",
    "        for vertex,weight in weights_dict[thread].items():\n",
    "            tmp_adjacent_edges = get_edges_adjacent_to_vertex(vertex,weights_dict)\n",
    "            # don't add relations for this thread with itself. \n",
    "            tmp_adjacent_edges.remove(thread)\n",
    "            for edge in tmp_adjacent_edges:\n",
    "                # commutation relation is the same for all non-thread generators at this vertex.\n",
    "                if edge[0] == 'x':\n",
    "                    this_threads_relations.append(weight*gens_dict[edge])\n",
    "                else:\n",
    "                    this_threads_relations.append(-weight*gens_dict[edge])\n",
    "        thread_relations.append(sum(this_threads_relations))\n",
    "    \n",
    "    return 2*matrix(thread_relations)\n",
    "\n",
    "\n"
   ]
  },
  {
   "cell_type": "code",
   "execution_count": null,
   "metadata": {
    "hidden": true
   },
   "outputs": [],
   "source": [
    "#checks\n",
    "thread_relations = get_thread_relations(gens_dict,weights_dict)\n",
    "# split the thread relations into two parts, to help construct the full relations matrix.\n",
    "omega_thread_non_thread = thread_relations[:,1:18*num_tet+1]\n",
    "omega_thread_thread = thread_relations[:,18*num_tet+1:]\n",
    "\n",
    "print(thread_relations[:,18*num_tet+1:].is_skew_symmetric())\n",
    "\n",
    "thread_relations"
   ]
  },
  {
   "cell_type": "markdown",
   "metadata": {
    "hidden": true
   },
   "source": [
    "### Full Relations"
   ]
  },
  {
   "cell_type": "code",
   "execution_count": null,
   "metadata": {
    "hidden": true,
    "init_cell": true
   },
   "outputs": [],
   "source": [
    "# Get the relations matrix, then its kernel\n",
    "\n",
    "def get_relations_matrix(M,gens_dict,weights_dict,omega_one_tet):\n",
    "    \"\"\"Constructs the full relations matrix.\n",
    "    \n",
    "    Parameters:\n",
    "    M (snappy.Triangulation)\n",
    "    gens_dict (dict)\n",
    "    weights_dict (dict)\n",
    "    omega_one_tet (Matrix)\n",
    "    \n",
    "    Returns:\n",
    "    Matrix\n",
    "    \"\"\"\n",
    "    num_tet = M.num_tetrahedra()\n",
    "    thread_relations = get_thread_relations(gens_dict,weights_dict)\n",
    "    \n",
    "    omega_thread_non_thread = thread_relations[:,1:18*num_tet+1]\n",
    "    omega_thread_thread = thread_relations[:,18*num_tet+1:]\n",
    "    \n",
    "    omega_with_q = block_diagonal_matrix(\n",
    "        matrix([0]),\n",
    "        block_matrix([\n",
    "            [block_diagonal_matrix(*[omega_one_tet]*num_tet),-omega_thread_non_thread.transpose()],\n",
    "            [omega_thread_non_thread,omega_thread_thread]\n",
    "        ])\n",
    "    )\n",
    "    \n",
    "    return omega_with_q\n",
    "\n",
    "omega_with_q = get_relations_matrix(M,gens_dict,weights_dict,omega_one_tet)\n",
    "\n",
    "kernel_41 = omega_with_q.kernel().basis()"
   ]
  },
  {
   "cell_type": "markdown",
   "metadata": {
    "hidden": true
   },
   "source": [
    "Here are some sanity checks for the relations matrix:"
   ]
  },
  {
   "cell_type": "code",
   "execution_count": null,
   "metadata": {
    "hidden": true
   },
   "outputs": [],
   "source": [
    "# checking that the keys are in the same order.\n",
    "print(\"weights_dict and gens_dict have the same order:\", list(weights_dict.keys())==list(gens_dict.keys())[1:])\n",
    "\n",
    "print(\"relations matrix is skew symmetric:\", omega_with_q.is_skew_symmetric())\n",
    "\n",
    "print(\"Rank of the center:\",omega_with_q.right_kernel_matrix().rank())\n",
    "\n",
    "matrix_plot(omega_with_q)\n",
    "#omega_with_q.rows()"
   ]
  },
  {
   "cell_type": "markdown",
   "metadata": {
    "heading_collapsed": true
   },
   "source": [
    "## Lattices\n",
    "- Makes the lattice for the whole quanutm torus\n",
    "- Makes the sublattice of T-invariant elements\n",
    "- Also makes the weight _matrix_ in this section."
   ]
  },
  {
   "cell_type": "code",
   "execution_count": null,
   "metadata": {
    "hidden": true,
    "init_cell": true
   },
   "outputs": [],
   "source": [
    "# Make the lattice.\n",
    "lattice = FreeModule(ZZ, len(gens_dict['qrt2']))"
   ]
  },
  {
   "cell_type": "code",
   "execution_count": null,
   "metadata": {
    "hidden": true,
    "init_cell": true
   },
   "outputs": [],
   "source": [
    "def get_weights_matrix(vertices_dict,weights_dict):\n",
    "    \"\"\"\n",
    "    Builds the weights matrix. This is useful for finding invariant sublattices.\n",
    "    \n",
    "    Parameters:\n",
    "    vertices_dict - dictionary {vertex name: vertex coordinate}\n",
    "    weights_dict - dictionary {generator name : weight}\n",
    "    \n",
    "    Returns\n",
    "    Matrix - the weights matrix. it's (number generators) x (number vertices)\n",
    "    \"\"\"\n",
    "    # start off with qrt2 - this is weight zero.\n",
    "    weights_list = [[0]*(len(vertices_dict.keys()))]\n",
    "    \n",
    "    for weights in weights_dict.values():\n",
    "        weights_list.append(sum([\n",
    "            weight*vector(vertices_dict[vertex]) for vertex,weight in weights.items()\n",
    "        ]))\n",
    "\n",
    "    return Matrix(weights_list)\n",
    "\n",
    "def get_weights_from_names(names,gens_dict,weights_matrix,weight_format='coordinate'):\n",
    "    \"\"\"\n",
    "    Gets the weight of a monomial.\n",
    "    \n",
    "    Parameters:\n",
    "    names Dict - specifies powers of generators. {'gen':exponent}\n",
    "    gens_dict Dict - translates between generator names and coordinates\n",
    "    weights_matrix Matrix - gives the T-weights of generators\n",
    "    \n",
    "    weight_format string - either 'coordinate' or 'dict'. Defaults to 'coordinate'\n",
    "    \"\"\"\n",
    "    weight_coord = weights_matrix.transpose()*names_to_lattice_coordinate(names,gens_dict)\n",
    "    if weight_format == 'coordinate':\n",
    "        return weight_coord\n",
    "    else:\n",
    "        return lattice_coord_to_dict(weight_coord,vertices_dict)\n",
    "\n",
    "weights_matrix = get_weights_matrix(vertices_dict,weights_dict)\n",
    "invariant_sublattice = weights_matrix.left_kernel()"
   ]
  },
  {
   "cell_type": "code",
   "execution_count": null,
   "metadata": {
    "hidden": true
   },
   "outputs": [],
   "source": [
    "# Some checks.\n",
    "print(\"T-invariant part is a sublattice of rank\",invariant_sublattice.rank(),\"Out of\",len(gens_dict))\n",
    "print(\"Basis for the T-invariant sub-lattice:\")\n",
    "show(matrix_plot(invariant_sublattice.basis_matrix()))\n",
    "print(\"The Weight Matrix:\")\n",
    "show(matrix_plot(weights_matrix))"
   ]
  },
  {
   "cell_type": "markdown",
   "metadata": {},
   "source": [
    "## Peripheral Curves"
   ]
  },
  {
   "cell_type": "code",
   "execution_count": null,
   "metadata": {
    "init_cell": true
   },
   "outputs": [],
   "source": [
    "def get_peripheral_curve_intersection_dict(M,curve='meridian'):\n",
    "    \"\"\"\n",
    "    Turns the peripheral curve data from SnapPy into a dictionary,\n",
    "    The values are the intersection number of the peripheral curve with the given edge.\n",
    "    A positive intersection number means the curve is going into the short-edge triangle.\n",
    "    \n",
    "    Parameters:\n",
    "    M snappy.Triangulation - the triangulation of a knot complement.\n",
    "    curve string - either 'meridian' or 'longitude'\n",
    "    \n",
    "    Returns:\n",
    "    dict - of the form {'short_edge': weight}. I'm not sure yet what the weights mean.\n",
    "    \"\"\"\n",
    "    all_periph_data = M._get_cusp_indices_and_peripheral_curve_data()[1]\n",
    "    data_start = {'meridian':0, 'longitude':2}\n",
    "    \n",
    "    curve_data = [all_periph_data[i] for i in range(data_start[curve],len(all_periph_data), 4)]\n",
    "\n",
    "    return {'a{0}{1}{2}'.format(t,v,f):curve_data[t][4*v+f]\n",
    "            for t in range(M.num_tetrahedra())\n",
    "            for v in range(4)\n",
    "            for f in range(4)\n",
    "            if 0 != curve_data[t][4*v+f]\n",
    "           }\n",
    "    \n",
    "def get_thread_going_to_vertex(vertex_name,gens_dict):\n",
    "    \"\"\"\n",
    "    Returns the thread with weight -1 at the given vertex.\n",
    "    \"\"\"\n",
    "    vertex_index = vertex_name[1:]\n",
    "    threads_list = [k for k in gens_dict.keys() if k[0] == 'x' and k.split(\"_\")[1] == vertex_index]\n",
    "    assert len(threads_list) == 1\n",
    "    return threads_list[0]\n",
    "\n",
    "def get_peripheral_curve_monomial(M,gens_dict,vertices_dict,weights_dict,weights_matrix,curve='meridian',log_level='normal'):\n",
    "    \"\"\"\n",
    "    Gets an expression for the peripheral curve of the triangulation in terms of generators.\n",
    "    There are multiple correct answers. We find this one based on SnapPy's suggestion.\n",
    "    \n",
    "    Parameters:\n",
    "    M snappy.Triangulation - the triangulation of a knot complement.\n",
    "    gens_dict Dict - the dictionary of generators.\n",
    "    vertices_dict Dict - the dictionary of vertices\n",
    "    weights_dict Dict - the dictionary of weights for generators.\n",
    "    weights_matrix Matrix - the matrix of weights for generators\n",
    "    \n",
    "    curve string - either 'meridian' or 'longitude'\n",
    "    \"\"\"\n",
    "    \n",
    "    \n",
    "    intersection_dict = get_peripheral_curve_intersection_dict(M,curve=curve)\n",
    "    \n",
    "    #### First find the threads from the intersection dictionary.\n",
    "    peripheral_curve_threads = {}\n",
    "    \n",
    "    vertices_for_positive_crossings = { # the weight +1 vertex for each short edge we cross positively.\n",
    "        [vert for vert,weight in weights_dict[short_edge].items() if weight==1][0] : se_weight\n",
    "        for short_edge,se_weight in intersection_dict.items() if se_weight > 0\n",
    "    }\n",
    "    peripheral_curve_threads.update({\n",
    "        get_thread_going_to_vertex(v,gens_dict) : weight for v,weight in vertices_for_positive_crossings.items()\n",
    "    })\n",
    "    \n",
    "    logger.debug(\"Threads in the {curve}: {threads}\".format(curve=curve,threads=peripheral_curve_threads))\n",
    "    #### Now we need to fill in the gaps with short edges.\n",
    "    # Make a dictionary of all the short edges we'll need to include.\n",
    "    peripheral_curve_short_edges = {}\n",
    "    \n",
    "    # we work based on the weights of the threads:\n",
    "    peripheral_curve_thread_weights = get_weights_from_names(peripheral_curve_threads,gens_dict,weights_matrix,weight_format='dict')\n",
    "    \n",
    "    # work one boundary triangle at a time:\n",
    "    for tet in range(M.num_tetrahedra()):\n",
    "        for vertex in range(4):\n",
    "            this_triangle_weights = {\n",
    "                k:v for k,v in peripheral_curve_thread_weights.items() if k[:-1] == 'v{0}{1}'.format(tet,vertex)\n",
    "            }\n",
    "            if not this_triangle_weights == dict(): # if there's weight zero move on.\n",
    "                logger.debug(\"Face {vertex} of Tetrahedra {tet} has non-zero weight: {weights}\".format(tet=tet,vertex=vertex,weights=this_triangle_weights))\n",
    "                local_short_edge_weights = {short_edge : weights_dict[short_edge] for short_edge in gens_dict.keys() if short_edge[:-1] == 'a{0}{1}'.format(tet,vertex)}\n",
    "                for short_edge,se_weights in local_short_edge_weights.items():\n",
    "                    if set(se_weights.keys()) == set(this_triangle_weights.keys()):\n",
    "                        a_vertex = list(se_weights.keys())[0]\n",
    "                        short_edge_power = -se_weights[a_vertex]*this_triangle_weights[a_vertex]\n",
    "                        logger.debug(\"Adding {short_edge}^{power} to the curve.\".format(short_edge=short_edge,power=short_edge_power))\n",
    "                        old_short_edge_weight = peripheral_curve_short_edges.get(short_edge,0)\n",
    "                        peripheral_curve_short_edges.update({short_edge:old_short_edge_weight+short_edge_power})\n",
    "\n",
    "\n",
    "    curve_dict = (peripheral_curve_threads | peripheral_curve_short_edges)\n",
    "    curve_weights = lattice_coord_to_dict(get_weights_from_names(curve_dict,gens_dict,weights_matrix),vertices_dict)\n",
    "    if curve_weights != dict():\n",
    "        logger.error(\"Curve has non-zero T-weights! {weights}\".format(weights=curve_weights))\n",
    "    return curve_dict\n",
    "   \n",
    "meridian = get_peripheral_curve_monomial(M,gens_dict,vertices_dict,weights_dict,weights_matrix,curve='meridian')\n",
    "longitude = get_peripheral_curve_monomial(M,gens_dict,vertices_dict,weights_dict,weights_matrix,curve='longitude')\n",
    "\n",
    "# checks!\n",
    "logger.debug(\"meridian should have weight zero: \"+ str(lattice_coord_to_dict(get_weights_from_names(meridian,gens_dict,weights_matrix),vertices_dict)))\n",
    "logger.debug(\"longitude should have weight zero: \"+ str(lattice_coord_to_dict(get_weights_from_names(longitude,gens_dict,weights_matrix),vertices_dict)))\n",
    "\n",
    "logger.debug(\"Commutation relations: M*L = q^({0})L*M\".format((matrix(names_to_lattice_coordinate(meridian,gens_dict))*omega_with_q*matrix(names_to_lattice_coordinate(longitude,gens_dict)).transpose())[0,0]/4))"
   ]
  },
  {
   "cell_type": "code",
   "execution_count": null,
   "metadata": {},
   "outputs": [],
   "source": []
  },
  {
   "cell_type": "markdown",
   "metadata": {},
   "source": [
    "# Constraints and Quotients\n",
    "\n",
    "Any quotient of the form $M^{x} = 1$ in the quantum torus can be expressed in terms of the lattice as $x = 0$. We want to quotient by\n",
    "1. Monodromy at each of the punctures\n",
    "1. The gluing constraints, 6 from each face so 12*num_tetrahedron total\n",
    "1. Monodromy around the long edge handles\n",
    "1. The great circle relations, 1 from each tetrahedron so 2 total.\n",
    "\n",
    "The first three types of relations are monomial. I expect to get a lattice of rank num_tetrahedron+2 once those are imposed. The last relation will have to be done in terms of the quantum torus, not the lattice.\n"
   ]
  },
  {
   "cell_type": "markdown",
   "metadata": {},
   "source": [
    "## Constraints Lists"
   ]
  },
  {
   "cell_type": "markdown",
   "metadata": {
    "heading_collapsed": true
   },
   "source": [
    "### T-Monodromy Around Punctures"
   ]
  },
  {
   "cell_type": "code",
   "execution_count": null,
   "metadata": {
    "hidden": true,
    "init_cell": true
   },
   "outputs": [],
   "source": [
    "def get_T_monodromy_list(M,gens_dict):\n",
    "    \"\"\"\n",
    "    Constructs the list of T-monodromy expressions. Assumes that gens_dict has the short edges in the right order.\n",
    "    \n",
    "    Parameters:\n",
    "    M (snappy.Triangulation) - the triangulated knot complement\n",
    "    gens_dict (dict {str:vector}) - the lattice coordinates for the generators of the skein algebra\n",
    "    \n",
    "    Returns:\n",
    "    list of lists of strings - each element is a list of the short edges around a puncture.\n",
    "    \n",
    "    \"\"\"\n",
    "    num_tet = M.num_tetrahedra()\n",
    "    # the short edges are listed in gens_dict in the right order.\n",
    "    short_edge_names = list(filter(lambda name: name[0]=='a', gens_dict.keys()))\n",
    "    T_monodromy_list = []\n",
    "    for p in range(num_tet*4):\n",
    "        T_monodromy_list.append({'qrt2':2} | {k:1 for k in short_edge_names[3*p:3*p+3]})\n",
    "    \n",
    "    return T_monodromy_list\n",
    "\n",
    "T_monodromy_variable_names_list = get_T_monodromy_list(M,gens_dict)\n",
    "T_monodromy_lattice_coordinate_list = [\n",
    "    names_to_lattice_coordinate(v,gens_dict) for v in T_monodromy_variable_names_list\n",
    "]"
   ]
  },
  {
   "cell_type": "code",
   "execution_count": 217,
   "metadata": {
    "hidden": true
   },
   "outputs": [],
   "source": [
    "# Checks.\n",
    "\n",
    "for coord in T_monodromy_lattice_coordinate_list:\n",
    "    if not (matrix(coord)*weights_matrix).is_zero():\n",
    "        print(\"Not Invariant:\",coord)\n"
   ]
  },
  {
   "cell_type": "markdown",
   "metadata": {
    "heading_collapsed": true
   },
   "source": [
    "### Gluing Relations"
   ]
  },
  {
   "cell_type": "code",
   "execution_count": null,
   "metadata": {
    "hidden": true,
    "init_cell": true
   },
   "outputs": [],
   "source": [
    "def get_long_edge_gluing_relations_list(M,gens_dict):\n",
    "    \"\"\"\n",
    "    Parameters:\n",
    "    M (snappy.Triangulation) - the triangulated knot complement.\n",
    "    gens_dict (dict {str:vector}) - the lattice coordinates for the generators of the skein algebra\n",
    "\n",
    "    Returns\n",
    "    list of dicts - gluing relations. keys are generators and values are their powers.\n",
    "    \"\"\"\n",
    "\n",
    "    long_edge_gluing_relations_list = []\n",
    "    \n",
    "    threads_list = list(filter(lambda gen : gen[0] == 'x',gens_dict.keys()))\n",
    "    th = threads_list[0]\n",
    "    tmp_gluing_dict = {th:-1}\n",
    "    \n",
    "    index_reversal_map = lambda index : index[:-2] + ''.join(reversed(index[-2:]))\n",
    "    index_sort_map = lambda index : index[:-2] + ''.join(sorted(index[-2:]))\n",
    "    \n",
    "    while threads_list:\n",
    "        other_thread = \"x{1}_{0}\".format(*[index_reversal_map(index) for index in th[1:].split('_')])\n",
    "        tmp_gluing_dict[other_thread] = 1\n",
    "        \n",
    "        long_edge_pos = \"A\" + index_sort_map(th[1:].split('_')[0])\n",
    "        tmp_gluing_dict[long_edge_pos] = 1\n",
    "        \n",
    "        long_edge_neg = \"A\" + index_sort_map(th[1:].split('_')[1])\n",
    "        tmp_gluing_dict[long_edge_neg] = -1\n",
    "        \n",
    "        long_edge_gluing_relations_list.append(tmp_gluing_dict)\n",
    "        \n",
    "        # remove these two threads so we don't check them again\n",
    "        threads_list = list(set(threads_list) - set(tmp_gluing_dict.keys()))\n",
    "        \n",
    "        if threads_list == list():\n",
    "            return long_edge_gluing_relations_list\n",
    "        else:\n",
    "            # on to the next one\n",
    "            th = threads_list[0]\n",
    "            tmp_gluing_dict = {th:-1}\n",
    "            \n",
    "\n",
    "long_edge_gluing_relations_list = get_long_edge_gluing_relations_list(M,gens_dict)"
   ]
  },
  {
   "cell_type": "code",
   "execution_count": 179,
   "metadata": {
    "hidden": true
   },
   "outputs": [],
   "source": [
    "# Check that all relations are T-invariant, and incidentally that we've listed actual threads.\n",
    "# It's working well if nothing is printed.\n",
    "\n",
    "for constraint in long_edge_gluing_relations_list:\n",
    "    lat_coord = names_to_lattice_coordinate(constraint,gens_dict)\n",
    "    if not (lat_coord*weights_matrix).is_zero():\n",
    "        print(\"Not Invariant!\", lat_coord*weights_matrix)\n",
    "        \n",
    "#print(long_edge_gluing_relations_list)"
   ]
  },
  {
   "cell_type": "code",
   "execution_count": null,
   "metadata": {
    "hidden": true,
    "init_cell": true
   },
   "outputs": [],
   "source": [
    "def get_short_edge_gluing_relations_list(M,weights_dict):\n",
    "    \"\"\"\n",
    "    Constructs a the list of constraints inclured by gluing together short edges.\n",
    "    \n",
    "    Parameters:\n",
    "    M snappy.Triangulation - the triangulated knot complement.\n",
    "    weights_dict - the weights of edges. Used to find where edges start/end.\n",
    "    \n",
    "    Returns:\n",
    "    list of lists of strings - elements are lists of generator names. Should be in the right order. \n",
    "    \"\"\"\n",
    "    gluing_data = get_gluing_dict(M)\n",
    "    short_edge_gluing_relations_list = []\n",
    "    \n",
    "    for tet in range(num_tet):\n",
    "        for face in range(4):\n",
    "            new_tet = gluing_data['r{0}'.format(tet)][face]\n",
    "            if new_tet <= tet: # avoid double-lisitng relations. will still double-list self-foldings.\n",
    "                gluing_perm = gluing_data['s{0}{1}'.format(tet,face)]\n",
    "                new_face = gluing_perm[face]\n",
    "                for short_edge in get_short_edges_in_face(tet,face):\n",
    "                    distant_short_edge = 'a{0}{1}{2}'.format(new_tet,gluing_perm[Integer(short_edge[-2])],new_face)\n",
    "\n",
    "                    tmp_local_weights = weights_dict[short_edge]\n",
    "                    local_starting_vertex = [vertex[1:] for vertex,weight in tmp_local_weights.items() if weight == -1][0]  \n",
    "                    local_ending_vertex = [vertex[1:] for vertex,weight in tmp_local_weights.items() if weight == 1][0]  \n",
    "\n",
    "                    tmp_distant_weights = weights_dict[distant_short_edge]\n",
    "                    distant_starting_vertex = [vertex[1:] for vertex,weight in tmp_distant_weights.items() if weight == -1][0]  \n",
    "                    distant_ending_vertex = [vertex[1:] for vertex,weight in tmp_distant_weights.items() if weight == 1][0]  \n",
    "\n",
    "                    short_edge_gluing_relations_list.append({\n",
    "                        'qrt2' : 2,\n",
    "                        short_edge : 1,\n",
    "                        'x{0}_{1}'.format(local_starting_vertex,distant_ending_vertex) : 1,\n",
    "                        distant_short_edge : 1,\n",
    "                        'x{0}_{1}'.format(distant_starting_vertex,local_ending_vertex) : 1\n",
    "                    })\n",
    "    return short_edge_gluing_relations_list\n",
    "\n",
    "short_edge_gluing_relations_list = get_short_edge_gluing_relations_list(M,weights_dict)"
   ]
  },
  {
   "cell_type": "code",
   "execution_count": 1006,
   "metadata": {
    "hidden": true
   },
   "outputs": [],
   "source": [
    "# Check that all relations are T-invariant, and incidentally that we've listed actual threads.\n",
    "for constraint in short_edge_gluing_relations_list:\n",
    "    if not (sum([gens_dict[edge] for edge in constraint])*weights_matrix).is_zero():\n",
    "        print(\"Not Invariant!\", constraint)\n"
   ]
  },
  {
   "cell_type": "markdown",
   "metadata": {},
   "source": [
    "### Monodromy Around the Internal Handles\n",
    "Because we glue close to but not quite up to the long edges, we have some extra handles on the surface that we'd like to do away with.\n",
    "\n",
    "The idea right now is to work with something like a partial skein-module, which is what we get by restricting to the part of the moduli space where our local systems extend to the interior of these handles.\n",
    "\n",
    "These relations will depend on the triangulation, but they're always of the general form will always be a set of monomials in the threads. If all faces are glued then each thread shows up in exactly one monomial."
   ]
  },
  {
   "cell_type": "code",
   "execution_count": null,
   "metadata": {
    "init_cell": true
   },
   "outputs": [],
   "source": [
    "def get_internal_edge_monodromy(gens_dict):\n",
    "    \"\"\"Constructs expressions for the T-region monodromies around the 'extra handles'\n",
    "    on the glued surface.\n",
    "    \n",
    "    Works based on the thread names. Assumes that the monodromies are each a cycle.\n",
    "    if they cross themselves or something this probably won't work.\"\"\"\n",
    "    \n",
    "    list_of_monodromies = []\n",
    "    \n",
    "    threads_list = [k for k in gens_dict.keys() if k[0] == 'x']\n",
    "    th = threads_list[0]\n",
    "    tmp_monodromy_dict = {'qrt2':2,th:1}\n",
    "\n",
    "    while threads_list:\n",
    "        th_end_vertex = th[1:].split('_')[1]\n",
    "        next_thread = list(filter(lambda thread : thread[1:].split('_')[0] == th_end_vertex,threads_list))[0]\n",
    "\n",
    "        if next_thread in tmp_monodromy_dict.keys():\n",
    "            # we've closed the loop!\n",
    "            list_of_monodromies.append(tmp_monodromy_dict)\n",
    "            threads_list = list(set(threads_list) - set(tmp_monodromy_dict.keys()))\n",
    "            if threads_list == list():\n",
    "                return list_of_monodromies\n",
    "            th = threads_list[0]\n",
    "            tmp_monodromy_dict = {'qrt2':2,th:1}\n",
    "        else:\n",
    "            tmp_monodromy_dict.update({next_thread:1})\n",
    "            th = next_thread\n",
    "    \n",
    "    \n",
    "internal_edge_monodromy_list = get_internal_edge_monodromy(gens_dict)"
   ]
  },
  {
   "cell_type": "code",
   "execution_count": 100,
   "metadata": {},
   "outputs": [
    {
     "name": "stdout",
     "output_type": "stream",
     "text": [
      "Constraints should come in pairs of equal length. There should be 4 total.\n",
      "{'qrt2': 2, 'x012_113': 1, 'x113_003': 1, 'x003_112': 1, 'x112_013': 1, 'x013_103': 1, 'x103_012': 1}\n",
      "{'qrt2': 2, 'x101_010': 1, 'x010_102': 1, 'x102_023': 1, 'x023_132': 1, 'x132_020': 1, 'x020_101': 1}\n",
      "{'qrt2': 2, 'x123_032': 1, 'x032_120': 1, 'x120_001': 1, 'x001_110': 1, 'x110_002': 1, 'x002_123': 1}\n",
      "{'qrt2': 2, 'x031_121': 1, 'x121_030': 1, 'x030_131': 1, 'x131_021': 1, 'x021_130': 1, 'x130_031': 1}\n"
     ]
    }
   ],
   "source": [
    "# Checks!\n",
    "print(\"Constraints should come in pairs of equal length. There should be {0} total.\".format(2*M.num_tetrahedra()))\n",
    "# 2t because there are 2t pairs of glued faces, t-1 of which don't increase the genus.\n",
    "# so genus is g = 2t - (t-1) = t+1. We're interested in the T-region torus, so g-1 genus is killed using 2(g-1) = 2t constraints.\n",
    "for m in internal_edge_monodromy_list:\n",
    "    print(m)\n",
    "\n",
    "# Check that all relations are T-invariant\n",
    "for constraint in internal_edge_monodromy_list:\n",
    "    if not (sum([gens_dict[edge] for edge in constraint])*weights_matrix).is_zero():\n",
    "        logger.error(\"Not Invariant! \" +str(constraint))"
   ]
  },
  {
   "cell_type": "markdown",
   "metadata": {},
   "source": [
    "## Quotient Lattice\n",
    "TODO - doesn't work for all T-region quotient bases. (Though I haven't come across a problematic example.)"
   ]
  },
  {
   "cell_type": "code",
   "execution_count": null,
   "metadata": {
    "init_cell": true
   },
   "outputs": [],
   "source": [
    "# Take the quotient!\n",
    "quotient_lattice = invariant_sublattice.quotient(\n",
    "    [names_to_lattice_coordinate(v,gens_dict) for v in\n",
    "     internal_edge_monodromy_list\n",
    "     + short_edge_gluing_relations_list\n",
    "     + long_edge_gluing_relations_list\n",
    "     + T_monodromy_variable_names_list\n",
    "    ]\n",
    ")\n",
    "\n",
    "pi = quotient_lattice.coerce_map_from(quotient_lattice.V())\n",
    "\n",
    "\n",
    "# Next build the quotient basis!\n",
    "\n",
    "T_region_basis = matrix([pi(gens_dict['qrt2']), pi(names_to_lattice_coordinate(meridian,gens_dict)), pi(names_to_lattice_coordinate(longitude,gens_dict))])\n",
    "\n",
    "T_region_minor_indexes = [(i,j,k)\n",
    "           for i in range(T_region_basis.ncols())\n",
    "           for j in range(i+1,T_region_basis.ncols())\n",
    "           for k in range(j+1,T_region_basis.ncols())\n",
    "          ]\n",
    "\n",
    "minors = T_region_basis.minors(3)\n",
    "non_zero_minors = {}\n",
    "for i in range(len(minors)):\n",
    "    if minors[i] == 1: # we only need one minor\n",
    "        non_zero_rows = set(range(T_region_basis.ncols()))-set(T_region_minor_indexes[i])\n",
    "        num_new_rows = len(non_zero_rows)\n",
    "        non_zero_entries = zip(range(num_new_rows),non_zero_rows)\n",
    "        new_rows = zero_matrix(ZZ,nrows=num_new_rows, ncols=T_region_basis.ncols())\n",
    "        for entry in non_zero_entries:\n",
    "            new_rows[entry] = 1\n",
    "        break\n",
    "    # store all non-zero minors in case we need to use extended Euclidean algorithm.\n",
    "    if minors[i] != 0: \n",
    "        # TODO - implement this using xgcd.\n",
    "        non_zero_minors.update({T_region_minor_indexes[i]:minors[i]})\n",
    "\n",
    "\n",
    "quotient_basis = block_matrix([[T_region_basis],[new_rows]]).transpose()"
   ]
  },
  {
   "cell_type": "code",
   "execution_count": 101,
   "metadata": {},
   "outputs": [
    {
     "name": "stdout",
     "output_type": "stream",
     "text": [
      "Lattice rank: 61\n",
      "T-region sublattice of that is rank: 26\n",
      "T-invariant lattice is rank 37\n",
      "Including q, the quotient lattice should be rank: 4. It's rank 4\n",
      "The T-region quotient lattice has 3 generators\n",
      "Quotient basis matrix should have determinent 1. Det: -1\n",
      "\n",
      "The generators:\n",
      "{'qrt2': 1}\n",
      "{'a001': 1, 'a131': -1, 'A113': 1, 'A123': -1, 'x002_123': -1, 'x021_130': -1, 'x131_021': -1, 'x113_003': -1}\n",
      "{'a002': 1, 'a131': 1, 'A113': -1, 'A123': 1, 'x001_110': 1, 'x002_123': 1, 'x021_130': 1, 'x131_021': 1, 'x113_003': 1, 'x110_002': 1}\n",
      "{'a013': 1, 'a123': -1, 'A113': -1, 'A123': 1, 'x003_112': 1, 'x020_101': -1, 'x001_110': 1, 'x013_103': 1, 'x030_131': -1, 'x002_123': 1, 'x112_013': 1, 'x103_012': 1, 'x120_001': 1, 'x132_020': -1, 'x101_010': -1, 'x113_003': 1, 'x110_002': 1, 'x121_030': -1}\n",
      "\n",
      "T-region generators:\n",
      "{'qrt2': 1}\n",
      "{'a001': 1, 'a112': -1, 'x113_003': -1, 'x110_002': 1}\n",
      "{'a013': 1, 'a112': 1, 'a123': -1, 'a131': -1, 'x003_112': 1, 'x020_101': -1, 'x001_110': 1, 'x013_103': 1, 'x030_131': -1, 'x021_130': -1, 'x112_013': 1, 'x131_021': -1, 'x103_012': 1, 'x120_001': 1, 'x132_020': -1, 'x101_010': -1, 'x113_003': 1, 'x121_030': -1}\n"
     ]
    }
   ],
   "source": [
    "# Checks\n",
    "\n",
    "non_long_edge_generators = list(filter(lambda gen : gen[0] != 'A',gens_dict.keys()))\n",
    "non_long_edge_lattice = Matrix([gens_dict[gen] for gen in non_long_edge_generators]).row_module().intersection(invariant_sublattice)\n",
    "T_region_quotient_lattice = non_long_edge_lattice.quotient(\n",
    "    [names_to_lattice_coordinate(v,gens_dict) for v in\n",
    "     internal_edge_monodromy_list\n",
    "     + short_edge_gluing_relations_list\n",
    "     + T_monodromy_variable_names_list\n",
    "    ]\n",
    ")\n",
    "\n",
    "print(\"Lattice rank:\", lattice.rank())\n",
    "print(\"T-region sublattice of that is rank:\", non_long_edge_lattice.intersection(lattice).rank())\n",
    "print(\"T-invariant lattice is rank\",invariant_sublattice.rank())\n",
    "\n",
    "# Checks -\n",
    "print(\"Including q, the quotient lattice should be rank: {0}. It's rank {1}\".format(M.num_tetrahedra()+2, quotient_lattice.ngens()))\n",
    "print(\"The T-region quotient lattice has\", T_region_quotient_lattice.ngens(),\"generators\")\n",
    "\n",
    "print(\"Quotient basis matrix should have determinent 1. Det: {}\".format(quotient_basis.det()))\n",
    "\n",
    "print(\"\\nThe generators:\")\n",
    "# what do these generators look like?\n",
    "for g in quotient_lattice.gens():\n",
    "    print(lattice_coord_to_dict(g.lift(),gens_dict))\n",
    "    \n",
    "print(\"\\nT-region generators:\")\n",
    "for g in T_region_quotient_lattice.gens():\n",
    "    print(lattice_coord_to_dict(g.lift(),gens_dict))\n",
    "    "
   ]
  },
  {
   "cell_type": "code",
   "execution_count": 226,
   "metadata": {},
   "outputs": [
    {
     "name": "stdout",
     "output_type": "stream",
     "text": [
      "The relations matrix has dimension (54, 91) and rank 50.\n",
      "If any of these are not 1, there's torsion:\n",
      "[1, 1, 1, 1, 1, 1, 1, 1, 1, 1, 1, 1, 1, 1, 1, 1, 1, 1, 1, 1, 1, 1, 1, 1, 1, 1, 1, 1, 1, 1, 1, 1, 1, 1, 1, 1, 1, 1, 1, 1, 1, 1, 1, 1, 1, 1, 1, 1, 1, 1]\n"
     ]
    }
   ],
   "source": [
    "# Looking at the relations.\n",
    "\n",
    "relations_matrix = matrix([names_to_lattice_coordinate(v,gens_dict) for v in\n",
    "     internal_edge_monodromy_list\n",
    "     + short_edge_gluing_relations_list\n",
    "     + long_edge_gluing_relations_list\n",
    "     + T_monodromy_variable_names_list\n",
    "    ])\n",
    "\n",
    "print(\"The relations matrix has dimension {0} and rank {1}.\".format(relations_matrix.dimensions(),relations_matrix.rank()))\n",
    "\n",
    "print(\"If any of these are not 1, there's torsion:\")\n",
    "smith_form = relations_matrix.smith_form()[0]\n",
    "print([smith_form[i,i] for i in range(smith_form.rank())])\n"
   ]
  },
  {
   "cell_type": "markdown",
   "metadata": {
    "heading_collapsed": true
   },
   "source": [
    "## Take the quotient of the Ring (Experimental)\n",
    "Here I first pass to a polynomial ring, then take the quotient."
   ]
  },
  {
   "cell_type": "code",
   "execution_count": null,
   "metadata": {
    "hidden": true
   },
   "outputs": [],
   "source": [
    "skein_ring = PolynomialRing(ZZ, list(gens_dict.keys()))\n",
    "long_edge_names = [arc for arc in gens_dict.keys() if arc[0] == 'A']\n",
    "localized_skein_rign = skein_ring.localization(tuple(skein_ring(g) for g in long_edge_names))"
   ]
  },
  {
   "cell_type": "markdown",
   "metadata": {
    "hidden": true
   },
   "source": [
    "### Convert contraints to polynomials\n",
    "This gives me a polynomial algebra that's too big to work with."
   ]
  },
  {
   "cell_type": "code",
   "execution_count": null,
   "metadata": {
    "hidden": true
   },
   "outputs": [],
   "source": [
    "def dict_to_polynomial(the_dict,the_ring):\n",
    "    positive_terms = '*'.join([k for k,v in the_dict.items() if v > 0])\n",
    "    negative_terms = '*'.join(['1']+[k for k,v in the_dict.items() if v < 0])\n",
    "    return the_ring(positive_terms+' - '+negative_terms)\n",
    "\n",
    "generic_bird_head_polynomial = 'qrt2^4*A{t}03*a{t}32*a{t}01*A{t}12*a{t}23*a{t}10*(a{t}03*a{t}12*a{t}21*a{t}30) + A{t}01*A{t}23  - qrt2^2*A{t}13*A{t}02*(a{t}03*a{t}12*a{t}21*a{t}30)' \n",
    "\n",
    "bird_head_contraints = [skein_ring(generic_bird_head_polynomial.format(t=tet)) for tet in range(M.num_tetrahedra())]\n",
    "polynomial_constraints = [dict_to_polynomial(constraint,skein_ring) for constraint in internal_edge_monodromy_list + short_edge_gluing_relations_list + long_edge_gluing_relations_list + T_monodromy_variable_names_list]"
   ]
  },
  {
   "cell_type": "code",
   "execution_count": null,
   "metadata": {
    "hidden": true
   },
   "outputs": [],
   "source": [
    "I = skein_ring.ideal(bird_head_contraints+polynomial_constraints)"
   ]
  },
  {
   "cell_type": "markdown",
   "metadata": {},
   "source": [
    "# Kernel of the Skein Module"
   ]
  },
  {
   "cell_type": "code",
   "execution_count": null,
   "metadata": {
    "init_cell": true
   },
   "outputs": [],
   "source": [
    "def fix_long_edge_indices(dictionary):\n",
    "    \"\"\"\n",
    "    Fixes the indices on the long edge names in a dictionary.\n",
    "    These sometimes end up being backwards, e.g. A020 instead of A002.\n",
    "    NOTE: this won't handle the situation where a dictionary has the same edge under two different names.\n",
    "    \n",
    "    Parameters:\n",
    "    dictionary (dict) - the dictionary that needs fixing.\n",
    "    \n",
    "    Returns:\n",
    "    dict - the fixed dictionary.\n",
    "    \n",
    "    \"\"\"\n",
    "    index_sort_map = lambda index : index[:-2] + ''.join(sorted(index[-2:]))\n",
    "    \n",
    "    return {index_sort_map(k) : dictionary[k] for k in dictionary.keys() if k[0] == 'A'} | {k : v for k,v in dictionary.items() if k[0] != 'A'}"
   ]
  },
  {
   "cell_type": "markdown",
   "metadata": {
    "heading_collapsed": true
   },
   "source": [
    "## The Bird Heads\n",
    "There are 12 'untwisted' bird heads from the 12 orientation preserving permutations on the four vertices.\n",
    "\n",
    "There are likely many others that wind around the various vertices. I'm hoping that those are in the ideal generated by the simple ones."
   ]
  },
  {
   "cell_type": "code",
   "execution_count": null,
   "metadata": {
    "hidden": true,
    "init_cell": true
   },
   "outputs": [],
   "source": [
    "def get_bird_head_coords(gens_dict, relations, tet=0,ll=0,ii=1,jj=2,kk=3):\n",
    "    \"\"\"Gets exact coordinates for a bird head, based on the indices of the punctures it intertwines and which tetrahedra it's on.\n",
    "    \n",
    "    Bird Head has weight 2 at puncture l and encircles the puncture i in the diagram below:\n",
    "    \n",
    "       j       \n",
    "     ╱ | ╲     \n",
    "    l ─── i    \n",
    "     ╲ | ╱     \n",
    "       k       \n",
    "        \n",
    "    Parameters:\n",
    "        gens_dict (dict) -- dictionary relating variable names to lattice coordinates.\n",
    "        relations (matrix) - relations for the quantum tori.\n",
    "        tet (int) - the index of the tetrahedron encircled by the great circle.\n",
    "        ii, jj , kk (int) - indices saying which punctures the bird head connects. defaults to 1,2,3. See ascii art above.\n",
    "    \n",
    "    Returns:\n",
    "        list of vectors - coordinates for the specified bird head.\n",
    "    \"\"\"\n",
    "    \n",
    "    # Generic expressions were found by hand.\n",
    "    # The bird head, computed using resolutions\n",
    "    # NOTE - the term with A02 A13 should have its coefficient multiplied by -1. This is handled later.\n",
    "    generic_bird_head = [ # the 10 term is zero.\n",
    "        {'qrt2':2, 'a{t}{l}{j}':-1, 'A{t}{l}{i}':1, 'a{t}{i}{k}':1, 'A{t}{l}{k}':1, 'a{t}{k}{j}':1, 'A{t}{i}{j}':1, 'a{t}{i}{l}':1}, # 00\n",
    "        {'q':0, 'A{t}{l}{i}':2, 'a{t}{i}{k}':1, 'a{t}{i}{j}':-1, 'a{t}{j}{l}':1, 'A{t}{j}{k}':1, 'a{t}{k}{l}':-1}, # 01\n",
    "        {'qrt2':-2, 'a{t}{l}{k}':1, 'A{t}{l}{j}':1, 'a{t}{j}{k}':-1, 'A{t}{l}{i}':1, 'a{t}{i}{j}':-1, 'A{t}{i}{k}':1, 'a{t}{i}{l}':-1} # 11\n",
    "    ]\n",
    "    \n",
    "    # The product of long edges used to compute the bird head in cluster coordinates.\n",
    "    generic_scaffolding = {'A{t}{i}{j}':-1, 'A{t}{i}{k}':-1}\n",
    "    \n",
    "    generic_weight_factor = {'A{t}{j}{k}':1, 'a{t}{j}{i}':-1, 'A{t}{l}{j}':-1, 'a{t}{l}{k}':-1, 'a{t}{l}{j}':1, 'A{t}{l}{k}':-1, 'a{t}{k}{i}':1}\n",
    "    \n",
    "    # Multiply by an invertible element to bring the T-weights all to zero.\n",
    "    specific_weight_factor = fix_long_edge_indices({k.format(t=tet,l=ll,i=ii,j=jj,k=kk) : v for k,v in generic_weight_factor.items()})\n",
    "    \n",
    "    gens_dict_with_q = {**gens_dict,'q':2*gens_dict['qrt2']}\n",
    "    \n",
    "    specific_bird_head = [\n",
    "        fix_long_edge_indices({ k.format(t=tet,l=ll,i=ii,j=jj,k=kk) : v for k,v in monomial.items()}) for monomial in generic_bird_head\n",
    "    ]\n",
    "    \n",
    "    specific_scaffolding =  fix_long_edge_indices({ k.format(t=tet,l=ll,i=ii,j=jj,k=kk) : v for k,v in generic_scaffolding.items()})\n",
    "    \n",
    "    unscaled_bird_head= [\n",
    "        product_from_names(specific_weight_factor,specific_scaffolding,monomial,relations=relations,gens_dict=gens_dict_with_q)\n",
    "        for monomial in specific_bird_head\n",
    "    ]\n",
    "    \n",
    "    return unscaled_bird_head\n",
    "    #return [product_from_names(specific_weight_factor,monomial,gens_dict=gens_dict,relations=relations) for monomial in unscaled_bird_head]"
   ]
  },
  {
   "cell_type": "markdown",
   "metadata": {},
   "source": [
    "## Kernel for the Knot Complement"
   ]
  },
  {
   "cell_type": "code",
   "execution_count": null,
   "metadata": {
    "init_cell": true
   },
   "outputs": [],
   "source": [
    "quotient_ring = LaurentPolynomialRing(QQ,['qrt2','m','l'] + ['w{0}'.format(i-3) for i in range(3,quotient_lattice.ngens())])\n",
    "polynomial_ring = PolynomialRing(QQ,['qrt2','l','m'] + ['w{0}'.format(i-3) for i in range(3,quotient_lattice.ngens())])\n",
    "\n",
    "change_of_basis_matrix = quotient_basis.det()*quotient_basis.inverse()"
   ]
  },
  {
   "cell_type": "code",
   "execution_count": null,
   "metadata": {},
   "outputs": [],
   "source": [
    "# Checks!\n",
    "\n",
    "# I'm assuming that the first generator in the quotient ring is just qrt2. I can check that here.\n",
    "print(\"Check the assumption that qrt2 is sent to (1,0,..,0):\")\n",
    "print(pi(gens_dict['qrt2']))"
   ]
  },
  {
   "cell_type": "code",
   "execution_count": null,
   "metadata": {
    "init_cell": true
   },
   "outputs": [],
   "source": [
    "qrt2 = quotient_ring('qrt2')\n",
    "qdim2 = -qrt2^2 + -qrt2^-2"
   ]
  },
  {
   "cell_type": "code",
   "execution_count": null,
   "metadata": {
    "init_cell": true
   },
   "outputs": [],
   "source": [
    "generic_crossing_relation = [ # this equals 1.\n",
    "    {'qrt2':1, 'A{t}13':-1, 'A{t}02':-1, 'A{t}03':1, 'a{t}32':1, 'a{t}01':1, 'A{t}12':1, 'a{t}23':1, 'a{t}10':1},\n",
    "    {'qrt2':-1, 'A{t}13':-1, 'A{t}02':-1, 'A{t}01':1, 'a{t}03':-1,'a{t}12':-1, 'A{t}23':1, 'a{t}21':-1, 'a{t}30':-1}\n",
    "]\n",
    "\n",
    "crossing_relations = []\n",
    "for tt in range(M.num_tetrahedra()):\n",
    "    specific_crossing_relation = sum([\n",
    "        lattice_coord_to_ring_element(change_of_basis_matrix*vector(pi(names_to_lattice_coordinate({k.format(t=tt) : v \n",
    "            for k,v in monomial.items()},gens_dict))),quotient_ring) \n",
    "                for monomial in generic_crossing_relation\n",
    "    ]).subs({quotient_ring('qrt2'):-1})-1\n",
    "    crossing_relations.append(polynomial_ring(clear_denominator(specific_crossing_relation)))\n",
    "    \n",
    "print(\"Relations:\\n\",crossing_relations)\n",
    "A_poly_candidate = polynomial_ring.ideal(crossing_relations).elimination_ideal([polynomial_ring(str(g)) for g in quotient_ring.gens()[-M.num_tetrahedra()+1:]]).gens()[0]\n",
    "print(\"A-polynomial:\\n\",A_poly_candidate.factor())"
   ]
  },
  {
   "cell_type": "markdown",
   "metadata": {
    "heading_collapsed": true
   },
   "source": [
    "### Different bases for the quotient lattice"
   ]
  },
  {
   "cell_type": "code",
   "execution_count": 238,
   "metadata": {
    "hidden": true
   },
   "outputs": [
    {
     "ename": "NameError",
     "evalue": "name 'test_basis' is not defined",
     "output_type": "error",
     "traceback": [
      "\u001b[1;31m---------------------------------------------------------------------------\u001b[0m",
      "\u001b[1;31mNameError\u001b[0m                                 Traceback (most recent call last)",
      "\u001b[1;32m/tmp/ipykernel_6154/3201462024.py\u001b[0m in \u001b[0;36m<module>\u001b[1;34m\u001b[0m\n\u001b[0;32m     25\u001b[0m \u001b[1;33m\u001b[0m\u001b[0m\n\u001b[0;32m     26\u001b[0m \u001b[1;33m\u001b[0m\u001b[0m\n\u001b[1;32m---> 27\u001b[1;33m \u001b[0mA\u001b[0m \u001b[1;33m=\u001b[0m \u001b[0mget_A_polynomial_using_basis\u001b[0m\u001b[1;33m(\u001b[0m\u001b[0mtest_basis\u001b[0m\u001b[1;33m,\u001b[0m\u001b[0mgens_dict\u001b[0m\u001b[1;33m)\u001b[0m\u001b[1;33m\u001b[0m\u001b[1;33m\u001b[0m\u001b[0m\n\u001b[0m",
      "\u001b[1;31mNameError\u001b[0m: name 'test_basis' is not defined"
     ]
    }
   ],
   "source": [
    "def get_A_polynomial_using_basis(basis_matrix,gens_dict,print_steps=True):\n",
    "    #TODO - this takes a lot of ambient parameters.\n",
    "    generic_crossing_relation = [ # this equals 1.\n",
    "        {'qrt2':1, 'A{t}13':-1, 'A{t}02':-1, 'A{t}03':1, 'a{t}32':1, 'a{t}01':1, 'A{t}12':1, 'a{t}23':1, 'a{t}10':1},\n",
    "        {'qrt2':-1, 'A{t}13':-1, 'A{t}02':-1, 'A{t}01':1, 'a{t}03':-1,'a{t}12':-1, 'A{t}23':1, 'a{t}21':-1, 'a{t}30':-1}\n",
    "    ]\n",
    "    tmp_change_of_basis_matrix = basis_matrix.det()*basis_matrix.inverse()\n",
    "    crossing_relations = []\n",
    "    for tt in range(M.num_tetrahedra()):\n",
    "        specific_crossing_relation = sum([\n",
    "            lattice_coord_to_ring_element(tmp_change_of_basis_matrix*vector(pi(names_to_lattice_coordinate({k.format(t=tt) : v \n",
    "                for k,v in monomial.items()},gens_dict))),quotient_ring) \n",
    "                    for monomial in generic_crossing_relation\n",
    "        ]).subs({quotient_ring('qrt2'):-1})-1\n",
    "        crossing_relations.append(polynomial_ring(clear_denominator(specific_crossing_relation)))\n",
    "    \n",
    "    \n",
    "    A_poly_candidate = polynomial_ring.ideal(crossing_relations).elimination_ideal([polynomial_ring(str(g)) for g in quotient_ring.gens()[-M.num_tetrahedra()+1:]]).gens()[0]\n",
    "    \n",
    "    if print_steps:\n",
    "        print(\"Relations:\\n\",crossing_relations)\n",
    "        print(\"A-polynomial:\\n\",A_poly_candidate.factor())\n",
    "        \n",
    "    return A_poly_candidate\n",
    "    \n",
    "    \n",
    "A = get_A_polynomial_using_basis(test_basis,gens_dict)"
   ]
  },
  {
   "cell_type": "code",
   "execution_count": 219,
   "metadata": {
    "hidden": true
   },
   "outputs": [
    {
     "name": "stdout",
     "output_type": "stream",
     "text": [
      "m is  (-6, 0, 0, 0, -1, 0, 0) , l is  (-18, 1, 0, 0, -2, -1, 0)\n"
     ]
    }
   ],
   "source": [
    "print(\"m is \", pi(names_to_lattice_coordinate(meridian,gens_dict)),\", l is \",pi(names_to_lattice_coordinate(longitude,gens_dict)))"
   ]
  },
  {
   "cell_type": "code",
   "execution_count": 259,
   "metadata": {
    "hidden": true
   },
   "outputs": [
    {
     "name": "stdout",
     "output_type": "stream",
     "text": [
      "qrt2 goes to qrt2\n",
      "m goes to m\n",
      "l goes to l\n",
      "w0 goes to m*l^-1*w0\n",
      "w1 goes to w0^-1*w1^-1\n",
      "Relations:\n",
      " [-l*m^2*w0*w1 - l^2*m^2 - w0^2*w1, -l^5*m - l^4*m*w0 - w0^4*w1, -l^2*m - m^2*w0 - l]\n",
      "A-polynomial:\n",
      " (-1) * l^4 * (-l^2*m^6 + l*m^7 + 2*l^3*m^3 - l^2*m^4 - l*m^5 + 5*l^2*m^2 - l*m^3 + 4*l*m + 1)\n"
     ]
    },
    {
     "data": {
      "text/plain": [
       "l^6*m^6 - l^5*m^7 - 2*l^7*m^3 + l^6*m^4 + l^5*m^5 - 5*l^6*m^2 + l^5*m^3 - 4*l^5*m - l^4"
      ]
     },
     "execution_count": 259,
     "metadata": {},
     "output_type": "execute_result"
    }
   ],
   "source": [
    "monomial_transformation_matrix = GL(M.num_tetrahedra()+2,ZZ)([\n",
    "    [1,0,0,0,0],\n",
    "    [0,1,0,1,0],\n",
    "    [0,0,1,-1,0],\n",
    "    [0,0,0,1,-1],\n",
    "    [0,0,0,0,-1]\n",
    "]).matrix()\n",
    "\n",
    "for ii in range(M.num_tetrahedra()+2):\n",
    "    print(\n",
    "        lattice_coord_to_ring_element(vector(identity_matrix(M.num_tetrahedra()+2)[:,ii]),quotient_ring),\n",
    "        \"goes to\",\n",
    "        lattice_coord_to_ring_element(monomial_transformation_matrix*vector(identity_matrix(M.num_tetrahedra()+2)[:,ii]),quotient_ring)\n",
    "    )\n",
    "\n",
    "get_A_polynomial_using_basis(monomial_transformation_matrix*quotient_basis*monomial_transformation_matrix.inverse(),gens_dict)\n"
   ]
  },
  {
   "cell_type": "markdown",
   "metadata": {
    "heading_collapsed": true
   },
   "source": [
    "### Computations with kernel elements - NOT UPDATED"
   ]
  },
  {
   "cell_type": "code",
   "execution_count": null,
   "metadata": {
    "hidden": true
   },
   "outputs": [],
   "source": []
  },
  {
   "cell_type": "code",
   "execution_count": null,
   "metadata": {
    "hidden": true
   },
   "outputs": [],
   "source": [
    "### Generators for the glued surface! NOT UPDATED\n",
    "\n",
    "# we want to generate the lattice and have determinant +1 for the basis matrix\n",
    "extra_gen = list_to_module_element([0,-1,0],full_quotient_41).lift()\n",
    "# some sanity checks on the extra generator:\n",
    "if not (weights_41*vector(extra_gen)).is_zero():\n",
    "    print(\"weight of extra generator:\",weights_41*extra_gen)\n",
    "\n",
    "print(\"extra_gen in quotient:\",pi(extra_gen))\n",
    "\n",
    "m_gen = vector(dict_monomial_to_list(\n",
    "    multiply_lattice_monomials(\n",
    "        *[new_gens(edge) for edge in ['x1','al03','al13','y1']],\n",
    "        relations=omega_41_with_q\n",
    "    )))\n",
    "\n",
    "if not (weights_41*vector(m_gen)).is_zero():\n",
    "    print(\"weight of m:\",weights_41*m_gen)\n",
    "    \n",
    "print(\"m_gen in quotient:\",pi(m_gen))\n",
    "\n",
    "l_gen = dict_monomial_to_list(scale_polynomial(\n",
    "    multiply_lattice_monomials(\n",
    "        *[new_gens(edge) for edge in ['z2','al23','al13','y2','w5','z5','be21','be01','x6','z3','be20','be30','y3','x3','be03','be23']],\n",
    "        relations=omega_41_with_q\n",
    "    ),q^(-1/2)))\n",
    "if not (weights_41*vector(l_gen)).is_zero():\n",
    "    print(\"weight of l:\",weights_41*vector(l_gen))\n",
    "    \n",
    "print(\"l_gen in quotient:\",pi(l_gen))\n",
    "\n",
    "\n",
    "favorite_basis_matrix = matrix([\n",
    "    pi(m_gen),\n",
    "    pi(l_gen),\n",
    "    pi(extra_gen)\n",
    "]).transpose()\n",
    "\n",
    "if favorite_basis_matrix.determinant() != 1:\n",
    "    print(\"WARNING: favorite_basis_matrix has determinant:\",favorite_basis_matrix.determinant())\n",
    "    \n",
    "    \n",
    "print(\"Commutation Relations in the quotient. These are in terms of q^(1/2).\") # this is assuming that the quotient preserves the commutation relations.\n",
    "omega_quotient = matrix([m_gen,l_gen,extra_gen])*omega_41_with_q*matrix([m_gen,l_gen,extra_gen]).transpose()\n",
    "print(omega_quotient)\n",
    "\n",
    "tmp_omega = (omega_41_with_q*matrix([m_gen,l_gen]).transpose())\n",
    "#TODO - is there something that commutes with the m and l that I could use as the third generator?"
   ]
  },
  {
   "cell_type": "code",
   "execution_count": null,
   "metadata": {
    "hidden": true
   },
   "outputs": [],
   "source": [
    "m_gen"
   ]
  },
  {
   "cell_type": "code",
   "execution_count": null,
   "metadata": {
    "hidden": true
   },
   "outputs": [],
   "source": [
    "Qq.<qrt4> = FractionField(QQ['qrt4'])\n",
    "var('q')\n",
    "q = qrt4^4\n",
    "\n",
    "quotient_free_algebra = FreeAlgebra(Qq,['m','l','g'])\n",
    "quotient_poly_algebra = LaurentPolynomialRing(Qq,['m','l','g'])\n",
    "classical_poly_algebra = LaurentPolynomialRing(QQ,['m','l','g'])\n",
    "quotient_lex_order = ['m','l','g']\n",
    "\n",
    "# Add -q^(1/2) - q^(-1/2) and turn into an element of the laurent polynomial ring.\n",
    "print(\"Circle A:\")\n",
    "relation_A = quotient_poly_algebra.sum([\n",
    "    quotient_poly_algebra(v)*quotient_poly_algebra.monomial(*k) for k,v in great_circle_quot_A.items()\n",
    "]+[-qrt4^2 + -qrt4^(-2)])\n",
    "pretty_print(relation_A)\n",
    "\n",
    "print(\"Circle B:\")\n",
    "relation_B = quotient_poly_algebra.sum([\n",
    "    quotient_poly_algebra(v)*quotient_poly_algebra.monomial(*k) for k,v in great_circle_quot_B.items()\n",
    "]+[-qrt4^2 - qrt4^(-2)])\n",
    "pretty_print(relation_B)\n",
    "\n",
    "# ideal:\n",
    "\n",
    "relations_ideal = quotient_poly_algebra.ideal([relation_A,relation_B])"
   ]
  },
  {
   "cell_type": "code",
   "execution_count": null,
   "metadata": {
    "hidden": true
   },
   "outputs": [],
   "source": []
  },
  {
   "cell_type": "markdown",
   "metadata": {
    "heading_collapsed": true
   },
   "source": [
    "## Set q->1 to get the classical expression.  - NOT UPDATED"
   ]
  },
  {
   "cell_type": "code",
   "execution_count": null,
   "metadata": {
    "hidden": true,
    "init_cell": true
   },
   "outputs": [],
   "source": [
    "# I want to compare to the q=1 case.\n",
    "f = Qq.hom(1,QQ) # map sending qrt4 -> 1.\n",
    "\n",
    "classical_relation_A = relation_A.map_coefficients(f)\n",
    "    \n",
    "classical_relation_B = relation_B.map_coefficients(f)\n",
    "\n",
    "print(\"Classical relations:\")\n",
    "pretty_print(classical_relation_A)\n",
    "pretty_print(classical_relation_B)"
   ]
  },
  {
   "cell_type": "markdown",
   "metadata": {
    "heading_collapsed": true
   },
   "source": [
    "## Searching for the A-polynomial - scratch  - NOT UPDATED"
   ]
  },
  {
   "cell_type": "code",
   "execution_count": null,
   "metadata": {
    "hidden": true
   },
   "outputs": [],
   "source": [
    "# short names for convenience\n",
    "r1 = classical_relation_A\n",
    "r2 = classical_relation_B\n",
    "\n",
    "pretty_print(r1.factor())\n",
    "pretty_print(r2.factor())\n",
    "\n",
    "classical_poly_algebra.ideal([r1,r2]).groebner_basis()"
   ]
  },
  {
   "cell_type": "code",
   "execution_count": null,
   "metadata": {
    "hidden": true
   },
   "outputs": [],
   "source": [
    "# Check that all the terms in the great circles are invariant.\n",
    "for k in great_circle_A.keys():\n",
    "    if not (weights_41*matrix(k).transpose()).is_zero():\n",
    "        print(\"Not invariant:\", k)\n",
    "        \n",
    "for k in great_circle_B.keys():\n",
    "    if not (weights_41*matrix(k).transpose()).is_zero():\n",
    "        print(\"Not invariant:\", k)"
   ]
  },
  {
   "cell_type": "code",
   "execution_count": null,
   "metadata": {
    "hidden": true
   },
   "outputs": [],
   "source": [
    "#import sage.rings.polynomial.laurent_polynomial_ideal\n",
    "#TODO: Figure out how to make ideals in a laurent polynomial ring!\n",
    "Rquot.<M,L,G> = PolynomialRing(QQ,3) # Order of variables here informs the Groebner basis.\n",
    "M,L,G = var('M','L','G')"
   ]
  },
  {
   "cell_type": "code",
   "execution_count": null,
   "metadata": {
    "hidden": true
   },
   "outputs": [],
   "source": [
    "# I'm adding 2 since the great circles should be set to q^(1/2)+q^(-1/2)\n",
    "# and we set q^(1/2) to -1. \n",
    "#r1 = 2 + q^(-1/2)*M*G + (1+q^(1/2))*M^(-1)*L^(-1) + q*M^(-3)*L^(-2)*G^(-1) + q^2*M^(-1)*G^(-1) + (q^(5/2)+q^(1/2))*M^(-2)*L^(-1)*G^(-1)     \n",
    "#r1rescaled = (r1.subs(qrt4=i)*G).collect(G)\n",
    "#r2 = 2 + q^(-1/2)*M^(-3)*G + (1+q^(1/2))*L*G + q*M^(3)*L^(2)*G^(1) + q^2*M^(3)*G^(-1) + (q^(5/2)+q^(1/2))*M^(3)*L^(1)    \n",
    "#r2rescaled = (r2.subs(qrt4=i)*G).collect(G)\n",
    "\n",
    "r1 = q^(-1/2) + (1+q^(1/2))*L*G + q*L^2*G^2 + q^2*M^2*L^4*G^2 + (q^(5/2)+q^(1/2))*M*L^3*G^2 - (q^(1/2)+q^(-1/2))*M*L^2*G\n",
    "r2 = q^(-1/2) + (q+q^(3/2))*M^3*L + q^3*M^6*L^2 + q^2*M^10*L^4*G^2 + (q^(7/2)+q^(3/2))*M^8*L^3*G - (q^(1/2)+q^(-1/2))*M^5*L^2*G\n",
    "\n",
    "r1_comm = r1.subs(qrt4=i).collect(G)\n",
    "r2_comm = r2.subs(qrt4=i).collect(G)\n",
    "\n",
    "pretty_print(r1_comm)\n",
    "pretty_print(r2_comm)\n",
    "\n",
    "\n",
    "#r1 = -M^4*L^2*G^2 + 0 + 1 + M^2*L^2 -2*M*L\n",
    "#r2 = -G^2 + M^6*L^2*G^2 + M^6 -2*M^6*L*G\n",
    "\n",
    "a2 = r1_comm.coefficient(G,2)\n",
    "a1 = r1_comm.coefficient(G,1)\n",
    "a0 = r1_comm.coefficient(G,0)\n",
    "\n",
    "b2 = r2_comm.coefficient(G,2)\n",
    "b1 = r2_comm.coefficient(G,1)\n",
    "b0 = r2_comm.coefficient(G,0)\n",
    "\n",
    "#dict_to_free_algebra_element(great_circle_quot_A,lex_order=['M','L','G'],free_algebra=Rquot)\n",
    "#dict_to_free_algebra_element(great_circle_quot_B,lex_order=['M','L','G'],free_algebra=Rquot)\n",
    "#Iquot.groebner_basis()\n",
    "Apoly = L^2*M^4 + L*(-M^8+M^6+2*M^4+M^2-1)+M^4\n",
    "#Aideal = Rquot.ideal(L^2*M^4 + L*(-M^8+M^6+2*M^4+M^2-1)+M^4)\n",
    "pretty_print(Apoly)"
   ]
  },
  {
   "cell_type": "code",
   "execution_count": null,
   "metadata": {
    "hidden": true
   },
   "outputs": [],
   "source": [
    "r1tilde = a2*(b2*a0*b1^(-1)*a2^(-1) - b0*b1^(-1))^2 + a0\n",
    "\n",
    "pretty_print(r1tilde.collect(M))\n",
    "pretty_print(r1tilde.collect(L).factor())"
   ]
  },
  {
   "cell_type": "code",
   "execution_count": null,
   "metadata": {
    "hidden": true
   },
   "outputs": [],
   "source": []
  },
  {
   "cell_type": "code",
   "execution_count": null,
   "metadata": {
    "hidden": true
   },
   "outputs": [],
   "source": [
    "# Can we quotient first?\n",
    "quotient_first_41 = (ZZ^(60)).quotient(gluing_constraints_41+monodromy_constraints_41)\n",
    "\n",
    "# weights in the quotient: project each row then make them into a new matrix.\n",
    "TMP_weights_in_quotient_41 = []\n",
    "for r in weights_41.rows():\n",
    "    TMP_weights_in_quotient_41.append(list(quotient_first_41.coordinate_vector(r)))\n",
    "    \n",
    "weights_in_quotient_41 = matrix(TMP_weights_in_quotient_41)\n",
    "print(\"Rank of the weight function in the quotient:\",weights_in_quotient_41.rank())\n",
    "\n",
    "# now take the invariants. We guess that this is rank 3.\n",
    "#TODO: Figure out why this has rank 5. Also, figure out what rank the quotient should be.\n",
    "invariants_in_quotient_41 = weights_in_quotient_41.right_kernel(basis='LLL')"
   ]
  },
  {
   "cell_type": "code",
   "execution_count": null,
   "metadata": {
    "hidden": true
   },
   "outputs": [],
   "source": [
    "# Looking at redundant constraints.\n",
    "print(\"The\",len(monodromy_constraints_41),\"monodromy constraints span a sublattice of rank\",(ZZ^(60)).span(monodromy_constraints_41).dimension())\n",
    "print(\"The\",len(gluing_constraints_41),\"gluing constraints span a sublattice of rank\",(ZZ^(60)).span(gluing_constraints_41).dimension())\n",
    "print(\"Together, they span a space of dimension\",(ZZ^(60)).span(gluing_constraints_41+monodromy_constraints_41).dimension())\n",
    "print(\"ngens: Over QQ, for the quotient with all T-gates open:\",(QQ^(60)).quotient(gluing_constraints_41+monodromy_constraints_41).ngens())\n",
    "print(\"ngens: Over ZZ, for the quotient with all T-gates open:\",(ZZ^(60)).quotient(gluing_constraints_41+monodromy_constraints_41).ngens())\n",
    "\n",
    "(ZZ^(60)).quotient(gluing_constraints_41+monodromy_constraints_41)"
   ]
  },
  {
   "cell_type": "code",
   "execution_count": null,
   "metadata": {
    "hidden": true
   },
   "outputs": [],
   "source": []
  },
  {
   "cell_type": "code",
   "execution_count": null,
   "metadata": {
    "hidden": true
   },
   "outputs": [],
   "source": [
    "# name the weight after the thread with weight 1 there. \n",
    "gate_x1_weight = matrix(add_termwise(short_edge(1,1,-1),short_edge(1,2,1),long_edge(5)) + [0]*18 + list(x1vec-z2vec))\n",
    "\n",
    "gate_x2_weight = matrix([0]*18 + add_termwise(short_edge(4,3,-1),short_edge(4,1,1),long_edge(6))+list(x2vec-z5vec))\n"
   ]
  },
  {
   "cell_type": "markdown",
   "metadata": {
    "hidden": true
   },
   "source": [
    "The moment map will commute with any weight-zero vector, so we can start by restricting to the centralizer."
   ]
  },
  {
   "cell_type": "code",
   "execution_count": null,
   "metadata": {
    "hidden": true
   },
   "outputs": [],
   "source": [
    "# TODO - this might be cleaner if we start with an identity matrix, then remove rows for non-zero weight vectors.\n",
    "gate_x1_zero_weight_vectors = [\n",
    "    # a_ij short edges besides a11 and a12\n",
    "    short_edge(i,j)+[0]*(18+24) for i in [1,2,3,4] for j in [1,2,3] if (i,j)!= (1,1) and (i,j) != (1,2)\n",
    "]+[ # A_k long edges besides A5\n",
    "    long_edge(k)+[0]*(18+24) for k in range(1,6+1) if k != 5\n",
    "]+[ # b_ij short edges\n",
    "    [0]*18 + short_edge(i,j) + [0]*24 for i in [1,2,3,4] for j in [1,2,3]\n",
    "]+[ #B_k long edges\n",
    "    [0]*18 + long_edge(k) + [0]*24 for k in range(1,6+1)\n",
    "]+[ # threads besides x1 and z2\n",
    "    [0]*(18+18) + list(std_basis(i,24)) for i in range(24) if std_basis(i,24) != x1vec and std_basis(i,24) != z2vec\n",
    "]\n",
    "    \n",
    "gate_x1_zero_weight_space = get_centralizer(gate_x1_zero_weight_vectors,omega_41)"
   ]
  },
  {
   "cell_type": "code",
   "execution_count": null,
   "metadata": {
    "hidden": true
   },
   "outputs": [],
   "source": [
    "print(gate_x1_zero_weight_space.basis_matrix().LLL())"
   ]
  },
  {
   "cell_type": "code",
   "execution_count": null,
   "metadata": {
    "hidden": true
   },
   "outputs": [],
   "source": [
    "# the non-zero weights:\n",
    "print(coeffs*omega_41*std_basis(0,60),gate_x1_weight*std_basis(0,60))\n",
    "print(coeffs*omega_41*std_basis(1,60),gate_x1_weight*std_basis(1,60))\n",
    "print(coeffs*omega_41*vector([0]*(18+18)+list(x1vec)),gate_x1_weight*vector([0]*(18+18)+list(x1vec)))\n",
    "print(coeffs*omega_41*vector([0]*(18+18)+list(z2vec)),gate_x1_weight*vector([0]*(18+18)+list(z2vec)))\n",
    "f = (coeffs*omega_41*std_basis(0,60))[0]\n",
    "g = (gate_x1_weight*std_basis(0,60))[0]\n",
    "\n",
    "# turn them into a system of equations: This is having trouble, since sage doesn't recognize these as symbolic expressions.\n",
    "#solve([coeffs*omega_41*std_basis(0,60)[0]==gate_x1_weight*std_basis(0,60)[0]],a12,a13,A4,A5,x1,x2,y1,w1)\n",
    "print(coeffs*omega_41*std_basis(0,60)[0]==gate_x1_weight*std_basis(0,60)[0])\n",
    "solve([-a12 + a13 - A4 - A5 - x1 + x2 - y1 - z1 - w1==-1,y1==2],y1,x1)"
   ]
  },
  {
   "cell_type": "markdown",
   "metadata": {
    "hidden": true
   },
   "source": [
    "On Ubuntu 22.04 and SageMath 9.5 I was able to install SnapPy with the terminal command:\n",
    "```\n",
    "sage -pip install --upgrade --user snappy\n",
    "```"
   ]
  },
  {
   "cell_type": "code",
   "execution_count": null,
   "metadata": {
    "hidden": true
   },
   "outputs": [],
   "source": [
    "import snappy\n",
    "M = snappy.Triangulation('4_1')\n",
    "gluing = M._get_tetrahedra_gluing_data()\n",
    "print(gluing)\n",
    "print(M._to_string())"
   ]
  },
  {
   "cell_type": "code",
   "execution_count": null,
   "metadata": {
    "hidden": true
   },
   "outputs": [],
   "source": [
    "for i in range(4):\n",
    "    print(i, gluing[0][1][i])\n",
    "    for j in range(4):\n",
    "        if i != j:\n",
    "            print(\"a{0}{1}\".format(i,j),\"glues to\", \"b{0}{1}\".format(gluing[0][1][i][i],gluing[0][1][i][j]))"
   ]
  },
  {
   "cell_type": "code",
   "execution_count": null,
   "metadata": {
    "hidden": true
   },
   "outputs": [],
   "source": [
    "print(M._get_tetrahedra_gluing_data())"
   ]
  },
  {
   "cell_type": "code",
   "execution_count": null,
   "metadata": {
    "hidden": true
   },
   "outputs": [],
   "source": [
    "snappy.Manifold(M).browse()\n",
    "%gui tk"
   ]
  },
  {
   "cell_type": "code",
   "execution_count": null,
   "metadata": {
    "hidden": true
   },
   "outputs": [],
   "source": [
    "print(M._to_string())\n",
    "M.reverse_orientation()\n",
    "print(M._to_string())"
   ]
  },
  {
   "cell_type": "code",
   "execution_count": null,
   "metadata": {
    "hidden": true
   },
   "outputs": [],
   "source": [
    "import snappy_manifolds\n",
    "Mc = snappy.snap.t3mlite.Mcomplex(M)\n",
    "print(\"Gluing info:\")\n",
    "for tet in Mc.Tetrahedra:\n",
    "    print(tet.Gluing)\n",
    "\n",
    "t1 = Mc.Tetrahedra[0]\n",
    "\n",
    "e1 = Mc.Edges[0]\n",
    "print(\"Embeddings:\")\n",
    "for em in e1.embeddings():\n",
    "    print(em)\n",
    "\n",
    "print(e1.info())\n",
    "a = e1.get_arrow() # I think arrow tells me <Edge | Face | Tet >"
   ]
  },
  {
   "cell_type": "code",
   "execution_count": null,
   "metadata": {
    "hidden": true
   },
   "outputs": [],
   "source": [
    "print(M._to_string())"
   ]
  },
  {
   "cell_type": "code",
   "execution_count": null,
   "metadata": {
    "hidden": true
   },
   "outputs": [],
   "source": [
    "import snappy\n",
    "snappy.snap.t3mlite.Mcomplex?"
   ]
  },
  {
   "cell_type": "markdown",
   "metadata": {
    "heading_collapsed": true
   },
   "source": [
    "# q = 1 Version  - NOT UPDATED"
   ]
  },
  {
   "cell_type": "markdown",
   "metadata": {
    "hidden": true
   },
   "source": [
    "Here's the plan:\n",
    "1. Work with a (Laurent?) polynomial ring in all the edge variables.\n",
    "2. Quotient by the ideal generated by all the relations. By \"all the relations\" I mean $m_i - 1$ for all monomial relations $m_i$, plus the great circles which are already polynomials.\n",
    "\n",
    "\n",
    "There's a silly issue - both R and Rnew have the variables x1,...,z6, and so sometimes think you're trying to multiple elements in different rings. \n",
    "\n",
    "TODO - I expect the quotient to need three generators, but sagemath just uses the images of the generators. Figure out how to get this to work. Playing around with ideals and reduce makes me think I might need to work with polynomial rings instead of laurent ones."
   ]
  },
  {
   "cell_type": "markdown",
   "metadata": {
    "hidden": true
   },
   "source": [
    "## With Polynomials"
   ]
  },
  {
   "cell_type": "code",
   "execution_count": null,
   "metadata": {
    "hidden": true
   },
   "outputs": [],
   "source": [
    "# Some recap.\n",
    "Rnew # This is the ring with all generators for both tetrahedra and also the threads.\n",
    "Rpoly = R.polynomial_ring()\n",
    "\n",
    "# all the monomial relations, I need to convert them into elements in the ring.\n",
    "list_of_gluing_constraints_41;\n",
    "list_of_monodromy_constraints_41;\n",
    "list_of_thread_monodromy_constraints_41;\n"
   ]
  },
  {
   "cell_type": "code",
   "execution_count": null,
   "metadata": {
    "hidden": true
   },
   "outputs": [],
   "source": [
    "# scratch\n",
    "test_constraint = \"*\".join([\"{0}^{1}\".format(var,power) for var,power in list(zip(lex_order_41[1:],list_of_gluing_constraints_41[1][1:])) if power != 0])\n",
    "#lattice_coord_to_free_algebra_element(list_of_gluing_constraints_41[2][1:],lex_order_41[1:],R)\n",
    "\n",
    "R(a43^-1*R(x1))"
   ]
  },
  {
   "cell_type": "code",
   "execution_count": null,
   "metadata": {
    "hidden": true
   },
   "outputs": [],
   "source": [
    "monomial_constraints = [\n",
    "    lattice_coord_to_free_algebra_element(\n",
    "        constraint[1:],\n",
    "        lex_order_41[1:],\n",
    "        R\n",
    "    ) -1 for constraint in list_of_gluing_constraints_41 + list_of_monodromy_constraints_41 + list_of_thread_monodromy_constraints_41]\n",
    "\n",
    "monomial_constraint_ideal = R.ideal(monomial_constraints)\n",
    "glued_algebra = R.quotient_ring(monomial_constraint_ideal)"
   ]
  },
  {
   "cell_type": "code",
   "execution_count": null,
   "metadata": {
    "hidden": true
   },
   "outputs": [],
   "source": [
    "# A function to clear denominators.\n",
    "\n",
    "def clear_denominator(laurent_poly,ring):\n",
    "    \"\"\"multiplies laurent_poly by a monomial to clear all negative powers.\n",
    "    \n",
    "    Parameters:\n",
    "    laurent_poly (laurent_polynomial) - needs clearing\n",
    "    ring (LaurentPolynomialRing) - the ambient ring\n",
    "    \n",
    "    Returns:\n",
    "    polynomial version of laurent_poly\n",
    "    \"\"\"\n",
    "    powers_grouped_by_variable = list(zip(*laurent_poly.exponents()))    \n",
    "    lowest_exponents = [reduce(lambda x,y : -min(x,y), l) for l in powers_grouped_by_variable]\n",
    "    poly_ring = ring.polynomial_ring()\n",
    "    \n",
    "    return poly_ring(ring.monomial(*lowest_exponents)*laurent_poly)\n",
    "\n",
    "    \n",
    "clear_denominator(R(a43^-1*R(x1) -a21^-2*a43^4),R)"
   ]
  },
  {
   "cell_type": "code",
   "execution_count": null,
   "metadata": {
    "hidden": true
   },
   "outputs": [],
   "source": [
    "# now lets look at the quotient in a polynomial ring.\n",
    "positive_powers_constraints = [clear_denominator(f,R) for f in monomial_constraints]"
   ]
  },
  {
   "cell_type": "code",
   "execution_count": null,
   "metadata": {
    "hidden": true
   },
   "outputs": [],
   "source": [
    "poly_constraints_ideal = Rpoly.ideal(positive_powers_constraints)\n",
    "poly_glued_algebra = Rpoly.quotient(poly_constraints_ideal)"
   ]
  }
 ],
 "metadata": {
  "celltoolbar": "Initialization Cell",
  "kernelspec": {
   "display_name": "SageMath 9.5",
   "language": "sage",
   "name": "sagemath"
  },
  "language_info": {
   "codemirror_mode": {
    "name": "ipython",
    "version": 3
   },
   "file_extension": ".py",
   "mimetype": "text/x-python",
   "name": "python",
   "nbconvert_exporter": "python",
   "pygments_lexer": "ipython3",
   "version": "3.10.12"
  },
  "toc": {
   "base_numbering": 1,
   "nav_menu": {
    "height": "177px",
    "width": "344px"
   },
   "number_sections": true,
   "sideBar": true,
   "skip_h1_title": false,
   "title_cell": "Table of Contents",
   "title_sidebar": "Contents",
   "toc_cell": false,
   "toc_position": {
    "height": "calc(100% - 180px)",
    "left": "10px",
    "top": "150px",
    "width": "297.333px"
   },
   "toc_section_display": true,
   "toc_window_display": false
  },
  "varInspector": {
   "cols": {
    "lenName": 16,
    "lenType": 16,
    "lenVar": 40
   },
   "kernels_config": {
    "python": {
     "delete_cmd_postfix": "",
     "delete_cmd_prefix": "del ",
     "library": "var_list.py",
     "varRefreshCmd": "print(var_dic_list())"
    },
    "r": {
     "delete_cmd_postfix": ") ",
     "delete_cmd_prefix": "rm(",
     "library": "var_list.r",
     "varRefreshCmd": "cat(var_dic_list()) "
    }
   },
   "types_to_exclude": [
    "module",
    "function",
    "builtin_function_or_method",
    "instance",
    "_Feature"
   ],
   "window_display": false
  }
 },
 "nbformat": 4,
 "nbformat_minor": 4
}
