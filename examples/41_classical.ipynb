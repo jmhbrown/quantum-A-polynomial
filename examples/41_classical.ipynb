{
 "cells": [
  {
   "cell_type": "markdown",
   "metadata": {
    "heading_collapsed": true
   },
   "source": [
    "# Support and Setup"
   ]
  },
  {
   "cell_type": "markdown",
   "metadata": {
    "hidden": true
   },
   "source": [
    "## Helper methods"
   ]
  },
  {
   "cell_type": "code",
   "execution_count": 1,
   "metadata": {
    "hidden": true,
    "init_cell": true
   },
   "outputs": [],
   "source": [
    "import functools\n",
    "\n",
    "# Get the short and long edges in vector form.\n",
    "def short_edge(i,j,power=1):\n",
    "    vec = [0]*18\n",
    "    vec[3*(i-1)+j-1] = power\n",
    "    return vec\n",
    "\n",
    "def long_edge(i,power=1):\n",
    "    vec = [0]*18\n",
    "    vec[11+i] = power\n",
    "    return vec\n",
    "\n",
    "def std_basis(i,dim,power=1):\n",
    "    # returns (0,...,0,power,0,...,0) in ZZ^dim\n",
    "    vec = [0]*dim\n",
    "    vec[i] = power\n",
    "    return vector(vec)\n",
    "\n",
    "# list + list is concatenation, here's a method to add lists termwise:\n",
    "# needs the library functools for reduce.\n",
    "def add_termwise(*args):\n",
    "    return list(reduce(lambda x,y: vector(x)+vector(y), args))\n",
    "\n",
    "# multiply_termwise(v,w) returns (v1*w1,...,vn*wn)\n",
    "def multiply_termwise(*args):\n",
    "    return reduce(lambda vec1, vec2: list(map(lambda x,y: x*y, vec1,vec2)), args)\n",
    "\n",
    "def get_centralizer(constraint_vectors,relations):\n",
    "    # we'll want the orthogonal complement of the constraint vectors with respect to omega.\n",
    "    # omega must be the full relations matrix for the system.\n",
    "    \n",
    "    constraints  = []\n",
    "    dim_relations = relations.dimensions()[0]\n",
    "    V = QQ^dim_relations\n",
    "    #num_tetrahedra = int(len(constraint_vectors[0])/dim_relations)\n",
    "    \n",
    "    \n",
    "    # 1. multiply each constraint vector by the relations matrix. \n",
    "    for v in constraint_vectors:\n",
    "        constraints.append(relations*vector(QQ,v))\n",
    "        \n",
    "    # 2. find the orthogonal complement of the constraints.\n",
    "    X = V.span(constraints).complement()\n",
    "    \n",
    "    # 3. scale the results to be integer valued\n",
    "    X_int = []\n",
    "    for v in X.basis():\n",
    "        denom = lcm(v.apply_map(lambda x : denominator(x)))\n",
    "        X_int.append(v*denom)\n",
    "    \n",
    "    # 4. return the integer span of these scaled vectors. This is the centralizer of the constraint vectors.\n",
    "    centralizer = (QQ^(dim_relations)).span(X_int)\n",
    "    return centralizer\n",
    "    \n",
    "def is_in_centralizer(centralizer,vector):\n",
    "    # checks if vector is in the centralizer\n",
    "    return 0 != centralizer.intersection((QQ**Integer(36)).span([vector])).dimension()\n",
    "\n",
    "def get_normal_ordering_power(term,relations):\n",
    "    # :ab: = q^{-n}:a: :b:, if ab = q^{2n}ba\n",
    "    dim = len(vector(QQ,term))\n",
    "    scalar_power = 0\n",
    "    for i in range(dim):\n",
    "        if not (term[i].is_zero() or vector(term[i+1:]).is_zero()):\n",
    "            leading_factor = vector([0]*dim)\n",
    "            leading_factor[i] = term[i]\n",
    "            trailing_terms = vector([0]*dim)\n",
    "            trailing_terms[i+1:] = term[i+1:]\n",
    "        \n",
    "            scalar_power -= (matrix(leading_factor)*relations*matrix(trailing_terms).transpose())[0]\n",
    "    return (scalar_power/2)[0]\n",
    "\n",
    "def add_normal_ordering_scalar(list_of_terms,relations):\n",
    "    new_list_of_terms = list_of_terms\n",
    "    for term in new_list_of_terms:\n",
    "        term[0] += get_normal_ordering_power(term,relations)\n",
    "    return new_list_of_terms\n",
    "\n",
    "def dict_monomial_to_list(monomial):\n",
    "    coeff = LaurentPolynomialRing(QQ,qrt4)(list(monomial.values())[0])\n",
    "    if not coeff.is_monomial():\n",
    "        raise Exception('I can only deal with coefficients in the form q^a')\n",
    "    else:\n",
    "        lattice_coord = list(list(monomial.keys())[0])\n",
    "        lattice_coord[0] += coeff.degree()/4 # the coeff is in terms of qrt4, qrt4^4 = q\n",
    "        return lattice_coord"
   ]
  },
  {
   "cell_type": "markdown",
   "metadata": {
    "hidden": true
   },
   "source": [
    "## Variables and spaces"
   ]
  },
  {
   "cell_type": "code",
   "execution_count": 2,
   "metadata": {
    "hidden": true,
    "init_cell": true
   },
   "outputs": [],
   "source": [
    "# coefficients - helps translate from vectors to elements in the torus.\n",
    "R.<a11,a12,a13,a21,a22,a23,a31,a32,a33,a41,a42,a43,A1,A2,A3,A4,A5,A6,b11,b12,b13,b21,b22,b23,b31,b32,b33,b41,b42,b43,B1,B2,B3,B4,B5,B6,x1,x2,x3,x4,x5,x6,y1,y2,y3,y4,y5,y6,z1,z2,z3,z4,z5,z6,w1,w2,w3,w4,w5,w6> = LaurentPolynomialRing(QQ)\n",
    "coeffs = matrix(R,[a11,a12,a13,a21,a22,a23,a31,a32,a33,a41,a42,a43,A1,A2,A3,A4,A5,A6,b11,b12,b13,b21,b22,b23,b31,b32,b33,b41,b42,b43,B1,B2,B3,B4,B5,B6,x1,x2,x3,x4,x5,x6,y1,y2,y3,y4,y5,y6,z1,z2,z3,z4,z5,z6,w1,w2,w3,w4,w5,w6])\n",
    "\n",
    "Rnew.<al21,al31,al01,al02,al32,al12,al30,al20,al10,al13,al23,al03,A03,A02,A12,A13,A01,A23,be21,be31,be01,be02,be32,be12,be30,be20,be10,be13,be23,be03,B03,B02,B12,B13,B01,B23,x1,x2,x3,x4,x5,x6,y1,y2,y3,y4,y5,y6,z1,z2,z3,z4,z5,z6,w1,w2,w3,w4,w5,w6> =LaurentPolynomialRing(QQ)\n",
    "new_coeffs = matrix(Rnew,[al21,al31,al01,al02,al32,al12,al30,al20,al10,al13,al23,al03,A03,A02,A12,A13,A01,A23,be21,be31,be01,be02,be32,be12,be30,be20,be10,be13,be23,be03,B03,B02,B12,B13,B01,B23,x1,x2,x3,x4,x5,x6,y1,y2,y3,y4,y5,y6,z1,z2,z3,z4,z5,z6,w1,w2,w3,w4,w5,w6])\n"
   ]
  },
  {
   "cell_type": "code",
   "execution_count": 3,
   "metadata": {
    "hidden": true,
    "init_cell": true
   },
   "outputs": [],
   "source": [
    "\n",
    "gens_dict = {}\n",
    "\n",
    "# Edges for tet A\n",
    "gens_dict.update({\"a{0}{1}\".format(i,j): vector(short_edge(i,j) + [0]*18 + [0]*24) for i in range(1,5) for j in range(1,4)})\n",
    "gens_dict.update({\"A{0}\".format(i) : vector(long_edge(i) + [0]*18 + [0]*24) for i in range(1,7)})\n",
    "\n",
    "# Edges for tet B\n",
    "gens_dict.update({\"b{0}{1}\".format(i,j): vector([0]*18 + short_edge(i,j) + [0]*24) for i in range(1,5) for j in range(1,4)})\n",
    "gens_dict.update({\"B{0}\".format(i) : vector([0]*18 + long_edge(i) + [0]*24) for i in range(1,7)})\n",
    "\n",
    "# Finally the threads\n",
    "gens_dict.update({\"x{0}\".format(i+1): vector([0]*18 + [0]*18 + list(std_basis(i+0 ,24))) for i in range(6)})\n",
    "gens_dict.update({\"y{0}\".format(i+1): vector([0]*18 + [0]*18 + list(std_basis(i+6 ,24))) for i in range(6)})\n",
    "gens_dict.update({\"z{0}\".format(i+1): vector([0]*18 + [0]*18 + list(std_basis(i+12,24))) for i in range(6)})\n",
    "gens_dict.update({\"w{0}\".format(i+1): vector([0]*18 + [0]*18 + list(std_basis(i+18,24))) for i in range(6)})\n",
    "\n",
    "lex_order_41 = list(gens_dict.keys())\n",
    "\n",
    "# shorthand:\n",
    "lat = gens_dict\n",
    "\n"
   ]
  },
  {
   "cell_type": "code",
   "execution_count": 4,
   "metadata": {
    "hidden": true,
    "init_cell": true
   },
   "outputs": [],
   "source": [
    "# translating between new and old indices. these might change with the orientation convention for the tetrahedra\n",
    "# { 'new' : ['old',sign] }\n",
    "gens_map = {\n",
    "                 'al21' : ['a11', 1],\n",
    "                 'al31' : ['a12', 1],\n",
    "                 'al01' : ['a13', 1],\n",
    "                 'al02' : ['a21',1],\n",
    "                 'al32' : ['a22',1],\n",
    "                 'al12' : ['a23',1],\n",
    "                 'al30' : ['a31',1],\n",
    "                 'al20' : ['a32',1],\n",
    "                 'al10' : ['a33',1],\n",
    "                 'al13' : ['a41', 1],\n",
    "                 'al23' : ['a42', 1],\n",
    "                 'al03' : ['a43', 1],\n",
    "                 'A03' : ['A1',1],\n",
    "                 'A02' : ['A2',1],\n",
    "                 'A12' : ['A3',1],\n",
    "                 'A13' : ['A4',1],\n",
    "                 'A01' : ['A5',1],\n",
    "                 'A23' : ['A6',1],\n",
    "                 'be21' : ['b11', 1],\n",
    "                 'be31' : ['b12', 1],\n",
    "                 'be01' : ['b13', 1],\n",
    "                 'be02' : ['b21',1],\n",
    "                 'be32' : ['b22',1],\n",
    "                 'be12' : ['b23',1],\n",
    "                 'be30' : ['b31',1],\n",
    "                 'be20' : ['b32',1],\n",
    "                 'be10' : ['b33',1],\n",
    "                 'be13' : ['b41', 1],\n",
    "                 'be23' : ['b42', 1],\n",
    "                 'be03' : ['b43', 1],\n",
    "                 'B03' : ['B1',1],\n",
    "                 'B02' : ['B2',1],\n",
    "                 'B12' : ['B3',1],\n",
    "                 'B13' : ['B4',1],\n",
    "                 'B01' : ['B5',1],\n",
    "                 'B23' : ['B6',1],\n",
    "                }\n",
    "\n",
    "# include threads for safety.\n",
    "gens_map.update({'{0}{1}'.format(th,i) : ['{0}{1}'.format(th,i),1] for th in ['x','y','z','w'] for i in range(1,7)})\n",
    "\n",
    "def new_gens(new, translation=gens_map,old_lattice=gens_dict):\n",
    "    old = translation[new]\n",
    "    return old[1]*gens_dict[old[0]]\n"
   ]
  },
  {
   "cell_type": "code",
   "execution_count": 63,
   "metadata": {
    "hidden": true
   },
   "outputs": [],
   "source": [
    "for k,v in gens_dict.items():\n",
    "        if not k == str((coeffs*vector(v))[0]):\n",
    "            print(k, \"and\", str((coeffs*vector(v))[0]),\" don't agree\")\n",
    "            \n"
   ]
  },
  {
   "cell_type": "markdown",
   "metadata": {},
   "source": [
    "# The 4_1 knot compelement"
   ]
  },
  {
   "cell_type": "markdown",
   "metadata": {
    "heading_collapsed": true
   },
   "source": [
    "## Relations for the complement"
   ]
  },
  {
   "cell_type": "code",
   "execution_count": 5,
   "metadata": {
    "hidden": true,
    "init_cell": true
   },
   "outputs": [],
   "source": [
    "# The relations matrix is identically zero.\n",
    "omega_41 = Matrix([[0]*60]*60)\n",
    "kernel_41 = omega_41.kernel().basis()"
   ]
  },
  {
   "cell_type": "code",
   "execution_count": 66,
   "metadata": {
    "hidden": true
   },
   "outputs": [
    {
     "data": {
      "image/png": "[encoded data removed]",
      "text/plain": [
       "Graphics object consisting of 1 graphics primitive"
      ]
     },
     "execution_count": 66,
     "metadata": {},
     "output_type": "execute_result"
    }
   ],
   "source": [
    "matrix_plot(omega_41)"
   ]
  },
  {
   "cell_type": "markdown",
   "metadata": {},
   "source": [
    "## Taking invariants at gates.\n",
    "\n",
    "The weight function $\\mathbb{Z}^{60} \\to \\mathbb{Z}^{24}$ is given by a 24 by 60 matrix `weights_41`. Its right kernel is the invariant sublattice."
   ]
  },
  {
   "cell_type": "markdown",
   "metadata": {
    "heading_collapsed": true,
    "init_cell": true
   },
   "source": [
    "### Weight Matrix"
   ]
  },
  {
   "cell_type": "code",
   "execution_count": 6,
   "metadata": {
    "hidden": true,
    "init_cell": true
   },
   "outputs": [],
   "source": [
    "\n",
    "# first keep track of the ordering on the vertices. Need this to make a basis.\n",
    "vertex_index_list = [[k,i,j] for k in ['a','b'] for i in range(4) for j in range(4) if i != j]\n",
    "vertex_dict = {'V{0}{1}{2}'.format(*vertex_index_list[i]) : std_basis(i,len(vertex_index_list)) for i in range(len(vertex_index_list)) }\n",
    "#print(vertex_dict)\n",
    "\n",
    "# order on rows is a11, a12,...,a43,A1,...,A6,b11,...,B6,x1,x2,...,y's,z's,w's\n",
    "weights_41 = matrix(ZZ,[\n",
    "    vertex_dict['Va21']-vertex_dict['Va31'], # a11 - al21\n",
    "    vertex_dict['Va31']-vertex_dict['Va01'], # a12 - al31\n",
    "    vertex_dict['Va01']-vertex_dict['Va21'], # a13 - al01\n",
    "    vertex_dict['Va02']-vertex_dict['Va32'], # a21 - al02\n",
    "    vertex_dict['Va32']-vertex_dict['Va12'], # a22 - al32\n",
    "    vertex_dict['Va12']-vertex_dict['Va02'], # a23 - al12\n",
    "    vertex_dict['Va30']-vertex_dict['Va20'], # a31 - al30\n",
    "    vertex_dict['Va20']-vertex_dict['Va10'], # a32 - al20\n",
    "    vertex_dict['Va10']-vertex_dict['Va30'], # a33 - al10\n",
    "    vertex_dict['Va13']-vertex_dict['Va23'], # a41 - al13\n",
    "    vertex_dict['Va23']-vertex_dict['Va03'], # a42 - al23\n",
    "    vertex_dict['Va03']-vertex_dict['Va13'], # a43 - al03\n",
    "    vertex_dict['Va10']+vertex_dict['Va23'], # A1 - A03\n",
    "    vertex_dict['Va30']+vertex_dict['Va12'], # A2 - A02\n",
    "    vertex_dict['Va32']+vertex_dict['Va01'], # A3 - A12\n",
    "    vertex_dict['Va21']+vertex_dict['Va03'], # A4 - A13\n",
    "    vertex_dict['Va20']+vertex_dict['Va31'], # A5 - A01\n",
    "    vertex_dict['Va13']+vertex_dict['Va02'], # A6 - A23\n",
    "    vertex_dict['Vb21']-vertex_dict['Vb31'], # b11 - be21\n",
    "    vertex_dict['Vb31']-vertex_dict['Vb01'], # b12 - be31\n",
    "    vertex_dict['Vb01']-vertex_dict['Vb21'], # b13 - be01\n",
    "    vertex_dict['Vb02']-vertex_dict['Vb32'], # b21 - be02\n",
    "    vertex_dict['Vb32']-vertex_dict['Vb12'], # b22 - be32\n",
    "    vertex_dict['Vb12']-vertex_dict['Vb02'], # b23 - be12\n",
    "    vertex_dict['Vb30']-vertex_dict['Vb20'], # b31 - be30\n",
    "    vertex_dict['Vb20']-vertex_dict['Vb10'], # b32 - be20\n",
    "    vertex_dict['Vb10']-vertex_dict['Vb30'], # b33 - be10\n",
    "    vertex_dict['Vb13']-vertex_dict['Vb23'], # b41 - be13\n",
    "    vertex_dict['Vb23']-vertex_dict['Vb03'], # b42 - be23\n",
    "    vertex_dict['Vb03']-vertex_dict['Vb13'], # b43 - be03\n",
    "    vertex_dict['Vb10']+vertex_dict['Vb23'], # B1 - B03\n",
    "    vertex_dict['Vb30']+vertex_dict['Vb12'], # B2 - B02\n",
    "    vertex_dict['Vb32']+vertex_dict['Vb01'], # B3 - B12\n",
    "    vertex_dict['Vb21']+vertex_dict['Vb03'], # B4 - B13\n",
    "    vertex_dict['Vb20']+vertex_dict['Vb31'], # B5 - B01\n",
    "    vertex_dict['Vb13']+vertex_dict['Vb02'], # B6 - B23\n",
    "    # x1,...,x6\n",
    "    vertex_dict['Vb32']-vertex_dict['Va03'],\n",
    "    vertex_dict['Va13']-vertex_dict['Vb02'],\n",
    "    vertex_dict['Vb13']-vertex_dict['Va02'],\n",
    "    vertex_dict['Va32']-vertex_dict['Vb03'],\n",
    "    vertex_dict['Vb21']-vertex_dict['Va01'],\n",
    "    vertex_dict['Va21']-vertex_dict['Vb01'],\n",
    "    # y1,...,y6\n",
    "    vertex_dict['Va23']-vertex_dict['Vb32'],\n",
    "    vertex_dict['Vb12']-vertex_dict['Va13'],\n",
    "    vertex_dict['Va02']-vertex_dict['Vb30'],\n",
    "    vertex_dict['Vb20']-vertex_dict['Va12'],\n",
    "    vertex_dict['Va30']-vertex_dict['Vb31'],\n",
    "    vertex_dict['Vb01']-vertex_dict['Va10'],\n",
    "    # z1,...,z6\n",
    "    vertex_dict['Vb03']-vertex_dict['Va23'],\n",
    "    vertex_dict['Va03']-vertex_dict['Vb23'],\n",
    "    vertex_dict['Vb10']-vertex_dict['Va21'],\n",
    "    vertex_dict['Va31']-vertex_dict['Vb20'],\n",
    "    vertex_dict['Vb31']-vertex_dict['Va20'],\n",
    "    vertex_dict['Va10']-vertex_dict['Vb21'],\n",
    "    # w1,...,w6\n",
    "    vertex_dict['Va12']-vertex_dict['Vb13'],\n",
    "    vertex_dict['Vb23']-vertex_dict['Va32'],\n",
    "    vertex_dict['Va01']-vertex_dict['Vb10'],\n",
    "    vertex_dict['Vb30']-vertex_dict['Va31'],\n",
    "    vertex_dict['Va20']-vertex_dict['Vb12'],\n",
    "    vertex_dict['Vb02']-vertex_dict['Va30']\n",
    "]).transpose()\n"
   ]
  },
  {
   "cell_type": "code",
   "execution_count": 7,
   "metadata": {
    "hidden": true,
    "init_cell": true
   },
   "outputs": [
    {
     "name": "stdout",
     "output_type": "stream",
     "text": [
      "Rank of invariant sublattice: 36\n",
      "[al21 - be10 + z3 - w4]\n",
      "[al31 + be10 + w3 + w4]\n",
      "[al01 - z3 - w3]\n",
      "[al02 + be03 + x4 - y3 - y4 - z4 - w1 - w4]\n",
      "[al32 - be03 - x4 + w1]\n",
      "[al12 + y3 + y4 + z4 + w4]\n",
      "[al30 - y5 - z5]\n",
      "[al20 - be03 + B13 - B23 + y5 + z5 + z6 + w6]\n",
      "[al10 + be03 - B13 + B23 - z6 - w6]\n",
      "[al13 - be10 + B13 - B23 + x6 + y2 - y4 + y5 + y6 - z1 + z3 - z4 + z5 + z6 - w1 - w4 + w5 + w6]\n",
      "[al23 + x4 + z1 + z2 + w2]\n",
      "[al03 + be10 - B13 + B23 - x4 - x6 - y2 + y4 - y5 - y6 - z2 - z3 + z4 - z5 - z6 + w1 - w2 + w4 - w5 - w6]\n",
      "[A03 - B13 + z1 - z6]\n",
      "[A02 - B23 - w1 + w6]\n",
      "[A12 - B13 - x4 - x6 - y6 - z3 - z6 - w3]\n",
      "[A13 - B13 - x4 - x6 - y6 - z2 - z6 - w2]\n",
      "[A01 - B23 - y4 + y5 - z4 + z5 - w1 + w6]\n",
      "[A23 - B23 + y2 - y3 - y4 + y5 - z4 + z5 - w1 - w4 + w5 + w6]\n",
      "[be21 + be03 - B13 + B23 - y5 - w6]\n",
      "[be31 - be03 + B13 - B23 + y5 + y6 + z6 + w6]\n",
      "[be01 - y6 - z6]\n",
      "[be02 - be10 + B13 - B23 + x6 - y1 - y4 + y6 - z1 + z3 - z4 + z6 - w1 - w4]\n",
      "[be32 + be10 - B13 + B23 - x6 + y1 + y4 - y5 - y6 + z1 - z3 + z4 - z5 - z6 + w1 + w4 - w5 - w6]\n",
      "[be12 + y5 + z5 + w5 + w6]\n",
      "[be30 - z4 - w4]\n",
      "[be20 + be10 + z4 + w4]\n",
      "[be13 + be03 + x4 + w2]\n",
      "[be23 - x4 - w2]\n",
      "[B03 - B13 - x4 - x6 - y6 - z3 - z6 - w2]\n",
      "[B02 - B23 - y4 + y5 - z4 + z5 - w1 - w4 + w5 + w6]\n",
      "[B12 - B13 + y1 - y6 + z1 - z6]\n",
      "[B01 - B23 - y4 + y5 - w1 + w6]\n",
      "[x1 + x4 + y1 + z1 + z2 + w2]\n",
      "[x2 + y2 + y5 + z5 + w5 + w6]\n",
      "[x3 + y3 + y4 + z4 + w1 + w4]\n",
      "[x5 + x6 + y6 + z3 + z6 + w3]\n"
     ]
    }
   ],
   "source": [
    "# The right kernel is the sublattice of invariants with respect to the T-action at all 24 gates.\n",
    "invariant_sublattice_41 = weights_41.right_kernel()\n",
    "print(\"Rank of invariant sublattice:\", invariant_sublattice_41.rank())\n",
    "\n",
    "for v in invariant_sublattice_41.basis():\n",
    "    #print out the kernel elements\n",
    "    print(matrix(Rnew,v)*new_coeffs.transpose())"
   ]
  },
  {
   "cell_type": "code",
   "execution_count": 54,
   "metadata": {
    "hidden": true
   },
   "outputs": [
    {
     "data": {
      "text/plain": [
       "Free module of degree 60 and rank 36 over Integer Ring\n",
       "Echelon basis matrix:\n",
       "[ 1  0  0  0  0  0  0  0  0  0  0  0  0  0  0  0  0  0  0  0  0  0  0  0  0  0 -1  0  0  0  0  0  0  0  0  0  0  0  0  0  0  0  0  0  0  0  0  0  0  0  1  0  0  0  0  0  0 -1  0  0]\n",
       "[ 0  1  0  0  0  0  0  0  0  0  0  0  0  0  0  0  0  0  0  0  0  0  0  0  0  0  1  0  0  0  0  0  0  0  0  0  0  0  0  0  0  0  0  0  0  0  0  0  0  0  0  0  0  0  0  0  1  1  0  0]\n",
       "[ 0  0  1  0  0  0  0  0  0  0  0  0  0  0  0  0  0  0  0  0  0  0  0  0  0  0  0  0  0  0  0  0  0  0  0  0  0  0  0  0  0  0  0  0  0  0  0  0  0  0 -1  0  0  0  0  0 -1  0  0  0]\n",
       "[ 0  0  0  1  0  0  0  0  0  0  0  0  0  0  0  0  0  0  0  0  0  0  0  0  0  0  0  0  0  1  0  0  0  0  0  0  0  0  0  1  0  0  0  0 -1 -1  0  0  0  0  0 -1  0  0 -1  0  0 -1  0  0]\n",
       "[ 0  0  0  0  1  0  0  0  0  0  0  0  0  0  0  0  0  0  0  0  0  0  0  0  0  0  0  0  0 -1  0  0  0  0  0  0  0  0  0 -1  0  0  0  0  0  0  0  0  0  0  0  0  0  0  1  0  0  0  0  0]\n",
       "[ 0  0  0  0  0  1  0  0  0  0  0  0  0  0  0  0  0  0  0  0  0  0  0  0  0  0  0  0  0  0  0  0  0  0  0  0  0  0  0  0  0  0  0  0  1  1  0  0  0  0  0  1  0  0  0  0  0  1  0  0]\n",
       "[ 0  0  0  0  0  0  1  0  0  0  0  0  0  0  0  0  0  0  0  0  0  0  0  0  0  0  0  0  0  0  0  0  0  0  0  0  0  0  0  0  0  0  0  0  0  0 -1  0  0  0  0  0 -1  0  0  0  0  0  0  0]\n",
       "[ 0  0  0  0  0  0  0  1  0  0  0  0  0  0  0  0  0  0  0  0  0  0  0  0  0  0  0  0  0 -1  0  0  0  1  0 -1  0  0  0  0  0  0  0  0  0  0  1  0  0  0  0  0  1  1  0  0  0  0  0  1]\n",
       "[ 0  0  0  0  0  0  0  0  1  0  0  0  0  0  0  0  0  0  0  0  0  0  0  0  0  0  0  0  0  1  0  0  0 -1  0  1  0  0  0  0  0  0  0  0  0  0  0  0  0  0  0  0  0 -1  0  0  0  0  0 -1]\n",
       "[ 0  0  0  0  0  0  0  0  0  1  0  0  0  0  0  0  0  0  0  0  0  0  0  0  0  0 -1  0  0  0  0  0  0  1  0 -1  0  0  0  0  0  1  0  1  0 -1  1  1 -1  0  1 -1  1  1 -1  0  0 -1  1  1]\n",
       "[ 0  0  0  0  0  0  0  0  0  0  1  0  0  0  0  0  0  0  0  0  0  0  0  0  0  0  0  0  0  0  0  0  0  0  0  0  0  0  0  1  0  0  0  0  0  0  0  0  1  1  0  0  0  0  0  1  0  0  0  0]\n",
       "[ 0  0  0  0  0  0  0  0  0  0  0  1  0  0  0  0  0  0  0  0  0  0  0  0  0  0  1  0  0  0  0  0  0 -1  0  1  0  0  0 -1  0 -1  0 -1  0  1 -1 -1  0 -1 -1  1 -1 -1  1 -1  0  1 -1 -1]\n",
       "[ 0  0  0  0  0  0  0  0  0  0  0  0  1  0  0  0  0  0  0  0  0  0  0  0  0  0  0  0  0  0  0  0  0 -1  0  0  0  0  0  0  0  0  0  0  0  0  0  0  1  0  0  0  0 -1  0  0  0  0  0  0]\n",
       "[ 0  0  0  0  0  0  0  0  0  0  0  0  0  1  0  0  0  0  0  0  0  0  0  0  0  0  0  0  0  0  0  0  0  0  0 -1  0  0  0  0  0  0  0  0  0  0  0  0  0  0  0  0  0  0 -1  0  0  0  0  1]\n",
       "[ 0  0  0  0  0  0  0  0  0  0  0  0  0  0  1  0  0  0  0  0  0  0  0  0  0  0  0  0  0  0  0  0  0 -1  0  0  0  0  0 -1  0 -1  0  0  0  0  0 -1  0  0 -1  0  0 -1  0  0 -1  0  0  0]\n",
       "[ 0  0  0  0  0  0  0  0  0  0  0  0  0  0  0  1  0  0  0  0  0  0  0  0  0  0  0  0  0  0  0  0  0 -1  0  0  0  0  0 -1  0 -1  0  0  0  0  0 -1  0 -1  0  0  0 -1  0 -1  0  0  0  0]\n",
       "[ 0  0  0  0  0  0  0  0  0  0  0  0  0  0  0  0  1  0  0  0  0  0  0  0  0  0  0  0  0  0  0  0  0  0  0 -1  0  0  0  0  0  0  0  0  0 -1  1  0  0  0  0 -1  1  0 -1  0  0  0  0  1]\n",
       "[ 0  0  0  0  0  0  0  0  0  0  0  0  0  0  0  0  0  1  0  0  0  0  0  0  0  0  0  0  0  0  0  0  0  0  0 -1  0  0  0  0  0  0  0  1 -1 -1  1  0  0  0  0 -1  1  0 -1  0  0 -1  1  1]\n",
       "[ 0  0  0  0  0  0  0  0  0  0  0  0  0  0  0  0  0  0  1  0  0  0  0  0  0  0  0  0  0  1  0  0  0 -1  0  1  0  0  0  0  0  0  0  0  0  0 -1  0  0  0  0  0  0  0  0  0  0  0  0 -1]\n",
       "[ 0  0  0  0  0  0  0  0  0  0  0  0  0  0  0  0  0  0  0  1  0  0  0  0  0  0  0  0  0 -1  0  0  0  1  0 -1  0  0  0  0  0  0  0  0  0  0  1  1  0  0  0  0  0  1  0  0  0  0  0  1]\n",
       "[ 0  0  0  0  0  0  0  0  0  0  0  0  0  0  0  0  0  0  0  0  1  0  0  0  0  0  0  0  0  0  0  0  0  0  0  0  0  0  0  0  0  0  0  0  0  0  0 -1  0  0  0  0  0 -1  0  0  0  0  0  0]\n",
       "[ 0  0  0  0  0  0  0  0  0  0  0  0  0  0  0  0  0  0  0  0  0  1  0  0  0  0 -1  0  0  0  0  0  0  1  0 -1  0  0  0  0  0  1 -1  0  0 -1  0  1 -1  0  1 -1  0  1 -1  0  0 -1  0  0]\n",
       "[ 0  0  0  0  0  0  0  0  0  0  0  0  0  0  0  0  0  0  0  0  0  0  1  0  0  0  1  0  0  0  0  0  0 -1  0  1  0  0  0  0  0 -1  1  0  0  1 -1 -1  1  0 -1  1 -1 -1  1  0  0  1 -1 -1]\n",
       "[ 0  0  0  0  0  0  0  0  0  0  0  0  0  0  0  0  0  0  0  0  0  0  0  1  0  0  0  0  0  0  0  0  0  0  0  0  0  0  0  0  0  0  0  0  0  0  1  0  0  0  0  0  1  0  0  0  0  0  1  1]\n",
       "[ 0  0  0  0  0  0  0  0  0  0  0  0  0  0  0  0  0  0  0  0  0  0  0  0  1  0  0  0  0  0  0  0  0  0  0  0  0  0  0  0  0  0  0  0  0  0  0  0  0  0  0 -1  0  0  0  0  0 -1  0  0]\n",
       "[ 0  0  0  0  0  0  0  0  0  0  0  0  0  0  0  0  0  0  0  0  0  0  0  0  0  1  1  0  0  0  0  0  0  0  0  0  0  0  0  0  0  0  0  0  0  0  0  0  0  0  0  1  0  0  0  0  0  1  0  0]\n",
       "[ 0  0  0  0  0  0  0  0  0  0  0  0  0  0  0  0  0  0  0  0  0  0  0  0  0  0  0  1  0  1  0  0  0  0  0  0  0  0  0  1  0  0  0  0  0  0  0  0  0  0  0  0  0  0  0  1  0  0  0  0]\n",
       "[ 0  0  0  0  0  0  0  0  0  0  0  0  0  0  0  0  0  0  0  0  0  0  0  0  0  0  0  0  1  0  0  0  0  0  0  0  0  0  0 -1  0  0  0  0  0  0  0  0  0  0  0  0  0  0  0 -1  0  0  0  0]\n",
       "[ 0  0  0  0  0  0  0  0  0  0  0  0  0  0  0  0  0  0  0  0  0  0  0  0  0  0  0  0  0  0  1  0  0 -1  0  0  0  0  0 -1  0 -1  0  0  0  0  0 -1  0  0 -1  0  0 -1  0 -1  0  0  0  0]\n",
       "[ 0  0  0  0  0  0  0  0  0  0  0  0  0  0  0  0  0  0  0  0  0  0  0  0  0  0  0  0  0  0  0  1  0  0  0 -1  0  0  0  0  0  0  0  0  0 -1  1  0  0  0  0 -1  1  0 -1  0  0 -1  1  1]\n",
       "[ 0  0  0  0  0  0  0  0  0  0  0  0  0  0  0  0  0  0  0  0  0  0  0  0  0  0  0  0  0  0  0  0  1 -1  0  0  0  0  0  0  0  0  1  0  0  0  0 -1  1  0  0  0  0 -1  0  0  0  0  0  0]\n",
       "[ 0  0  0  0  0  0  0  0  0  0  0  0  0  0  0  0  0  0  0  0  0  0  0  0  0  0  0  0  0  0  0  0  0  0  1 -1  0  0  0  0  0  0  0  0  0 -1  1  0  0  0  0  0  0  0 -1  0  0  0  0  1]\n",
       "[ 0  0  0  0  0  0  0  0  0  0  0  0  0  0  0  0  0  0  0  0  0  0  0  0  0  0  0  0  0  0  0  0  0  0  0  0  1  0  0  1  0  0  1  0  0  0  0  0  1  1  0  0  0  0  0  1  0  0  0  0]\n",
       "[ 0  0  0  0  0  0  0  0  0  0  0  0  0  0  0  0  0  0  0  0  0  0  0  0  0  0  0  0  0  0  0  0  0  0  0  0  0  1  0  0  0  0  0  1  0  0  1  0  0  0  0  0  1  0  0  0  0  0  1  1]\n",
       "[ 0  0  0  0  0  0  0  0  0  0  0  0  0  0  0  0  0  0  0  0  0  0  0  0  0  0  0  0  0  0  0  0  0  0  0  0  0  0  1  0  0  0  0  0  1  1  0  0  0  0  0  1  0  0  1  0  0  1  0  0]\n",
       "[ 0  0  0  0  0  0  0  0  0  0  0  0  0  0  0  0  0  0  0  0  0  0  0  0  0  0  0  0  0  0  0  0  0  0  0  0  0  0  0  0  1  1  0  0  0  0  0  1  0  0  1  0  0  1  0  0  1  0  0  0]"
      ]
     },
     "execution_count": 54,
     "metadata": {},
     "output_type": "execute_result"
    }
   ],
   "source": [
    "invariant_sublattice_41"
   ]
  },
  {
   "cell_type": "markdown",
   "metadata": {},
   "source": [
    "## Quotients\n",
    "\n",
    "Any quotient of the form $M^{x} = 1$ in the quantum torus can be expressed in terms of the lattice as $x = 0$. We want to quotient by\n",
    "1. Monodromy at each of the 8 punctures\n",
    "1. The gluing constraints, 6 from each face so 24 total.\n",
    "1. Monodromy around the long edge handles - looks like there are 2 from each edge so 4 total.\n",
    "1. The great circle relations, 1 from each tetrahedron so 2 total.\n",
    "\n",
    "The first three types of relations are monomial. I expect to get a lattice of rank 3 once those are imposed. The last relation will have to be done in terms of the quantum torus, not the lattice.\n"
   ]
  },
  {
   "cell_type": "markdown",
   "metadata": {
    "heading_collapsed": true
   },
   "source": [
    "### Monodromy and Gluing Quotients"
   ]
  },
  {
   "cell_type": "code",
   "execution_count": 8,
   "metadata": {
    "hidden": true,
    "init_cell": true
   },
   "outputs": [],
   "source": [
    "%run quantum_tori.ipynb"
   ]
  },
  {
   "cell_type": "code",
   "execution_count": 9,
   "metadata": {
    "hidden": true,
    "init_cell": true
   },
   "outputs": [
    {
     "name": "stdout",
     "output_type": "stream",
     "text": [
      "Checking Gluing Constraints:\n",
      "Checking Monodromy Constraints:\n",
      "Checking Thread Monodromy Constraints:\n"
     ]
    }
   ],
   "source": [
    "list_of_gluing_constraints_41 = [ # first short edges. The loop is x2 a11 x1 b43 and set equal to 1\n",
    "    # the order depends on the orientation around the loop.\n",
    "    dict_monomial_to_list(constraint) for constraint in [\n",
    "        multiply_lattice_monomials(\n",
    "            new_gens(thread1),new_gens(edgeA),new_gens(thread2),new_gens(edgeB),\n",
    "            relations=omega_41\n",
    "        )\n",
    "        for thread1,edgeA,thread2,edgeB in [\n",
    "            ('x2','al03','x1','be02'),\n",
    "            ('x4','al02','x3','be03'),\n",
    "            ('x6','al01','x5','be01'),\n",
    "            ('y1','al13','y2','be32'),\n",
    "            ('y3','al12','y4','be30'),\n",
    "            ('y5','al10','y6','be31'),\n",
    "            ('z2','al23','z1','be23'),\n",
    "            ('z4','al21','z3','be20'),\n",
    "            ('z6','al20','z5','be21'),\n",
    "            ('w1','al32','w2','be13'),\n",
    "            ('w3','al31','w4','be10'),\n",
    "            ('w5','al30','w6','be12')\n",
    "        ]\n",
    "    ]\n",
    "] + [ # then long edges. These get set to 1. It's :x2 A4:(:x3 B6:)^{-1} = 1.\n",
    "    dict_monomial_to_list(constraint) for constraint in [ \n",
    "        multiply_polynomials(\n",
    "            { tuple( new_gens(thread1)+new_gens(edgeA)):1 },\n",
    "            { tuple(-new_gens(thread2)-new_gens(edgeB)):1 },\n",
    "            relations=omega_41\n",
    "        )\n",
    "        for thread1,edgeA,thread2,edgeB in [\n",
    "            ('x2','B23','x3','A23'),\n",
    "            ('x4','B13','x5','A12'),\n",
    "            ('x6','B12','x1','A13'),\n",
    "            ('y2','A23','y3','B02'),\n",
    "            ('y4','A02','y5','B01'),\n",
    "            ('y6','A03','y1','B12'),\n",
    "            ('z2','B03','z3','A13'),\n",
    "            ('z4','B01','z5','A01'),\n",
    "            ('z6','B13','z1','A03'),\n",
    "            ('w2','A12','w3','B03'),\n",
    "            ('w4','A01','w5','B02'),\n",
    "            ('w6','A02','w1','B23')\n",
    "        ]\n",
    "    ]\n",
    "]\n",
    "\n",
    "# check that these are T^{24}-invariant and central:\n",
    "print(\"Checking Gluing Constraints:\")\n",
    "for constraint in list_of_gluing_constraints_41:\n",
    "    v = weights_41*vector(constraint)\n",
    "    if not v.is_zero():  print(\"Not Invariant!:\", new_coeffs*matrix(Rnew,constraint).transpose())\n",
    "#    if not (invariant_sublattice_41.subspace([constraint])).is_subspace(kernel_space_41): print(\"Not in kernel:\", constraint)\n",
    "\n",
    "\n",
    "# Monodromy: The loop around the puncture is a1p a2p a3p. If it's set to 1, then I need to quotient by ap1 ap2 ap3 = 1\n",
    "    \n",
    "list_of_monodromy_constraints_41 = [ dict_monomial_to_list(constraint) for constraint in [ \n",
    "    multiply_lattice_monomials(\n",
    "        new_gens(edge1),new_gens(edge2),new_gens(edge3),relations=omega_41\n",
    "    )\n",
    "    for edge1,edge2,edge3 in [\n",
    "            ('al10','al20','al30'),\n",
    "            ('al01','al21','al31'),\n",
    "            ('al02','al12','al32'),\n",
    "            ('al03','al13','al23'),\n",
    "            ('be10','be20','be30'),\n",
    "            ('be01','be21','be31'),\n",
    "            ('be02','be12','be32'),\n",
    "            ('be03','be13','be23'),\n",
    "        ]\n",
    "    ]\n",
    "]\n",
    "\n",
    "# check that these are T^{24}-invariant\n",
    "print(\"Checking Monodromy Constraints:\")\n",
    "for constraint in list_of_monodromy_constraints_41:\n",
    "    v = weights_41*vector(constraint)\n",
    "    if not v.is_zero():  print(\"Not Invariant!:\", new_coeffs*matrix(Rnew,constraint).transpose())\n",
    "    # to check if they're central. I don't think they should be.\n",
    "    #if not (invariant_sublattice_41.subspace([constraint])).is_subspace(kernel_space_41): print(\"Not in kernel:\", constraint)\n",
    "\n",
    "    list_of_thread_monodromy_constraints_41 = [ # the loop is (threads in ccw order) -> 1\n",
    "    dict_monomial_to_list(constraint) for constraint in [\n",
    "        multiply_lattice_monomials(\n",
    "            *[lat[e] for e in edges],\n",
    "            relations=omega_41\n",
    "        )\n",
    "        for edges in [\n",
    "            ('x1', 'x4', 'y1', 'z1', 'z2', 'w2'),\n",
    "            ('x2', 'y2', 'y5', 'z5', 'w5', 'w6'),\n",
    "            ('x3', 'y3', 'y4', 'z4', 'w1', 'w4'),\n",
    "            ('x5', 'x6', 'y6', 'z3', 'z6', 'w3')\n",
    "        ]\n",
    "    ]\n",
    "]\n",
    "\n",
    "# check that these are T^{24}-invariant \n",
    "print(\"Checking Thread Monodromy Constraints:\")\n",
    "for constraint in list_of_thread_monodromy_constraints_41:\n",
    "    v = weights_41*vector(constraint)\n",
    "    if not v.is_zero():  print(\"Not Invariant!:\", constraint)\n",
    "        \n",
    "        \n",
    "# Take the quotient!\n",
    "#quotient_41 = invariant_sublattice_41.quotient(list_of_monodromy_constraints_41+list_of_gluing_constraints_41)\n",
    "\n",
    "#print(\"Ambient space dimensions:\",invariant_sublattice_41.dimension())\n",
    "#print(\"Constraint space dimensions:\",invariant_sublattice_41.subspace(list_of_monodromy_constraints_41+list_of_gluing_constraints_41).dimension())\n",
    "#print(\"Quotient ngens:\",quotient_41.ngens())"
   ]
  },
  {
   "cell_type": "markdown",
   "metadata": {},
   "source": [
    "### Full Quotient!\n",
    "We expect this to have three generators."
   ]
  },
  {
   "cell_type": "code",
   "execution_count": 10,
   "metadata": {
    "init_cell": true
   },
   "outputs": [
    {
     "name": "stdout",
     "output_type": "stream",
     "text": [
      "Full (threads+monodromy+gluing) quotient ngens:  3\n",
      "(al21 - be10 + z3 - w4)\n",
      "(al20 - be03 + B13 - B23 + y5 + z5 + z6 + w6)\n",
      "(al13 - be10 + B13 - B23 + x6 + y2 - y4 + y5 + y6 - z1 + z3 - z4 + z5 + z6 - w1 - w4 + w5 + w6)\n"
     ]
    }
   ],
   "source": [
    "full_quotient_41 = invariant_sublattice_41.quotient(\n",
    "    list_of_gluing_constraints_41\n",
    "    + list_of_monodromy_constraints_41\n",
    "    + list_of_thread_monodromy_constraints_41\n",
    ")\n",
    "\n",
    "print(\"Full (threads+monodromy+gluing) quotient ngens: \", full_quotient_41.ngens())\n",
    "pi = full_quotient_41.coerce_map_from(full_quotient_41.V())\n",
    "for gen in full_quotient_41.gens():\n",
    "    print(new_coeffs*vector(Rnew,list(gen.lift())))"
   ]
  },
  {
   "cell_type": "code",
   "execution_count": 19,
   "metadata": {},
   "outputs": [
    {
     "data": {
      "image/png": "[encoded data removed]",
      "text/plain": [
       "Graphics object consisting of 1 graphics primitive"
      ]
     },
     "execution_count": 19,
     "metadata": {},
     "output_type": "execute_result"
    }
   ],
   "source": [
    "# Get the smith normal form - if this has values other than 1 along the diagonal then there's torsion\n",
    "relations_matrix = Matrix(ZZ,list_of_gluing_constraints_41\n",
    "    + list_of_monodromy_constraints_41\n",
    "    + list_of_thread_monodromy_constraints_41)\n",
    "matrix_plot(relations_matrix.smith_form()[0])"
   ]
  },
  {
   "cell_type": "code",
   "execution_count": 48,
   "metadata": {
    "code_folding": []
   },
   "outputs": [
    {
     "name": "stdout",
     "output_type": "stream",
     "text": [
      "thread monodromy.\n",
      "(x1 + x4 + y1 + z1 + z2 + w2)\n",
      "(x2 + y2 + y5 + z5 + w5 + w6)\n",
      "(x3 + y3 + y4 + z4 + w1 + w4)\n",
      "(x5 + x6 + y6 + z3 + z6 + w3)\n",
      "monodromy.\n",
      "(al30 + al20 + al10)\n",
      "(al21 + al31 + al01)\n",
      "(al02 + al32 + al12)\n",
      "(al13 + al23 + al03)\n",
      "(be30 + be20 + be10)\n",
      "(be21 + be31 + be01)\n",
      "(be02 + be32 + be12)\n",
      "(be13 + be23 + be03)\n",
      "gluing.\n",
      "(al03 + be02 + x1 + x2)\n",
      "(al02 + be03 + x3 + x4)\n",
      "(al01 + be01 + x5 + x6)\n",
      "(al13 + be32 + y1 + y2)\n",
      "(al12 + be30 + y3 + y4)\n",
      "(al10 + be31 + y5 + y6)\n",
      "(al23 + be23 + z1 + z2)\n",
      "(al21 + be20 + z3 + z4)\n",
      "(al20 + be21 + z5 + z6)\n",
      "(al32 + be13 + w1 + w2)\n",
      "(al31 + be10 + w3 + w4)\n",
      "(al30 + be12 + w5 + w6)\n",
      "(-A23 + B23 + x2 - x3)\n",
      "(-A12 + B13 + x4 - x5)\n",
      "(-A13 + B12 - x1 + x6)\n",
      "(A23 - B02 + y2 - y3)\n",
      "(A02 - B01 + y4 - y5)\n",
      "(A03 - B12 - y1 + y6)\n",
      "(-A13 + B03 + z2 - z3)\n",
      "(-A01 + B01 + z4 - z5)\n",
      "(-A03 + B13 - z1 + z6)\n",
      "(A12 - B03 + w2 - w3)\n",
      "(A01 - B02 + w4 - w5)\n",
      "(A02 - B23 - w1 + w6)\n"
     ]
    }
   ],
   "source": [
    "# lets print all the constraints\n",
    "# All of the T-region monodromy constraints should be set to qdim(1). \n",
    "print(\"thread monodromy.\")\n",
    "for constraint in list_of_thread_monodromy_constraints_41:\n",
    "    print(new_coeffs*vector(Rnew,constraint))\n",
    "    \n",
    "print(\"monodromy.\")\n",
    "for constraint in list_of_monodromy_constraints_41:\n",
    "    print(new_coeffs*vector(Rnew,constraint))\n",
    "    \n",
    "print(\"gluing.\")\n",
    "for constraint in list_of_gluing_constraints_41:\n",
    "    print(new_coeffs*vector(Rnew,constraint))"
   ]
  },
  {
   "cell_type": "markdown",
   "metadata": {},
   "source": [
    "### The great circles\n",
    "\n",
    "These are *not* monomials, so I can't take the quotient using the lattice. Here I translate each term into the lattice though, to see if they'll simplify."
   ]
  },
  {
   "cell_type": "code",
   "execution_count": 197,
   "metadata": {},
   "outputs": [],
   "source": [
    "%run quantum_tori.ipynb"
   ]
  },
  {
   "cell_type": "code",
   "execution_count": 12,
   "metadata": {},
   "outputs": [],
   "source": [
    "def list_to_module_element(the_list,the_module):\n",
    "    \"\"\"\n",
    "    Turns a list into a module element.\n",
    "    Plays the role that the_module.monomial() would if it were implemented.\n",
    "    \n",
    "    Parameters:\n",
    "    the_list (List) - the lattice coordinate of a module element.\n",
    "    the_module (fgp_module) - the ambient module\n",
    "    \n",
    "    Returns:\n",
    "    (the_module.element_class) - the module element you'd *expect* from typing the_module(the_list)\n",
    "    \"\"\"\n",
    "    return the_module.sum([\n",
    "        term[0]*term[1] for term in zip(the_list,the_module.gens())\n",
    "    ])"
   ]
  },
  {
   "cell_type": "code",
   "execution_count": 15,
   "metadata": {
    "init_cell": true
   },
   "outputs": [
    {
     "name": "stdout",
     "output_type": "stream",
     "text": [
      "image in quotient: (0, -1, 0)\n",
      "image in quotient: (1, 0, 0)\n",
      "image in quotient: (1, -1, 1)\n"
     ]
    }
   ],
   "source": [
    "### Generators for the glued surface!\n",
    "\n",
    "extra_gen = list_to_module_element([0,-1,0],full_quotient_41).lift()\n",
    "if not (weights_41*vector(extra_gen)).is_zero():\n",
    "    print(\"weight of extra generator:\",weights_41*extra_gen)\n",
    "    \n",
    "print(\"image in quotient:\",pi(extra_gen))\n",
    "\n",
    "# this is m^2 - I think that's important for comparing to the A-polynomial\n",
    "m_gen = vector(dict_monomial_to_list(\n",
    "    multiply_lattice_monomials(\n",
    "        *[new_gens(edge) for edge in ['x1','al03','al13','y1']],\n",
    "        relations=omega_41\n",
    "    )))\n",
    "\n",
    "if not (weights_41*vector(m_gen)).is_zero():\n",
    "    print(\"weight of m:\",weights_41*m_gen)\n",
    "print(\"image in quotient:\",pi(m_gen))\n",
    "\n",
    "l_gen = dict_monomial_to_list(\n",
    "    multiply_lattice_monomials(\n",
    "        *[new_gens(edge) for edge in ['z2','al23','al13','y2','w5','z5','be21','be01','x6','z3','be20','be30','y3','x3','be03','be23']],\n",
    "        relations=omega_41\n",
    "    ))\n",
    "if not (weights_41*vector(l_gen)).is_zero():\n",
    "    print(\"weight of l:\",weights_41*vector(l_gen))\n",
    "print(\"image in quotient:\",pi(l_gen))\n",
    "\n",
    "\n",
    "favorite_basis_matrix = matrix([\n",
    "    pi(m_gen),\n",
    "    pi(l_gen),\n",
    "    pi(extra_gen)\n",
    "]).transpose()\n",
    "\n",
    "if favorite_basis_matrix.rank() < favorite_basis_matrix.dimensions()[0]:\n",
    "    print(\"WARNING: favorite_basis_matrix is not full rank!\")\n",
    "\n",
    "#print(\"Commutation Relations in the quotient\") # this is assuming that the quotient preserves the commutation relations.\n",
    "omega_quotient = matrix([m_gen,l_gen,extra_gen])*omega_41*matrix([m_gen,l_gen,extra_gen]).transpose()\n",
    "#print(omega_quotient)\n",
    "\n"
   ]
  },
  {
   "cell_type": "code",
   "execution_count": 16,
   "metadata": {},
   "outputs": [
    {
     "data": {
      "text/plain": [
       "Finitely generated module V/W over Integer Ring with invariants (0, 0, 0)"
      ]
     },
     "execution_count": 16,
     "metadata": {},
     "output_type": "execute_result"
    }
   ],
   "source": [
    "full_quotient_41"
   ]
  },
  {
   "cell_type": "code",
   "execution_count": 17,
   "metadata": {
    "init_cell": true
   },
   "outputs": [
    {
     "name": "stdout",
     "output_type": "stream",
     "text": [
      "Great Circle:\n",
      "1*a13^-1*a22^-1*a33^-1*a42^-1*A1*A2^-1*A3*A4^-1 + 1*a12^-1*a13^-1*a23*a31*a41^-1*a42^-1*A2^-1*A4^-1*A5*A6 + 1*a11*a21^-1*a22^-1*a32^-1*a33^-1*a43*A2^-1*A4^-1*A5*A6 + 1*a11*a12^-1*a21^-1*a23*a31*a32^-1*a41^-1*a43*A1^-1*A2^-1*A3^-1*A4^-1*A5^2*A6^2 + 1*a13*a22*a33*a42*A1^-1*A2*A3^-1*A4 + 1*a11*a13*a22*a23*a32^-1*a41^-1*A1^-1*A3^-1*A5*A6 + 1*a12^-1*a21^-1*a31*a33*a42*a43*A1^-1*A3^-1*A5*A6\n"
     ]
    },
    {
     "data": {
      "text/html": [
       "<html><script type=\"math/tex; mode=display\">\\newcommand{\\Bold}[1]{\\mathbf{#1}}a_{13} a_{22} a_{33} a_{42} A_{1}^{-1} A_{2} A_{3}^{-1} A_{4} + a_{11} a_{13} a_{22} a_{23} a_{32}^{-1} a_{41}^{-1} A_{1}^{-1} A_{3}^{-1} A_{5} A_{6} + a_{12}^{-1} a_{21}^{-1} a_{31} a_{33} a_{42} a_{43} A_{1}^{-1} A_{3}^{-1} A_{5} A_{6} + a_{11} a_{12}^{-1} a_{21}^{-1} a_{23} a_{31} a_{32}^{-1} a_{41}^{-1} a_{43} A_{1}^{-1} A_{2}^{-1} A_{3}^{-1} A_{4}^{-1} A_{5}^{2} A_{6}^{2} + a_{12}^{-1} a_{13}^{-1} a_{23} a_{31} a_{41}^{-1} a_{42}^{-1} A_{2}^{-1} A_{4}^{-1} A_{5} A_{6} + a_{11} a_{21}^{-1} a_{22}^{-1} a_{32}^{-1} a_{33}^{-1} a_{43} A_{2}^{-1} A_{4}^{-1} A_{5} A_{6} + a_{13}^{-1} a_{22}^{-1} a_{33}^{-1} a_{42}^{-1} A_{1} A_{2}^{-1} A_{3} A_{4}^{-1}</script></html>"
      ],
      "text/latex": [
       "$$\\newcommand{\\Bold}[1]{\\mathbf{#1}}a_{13} a_{22} a_{33} a_{42} A_{1}^{-1} A_{2} A_{3}^{-1} A_{4} + a_{11} a_{13} a_{22} a_{23} a_{32}^{-1} a_{41}^{-1} A_{1}^{-1} A_{3}^{-1} A_{5} A_{6} + a_{12}^{-1} a_{21}^{-1} a_{31} a_{33} a_{42} a_{43} A_{1}^{-1} A_{3}^{-1} A_{5} A_{6} + a_{11} a_{12}^{-1} a_{21}^{-1} a_{23} a_{31} a_{32}^{-1} a_{41}^{-1} a_{43} A_{1}^{-1} A_{2}^{-1} A_{3}^{-1} A_{4}^{-1} A_{5}^{2} A_{6}^{2} + a_{12}^{-1} a_{13}^{-1} a_{23} a_{31} a_{41}^{-1} a_{42}^{-1} A_{2}^{-1} A_{4}^{-1} A_{5} A_{6} + a_{11} a_{21}^{-1} a_{22}^{-1} a_{32}^{-1} a_{33}^{-1} a_{43} A_{2}^{-1} A_{4}^{-1} A_{5} A_{6} + a_{13}^{-1} a_{22}^{-1} a_{33}^{-1} a_{42}^{-1} A_{1} A_{2}^{-1} A_{3} A_{4}^{-1}$$"
      ],
      "text/plain": [
       "a13*a22*a33*a42*A1^-1*A2*A3^-1*A4 + a11*a13*a22*a23*a32^-1*a41^-1*A1^-1*A3^-1*A5*A6 + a12^-1*a21^-1*a31*a33*a42*a43*A1^-1*A3^-1*A5*A6 + a11*a12^-1*a21^-1*a23*a31*a32^-1*a41^-1*a43*A1^-1*A2^-1*A3^-1*A4^-1*A5^2*A6^2 + a12^-1*a13^-1*a23*a31*a41^-1*a42^-1*A2^-1*A4^-1*A5*A6 + a11*a21^-1*a22^-1*a32^-1*a33^-1*a43*A2^-1*A4^-1*A5*A6 + a13^-1*a22^-1*a33^-1*a42^-1*A1*A2^-1*A3*A4^-1"
      ]
     },
     "metadata": {},
     "output_type": "display_data"
    },
    {
     "ename": "NameError",
     "evalue": "name 'pismall' is not defined",
     "output_type": "error",
     "traceback": [
      "\u001b[1;31m---------------------------------------------------------------------------\u001b[0m",
      "\u001b[1;31mNameError\u001b[0m                                 Traceback (most recent call last)",
      "\u001b[1;32m/tmp/ipykernel_9695/428403524.py\u001b[0m in \u001b[0;36m<module>\u001b[1;34m\u001b[0m\n\u001b[0;32m     33\u001b[0m \u001b[1;31m#print(\"Great Circle A in the quotient:\") # this should be set equal to 2?\u001b[0m\u001b[1;33m\u001b[0m\u001b[1;33m\u001b[0m\u001b[0m\n\u001b[0;32m     34\u001b[0m great_circle_quot_A = add_polynomials(\n\u001b[1;32m---> 35\u001b[1;33m     \u001b[1;33m*\u001b[0m\u001b[1;33m[\u001b[0m\u001b[1;33m{\u001b[0m\u001b[0mtuple\u001b[0m\u001b[1;33m(\u001b[0m\u001b[0mfavorite_basis_matrix\u001b[0m\u001b[1;33m*\u001b[0m\u001b[0mpismall\u001b[0m\u001b[1;33m(\u001b[0m\u001b[0mk\u001b[0m\u001b[1;33m)\u001b[0m\u001b[1;33m)\u001b[0m \u001b[1;33m:\u001b[0m \u001b[0mv\u001b[0m\u001b[1;33m}\u001b[0m \u001b[1;32mfor\u001b[0m \u001b[0mk\u001b[0m\u001b[1;33m,\u001b[0m\u001b[0mv\u001b[0m \u001b[1;32min\u001b[0m \u001b[0mgreat_circle_A\u001b[0m\u001b[1;33m.\u001b[0m\u001b[0mitems\u001b[0m\u001b[1;33m(\u001b[0m\u001b[1;33m)\u001b[0m\u001b[1;33m]\u001b[0m\u001b[1;33m\u001b[0m\u001b[1;33m\u001b[0m\u001b[0m\n\u001b[0m\u001b[0;32m     36\u001b[0m )\n\u001b[0;32m     37\u001b[0m \u001b[1;31m#print(great_circle_quot_A)\u001b[0m\u001b[1;33m\u001b[0m\u001b[1;33m\u001b[0m\u001b[0m\n",
      "\u001b[1;32m/tmp/ipykernel_9695/428403524.py\u001b[0m in \u001b[0;36m<listcomp>\u001b[1;34m(.0)\u001b[0m\n\u001b[0;32m     33\u001b[0m \u001b[1;31m#print(\"Great Circle A in the quotient:\") # this should be set equal to 2?\u001b[0m\u001b[1;33m\u001b[0m\u001b[1;33m\u001b[0m\u001b[0m\n\u001b[0;32m     34\u001b[0m great_circle_quot_A = add_polynomials(\n\u001b[1;32m---> 35\u001b[1;33m     \u001b[1;33m*\u001b[0m\u001b[1;33m[\u001b[0m\u001b[1;33m{\u001b[0m\u001b[0mtuple\u001b[0m\u001b[1;33m(\u001b[0m\u001b[0mfavorite_basis_matrix\u001b[0m\u001b[1;33m*\u001b[0m\u001b[0mpismall\u001b[0m\u001b[1;33m(\u001b[0m\u001b[0mk\u001b[0m\u001b[1;33m)\u001b[0m\u001b[1;33m)\u001b[0m \u001b[1;33m:\u001b[0m \u001b[0mv\u001b[0m\u001b[1;33m}\u001b[0m \u001b[1;32mfor\u001b[0m \u001b[0mk\u001b[0m\u001b[1;33m,\u001b[0m\u001b[0mv\u001b[0m \u001b[1;32min\u001b[0m \u001b[0mgreat_circle_A\u001b[0m\u001b[1;33m.\u001b[0m\u001b[0mitems\u001b[0m\u001b[1;33m(\u001b[0m\u001b[1;33m)\u001b[0m\u001b[1;33m]\u001b[0m\u001b[1;33m\u001b[0m\u001b[1;33m\u001b[0m\u001b[0m\n\u001b[0m\u001b[0;32m     36\u001b[0m )\n\u001b[0;32m     37\u001b[0m \u001b[1;31m#print(great_circle_quot_A)\u001b[0m\u001b[1;33m\u001b[0m\u001b[1;33m\u001b[0m\u001b[0m\n",
      "\u001b[1;31mNameError\u001b[0m: name 'pismall' is not defined"
     ]
    }
   ],
   "source": [
    "scafolding_edges_A = -1*(new_gens('A03')+new_gens('A02')+new_gens('A12')+new_gens('A13'))\n",
    "scafolding_edges_B = -1*(new_gens('B03')+new_gens('B02')+new_gens('B12')+new_gens('B13'))\n",
    "\n",
    "# Define the great circles as dictionaries. These should be set to 2?\n",
    "\n",
    "temp_list_A = [\n",
    "    multiply_lattice_monomials(\n",
    "        *[scafolding_edges_A,*edges],\n",
    "        relations=omega_41\n",
    "    ) for edges in [\n",
    "                 # 0010\n",
    "                 [lat['A1'],-lat['a33'],lat['A1'],-lat['a42'],-lat['a22'],lat['A3'],lat['A3'],-lat['a13']],\n",
    "                 # 0110\n",
    "                 [lat['a23'],lat['A6'],-lat['a41'],lat['A1'],-lat['a42'],lat['a31'],lat['A5'],-lat['a12'],lat['A3'],-lat['a13']],\n",
    "                 #0011\n",
    "                 [lat['A1'],-lat['a33'],  lat['a11'],lat['A5'],-lat['a32'],  -lat['a22'],lat['A3'],  lat['a43'],lat['A6'],-lat['a21']],\n",
    "                 # 0111\n",
    "                 [lat['a23'],lat['A6'],-lat['a41'],  lat['a11'],lat['A5'],-lat['a32'], lat['a31'],lat['A5'],-lat['a12'],  lat['a43'],lat['A6'],-lat['a21']],\n",
    "                 # 1101\n",
    "                 [lat['a13'],lat['A4'],  lat['a42'],lat['A4'],  lat['a22'],lat['A2'],  lat['a33'],lat['A2']],\n",
    "                 # 0101\n",
    "                 [lat['a13'],lat['A4'],  lat['a11'],lat['A5'],-lat['a32'],  lat['a22'],lat['A2'],  lat['a23'],lat['A6'],-lat['a41']],\n",
    "                 # 1111\n",
    "                 [lat['a43'],lat['A6'],-lat['a21'],  lat['a42'],lat['A4'],  lat['a31'],lat['A5'],-lat['a12'],  lat['a33'],lat['A2']]\n",
    "    ] ]\n",
    "\n",
    "\n",
    "\n",
    "great_circle_A = add_polynomials(*temp_list_A)\n",
    "print(\"Great Circle:\")\n",
    "pretty_print(dict_to_free_algebra_element(great_circle_A, lex_order=lex_order_41,free_algebra=R))\n",
    "    \n",
    "#print(\"Great Circle A in the quotient:\") # this should be set equal to 2?\n",
    "great_circle_quot_A = add_polynomials(\n",
    "    *[{tuple(favorite_basis_matrix*pismall(k)) : v} for k,v in great_circle_A.items()]\n",
    ")\n",
    "#print(great_circle_quot_A)\n",
    "\n",
    "great_circle_B = {}\n",
    "\n",
    "temp_list_B = [\n",
    "    multiply_lattice_monomials(\n",
    "        *[scafolding_edges_B,*edges],\n",
    "        relations=omega_41\n",
    "    ) for edges in [\n",
    "                 # 0010\n",
    "                 [lat['B1'],-lat['b33'],lat['B1'],-lat['b42'],-lat['b22'],lat['B3'],lat['B3'],-lat['b13']],\n",
    "                 # 0110\n",
    "                 [lat['b23'],lat['B6'],-lat['b41'],lat['B1'],-lat['b42'],lat['b31'],lat['B5'],-lat['b12'],lat['B3'],-lat['b13']],\n",
    "                 #0011\n",
    "                 [lat['B1'],-lat['b33'],  lat['b11'],lat['B5'],-lat['b32'],  -lat['b22'],lat['B3'], lat['b43'],lat['B6'],-lat['b21']],\n",
    "                 # 0111\n",
    "                 [lat['b23'],lat['B6'],-lat['b41'],  lat['b11'],lat['B5'],-lat['b32'], lat['b31'],lat['B5'],-lat['b12'],  lat['b43'],lat['B6'],-lat['b21']],\n",
    "                 # 1101\n",
    "                 [lat['b13'],lat['B4'],  lat['b42'],lat['B4'],  lat['b22'],lat['B2'],  lat['b33'],lat['B2']],\n",
    "                 # 0101\n",
    "                 [lat['b13'],lat['B4'],  lat['b11'],lat['B5'],-lat['b32'],  lat['b22'],lat['B2'],  lat['b23'],lat['B6'],-lat['b41']],\n",
    "                 # 1111\n",
    "                 [lat['b43'],lat['B6'],-lat['b21'],  lat['b42'],lat['B4'],  lat['b31'],lat['B5'],-lat['b12'],  lat['b33'],lat['B2']]\n",
    "    ] ]\n",
    "\n",
    "great_circle_B = add_polynomials(*temp_list_B)\n",
    "\n",
    "#print(\"Great Circle B in the quotient:\") # this should be set equal to 2?\n",
    "great_circle_quot_B = add_polynomials(\n",
    "    *[{tuple(favorite_basis_matrix*pismall(k)):v} for k,v in great_circle_B.items()]\n",
    ")\n",
    "#print(great_circle_quot_B)\n"
   ]
  },
  {
   "cell_type": "code",
   "execution_count": 36,
   "metadata": {},
   "outputs": [],
   "source": [
    "# Making the quotient algebras. These should be the classical (q=1) skein algebra of the surface.\n",
    "#quotient_free_algebra = FreeAlgebra(QQ,['g','l','m'])\n",
    "quotient_poly_algebra = LaurentPolynomialRing(QQ,['m','l','g'])\n",
    "# quotient_lex_order = ['m','l','g']"
   ]
  },
  {
   "cell_type": "code",
   "execution_count": 37,
   "metadata": {},
   "outputs": [
    {
     "name": "stdout",
     "output_type": "stream",
     "text": [
      "The A-polynomial in the ideal:\n"
     ]
    },
    {
     "data": {
      "text/html": [
       "<html><script type=\"math/tex; mode=display\">\\newcommand{\\Bold}[1]{\\mathbf{#1}}m^{8} l - m^{6} l + m^{4} l^{2} - 2 m^{4} l - m^{4} - m^{2} l + l</script></html>"
      ],
      "text/latex": [
       "$$\\newcommand{\\Bold}[1]{\\mathbf{#1}}m^{8} l - m^{6} l + m^{4} l^{2} - 2 m^{4} l - m^{4} - m^{2} l + l$$"
      ],
      "text/plain": [
       "m^8*l - m^6*l + m^4*l^2 - 2*m^4*l - m^4 - m^2*l + l"
      ]
     },
     "metadata": {},
     "output_type": "display_data"
    },
    {
     "name": "stdout",
     "output_type": "stream",
     "text": [
      "Is it included: False\n",
      "\n",
      " The relations:\n"
     ]
    },
    {
     "data": {
      "text/html": [
       "<html><script type=\"math/tex; mode=display\">\\newcommand{\\Bold}[1]{\\mathbf{#1}}m l^{-1} g - 2 + m^{-1} l g^{-1} + 2 l^{-1} + 2 m^{-1} g^{-1} + m^{-1} l^{-1} g^{-1}</script></html>"
      ],
      "text/latex": [
       "$$\\newcommand{\\Bold}[1]{\\mathbf{#1}}m l^{-1} g - 2 + m^{-1} l g^{-1} + 2 l^{-1} + 2 m^{-1} g^{-1} + m^{-1} l^{-1} g^{-1}$$"
      ],
      "text/plain": [
       "m*l^-1*g - 2 + m^-1*l*g^-1 + 2*l^-1 + 2*m^-1*g^-1 + m^-1*l^-1*g^-1"
      ]
     },
     "metadata": {},
     "output_type": "display_data"
    },
    {
     "data": {
      "text/html": [
       "<html><script type=\"math/tex; mode=display\">\\newcommand{\\Bold}[1]{\\mathbf{#1}}m^{4} l g^{-2} + 2 m^{3} g^{-1} + 2 m l g^{-1} + m^{2} l^{-1} - 2 + m^{-2} l</script></html>"
      ],
      "text/latex": [
       "$$\\newcommand{\\Bold}[1]{\\mathbf{#1}}m^{4} l g^{-2} + 2 m^{3} g^{-1} + 2 m l g^{-1} + m^{2} l^{-1} - 2 + m^{-2} l$$"
      ],
      "text/plain": [
       "m^4*l*g^-2 + 2*m^3*g^-1 + 2*m*l*g^-1 + m^2*l^-1 - 2 + m^-2*l"
      ]
     },
     "metadata": {},
     "output_type": "display_data"
    }
   ],
   "source": [
    "# get the images of the two great circle relations in the quotient:\n",
    "relation_A = quotient_poly_algebra.sum([\n",
    "    quotient_poly_algebra(v)*quotient_poly_algebra.monomial(*k) for k,v in great_circle_quot_A.items()\n",
    "]+[-2])\n",
    "\n",
    "relation_B = quotient_poly_algebra.sum([\n",
    "    quotient_poly_algebra(v)*quotient_poly_algebra.monomial(*k) for k,v in great_circle_quot_B.items()\n",
    "]+[-2])\n",
    "\n",
    "# then quotient by these:\n",
    "relations_ideal = quotient_poly_algebra.ideal([relation_A,relation_B])\n",
    "skein_module_41 = quotient_poly_algebra.quotient_ring(relations_ideal)\n",
    "A_41 = quotient_poly_algebra('(l^2*m^4-l*(-m^8+m^6+2*m^4+m^2-1)-m^4)') # from CCGLS 1994\n",
    "print(\"The A-polynomial in the ideal:\")\n",
    "pretty_print(relations_ideal.reduce(A_41))\n",
    "print(\"Is it included:\",A_41 in relations_ideal)\n",
    "# Should l = 1 in the skein module? Longitude bounding a torus.\n",
    "\n",
    "print(\"\\n The relations:\")\n",
    "pretty_print(relation_A)\n",
    "pretty_print(relation_B)"
   ]
  },
  {
   "cell_type": "code",
   "execution_count": 40,
   "metadata": {},
   "outputs": [
    {
     "data": {
      "text/plain": [
       "False"
      ]
     },
     "execution_count": 40,
     "metadata": {},
     "output_type": "execute_result"
    }
   ],
   "source": [
    "quotient_poly_algebra('(l^2*m^2+l*(-m^4+m^3+2*m^2+m-1)-m^2)') in relations_ideal"
   ]
  },
  {
   "cell_type": "code",
   "execution_count": 43,
   "metadata": {},
   "outputs": [
    {
     "ename": "TypeError",
     "evalue": "can't multiply sequence by non-int of type 'sage.rings.polynomial.laurent_polynomial.LaurentPolynomial_mpair'",
     "output_type": "error",
     "traceback": [
      "\u001b[0;31m---------------------------------------------------------------------------\u001b[0m",
      "\u001b[0;31mTypeError\u001b[0m                                 Traceback (most recent call last)",
      "\u001b[0;32m/tmp/ipykernel_16453/43150641.py\u001b[0m in \u001b[0;36m<module>\u001b[0;34m\u001b[0m\n\u001b[0;32m----> 1\u001b[0;31m \u001b[0mrelation_B\u001b[0m\u001b[0;34m*\u001b[0m\u001b[0;34m'g^2'\u001b[0m\u001b[0;34m\u001b[0m\u001b[0;34m\u001b[0m\u001b[0m\n\u001b[0m",
      "\u001b[0;31mTypeError\u001b[0m: can't multiply sequence by non-int of type 'sage.rings.polynomial.laurent_polynomial.LaurentPolynomial_mpair'"
     ]
    }
   ],
   "source": [
    "relation_B*'g^2'"
   ]
  },
  {
   "cell_type": "code",
   "execution_count": null,
   "metadata": {},
   "outputs": [],
   "source": []
  }
 ],
 "metadata": {
  "celltoolbar": "Initialization Cell",
  "kernelspec": {
   "display_name": "SageMath 9.5",
   "language": "sage",
   "name": "sagemath"
  },
  "language_info": {
   "codemirror_mode": {
    "name": "ipython",
    "version": 3
   },
   "file_extension": ".py",
   "mimetype": "text/x-python",
   "name": "python",
   "nbconvert_exporter": "python",
   "pygments_lexer": "ipython3",
   "version": "3.10.4"
  },
  "toc": {
   "base_numbering": 1,
   "nav_menu": {
    "height": "177px",
    "width": "344px"
   },
   "number_sections": true,
   "sideBar": true,
   "skip_h1_title": false,
   "title_cell": "Table of Contents",
   "title_sidebar": "Contents",
   "toc_cell": false,
   "toc_position": {
    "height": "calc(100% - 180px)",
    "left": "10px",
    "top": "150px",
    "width": "297.333px"
   },
   "toc_section_display": true,
   "toc_window_display": false
  },
  "varInspector": {
   "cols": {
    "lenName": 16,
    "lenType": 16,
    "lenVar": 40
   },
   "kernels_config": {
    "python": {
     "delete_cmd_postfix": "",
     "delete_cmd_prefix": "del ",
     "library": "var_list.py",
     "varRefreshCmd": "print(var_dic_list())"
    },
    "r": {
     "delete_cmd_postfix": ") ",
     "delete_cmd_prefix": "rm(",
     "library": "var_list.r",
     "varRefreshCmd": "cat(var_dic_list()) "
    }
   },
   "types_to_exclude": [
    "module",
    "function",
    "builtin_function_or_method",
    "instance",
    "_Feature"
   ],
   "window_display": false
  }
 },
 "nbformat": 4,
 "nbformat_minor": 4
}
