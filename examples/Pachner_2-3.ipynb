{
 "cells": [
  {
   "cell_type": "markdown",
   "metadata": {},
   "source": [
    "TODO - This needs a bunch of rewriting:\n",
    "\n",
    "- [X] make a class M with num_tetrahedra method\n",
    "- [x] re-write get_gluing_data\n",
    "- [ ] find/fix assumptions that every face is glued.\n",
    "- [ ] hand-craft input data for the two triangulations in the pachner 2-3 move?"
   ]
  },
  {
   "cell_type": "markdown",
   "metadata": {},
   "source": [
    "# Support and Setup"
   ]
  },
  {
   "cell_type": "code",
   "execution_count": null,
   "metadata": {},
   "outputs": [],
   "source": [
    "#import snappy\n",
    "#M = snappy.Triangulation('4_1')\n",
    "#M._two_to_three(0,1)\n",
    "#num_tet = M.num_tetrahedra()"
   ]
  },
  {
   "cell_type": "code",
   "execution_count": 169,
   "metadata": {
    "init_cell": true
   },
   "outputs": [],
   "source": [
    "class FakeTriangulation:\n",
    "    def __init__(self,num_tet,glued=True):\n",
    "        self.num_tet = num_tet\n",
    "        self.glued = glued\n",
    "        \n",
    "    def num_tetrahedra(self):\n",
    "        return self.num_tet\n",
    "    \n",
    "    def _get_tetrahedra_gluing_data(self):\n",
    "        \n",
    "        if self.glued:\n",
    "            if self.num_tet == 1:\n",
    "                fake_gluing_data = [# just one tetrahedra\n",
    "                    (\n",
    "                        [0,0,0,0],\n",
    "                        [[0,1,2,3],[0,1,2,3],[0,1,2,3],[0,1,2,3]]\n",
    "                    )\n",
    "                ]\n",
    "            if self.num_tet == 2:\n",
    "                fake_gluing_data = [ # two tetrahedra glued along one face.\n",
    "                    ( # t0\n",
    "                        [0,0,1,0],\n",
    "                        [[0,1,2,3],[0,1,2,3],[0,1,3,2],[0,1,2,3]]\n",
    "                    ),\n",
    "                    ( # t1\n",
    "                        [1,1,1,0],\n",
    "                        [[0,1,2,3],[0,1,2,3],[0,1,2,3],[0,1,3,2]]\n",
    "                    )\n",
    "                ]\n",
    "            if self.num_tet == 3:\n",
    "                fake_gluing_data = [ # three tetrahedra glued around a central edge.\n",
    "                    ( # t0\n",
    "                        [2,1,0,0],\n",
    "                        [[1,0,2,3], [3,2,0,1],[0,1,2,3],[0,1,2,3]]\n",
    "                    ),\n",
    "                    ( # t1\n",
    "                        [1,1,0,2],\n",
    "                        [[0,1,2,3],[0,1,2,3],[2,3,1,0],[2,3,1,0]]\n",
    "                    ),\n",
    "                    ( # t2\n",
    "                        [1,0,2,2],\n",
    "                        [[3,2,0,1],[1,0,2,3],[0,1,2,3],[0,1,2,3]]\n",
    "                    )\n",
    "                ]\n",
    "        if not self.glued:\n",
    "            fake_gluing_data = [\n",
    "                ([t,t,t,t],\n",
    "                [[0,1,2,3],[0,1,2,3],[0,1,2,3],[0,1,2,3]]\n",
    "                )\n",
    "                for t in range(self.num_tet)\n",
    "            ]\n",
    "            \n",
    "        \n",
    "        return fake_gluing_data\n",
    "        \n",
    "    \n",
    "M = FakeTriangulation(3)\n",
    "num_tet = M.num_tetrahedra()"
   ]
  },
  {
   "cell_type": "markdown",
   "metadata": {},
   "source": [
    "## Logging"
   ]
  },
  {
   "cell_type": "code",
   "execution_count": 170,
   "metadata": {
    "init_cell": true
   },
   "outputs": [],
   "source": [
    "import logging\n",
    "\n",
    "# create logger\n",
    "logger = logging.getLogger(__name__)\n",
    "\n",
    "# keep from having duplicate messages.\n",
    "logger.handlers = []\n",
    "logger.propagate = False\n",
    "\n",
    "# set log level for all handlers to debug. Options are DEBUG, INFO, WARNING, ERROR, and CRITICAL.\n",
    "logger.setLevel(logging.DEBUG)\n",
    "\n",
    "# create console handler and set level to debug\n",
    "# best for development or debugging\n",
    "consoleHandler = logging.StreamHandler()\n",
    "consoleHandler.setLevel(logging.DEBUG)\n",
    "\n",
    "\n",
    "\n",
    "# create formatter\n",
    "formatter = logging.Formatter('%(levelname)s - %(message)s')\n",
    "\n",
    "# add formatter to ch\n",
    "consoleHandler.setFormatter(formatter)\n",
    "\n",
    "# add console hangler to logger\n",
    "logger.addHandler(consoleHandler)"
   ]
  },
  {
   "cell_type": "markdown",
   "metadata": {
    "heading_collapsed": true
   },
   "source": [
    "## Helper methods"
   ]
  },
  {
   "cell_type": "code",
   "execution_count": 171,
   "metadata": {
    "hidden": true,
    "init_cell": true
   },
   "outputs": [],
   "source": [
    "# Functions for quantum tori - TODO combine this with the quantum_tori notebook.\n",
    "\n",
    "\n",
    "def names_to_lattice_coordinate(names,gens_dict):\n",
    "    \"\"\"\n",
    "    Gets the lattice coordinate for a monomial. Assumes the coordinates are\n",
    "    Weyl normal order, e.g. ['x','y','z'] -> :xyz:\n",
    "    \n",
    "    Parameters:\n",
    "        names (list of strings or dictionary specifying exponents) - generator names\n",
    "        gens_dict (dict) - maps generator names to lattice coordinates.\n",
    "    \n",
    "    Returns:\n",
    "        vector - the lattice coordinate of the Weyl normal order product of the given generator.\n",
    "    \"\"\"\n",
    "    if isinstance(names,dict): # means powers are specified\n",
    "        return sum([power*gens_dict[gen] for gen,power in names.items()])\n",
    "    else: # its a list or set\n",
    "        return sum([gens_dict[gen] for gen in names])\n",
    "    \n",
    "def lattice_coord_to_dict(coord,gens_dict):\n",
    "    \"\"\"\n",
    "    Converts a lattice coordinate to a dictionary with variable names as keys and powers as values.\n",
    "    Might assume that each generator's coordinate has exactly one non-zero entry.\n",
    "    \n",
    "    Parameters:\n",
    "        coord (list or vector) - the coordinate of an element in the quantum torus\n",
    "        gens_dict (dict) - the dictionary of generator lattice coordinates.\n",
    "    \n",
    "    Returns:\n",
    "        dict - a dictionary representation of the coordinate.\n",
    "    \"\"\"\n",
    "    dict_form = {}\n",
    "    for gen_name,gen_coord in gens_dict.items():\n",
    "        # divide by that entry to deal with qrt2, which is (2,0,...,0)\n",
    "        # does not handle roots of other generators - they'll be set to zero by int()\n",
    "        power = int(sum(ii*jj for (ii,jj) in zip(gen_coord,coord))/max(gen_coord))\n",
    "        if power != 0:\n",
    "            dict_form[gen_name] = power\n",
    "    \n",
    "    return dict_form\n",
    "\n",
    "def lattice_coord_to_ring_element(coord,the_ring):\n",
    "    \"\"\"\n",
    "    Turns a lattice coordinate into a ring element.\n",
    "    Assumes that the coordinate and the_ring.gens() use the same order.\n",
    "    This recreates the functionality of the_ring.monomial, which isn't implemented for all the rings we work with.\n",
    "    \n",
    "    Parameters:\n",
    "    coord (List) - the lattice coordinate of a module element.\n",
    "    the_ring (fgp_module) - the ambient module\n",
    "    \n",
    "    Returns:\n",
    "    (the_ring.element_class) - the ring element corresponding to the lattice coordinate\n",
    "    \"\"\"\n",
    "    return reduce(the_ring.product, [term[0]**term[1] for term in zip(the_ring.gens(),coord)])\n",
    "\n",
    "def product_from_lattice_coordinates(*coords, relations=matrix.identity(3), gens_dict={'qrt2':(2,0,0),'A':(0,1,0),'a':(0,0,1)}):\n",
    "    #TODO - double check that this works like I think it should.\n",
    "    \"\"\"\n",
    "    Gets the lattice coordinate for the product X^coord1 * X^coord2 * ... * X^coordn\n",
    "    This isn't simple termwise addition because lattice coordinates are in normal order, so we have a factor of q introduced.\n",
    "    \n",
    "    If X^coord1 * X^coord2 = q^(2n) X^coord2 * X^coord1, then \n",
    "    X^coord1 * X^coord2 = q^(-n) X^(coord1 + coord2)\n",
    "    \n",
    "    Parameters:\n",
    "        coords (vector or list) - an arbitrary number (>=1) of lattice coordinates, in the order they're being multiplied\n",
    "        relations (matrix) - the relations matrix\n",
    "        gens_dict (dict) - dictionary with generator names. used to specify q.\n",
    "    \n",
    "    Returns:\n",
    "        vector - the lattice coordinate for the product\n",
    "    \"\"\"\n",
    "    \n",
    "    get_q_power = lambda c1, c2: -(matrix(c1)*relations*matrix(c2).transpose())[0,0]\n",
    "    \n",
    "    return reduce(lambda c1,c2: get_q_power(c1,c2)*vector(gens_dict['qrt2'])/2+vector(c1)+vector(c2),coords)\n",
    "\n",
    "def product_from_names(*monomials,relations=matrix.identity(3),gens_dict={'qrt2':(2,0,0),'A':(0,1,0),'a':(0,0,1)}):\n",
    "    \"\"\"\n",
    "    Returns the product of the monomials (in normal order) in the form of a dictionary.\n",
    "    \n",
    "    Parameters:\n",
    "        monomials (dict or list of strings) - an arbitrary number (2 or more?) of dictionarys, in the order they're being multiplied.\n",
    "        relations (matrix) - gives the commutation relations\n",
    "        gens_dict (dict) - maps variable names to lattice coordinates\n",
    "    \n",
    "    Returns:\n",
    "        dict - the product in normal order.\n",
    "    \"\"\"\n",
    "    \n",
    "    coords = [names_to_lattice_coordinate(m,gens_dict) for m in monomials]\n",
    "    \n",
    "    return product_from_lattice_coordinates(*coords,relations=relations,gens_dict=gens_dict)\n",
    "\n",
    "def clear_denominator(element):\n",
    "    \"\"\"Clears denominator by multiplying through by a monomial.\"\"\"\n",
    "    ambient_ring = element.parent()\n",
    "    \n",
    "    return ambient_ring.monomial(*[\n",
    "        -min(powers) for powers in matrix(element.exponents()).transpose().rows()\n",
    "    ])*element"
   ]
  },
  {
   "cell_type": "code",
   "execution_count": null,
   "metadata": {
    "hidden": true
   },
   "outputs": [],
   "source": [
    "product_from_lattice_coordinates(gens_dict['a002'],gens_dict['a001'],gens_dict['a001'],relations=omega_with_q,gens_dict=gens_dict)\n",
    "product_from_names({'a002':1},{'a001':1},{'a001':-1}, relations=omega_with_q, gens_dict=gens_dict)"
   ]
  },
  {
   "cell_type": "code",
   "execution_count": 172,
   "metadata": {
    "hidden": true,
    "init_cell": true
   },
   "outputs": [],
   "source": [
    "def merge_or_add(dict1, dict2):\n",
    "    \"\"\"\n",
    "    A version of dict1 | dict2 which adds the values of repeated keys. Does not overwrite the original dictionaries.\n",
    "    \n",
    "    Example:\n",
    "    merge_or_add({'a':1,'b':-1}, {'b':1,'c':2})\n",
    "    >> {'a':1, 'b':0, 'c':2}\n",
    "    \n",
    "    Parameters:\n",
    "    dict1 (dict)\n",
    "    dict2 (dict)\n",
    "    \n",
    "    Returns:\n",
    "    dict\n",
    "    \"\"\"\n",
    "    \n",
    "    union_keys = set(dict1.keys()) | set(dict2.keys())\n",
    "    \n",
    "    return {k : dict1.get(k,0)+dict2.get(k,0) for k in union_keys}\n"
   ]
  },
  {
   "cell_type": "markdown",
   "metadata": {
    "heading_collapsed": true
   },
   "source": [
    "## Lattice Coordinates and Weights.\n",
    "\n",
    "Also gluing data"
   ]
  },
  {
   "cell_type": "code",
   "execution_count": 173,
   "metadata": {
    "hidden": true,
    "init_cell": true
   },
   "outputs": [],
   "source": [
    "# Define q and some of its roots.\n",
    "q = var('q')\n",
    "qrt2 = var('qrt2')\n",
    "qrt4 = var('qrt4')\n",
    "q = qrt4^4\n",
    "q = qrt2^2\n",
    "qrt2 = qrt4^2\n",
    "\n",
    "\n",
    "# todo - is this coeefs vector still useful?\n",
    "R.<qrt4> =LaurentPolynomialRing(ZZ)\n",
    "coeffs = matrix(R,[qrt2^2])\n"
   ]
  },
  {
   "cell_type": "markdown",
   "metadata": {
    "hidden": true
   },
   "source": [
    "### Weights for Short and Long Edges"
   ]
  },
  {
   "cell_type": "code",
   "execution_count": 174,
   "metadata": {
    "hidden": true,
    "init_cell": true
   },
   "outputs": [],
   "source": [
    "# Weights\n",
    "weights_dict = {}\n",
    "for t in range(M.num_tetrahedra()):\n",
    "    weights_dict.update({\n",
    "        'a{0}01'.format(t) : {'v{0}02'.format(t): 1, 'v{0}03'.format(t): -1},\n",
    "        'a{0}02'.format(t) : {'v{0}03'.format(t): 1, 'v{0}01'.format(t): -1},\n",
    "        'a{0}03'.format(t) : {'v{0}01'.format(t): 1, 'v{0}02'.format(t): -1},\n",
    "        'a{0}10'.format(t) : {'v{0}13'.format(t): 1, 'v{0}12'.format(t): -1},\n",
    "        'a{0}13'.format(t) : {'v{0}12'.format(t): 1, 'v{0}10'.format(t): -1},\n",
    "        'a{0}12'.format(t) : {'v{0}10'.format(t): 1, 'v{0}13'.format(t): -1},\n",
    "        'a{0}20'.format(t) : {'v{0}21'.format(t): 1, 'v{0}23'.format(t): -1},\n",
    "        'a{0}21'.format(t) : {'v{0}23'.format(t): 1, 'v{0}20'.format(t): -1},\n",
    "        'a{0}23'.format(t) : {'v{0}20'.format(t): 1, 'v{0}21'.format(t): -1},\n",
    "        'a{0}30'.format(t) : {'v{0}32'.format(t): 1, 'v{0}31'.format(t): -1},\n",
    "        'a{0}32'.format(t) : {'v{0}31'.format(t): 1, 'v{0}30'.format(t): -1},\n",
    "        'a{0}31'.format(t) : {'v{0}30'.format(t): 1, 'v{0}32'.format(t): -1}\n",
    "    })\n",
    "    \n",
    "    weights_dict.update({\n",
    "        'A{0}01'.format(t) : {'v{0}01'.format(t): 1, 'v{0}10'.format(t): 1},\n",
    "        'A{0}02'.format(t) : {'v{0}02'.format(t): 1, 'v{0}20'.format(t): 1},\n",
    "        'A{0}03'.format(t) : {'v{0}03'.format(t): 1, 'v{0}30'.format(t): 1},\n",
    "        'A{0}12'.format(t) : {'v{0}12'.format(t): 1, 'v{0}21'.format(t): 1},\n",
    "        'A{0}13'.format(t) : {'v{0}13'.format(t): 1, 'v{0}31'.format(t): 1},\n",
    "        'A{0}23'.format(t) : {'v{0}23'.format(t): 1, 'v{0}32'.format(t): 1},\n",
    "    })\n",
    "    \n"
   ]
  },
  {
   "cell_type": "markdown",
   "metadata": {
    "hidden": true
   },
   "source": [
    "### Threads and Gluing Data\n",
    "Including weights for threads"
   ]
  },
  {
   "cell_type": "code",
   "execution_count": 175,
   "metadata": {
    "hidden": true,
    "init_cell": true
   },
   "outputs": [],
   "source": [
    "def get_short_edges_in_face(tet,face):\n",
    "    \"\"\"\n",
    "    Returns a list of the short edges contained in a specified face.\n",
    "\n",
    "    Parameters:\n",
    "    tet (Integer) - index of the tetrahedron containing the face.\n",
    "    face (Integer) - index of the face.\n",
    "\n",
    "    Returns:\n",
    "    list of str - list of short edges contained in the face.\n",
    "    \"\"\"\n",
    "    edge_indices = [0,1,2,3]\n",
    "    edge_indices.remove(face)\n",
    "    return [\"a{0}{1}{2}\".format(tet,i,face) for i in edge_indices]\n",
    "\n",
    "def get_long_edges_in_face(tet,face):\n",
    "    \"\"\"\n",
    "    Returns a list of the long edges contained in a specified face.\n",
    "\n",
    "    Parameters:\n",
    "    tet (Integer) - index of the tetrahedron containing the face.\n",
    "    face (Integer) - index of the face.\n",
    "\n",
    "    Returns:\n",
    "    list of str - list of long edges contained in the face.\n",
    "    \"\"\"\n",
    "    indices = [0,1,2,3]\n",
    "    indices.remove(face)\n",
    "    return [\"A{0}{1}{2}\".format(tet,indices[i1],indices[i2]) for i1 in range(3) for i2 in range(i1+1,3)]   \n",
    "        \n",
    "        \n",
    "    return [\"A{0}{1}{2}\".format(tet,i,face) for i in edge_indices]\n",
    "\n",
    "def get_long_edges_in_tet(tet):\n",
    "    \"\"\"\n",
    "    Returns a list of the long edges contained in a specified face.\n",
    "\n",
    "    Parameters:\n",
    "    tet (Integer) - index of the tetrahedron.\n",
    "\n",
    "    Returns:\n",
    "    list of str - list of long edges contained in the tet.\n",
    "    \"\"\"\n",
    "    return [name.format(tet) for name in ['A{0}01','A{0}02', 'A{0}03','A{0}12','A{0}13','A{0}23']]\n",
    "    \n",
    "    \n",
    "def get_local_thread_weights(tet,face):\n",
    "    \"\"\"\n",
    "    Finds the weights for the threads that would glue this face to another.\n",
    "\n",
    "    Parameters:\n",
    "    tet (Integer) - index of the tetrahedron containing the face\n",
    "    face (Integer) - index of the face inside the tetrehedron.\n",
    "\n",
    "    Returns:\n",
    "    dict {str : Integer} - gives the weights of the threads for each vertex in the face.\"\"\"\n",
    "    short_edges = get_short_edges_in_face(tet,face)\n",
    "    local_thread_weights = {}\n",
    "    for short_edge in short_edges:\n",
    "        local_thread_weights.update({\n",
    "            vertex: -weight for vertex,weight in weights_dict[short_edge].items()\n",
    "        })\n",
    "\n",
    "    return local_thread_weights\n"
   ]
  },
  {
   "cell_type": "code",
   "execution_count": 80,
   "metadata": {
    "hidden": true
   },
   "outputs": [
    {
     "data": {
      "text/plain": [
       "['A001', 'A002', 'A003', 'A012', 'A013', 'A023']"
      ]
     },
     "execution_count": 80,
     "metadata": {},
     "output_type": "execute_result"
    }
   ],
   "source": [
    "get_long_edges_in_tet(0)"
   ]
  },
  {
   "cell_type": "code",
   "execution_count": 176,
   "metadata": {
    "hidden": true,
    "init_cell": true
   },
   "outputs": [],
   "source": [
    "# turn the gluing data into a dictionary.\n",
    "\n",
    "def get_gluing_dict(M):\n",
    "    \"\"\"\n",
    "    Reformats the gluing data from a snappy triangulation with n tetrahedra.\n",
    "\n",
    "    Parameters:\n",
    "    M (FakeTriangulation)\n",
    "\n",
    "    Returns\n",
    "    dict - each item is a permutation:\n",
    "        'r{i}' specifies which tetrahedrons the faces of the i-th tet ends up in.\n",
    "        's{i}{j}' specifies the gluing map for the j-th face of the i-th tet.\n",
    "    \"\"\"\n",
    "    gluing_data = M._get_tetrahedra_gluing_data()\n",
    "    gluing_dict = {}\n",
    "    for t in range(M.num_tetrahedra()):\n",
    "        gluing_dict.update({\"r{0}\".format(t) : gluing_data[t][0] })\n",
    "        for f in range(4):\n",
    "            gluing_dict.update({\"s{0}{1}\".format(t,f) : gluing_data[t][1][f]})\n",
    "            \n",
    "    return gluing_dict"
   ]
  },
  {
   "cell_type": "code",
   "execution_count": 177,
   "metadata": {
    "hidden": true,
    "init_cell": true
   },
   "outputs": [],
   "source": [
    "# This could be more beautiful.\n",
    "def get_thread_weights_dict(M):\n",
    "    \"\"\"\n",
    "    Finds the weights_dict for the threads, based on a snappy Triangulation.\n",
    "    \n",
    "    Parameters:\n",
    "    M (snappy.Triangulation)\n",
    "    \n",
    "    Returns:\n",
    "    dict of the form {str: vector} - gives the weights of the T-actions for the threads.\n",
    "    \"\"\"\n",
    "    gluing_dict = get_gluing_dict(M)\n",
    "    thread_weights_dict = {}\n",
    "    for t in range(M.num_tetrahedra()):\n",
    "        for f in range(4):\n",
    "            face_perm = gluing_dict[\"s{0}{1}\".format(t,f)]\n",
    "            # ignore unglued faces, which are \n",
    "            if gluing_dict[\"r{0}\".format(t)][f] != t or face_perm != [0,1,2,3]:\n",
    "                local_thread_weights = get_local_thread_weights(t,f)\n",
    "                # add threads based on where they start. i.e. where they have weight 1.\n",
    "                starting_here = list(filter(lambda k : local_thread_weights[k] == 1, local_thread_weights.keys()))\n",
    "                for local_vertex in starting_here:\n",
    "                    distant_vertex = \"v{0}{1}{2}\".format(\n",
    "                        gluing_dict[\"r{0}\".format(t)][f],\n",
    "                        face_perm[Integer(local_vertex[-2])],\n",
    "                        face_perm[Integer(local_vertex[-1])]\n",
    "                    )\n",
    "                    thread_weights_dict.update({\n",
    "                        \"x{0}_{1}\".format(local_vertex[1:], distant_vertex[1:]) : {local_vertex: 1, distant_vertex: -1}   \n",
    "                    })\n",
    "\n",
    "    return thread_weights_dict\n",
    "\n",
    "\n",
    "# Add thread weights to the big weights dictionary.\n",
    "\n",
    "weights_dict.update(get_thread_weights_dict(M))"
   ]
  },
  {
   "cell_type": "code",
   "execution_count": 81,
   "metadata": {
    "hidden": true
   },
   "outputs": [
    {
     "data": {
      "text/plain": [
       "{'a001': {'v002': 1, 'v003': -1},\n",
       " 'a002': {'v003': 1, 'v001': -1},\n",
       " 'a003': {'v001': 1, 'v002': -1},\n",
       " 'a010': {'v013': 1, 'v012': -1},\n",
       " 'a013': {'v012': 1, 'v010': -1},\n",
       " 'a012': {'v010': 1, 'v013': -1},\n",
       " 'a020': {'v021': 1, 'v023': -1},\n",
       " 'a021': {'v023': 1, 'v020': -1},\n",
       " 'a023': {'v020': 1, 'v021': -1},\n",
       " 'a030': {'v032': 1, 'v031': -1},\n",
       " 'a032': {'v031': 1, 'v030': -1},\n",
       " 'a031': {'v030': 1, 'v032': -1},\n",
       " 'A001': {'v001': 1, 'v010': 1},\n",
       " 'A002': {'v002': 1, 'v020': 1},\n",
       " 'A003': {'v003': 1, 'v030': 1},\n",
       " 'A012': {'v012': 1, 'v021': 1},\n",
       " 'A013': {'v013': 1, 'v031': 1},\n",
       " 'A023': {'v023': 1, 'v032': 1},\n",
       " 'a101': {'v102': 1, 'v103': -1},\n",
       " 'a102': {'v103': 1, 'v101': -1},\n",
       " 'a103': {'v101': 1, 'v102': -1},\n",
       " 'a110': {'v113': 1, 'v112': -1},\n",
       " 'a113': {'v112': 1, 'v110': -1},\n",
       " 'a112': {'v110': 1, 'v113': -1},\n",
       " 'a120': {'v121': 1, 'v123': -1},\n",
       " 'a121': {'v123': 1, 'v120': -1},\n",
       " 'a123': {'v120': 1, 'v121': -1},\n",
       " 'a130': {'v132': 1, 'v131': -1},\n",
       " 'a132': {'v131': 1, 'v130': -1},\n",
       " 'a131': {'v130': 1, 'v132': -1},\n",
       " 'A101': {'v101': 1, 'v110': 1},\n",
       " 'A102': {'v102': 1, 'v120': 1},\n",
       " 'A103': {'v103': 1, 'v130': 1},\n",
       " 'A112': {'v112': 1, 'v121': 1},\n",
       " 'A113': {'v113': 1, 'v131': 1},\n",
       " 'A123': {'v123': 1, 'v132': 1},\n",
       " 'a201': {'v202': 1, 'v203': -1},\n",
       " 'a202': {'v203': 1, 'v201': -1},\n",
       " 'a203': {'v201': 1, 'v202': -1},\n",
       " 'a210': {'v213': 1, 'v212': -1},\n",
       " 'a213': {'v212': 1, 'v210': -1},\n",
       " 'a212': {'v210': 1, 'v213': -1},\n",
       " 'a220': {'v221': 1, 'v223': -1},\n",
       " 'a221': {'v223': 1, 'v220': -1},\n",
       " 'a223': {'v220': 1, 'v221': -1},\n",
       " 'a230': {'v232': 1, 'v231': -1},\n",
       " 'a232': {'v231': 1, 'v230': -1},\n",
       " 'a231': {'v230': 1, 'v232': -1},\n",
       " 'A201': {'v201': 1, 'v210': 1},\n",
       " 'A202': {'v202': 1, 'v220': 1},\n",
       " 'A203': {'v203': 1, 'v230': 1},\n",
       " 'A212': {'v212': 1, 'v221': 1},\n",
       " 'A213': {'v213': 1, 'v231': 1},\n",
       " 'A223': {'v223': 1, 'v232': 1},\n",
       " 'x012_202': {'v012': 1, 'v202': -1},\n",
       " 'x023_223': {'v023': 1, 'v223': -1},\n",
       " 'x031_230': {'v031': 1, 'v230': -1},\n",
       " 'x003_131': {'v003': 1, 'v131': -1},\n",
       " 'x020_103': {'v020': 1, 'v103': -1},\n",
       " 'x032_110': {'v032': 1, 'v110': -1},\n",
       " 'x101_023': {'v101': 1, 'v023': -1},\n",
       " 'x113_030': {'v113': 1, 'v030': -1},\n",
       " 'x130_002': {'v130': 1, 'v002': -1},\n",
       " 'x102_221': {'v102': 1, 'v221': -1},\n",
       " 'x110_232': {'v110': 1, 'v232': -1},\n",
       " 'x121_213': {'v121': 1, 'v213': -1},\n",
       " 'x212_120': {'v212': 1, 'v120': -1},\n",
       " 'x223_101': {'v223': 1, 'v101': -1},\n",
       " 'x231_112': {'v231': 1, 'v112': -1},\n",
       " 'x203_013': {'v203': 1, 'v013': -1},\n",
       " 'x220_021': {'v220': 1, 'v021': -1},\n",
       " 'x232_032': {'v232': 1, 'v032': -1}}"
      ]
     },
     "execution_count": 81,
     "metadata": {},
     "output_type": "execute_result"
    }
   ],
   "source": [
    "weights_dict"
   ]
  },
  {
   "cell_type": "markdown",
   "metadata": {
    "hidden": true
   },
   "source": [
    "### Lattice Coordinates for Short and Long Edges"
   ]
  },
  {
   "cell_type": "code",
   "execution_count": 178,
   "metadata": {
    "hidden": true,
    "init_cell": true
   },
   "outputs": [],
   "source": [
    "num_threads = len(get_thread_weights_dict(M))\n",
    "\n",
    "# First q. The first lattice is in terms of qrt2 = q^(1/2)\n",
    "gens_dict = {'qrt2': vector([1] + [0]*(M.num_tetrahedra()*18) + [0]*(num_threads))}\n",
    "\n",
    "# Generators for the skein algebra of the tetrahedra. Threads (from gluing) come later.\n",
    "for t in range(M.num_tetrahedra()):\n",
    "    leading_zeros = 1 + 18*t\n",
    "    trailing_zeros = 18*(M.num_tetrahedra()-1-t) + num_threads\n",
    "    # short edges\n",
    "    gens_dict.update(\n",
    "        {                        # q + before               short                       long + after + threads\n",
    "            \"a{0}01\".format(t) : vector([0]*leading_zeros + [1,0,0,0,0,0,0,0,0,0,0,0] + [0]*(6+trailing_zeros)),\n",
    "            \"a{0}02\".format(t) : vector([0]*leading_zeros + [0,1,0,0,0,0,0,0,0,0,0,0] + [0]*(6+trailing_zeros)),\n",
    "            \"a{0}03\".format(t) : vector([0]*leading_zeros + [0,0,1,0,0,0,0,0,0,0,0,0] + [0]*(6+trailing_zeros)),\n",
    "            \"a{0}10\".format(t) : vector([0]*leading_zeros + [0,0,0,1,0,0,0,0,0,0,0,0] + [0]*(6+trailing_zeros)),\n",
    "            \"a{0}13\".format(t) : vector([0]*leading_zeros + [0,0,0,0,1,0,0,0,0,0,0,0] + [0]*(6+trailing_zeros)),\n",
    "            \"a{0}12\".format(t) : vector([0]*leading_zeros + [0,0,0,0,0,1,0,0,0,0,0,0] + [0]*(6+trailing_zeros)),\n",
    "            \"a{0}20\".format(t) : vector([0]*leading_zeros + [0,0,0,0,0,0,1,0,0,0,0,0] + [0]*(6+trailing_zeros)),\n",
    "            \"a{0}21\".format(t) : vector([0]*leading_zeros + [0,0,0,0,0,0,0,1,0,0,0,0] + [0]*(6+trailing_zeros)),\n",
    "            \"a{0}23\".format(t) : vector([0]*leading_zeros + [0,0,0,0,0,0,0,0,1,0,0,0] + [0]*(6+trailing_zeros)),\n",
    "            \"a{0}30\".format(t) : vector([0]*leading_zeros + [0,0,0,0,0,0,0,0,0,1,0,0] + [0]*(6+trailing_zeros)),\n",
    "            \"a{0}32\".format(t) : vector([0]*leading_zeros + [0,0,0,0,0,0,0,0,0,0,1,0] + [0]*(6+trailing_zeros)),\n",
    "            \"a{0}31\".format(t) : vector([0]*leading_zeros + [0,0,0,0,0,0,0,0,0,0,0,1] + [0]*(6+trailing_zeros))  \n",
    "        })\n",
    "    # long edges\n",
    "    gens_dict.update(\n",
    "        {\n",
    "        \"A{0}01\".format(t) : vector([0]*(leading_zeros+12) + [1,0,0,0,0,0] + [0]*trailing_zeros),\n",
    "        \"A{0}02\".format(t) : vector([0]*(leading_zeros+12) + [0,1,0,0,0,0] + [0]*trailing_zeros),\n",
    "        \"A{0}03\".format(t) : vector([0]*(leading_zeros+12) + [0,0,1,0,0,0] + [0]*trailing_zeros),\n",
    "        \"A{0}12\".format(t) : vector([0]*(leading_zeros+12) + [0,0,0,1,0,0] + [0]*trailing_zeros),\n",
    "        \"A{0}13\".format(t) : vector([0]*(leading_zeros+12) + [0,0,0,0,1,0] + [0]*trailing_zeros),\n",
    "        \"A{0}23\".format(t) : vector([0]*(leading_zeros+12) + [0,0,0,0,0,1] + [0]*trailing_zeros)\n",
    "        })\n",
    "    # I might want to add the swapped indices - right now this would break later code.\n",
    "    # gens_dict.update(\n",
    "     #   {\n",
    "     #       \"A{0}10\".format(t) : gens_dict[\"A{0}01\".format(t)],\n",
    "     #       \"A{0}20\".format(t) : gens_dict[\"A{0}02\".format(t)],\n",
    "     #       \"A{0}30\".format(t) : gens_dict[\"A{0}03\".format(t)],\n",
    "     #       \"A{0}21\".format(t) : gens_dict[\"A{0}12\".format(t)],\n",
    "     #       \"A{0}31\".format(t) : gens_dict[\"A{0}13\".format(t)],\n",
    "     #       \"A{0}32\".format(t) : gens_dict[\"A{0}23\".format(t)]\n",
    "     #   })\n",
    "    \n"
   ]
  },
  {
   "cell_type": "markdown",
   "metadata": {
    "heading_collapsed": true,
    "hidden": true
   },
   "source": [
    "### Lattice Coordinates for Threads"
   ]
  },
  {
   "cell_type": "code",
   "execution_count": 179,
   "metadata": {
    "hidden": true,
    "init_cell": true
   },
   "outputs": [],
   "source": [
    "def add_thread_lattice_coordinates(M,gens_dict):\n",
    "    \"\"\" Adds the threads to the gens_dict.\n",
    "    Assumes the the thread weights have already been added. Modifies gens_dict.\n",
    "    \n",
    "    Parameters:\n",
    "    M (snappy.Triangulation()) - the triangulated knot complement\n",
    "    gens_dict (dict {str: vector}) - the lattice coordinates of the generators\n",
    "    weights_dict (dict {str: vector})- the weights of the generators \n",
    "    \"\"\"\n",
    "    num_tet = M.num_tetrahedra()\n",
    "    thread_names = list(get_thread_weights_dict(M).keys())\n",
    "    for i in range(len(thread_names)):\n",
    "        gens_dict.update({\n",
    "            thread_names[i] : vector([0]*(1+18*num_tet+i) + [1] + [0]*(len(thread_names)-i-1))\n",
    "        })\n",
    "\n",
    "add_thread_lattice_coordinates(M,gens_dict)"
   ]
  },
  {
   "cell_type": "markdown",
   "metadata": {
    "heading_collapsed": true,
    "hidden": true
   },
   "source": [
    "### Vertices"
   ]
  },
  {
   "cell_type": "code",
   "execution_count": 180,
   "metadata": {
    "hidden": true,
    "init_cell": true
   },
   "outputs": [],
   "source": [
    "# Vertices\n",
    "\n",
    "vertices_dict = {}\n",
    "\n",
    "# make a basis for the vertices. This will be useful for the weights matrix.\n",
    "\n",
    "for t in range(M.num_tetrahedra()):\n",
    "    vertices_dict.update(\n",
    "        {                       \n",
    "            \"v{0}01\".format(t) : [0]*(12*t) + [1,0,0,0,0,0,0,0,0,0,0,0] + [0]*(12*(num_tet-1-t)),\n",
    "            \"v{0}02\".format(t) : [0]*(12*t) + [0,1,0,0,0,0,0,0,0,0,0,0] + [0]*(12*(num_tet-1-t)),\n",
    "            \"v{0}03\".format(t) : [0]*(12*t) + [0,0,1,0,0,0,0,0,0,0,0,0] + [0]*(12*(num_tet-1-t)),\n",
    "            \"v{0}10\".format(t) : [0]*(12*t) + [0,0,0,1,0,0,0,0,0,0,0,0] + [0]*(12*(num_tet-1-t)),\n",
    "            \"v{0}13\".format(t) : [0]*(12*t) + [0,0,0,0,1,0,0,0,0,0,0,0] + [0]*(12*(num_tet-1-t)),\n",
    "            \"v{0}12\".format(t) : [0]*(12*t) + [0,0,0,0,0,1,0,0,0,0,0,0] + [0]*(12*(num_tet-1-t)),\n",
    "            \"v{0}20\".format(t) : [0]*(12*t) + [0,0,0,0,0,0,1,0,0,0,0,0] + [0]*(12*(num_tet-1-t)),\n",
    "            \"v{0}21\".format(t) : [0]*(12*t) + [0,0,0,0,0,0,0,1,0,0,0,0] + [0]*(12*(num_tet-1-t)),\n",
    "            \"v{0}23\".format(t) : [0]*(12*t) + [0,0,0,0,0,0,0,0,1,0,0,0] + [0]*(12*(num_tet-1-t)),\n",
    "            \"v{0}30\".format(t) : [0]*(12*t) + [0,0,0,0,0,0,0,0,0,1,0,0] + [0]*(12*(num_tet-1-t)),\n",
    "            \"v{0}32\".format(t) : [0]*(12*t) + [0,0,0,0,0,0,0,0,0,0,1,0] + [0]*(12*(num_tet-1-t)),\n",
    "            \"v{0}31\".format(t) : [0]*(12*t) + [0,0,0,0,0,0,0,0,0,0,0,1] + [0]*(12*(num_tet-1-t))\n",
    "        })\n",
    "    \n",
    "\n",
    "    "
   ]
  },
  {
   "cell_type": "code",
   "execution_count": null,
   "metadata": {
    "hidden": true
   },
   "outputs": [],
   "source": [
    "# scratch - visualize the vertices basis \n",
    "matrix_plot([list(v) for v in vertices_dict.values()])"
   ]
  },
  {
   "cell_type": "markdown",
   "metadata": {
    "heading_collapsed": true
   },
   "source": [
    "## Relations"
   ]
  },
  {
   "cell_type": "markdown",
   "metadata": {
    "hidden": true
   },
   "source": [
    "### Relations for Short and Long Edges."
   ]
  },
  {
   "cell_type": "code",
   "execution_count": 181,
   "metadata": {
    "hidden": true,
    "init_cell": true
   },
   "outputs": [],
   "source": [
    "# first do short edges around a puncture\n",
    "omega_short_one_puncture = 2*matrix([\n",
    "    [ 0, 1,-1],\n",
    "    [-1, 0, 1],\n",
    "    [ 1,-1, 0]\n",
    "])\n",
    "omega_short = matrix.block_diagonal([omega_short_one_puncture]*4)\n",
    "\n",
    "# columns are At01, At02, At03, At12, At13, At23\n",
    "omega_short_long = 2*matrix([\n",
    "    [0,1,1,0,0,0],\n",
    "    [1,0,1,0,0,0],\n",
    "    [1,1,0,0,0,0],\n",
    "    #\n",
    "    [0,0,0,1,1,0],\n",
    "    [1,0,0,1,0,0],\n",
    "    [1,0,0,0,1,0],\n",
    "    #\n",
    "    [0,0,0,1,0,1],\n",
    "    [0,1,0,0,0,1],\n",
    "    [0,1,0,1,0,0],\n",
    "    #\n",
    "    [0,0,0,0,1,1],\n",
    "    [0,0,1,0,1,0],\n",
    "    [0,0,1,0,0,1]\n",
    "])\n",
    "\n",
    "\n",
    "\n",
    "# columns are short then long\n",
    "omega_one_tet = block_matrix([\n",
    "    [omega_short,omega_short_long],\n",
    "    [-omega_short_long.transpose(),0]\n",
    "])"
   ]
  },
  {
   "cell_type": "code",
   "execution_count": null,
   "metadata": {
    "hidden": true
   },
   "outputs": [],
   "source": [
    "# SCRATCH\n",
    "omega_one_tet"
   ]
  },
  {
   "cell_type": "markdown",
   "metadata": {
    "hidden": true
   },
   "source": [
    "### Thread Relations"
   ]
  },
  {
   "cell_type": "code",
   "execution_count": 182,
   "metadata": {
    "hidden": true,
    "init_cell": true
   },
   "outputs": [],
   "source": [
    "def get_edges_adjacent_to_vertex(vertex,weights_dict):\n",
    "    \"\"\"\n",
    "    Returns a list of generators with non-zero weight at a given vertex.\n",
    "    \n",
    "    Parameters:\n",
    "    vertex (str) - the name of a vertex.\n",
    "    weights_dict (dict) - the weights dictionary.\n",
    "    \n",
    "    Returns:\n",
    "    list of strings - the names of all edges with non-zero weight at this vertex.\n",
    "    \"\"\"\n",
    "    adjacent_edges = []\n",
    "    for edge, weights in weights_dict.items():\n",
    "        if vertex in weights and weights[vertex] != 0:\n",
    "            adjacent_edges.append(edge)\n",
    "            \n",
    "    return adjacent_edges\n",
    "\n",
    "def get_thread_relations(gens_dict,weights_dict):\n",
    "    \"\"\"\n",
    "    Builds the part of the relations matrix concerning threads.\n",
    "    \"\"\"\n",
    "    thread_names = list(filter(lambda k : k[0] == 'x', gens_dict.keys()))\n",
    "    thread_relations = []\n",
    "    \n",
    "    for thread in thread_names:\n",
    "        this_threads_relations = []\n",
    "        for vertex,weight in weights_dict[thread].items():\n",
    "            tmp_adjacent_edges = get_edges_adjacent_to_vertex(vertex,weights_dict)\n",
    "            # don't add relations for this thread with itself. \n",
    "            tmp_adjacent_edges.remove(thread)\n",
    "            for edge in tmp_adjacent_edges:\n",
    "                # commutation relation is the same for all non-thread generators at this vertex.\n",
    "                if edge[0] == 'x':\n",
    "                    this_threads_relations.append(weight*gens_dict[edge])\n",
    "                else:\n",
    "                    this_threads_relations.append(-weight*gens_dict[edge])\n",
    "        thread_relations.append(sum(this_threads_relations))\n",
    "    \n",
    "    return 2*matrix(thread_relations)\n",
    "\n",
    "\n"
   ]
  },
  {
   "cell_type": "code",
   "execution_count": 52,
   "metadata": {
    "hidden": true
   },
   "outputs": [
    {
     "name": "stdout",
     "output_type": "stream",
     "text": [
      "True\n"
     ]
    }
   ],
   "source": [
    "#checks\n",
    "thread_relations = get_thread_relations(gens_dict,weights_dict)\n",
    "# split the thread relations into two parts, to help construct the full relations matrix.\n",
    "omega_thread_non_thread = thread_relations[:,1:18*num_tet+1]\n",
    "omega_thread_thread = thread_relations[:,18*num_tet+1:]\n",
    "\n",
    "print(thread_relations[:,18*num_tet+1:].is_skew_symmetric())\n",
    "\n"
   ]
  },
  {
   "cell_type": "markdown",
   "metadata": {
    "hidden": true
   },
   "source": [
    "### Full Relations"
   ]
  },
  {
   "cell_type": "code",
   "execution_count": 183,
   "metadata": {
    "hidden": true,
    "init_cell": true
   },
   "outputs": [],
   "source": [
    "# Get the relations matrix, then its kernel\n",
    "\n",
    "def get_relations_matrix(M,gens_dict,weights_dict,omega_one_tet):\n",
    "    \"\"\"Constructs the full relations matrix.\n",
    "    \n",
    "    Parameters:\n",
    "    M (snappy.Triangulation)\n",
    "    gens_dict (dict)\n",
    "    weights_dict (dict)\n",
    "    omega_one_tet (Matrix)\n",
    "    \n",
    "    Returns:\n",
    "    Matrix\n",
    "    \"\"\"\n",
    "    num_tet = M.num_tetrahedra()\n",
    "    if not M.glued:\n",
    "        return block_diagonal_matrix(matrix([0]),*[omega_one_tet]*num_tet)\n",
    "    if num_tet == 1:\n",
    "        return block_diagonal_matrix(matrix([0]),omega_one_tet)\n",
    "    \n",
    "    thread_relations = get_thread_relations(gens_dict,weights_dict)\n",
    "    \n",
    "    omega_thread_non_thread = thread_relations[:,1:18*num_tet+1]\n",
    "    omega_thread_thread = thread_relations[:,18*num_tet+1:]\n",
    "    \n",
    "    omega_with_q = block_diagonal_matrix(\n",
    "        matrix([0]),\n",
    "        block_matrix([\n",
    "            [block_diagonal_matrix(*[omega_one_tet]*num_tet),-omega_thread_non_thread.transpose()],\n",
    "            [omega_thread_non_thread,omega_thread_thread]\n",
    "        ])\n",
    "    )\n",
    "    \n",
    "    return omega_with_q\n",
    "\n",
    "omega_with_q = get_relations_matrix(M,gens_dict,weights_dict,omega_one_tet)\n",
    "\n",
    "center_of_full_lattice = omega_with_q.kernel().basis()"
   ]
  },
  {
   "cell_type": "markdown",
   "metadata": {
    "hidden": true
   },
   "source": [
    "Here are some sanity checks for the relations matrix:"
   ]
  },
  {
   "cell_type": "code",
   "execution_count": 53,
   "metadata": {
    "hidden": true
   },
   "outputs": [
    {
     "name": "stdout",
     "output_type": "stream",
     "text": [
      "weights_dict and gens_dict have the same order: True\n",
      "relations matrix is skew symmetric: True\n",
      "Rank of the center: 9\n"
     ]
    },
    {
     "data": {
      "image/png": "[encoded data removed]",
      "text/plain": [
       "Graphics object consisting of 1 graphics primitive"
      ]
     },
     "execution_count": 53,
     "metadata": {},
     "output_type": "execute_result"
    }
   ],
   "source": [
    "# checking that the keys are in the same order.\n",
    "print(\"weights_dict and gens_dict have the same order:\", list(weights_dict.keys())==list(gens_dict.keys())[1:])\n",
    "\n",
    "print(\"relations matrix is skew symmetric:\", omega_with_q.is_skew_symmetric())\n",
    "\n",
    "print(\"Rank of the center:\",omega_with_q.right_kernel_matrix().rank())\n",
    "\n",
    "matrix_plot(omega_with_q)\n",
    "#omega_with_q.rows()"
   ]
  },
  {
   "cell_type": "markdown",
   "metadata": {
    "heading_collapsed": true
   },
   "source": [
    "## The Invariant Sublattice\n",
    "We also make the weight _matrix_ in this section."
   ]
  },
  {
   "cell_type": "code",
   "execution_count": 184,
   "metadata": {
    "hidden": true,
    "init_cell": true
   },
   "outputs": [],
   "source": [
    "def get_weights_matrix(vertices_dict,weights_dict):\n",
    "    \"\"\"\n",
    "    Builds the weights matrix. This is useful for finding invariant sublattices.\n",
    "    \n",
    "    Parameters:\n",
    "    vertices_dict - dictionary {vetrx name: vertex coordinate}\n",
    "    weights_dict - dictionary {generator name : weight}\n",
    "    \n",
    "    Returns\n",
    "    Matrix - the weights matrix. it's (number generators) x (number vertices)\n",
    "    \"\"\"\n",
    "    # start off with qrt2 - this is weight zero.\n",
    "    weights_list = [[0]*(len(vertices_dict.keys()))]\n",
    "    \n",
    "    for weights in weights_dict.values():\n",
    "        weights_list.append(sum([\n",
    "            weight*vector(vertices_dict[vertex]) for vertex,weight in weights.items()\n",
    "        ]))\n",
    "\n",
    "    return Matrix(weights_list)\n",
    "\n",
    "weights_matrix = get_weights_matrix(vertices_dict,weights_dict)\n",
    "invariant_sublattice = weights_matrix.left_kernel()"
   ]
  },
  {
   "cell_type": "code",
   "execution_count": 83,
   "metadata": {
    "hidden": true
   },
   "outputs": [
    {
     "name": "stdout",
     "output_type": "stream",
     "text": [
      "T-invariant part is a sublattice of rank 37 Out of 73\n",
      "Basis for the T-invariant sub-lattice:\n"
     ]
    },
    {
     "data": {
      "image/png": "[encoded data removed]",
      "text/plain": [
       "Graphics object consisting of 1 graphics primitive"
      ]
     },
     "metadata": {},
     "output_type": "display_data"
    },
    {
     "name": "stdout",
     "output_type": "stream",
     "text": [
      "The Weight Matrix:\n"
     ]
    },
    {
     "data": {
      "image/png": "[encoded data removed]",
      "text/plain": [
       "Graphics object consisting of 1 graphics primitive"
      ]
     },
     "metadata": {},
     "output_type": "display_data"
    }
   ],
   "source": [
    "# Some checks.\n",
    "print(\"T-invariant part is a sublattice of rank\",invariant_sublattice.rank(),\"Out of\",len(gens_dict))\n",
    "print(\"Basis for the T-invariant sub-lattice:\")\n",
    "show(matrix_plot(invariant_sublattice.basis_matrix()))\n",
    "print(\"The Weight Matrix:\")\n",
    "show(matrix_plot(weights_matrix))"
   ]
  },
  {
   "cell_type": "markdown",
   "metadata": {
    "heading_collapsed": true
   },
   "source": [
    "## Peripheral Curves\n",
    "This doesn't make sense for us."
   ]
  },
  {
   "cell_type": "code",
   "execution_count": null,
   "metadata": {
    "hidden": true
   },
   "outputs": [],
   "source": [
    "def get_peripheral_curve_dict(M,curve='meridian'):\n",
    "    \"\"\"Builds a dictionary from the peripheral curve data.\n",
    "    \n",
    "    Parameters:\n",
    "    M snappy.Triangulation - the triangulation of a knot complement.\n",
    "    curve string - either 'meridian' or 'longitude'\n",
    "    \n",
    "    Returns:\n",
    "    dict - of the form {'short_edge': weight}. I'm not sure yet what the weights mean.\n",
    "    \"\"\"\n",
    "    all_periph_data = M._get_cusp_indices_and_peripheral_curve_data()[1]\n",
    "    data_start = {'meridian':0, 'longitude':2}\n",
    "    \n",
    "    curve_data = [all_periph_data[i] for i in range(data_start[curve],len(all_periph_data), 4)]\n",
    "\n",
    "    return {'a{0}{1}{2}'.format(t,v,f):curve_data[t][4*v+f]\n",
    "            for t in range(M.num_tetrahedra())\n",
    "            for v in range(4)\n",
    "            for f in range(4)\n",
    "            if 0 != curve_data[t][4*v+f]\n",
    "           }\n",
    "    "
   ]
  },
  {
   "cell_type": "code",
   "execution_count": null,
   "metadata": {
    "hidden": true
   },
   "outputs": [],
   "source": [
    "m_dict_positive = {k:v for k,v in get_peripheral_curve_dict(M).items() if v > 0}\n",
    "l_dict_positive = {k:v for k,v in get_peripheral_curve_dict(M,curve='longitude').items() if v > 0}\n",
    "\n",
    "local_weights_dict = {k:v for k,v in weights_dict.items() if k in l_dict_positive.keys()}\n",
    "\n",
    "print(m_dict_positive)\n",
    "print(l_dict_positive)\n",
    "\n",
    "goal_weights = {vertex:-weight for weights in local_weights_dict.values() for vertex,weight in weights.items()}\n",
    "goal_weights\n",
    "\n",
    "connector_threads = []\n",
    "for short_edge in l_dict_positive.keys():\n",
    "    for vertex,se_weight in weights_dict[short_edge].items():\n",
    "        tmp_con_th = [ th \n",
    "            for th,th_weight in lattice_coord_to_dict(weights_matrix*vector(vertices_dict[vertex]),gens_dict).items()\n",
    "                      if th[0] == 'x' and th_weight == -se_weight\n",
    "        ]\n",
    "        connector_threads += tmp_con_th\n",
    "        \n",
    "print(connector_threads)\n",
    "\n",
    "for th in connector_threads:\n",
    "    tmp_this_th_overlap = {}\n",
    "    for se in local_weights_dict.keys():\n",
    "        tmp_se_th_overlap =  set(weights_dict[se].keys()) & set(weights_dict[th].keys())\n",
    "        if len(tmp_se_th_overlap) != 0:\n",
    "            tmp_this_th_overlap.update({se:tmp_se_th_overlap})\n",
    "    print(th, \"overlaps:\", tmp_this_th_overlap)\n",
    "#adjacent_threads = [edge for edge,weights in weights_dict.items() ]"
   ]
  },
  {
   "cell_type": "code",
   "execution_count": null,
   "metadata": {
    "hidden": true
   },
   "outputs": [],
   "source": []
  },
  {
   "cell_type": "raw",
   "metadata": {
    "hidden": true
   },
   "source": [
    "# Constraints and Quotients\n",
    "\n",
    "Any quotient of the form $M^{x} = 1$ in the quantum torus can be expressed in terms of the lattice as $x = 0$. We want to quotient by\n",
    "1. Monodromy at each of the punctures\n",
    "1. The gluing constraints, 6 from each face so 12*num_tetrahedron total\n",
    "1. Monodromy around the long edge handles\n",
    "1. The great circle relations, 1 from each tetrahedron so 2 total.\n",
    "\n",
    "The first three types of relations are monomial. I expect to get a lattice of rank num_tetrahedron+2 once those are imposed. The last relation will have to be done in terms of the quantum torus, not the lattice.\n"
   ]
  },
  {
   "cell_type": "markdown",
   "metadata": {
    "heading_collapsed": true
   },
   "source": [
    "## Constraints Lists"
   ]
  },
  {
   "cell_type": "markdown",
   "metadata": {
    "hidden": true
   },
   "source": [
    "### T-Monodromy Around Punctures"
   ]
  },
  {
   "cell_type": "code",
   "execution_count": 185,
   "metadata": {
    "hidden": true,
    "init_cell": true
   },
   "outputs": [],
   "source": [
    "def get_T_monodromy_list(M,gens_dict):\n",
    "    \"\"\"\n",
    "    Constructs the list of T-monodromy expressions. Assumes that gens_dict has the short edges in the right order.\n",
    "    \n",
    "    Parameters:\n",
    "    M (snappy.Triangulation) - the triangulated knot complement\n",
    "    gens_dict (dict {str:vector}) - the lattice coordinates for the generators of the skein algebra\n",
    "    \n",
    "    Returns:\n",
    "    list of lists of strings - each element is a list of the short edges around a puncture.\n",
    "    \n",
    "    \"\"\"\n",
    "    num_tet = M.num_tetrahedra()\n",
    "    # the short edges are listed in gens_dict in the right order.\n",
    "    short_edge_names = list(filter(lambda name: name[0]=='a', gens_dict.keys()))\n",
    "    T_monodromy_list = []\n",
    "    for p in range(num_tet*4):\n",
    "        T_monodromy_list.append(short_edge_names[3*p:3*p+3])\n",
    "    \n",
    "    return T_monodromy_list\n",
    "\n",
    "T_monodromy_variable_names_list = get_T_monodromy_list(M,gens_dict)\n",
    "T_monodromy_lattice_coordinate_list = [\n",
    "    sum([\n",
    "        gens_dict[name] for name in monodromy\n",
    "    ]) for monodromy in T_monodromy_variable_names_list\n",
    "]\n",
    "\n",
    "for coord in T_monodromy_lattice_coordinate_list:\n",
    "    if not (matrix(coord)*weights_matrix).is_zero():\n",
    "        print(\"Not Invariant:\",coord)"
   ]
  },
  {
   "cell_type": "code",
   "execution_count": null,
   "metadata": {
    "hidden": true
   },
   "outputs": [],
   "source": []
  },
  {
   "cell_type": "markdown",
   "metadata": {
    "hidden": true
   },
   "source": [
    "### Gluing Relations"
   ]
  },
  {
   "cell_type": "code",
   "execution_count": 186,
   "metadata": {
    "hidden": true,
    "init_cell": true
   },
   "outputs": [],
   "source": [
    "def get_long_edge_gluing_relations_list(gens_dict):\n",
    "    \"\"\"\n",
    "    Parameters:\n",
    "    M (snappy.Triangulation) - the triangulated knot complement.\n",
    "    gens_dict (dict {str:vector}) - the lattice coordinates for the generators of the skein algebra\n",
    "\n",
    "    Returns\n",
    "    list of dicts - gluing relations. keys are generators and values are their powers.\n",
    "    \"\"\"\n",
    "    \n",
    "    threads_list = list(filter(lambda gen : gen[0] == 'x',gens_dict.keys()))\n",
    "    \n",
    "    if len(threads_list) == 0:\n",
    "        return []\n",
    "    \n",
    "    long_edge_gluing_relations_list = []\n",
    "    th = threads_list[0]\n",
    "    tmp_gluing_dict = {th:-1}\n",
    "    \n",
    "    index_reversal_map = lambda index : index[:-2] + ''.join(reversed(index[-2:]))\n",
    "    index_sort_map = lambda index : index[:-2] + ''.join(sorted(index[-2:]))\n",
    "    \n",
    "    while threads_list:\n",
    "        other_thread = \"x{1}_{0}\".format(*[index_reversal_map(index) for index in th[1:].split('_')])\n",
    "        tmp_gluing_dict[other_thread] = 1\n",
    "        \n",
    "        long_edge_pos = \"A\" + index_sort_map(th[1:].split('_')[0])\n",
    "        tmp_gluing_dict[long_edge_pos] = 1\n",
    "        \n",
    "        long_edge_neg = \"A\" + index_sort_map(th[1:].split('_')[1])\n",
    "        tmp_gluing_dict[long_edge_neg] = -1\n",
    "        \n",
    "        long_edge_gluing_relations_list.append(tmp_gluing_dict)\n",
    "        \n",
    "        # remove these two threads so we don't check them again\n",
    "        threads_list = list(set(threads_list) - set(tmp_gluing_dict.keys()))\n",
    "        \n",
    "        if threads_list == list():\n",
    "            return long_edge_gluing_relations_list\n",
    "        else:\n",
    "            # on to the next one\n",
    "            th = threads_list[0]\n",
    "            tmp_gluing_dict = {th:-1}\n",
    "            \n",
    "\n",
    "long_edge_gluing_relations_list = get_long_edge_gluing_relations_list(gens_dict)"
   ]
  },
  {
   "cell_type": "code",
   "execution_count": 86,
   "metadata": {
    "hidden": true
   },
   "outputs": [],
   "source": [
    "# Check that all relations are T-invariant, and incidentally that we've listed actual threads.\n",
    "# It's working well if nothing is printed.\n",
    "\n",
    "for constraint in long_edge_gluing_relations_list:\n",
    "    lat_coord = names_to_lattice_coordinate(constraint,gens_dict)\n",
    "    if not (lat_coord*weights_matrix).is_zero():\n",
    "        print(\"Not Invariant!\", lat_coord*weights_matrix)\n",
    "        \n",
    "#print(long_edge_gluing_relations_list)"
   ]
  },
  {
   "cell_type": "code",
   "execution_count": 187,
   "metadata": {
    "hidden": true,
    "init_cell": true
   },
   "outputs": [],
   "source": [
    "def get_short_edge_gluing_relations_list(M,weights_dict):\n",
    "    \"\"\"\n",
    "    Constructs a the list of constraints inclured by gluing together short edges.\n",
    "    \n",
    "    Parameters:\n",
    "    M snappy.Triangulation - the triangulated knot complement.\n",
    "    weights_dict - the weights of edges. Used to find where edges start/end.\n",
    "    \n",
    "    Returns:\n",
    "    list of lists of strings - elements are lists of generator names. Should be in the right order. \n",
    "    \"\"\"\n",
    "    gluing_data = get_gluing_dict(M)\n",
    "    \n",
    "    short_edge_gluing_relations_list = []\n",
    "    \n",
    "    for tet in range(M.num_tetrahedra()):\n",
    "        for face in range(4):\n",
    "            new_tet = gluing_data['r{0}'.format(tet)][face]\n",
    "            if new_tet <= tet: # avoid double-lisitng relations. will still double-list self-foldings.\n",
    "                gluing_perm = gluing_data['s{0}{1}'.format(tet,face)]\n",
    "                new_face = gluing_perm[face]\n",
    "                if new_face != face or new_tet != tet:\n",
    "                    for short_edge in get_short_edges_in_face(tet,face):\n",
    "                        distant_short_edge = 'a{0}{1}{2}'.format(new_tet,gluing_perm[Integer(short_edge[-2])],new_face)\n",
    "\n",
    "                        tmp_local_weights = weights_dict[short_edge]\n",
    "                        local_starting_vertex = [vertex[1:] for vertex,weight in tmp_local_weights.items() if weight == -1][0]  \n",
    "                        local_ending_vertex = [vertex[1:] for vertex,weight in tmp_local_weights.items() if weight == 1][0]  \n",
    "\n",
    "                        tmp_distant_weights = weights_dict[distant_short_edge]\n",
    "                        distant_starting_vertex = [vertex[1:] for vertex,weight in tmp_distant_weights.items() if weight == -1][0]  \n",
    "                        distant_ending_vertex = [vertex[1:] for vertex,weight in tmp_distant_weights.items() if weight == 1][0]  \n",
    "\n",
    "                        short_edge_gluing_relations_list.append([\n",
    "                            short_edge,'x{0}_{1}'.format(local_starting_vertex,distant_ending_vertex),\n",
    "                            distant_short_edge,\n",
    "                            'x{0}_{1}'.format(distant_starting_vertex,local_ending_vertex)\n",
    "                        ])\n",
    "    return short_edge_gluing_relations_list\n",
    "\n",
    "short_edge_gluing_relations_list = get_short_edge_gluing_relations_list(M,weights_dict)"
   ]
  },
  {
   "cell_type": "code",
   "execution_count": 87,
   "metadata": {
    "hidden": true
   },
   "outputs": [],
   "source": [
    "# Check that all relations are T-invariant, and incidentally that we've listed actual threads.\n",
    "for constraint in short_edge_gluing_relations_list:\n",
    "    if not (sum([gens_dict[edge] for edge in constraint])*weights_matrix).is_zero():\n",
    "        print(\"Not Invariant!\", constraint)\n"
   ]
  },
  {
   "cell_type": "markdown",
   "metadata": {
    "hidden": true
   },
   "source": [
    "### Monodromy Around the Internal Handles\n",
    "Because we glue close to but not quite up to the long edges, we have some extra handles on the surface that we'd like to do away with.\n",
    "\n",
    "The idea right now is to work with something like a partial skein-module, which is what we get by restricting to the part of the moduli space where our local systems extend to the interior of these handles.\n",
    "\n",
    "These relations will depend on the triangulation, but they're always a set of monomials in the threads. If all faces are glued then each thread shows up in exactly one monomial."
   ]
  },
  {
   "cell_type": "code",
   "execution_count": 188,
   "metadata": {
    "hidden": true,
    "init_cell": true
   },
   "outputs": [],
   "source": [
    "def get_internal_edge_monodromy(gens_dict):\n",
    "    \"\"\"Constructs expressions for the T-region monodromies around the 'extra handles'\n",
    "    on the glued surface.\n",
    "    \n",
    "    Works based on the thread names. Assumes that the monodromies are each a cycle.\n",
    "    if they cross themselves or something this probably won't work.\"\"\"\n",
    "    \n",
    "    list_of_monodromies = []\n",
    "    \n",
    "    threads_list = [k for k in gens_dict.keys() if k[0] == 'x']\n",
    "    \n",
    "    if len(threads_list) == 0: # there are no thread monodromies.\n",
    "        return list_of_monodromies\n",
    "    \n",
    "    th = threads_list[0]\n",
    "    tmp_monodromy_list = [th]\n",
    "\n",
    "    while threads_list:\n",
    "        \n",
    "        th_end_vertex = th[1:].split('_')[1]\n",
    "        tmp_next_thread_list = list(filter(lambda thread : thread[1:].split('_')[0] == th_end_vertex,threads_list))\n",
    "        if len(tmp_next_thread_list) > 0 :\n",
    "            next_thread = tmp_next_thread_list[0]\n",
    "\n",
    "            if next_thread in tmp_monodromy_list:\n",
    "                # we've closed the loop!\n",
    "                list_of_monodromies.append(tmp_monodromy_list)\n",
    "                threads_list = list(set(threads_list) - set(tmp_monodromy_list))\n",
    "                if threads_list == list():\n",
    "                    return list_of_monodromies\n",
    "                th = threads_list[0]\n",
    "                tmp_monodromy_list = [th]\n",
    "            else:\n",
    "                tmp_monodromy_list.append(next_thread)\n",
    "                th = next_thread\n",
    "        else:\n",
    "            threads_list = list(set(threads_list) - set(tmp_monodromy_list))\n",
    "            if threads_list == list():\n",
    "                return list_of_monodromies\n",
    "            th = threads_list[0]\n",
    "            tmp_monodromy_list = [th]\n",
    "            # this thread doesn't connect to anything.\n",
    "            \n",
    "    \n",
    "internal_edge_monodromy_list = get_internal_edge_monodromy(gens_dict)"
   ]
  },
  {
   "cell_type": "code",
   "execution_count": 147,
   "metadata": {
    "hidden": true
   },
   "outputs": [
    {
     "name": "stdout",
     "output_type": "stream",
     "text": [
      "Constraints should come in pairs of equal length. There should be 6 total if all faces are glued.\n",
      "['x023_223', 'x223_101', 'x101_023']\n",
      "['x232_032', 'x032_110', 'x110_232']\n"
     ]
    }
   ],
   "source": [
    "# Checks!\n",
    "print(\"Constraints should come in pairs of equal length. There should be {0} total if all faces are glued.\".format(2*M.num_tetrahedra()))\n",
    "# 2t because there are 2t pairs of glued faces, t-1 of which don't increase the genus.\n",
    "# so genus is g = 2t - (t-1) = t+1. We're interested in the T-region torus, so g-1 genus is killed using 2(g-1) = 2t constraints.\n",
    "for m in internal_edge_monodromy_list:\n",
    "    print(m)\n",
    "\n",
    "# Check that all relations are T-invariant\n",
    "for constraint in internal_edge_monodromy_list:\n",
    "    if not (sum([gens_dict[edge] for edge in constraint])*weights_matrix).is_zero():\n",
    "        print(\"Not Invariant!\", constraint)"
   ]
  },
  {
   "cell_type": "markdown",
   "metadata": {},
   "source": [
    "## Quotient Lattice\n"
   ]
  },
  {
   "cell_type": "code",
   "execution_count": 189,
   "metadata": {
    "init_cell": true
   },
   "outputs": [],
   "source": [
    "# Take the quotient!\n",
    "quotient_lattice = invariant_sublattice.quotient(\n",
    "    [names_to_lattice_coordinate(v,gens_dict) for v in\n",
    "     internal_edge_monodromy_list\n",
    "     + short_edge_gluing_relations_list\n",
    "     + long_edge_gluing_relations_list\n",
    "     + T_monodromy_variable_names_list\n",
    "    ]\n",
    ")\n",
    "\n",
    "pi = quotient_lattice.coerce_map_from(quotient_lattice.V())\n",
    "\n",
    "# Looking for a good generator set for the quotient lattice.\n",
    "# First restrict un-quotiented lattice to just T-region generators.\n",
    "non_long_edge_generators = list(filter(lambda gen : gen[0] != 'A',gens_dict.keys()))\n",
    "non_long_edge_lattice = Matrix([gens_dict[gen] for gen in non_long_edge_generators]).row_module().intersection(invariant_sublattice)\n",
    "\n",
    "\n",
    "#TODO - I just removed the long edge relations. it that the right way to do this?\n",
    "T_region_quotient_lattice = non_long_edge_lattice.quotient(\n",
    "    [names_to_lattice_coordinate(v,gens_dict) for v in\n",
    "     internal_edge_monodromy_list\n",
    "     + short_edge_gluing_relations_list\n",
    "     + T_monodromy_variable_names_list\n",
    "    ]\n",
    ")\n",
    "\n",
    "pi_T_region = T_region_quotient_lattice.coerce_map_from(T_region_quotient_lattice.V())"
   ]
  },
  {
   "cell_type": "code",
   "execution_count": 190,
   "metadata": {
    "init_cell": true
   },
   "outputs": [],
   "source": [
    "# Lift the generators of the T-region only lattice to the big lattice, then project them into the full quotient lattice.\n",
    "T_region_basis_in_quotient_lattice = matrix([pi(g.lift()) for g in T_region_quotient_lattice.gens()])\n",
    "\n",
    "# Include the right kernel of the T_region basis, so we get a full basis for the quotient lattice.\n",
    "# I got myself confused by the linear algebra, but am pretty sure I want the transpose.\n",
    "quotient_basis = matrix(T_region_basis_in_quotient_lattice.rows() + T_region_basis_in_quotient_lattice.right_kernel_matrix().rows()).transpose()\n",
    "\n",
    "\n",
    "# Get the relations matrix for the quotient lattice:\n",
    "lift_of_quotient_lattice = []\n",
    "for g in quotient_lattice.gens():\n",
    "    lift_of_quotient_lattice.append(g.lift())\n",
    "    \n",
    "quotient_omega = matrix(lift_of_quotient_lattice)*omega_with_q*matrix(lift_of_quotient_lattice).transpose()"
   ]
  },
  {
   "cell_type": "code",
   "execution_count": 149,
   "metadata": {},
   "outputs": [
    {
     "name": "stdout",
     "output_type": "stream",
     "text": [
      "Invariant sublattice rank: 37\n",
      "T-region sublattice of that is rank: 24\n",
      "\n",
      "Quotient by T-monodromy, short+long edge gluing relations, internal edge monodromy relations. (Skip long edges for T-region lattice.)\n",
      "If all faces are glued, then including q, we should have 5 generators. ngens: 6\n",
      "The T-region quotient lattice has 1 generators\n",
      "\n",
      "The quotient lattice generators:\n",
      "{'qrt2': 1}\n",
      "{'a002': 1, 'a012': -1, 'A001': 1, 'a121': 1, 'a132': -1, 'a131': -1, 'A123': -1, 'a213': 1, 'a212': 1, 'a232': -1, 'A203': -1, 'A213': 1, 'x003_131': -1, 'x212_120': -1, 'x203_013': 1}\n",
      "{'a010': 1, 'a213': 1, 'a212': 1, 'a223': -1, 'a232': -1, 'A202': 1, 'A203': -1, 'A212': -1, 'A213': 1, 'x012_202': 1, 'x203_013': 1}\n",
      "{'a021': 1, 'a121': 1, 'a131': -1, 'A103': 1, 'A123': -1, 'a213': 1, 'a212': 1, 'a232': -1, 'a231': -1, 'A213': 1, 'A223': -1, 'x020_103': 1, 'x101_023': 1, 'x212_120': -1, 'x223_101': 1}\n",
      "{'a032': 1, 'a121': 1, 'a132': -1, 'a131': -1, 'A113': 1, 'A123': -1, 'a221': 1, 'a223': 1, 'a231': -1, 'A212': 1, 'A223': -1, 'x031_230': -1, 'x113_030': -1, 'x212_120': -1}\n",
      "{'a202': 1, 'a213': 1, 'a221': -1, 'a223': -1, 'a231': 1, 'A201': 1, 'A203': -1, 'A212': -1, 'A223': 1}\n",
      "\n",
      "T-region quotient lattice generators:\n",
      "{'qrt2': 1}\n",
      "\n",
      "Quotient lattice basis matrix should be full rank:\n",
      "dimension: (6, 6) , rank: 6\n"
     ]
    }
   ],
   "source": [
    "# Checks\n",
    "print(\"Invariant sublattice rank:\", invariant_sublattice.rank())\n",
    "print(\"T-region sublattice of that is rank:\", non_long_edge_lattice.intersection(invariant_sublattice).rank())\n",
    "\n",
    "# Checks -\n",
    "print(\"\\n\"+\"Quotient by T-monodromy, short+long edge gluing relations, internal edge monodromy relations. (Skip long edges for T-region lattice.)\")\n",
    "print(\"If all faces are glued, then including q, we should have {0} generators. ngens:\".format(M.num_tetrahedra()+2), quotient_lattice.ngens())\n",
    "print(\"The T-region quotient lattice has\", T_region_quotient_lattice.ngens(),\"generators\")\n",
    "\n",
    "print(\"\\nThe quotient lattice generators:\")\n",
    "# what do these generators look like?\n",
    "for g in quotient_lattice.gens():\n",
    "    print(lattice_coord_to_dict(g.lift(),gens_dict))\n",
    "    \n",
    "print(\"\\nT-region quotient lattice generators:\")\n",
    "for g in T_region_quotient_lattice.gens():\n",
    "    print(lattice_coord_to_dict(g.lift(),gens_dict))\n",
    "    \n",
    "print(\"\\nQuotient lattice basis matrix should be full rank:\")\n",
    "print(\"dimension:\",quotient_basis.dimensions(),\", rank:\",quotient_basis.rank())"
   ]
  },
  {
   "cell_type": "code",
   "execution_count": 152,
   "metadata": {},
   "outputs": [
    {
     "name": "stdout",
     "output_type": "stream",
     "text": [
      "The basis:\n",
      "{}\n",
      "{'A001': 1, 'A123': -1, 'A203': -1, 'A213': 1}\n",
      "{'A202': 1, 'A203': -1, 'A212': -1, 'A213': 1}\n",
      "{'A103': 1, 'A123': -1, 'A213': 1, 'A223': -1}\n",
      "{'A113': 1, 'A123': -1, 'A212': 1, 'A223': -1}\n",
      "{'A201': 1, 'A203': -1, 'A212': -1, 'A223': 1}\n"
     ]
    }
   ],
   "source": [
    "#lifitng the quotient basis:\n",
    "print(\"The basis:\")\n",
    "quot_gens = quotient_lattice.gens()\n",
    "for elem in quotient_basis.columns():\n",
    "    a_gen = lattice_coord_to_dict(sum([elem[i] * quot_gens[i] for i in range(len(quotient_lattice.gens()))]).lift(),gens_dict)\n",
    "    print ({k:v for k,v in a_gen.items() if k[0] == 'A'})"
   ]
  },
  {
   "cell_type": "code",
   "execution_count": null,
   "metadata": {},
   "outputs": [],
   "source": []
  },
  {
   "cell_type": "markdown",
   "metadata": {},
   "source": [
    "# Kernel of the Skein Module"
   ]
  },
  {
   "cell_type": "code",
   "execution_count": 191,
   "metadata": {
    "init_cell": true
   },
   "outputs": [],
   "source": [
    "def fix_long_edge_indices(dictionary):\n",
    "    \"\"\"\n",
    "    Fixes the indices on the long edge names in a dictionary.\n",
    "    These sometimes end up being backwards, e.g. A020 instead of A002.\n",
    "    NOTE: this won't handle the situation where a dictionary has the same edge under two different names.\n",
    "    \n",
    "    Parameters:\n",
    "    dictionary (dict) - the dictionary that needs fixing.\n",
    "    \n",
    "    Returns:\n",
    "    dict - the fixed dictionary.\n",
    "    \n",
    "    \"\"\"\n",
    "    index_sort_map = lambda index : index[:-2] + ''.join(sorted(index[-2:]))\n",
    "    \n",
    "    return {index_sort_map(k) : dictionary[k] for k in dictionary.keys() if k[0] == 'A'} | {k : v for k,v in dictionary.items() if k[0] != 'A'}"
   ]
  },
  {
   "cell_type": "markdown",
   "metadata": {},
   "source": [
    "## Kernel for one tetrahedron\n",
    "Here I compare the ideals generated by bird heads and great circles for just one tetrahedron."
   ]
  },
  {
   "cell_type": "code",
   "execution_count": 192,
   "metadata": {
    "init_cell": true
   },
   "outputs": [],
   "source": [
    "quotient_ring = LaurentPolynomialRing(QQ,['qrt2','m','l'] + ['w{0}'.format(i-3) for i in range(3,quotient_lattice.ngens())])\n",
    "polynomial_ring = PolynomialRing(QQ,['qrt2','l','m'] + ['w{0}'.format(i-3) for i in range(3,quotient_lattice.ngens())])\n",
    "\n",
    "change_of_basis_matrix = quotient_basis.det()*quotient_basis.inverse()\n",
    "qrt2 = quotient_ring('qrt2')\n",
    "qdim2 = -qrt2^2 + -qrt2^-2"
   ]
  },
  {
   "cell_type": "code",
   "execution_count": 193,
   "metadata": {
    "init_cell": true
   },
   "outputs": [
    {
     "name": "stderr",
     "output_type": "stream",
     "text": [
      "DEBUG - Tetrahedron 0 crossing relation: [(1, 0, 1, -1, 1, 0), (-1, 1, 0, -1, 0, 0), (0, 0, 0, 0, 0, 0)]\n",
      "DEBUG - Tetrahedron 1 crossing relation: [(1, 0, 0, 1, -1, 0), (-1, 0, 0, 0, -1, 0), (0, 0, 0, 0, 0, 0)]\n",
      "DEBUG - Tetrahedron 2 crossing relation: [(1, 0, -1, 0, 0, 0), (-1, 0, -1, 0, 0, 1), (0, 0, 0, 0, 0, 0)]\n",
      "INFO - Classical relations:\n",
      "[-l*w1 - m - w0, -w0 - w1 - 1, -l - w2 - 1]\n",
      "INFO - Classical A-polynomial:\n",
      "l*w0 + l - m - w0\n"
     ]
    }
   ],
   "source": [
    "generic_crossing_relation = [ # this equals 1 and was found by hand\n",
    "    {'qrt2':1, 'A{t}13':-1, 'A{t}02':-1, 'A{t}03':1, 'a{t}32':1, 'a{t}01':1, 'A{t}12':1, 'a{t}23':1, 'a{t}10':1},\n",
    "    {'qrt2':-1, 'A{t}13':-1, 'A{t}02':-1, 'A{t}01':1, 'a{t}03':-1,'a{t}12':-1, 'A{t}23':1, 'a{t}21':-1, 'a{t}30':-1}\n",
    "]\n",
    "\n",
    "classical_crossing_relations = []\n",
    "quantum_crossing_relations = []\n",
    "for tt in range(M.num_tetrahedra()):\n",
    "    this_tet_relation = [{k.format(t=tt) : v for k,v in monomial.items()} for monomial in generic_crossing_relation]\n",
    "    #logger.info(this_tet_relation)\n",
    "    quotient_tet_relation = [change_of_basis_matrix*vector(pi(names_to_lattice_coordinate(monomial,gens_dict))) for monomial in this_tet_relation]+[quotient_lattice.zero()]\n",
    "    logger.debug(\"Tetrahedron {0} crossing relation: {1}\".format(tt,quotient_tet_relation))\n",
    "    specific_crossing_relation = sum([\n",
    "        lattice_coord_to_ring_element(change_of_basis_matrix*vector(pi(names_to_lattice_coordinate({k.format(t=tt) : v \n",
    "            for k,v in monomial.items()},gens_dict))),quotient_ring) \n",
    "                for monomial in generic_crossing_relation\n",
    "    ])\n",
    "    quantum_crossing_relations.append(specific_crossing_relation)\n",
    "    classical_crossing_relations.append(polynomial_ring(clear_denominator(specific_crossing_relation.subs({quotient_ring('qrt2'):-1})-1)))\n",
    "    \n",
    "logger.info(\"Classical relations:\\n\"+str(classical_crossing_relations))\n",
    "A_poly_candidate = polynomial_ring.ideal(classical_crossing_relations).elimination_ideal([polynomial_ring(str(g)) for g in quotient_ring.gens()[-M.num_tetrahedra()+1:]]).gens()[0]\n",
    "logger.info(\"Classical A-polynomial:\\n\"+str(A_poly_candidate.factor()))"
   ]
  },
  {
   "cell_type": "code",
   "execution_count": null,
   "metadata": {},
   "outputs": [],
   "source": []
  }
 ],
 "metadata": {
  "celltoolbar": "Initialization Cell",
  "kernelspec": {
   "display_name": "SageMath 9.5",
   "language": "sage",
   "name": "sagemath"
  },
  "language_info": {
   "codemirror_mode": {
    "name": "ipython",
    "version": 3
   },
   "file_extension": ".py",
   "mimetype": "text/x-python",
   "name": "python",
   "nbconvert_exporter": "python",
   "pygments_lexer": "ipython3",
   "version": "3.10.12"
  },
  "toc": {
   "base_numbering": 1,
   "nav_menu": {
    "height": "177px",
    "width": "344px"
   },
   "number_sections": true,
   "sideBar": true,
   "skip_h1_title": false,
   "title_cell": "Table of Contents",
   "title_sidebar": "Contents",
   "toc_cell": false,
   "toc_position": {
    "height": "calc(100% - 180px)",
    "left": "10px",
    "top": "150px",
    "width": "297.333px"
   },
   "toc_section_display": true,
   "toc_window_display": false
  },
  "varInspector": {
   "cols": {
    "lenName": 16,
    "lenType": 16,
    "lenVar": 40
   },
   "kernels_config": {
    "python": {
     "delete_cmd_postfix": "",
     "delete_cmd_prefix": "del ",
     "library": "var_list.py",
     "varRefreshCmd": "print(var_dic_list())"
    },
    "r": {
     "delete_cmd_postfix": ") ",
     "delete_cmd_prefix": "rm(",
     "library": "var_list.r",
     "varRefreshCmd": "cat(var_dic_list()) "
    }
   },
   "types_to_exclude": [
    "module",
    "function",
    "builtin_function_or_method",
    "instance",
    "_Feature"
   ],
   "window_display": false
  }
 },
 "nbformat": 4,
 "nbformat_minor": 4
}
