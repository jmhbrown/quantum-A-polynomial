{
 "cells": [
  {
   "cell_type": "code",
   "execution_count": 1,
   "id": "e16a4d6a",
   "metadata": {},
   "outputs": [],
   "source": [
    "R.<W,a02_12,a12_23,a23_02,a12_01,a01_13,a13_12,a03_23,a13_03,a23_13,a01_02,a03_01,a02_03,b02_12,b12_23,b23_02,b12_01,b01_13,b13_12,b03_23,b13_03,b23_13,b01_02,b03_01,b02_03> = PolynomialRing(ZZ)"
   ]
  },
  {
   "cell_type": "code",
   "execution_count": 2,
   "id": "b6ac1324",
   "metadata": {},
   "outputs": [],
   "source": [
    "short_edge_identifications = [\n",
    "    a12_23*b23_13-1, a13_12*b13_12-1, a23_13*b12_23-1,\n",
    "    a23_02*b01_02-1, a03_23*b02_12-1, a02_03*b12_01-1,\n",
    "    a03_01*b01_13-1, a01_13*b03_01-1, a13_03*b13_03-1,\n",
    "    a01_02*b23_02-1, a12_01*b02_03-1, a02_12*b03_23-1\n",
    "]\n",
    "\n",
    "monodromy_equations = [\n",
    "    a02_12*a12_23*a23_02 - 1, a12_01*a01_13*a13_12 - 1, a03_23*a13_03*a23_13 - 1, a01_02*a03_01*a02_03 - 1,\n",
    "    b02_12*b12_23*b23_02 - 1, b12_01*b01_13*b13_12 - 1, b03_23*b13_03*b23_13 - 1, b01_02*b03_01*b02_03 - 1\n",
    "]\n",
    "\n",
    "skein_kernel_equations = [\n",
    "    (a23_13*a23_02*a01_13*a01_02)*W - 1 - (a23_13*a23_02*a01_13*a01_02)*(a02_12*a13_12*a02_03*a13_03)*W^2,\n",
    "    (b23_13*b23_02*b01_13*b01_02)*W - 1 - (b23_13*b23_02*b01_13*b01_02)*(b02_12*b13_12*b02_03*b13_03)*W^2\n",
    "]"
   ]
  },
  {
   "cell_type": "code",
   "execution_count": 3,
   "id": "5bbd3c7b",
   "metadata": {},
   "outputs": [],
   "source": [
    "I = R.ideal(short_edge_identifications+monodromy_equations+skein_kernel_equations)"
   ]
  },
  {
   "cell_type": "code",
   "execution_count": 4,
   "id": "1c2ee6b3",
   "metadata": {},
   "outputs": [
    {
     "data": {
      "text/plain": [
       "[b12_23*b01_13*b23_13*b03_01^8*b02_03^8 - b12_23*b01_13*b23_13*b03_01^6*b02_03^6 + b12_23^2*b01_13^2*b23_13^2*b03_01^3*b02_03^2 - 2*b12_23*b01_13*b23_13*b03_01^4*b02_03^4 + b03_01^5*b02_03^6 - b12_23*b01_13*b23_13*b03_01^2*b02_03^2 + b12_23*b01_13*b23_13]"
      ]
     },
     "execution_count": 4,
     "metadata": {},
     "output_type": "execute_result"
    }
   ],
   "source": [
    "I.elimination_ideal([b01_02,b02_12,b12_01,b03_23,b13_03,b13_12,b23_02,a02_12,a12_23,a23_02,a12_01,a01_13,a13_12,a03_23,a13_03,a23_13,a01_02,a03_01,a02_03,W]).gens()"
   ]
  },
  {
   "cell_type": "markdown",
   "id": "25869873",
   "metadata": {},
   "source": [
    "# Try all the different sign conventions"
   ]
  },
  {
   "cell_type": "code",
   "execution_count": 5,
   "id": "2dd86b47",
   "metadata": {},
   "outputs": [
    {
     "name": "stdout",
     "output_type": "stream",
     "text": [
      "Sign conventions: A tet: [1, 1, -1] B tet: [1, 1, -1]\n",
      "[b12_23*b01_13*b23_13*b03_01^8*b02_03^8 + b12_23*b01_13*b23_13*b03_01^6*b02_03^6 - b12_23^2*b01_13^2*b23_13^2*b03_01^3*b02_03^2 - 2*b12_23*b01_13*b23_13*b03_01^4*b02_03^4 - b03_01^5*b02_03^6 + b12_23*b01_13*b23_13*b03_01^2*b02_03^2 + b12_23*b01_13*b23_13]\n",
      "\n",
      "\n",
      "Sign conventions: A tet: [1, 1, -1] B tet: [1, -1, 1]\n",
      "[b12_23*b01_13*b23_13*b03_01^8*b02_03^8 - b12_23*b01_13*b23_13*b03_01^6*b02_03^6 - b12_23^2*b01_13^2*b23_13^2*b03_01^3*b02_03^2 - 2*b12_23*b01_13*b23_13*b03_01^4*b02_03^4 - b03_01^5*b02_03^6 - b12_23*b01_13*b23_13*b03_01^2*b02_03^2 + b12_23*b01_13*b23_13]\n",
      "\n",
      "\n",
      "Sign conventions: A tet: [1, 1, -1] B tet: [-1, 1, 1]\n",
      "[b12_23*b01_13*b23_13*b03_01^8*b02_03^8 - b12_23*b01_13*b23_13*b03_01^6*b02_03^6 - b12_23^2*b01_13^2*b23_13^2*b03_01^3*b02_03^2 + 2*b12_23*b01_13*b23_13*b03_01^4*b02_03^4 + b03_01^5*b02_03^6 + b12_23*b01_13*b23_13*b03_01^2*b02_03^2 + b12_23*b01_13*b23_13]\n",
      "\n",
      "\n",
      "Sign conventions: A tet: [1, -1, 1] B tet: [1, 1, -1]\n",
      "[b12_23*b01_13*b23_13*b03_01^8*b02_03^8 - b12_23*b01_13*b23_13*b03_01^6*b02_03^6 - b12_23^2*b01_13^2*b23_13^2*b03_01^3*b02_03^2 - 2*b12_23*b01_13*b23_13*b03_01^4*b02_03^4 - b03_01^5*b02_03^6 - b12_23*b01_13*b23_13*b03_01^2*b02_03^2 + b12_23*b01_13*b23_13]\n",
      "\n",
      "\n",
      "Sign conventions: A tet: [1, -1, 1] B tet: [1, -1, 1]\n",
      "[b12_23*b01_13*b23_13*b03_01^8*b02_03^8 + b12_23*b01_13*b23_13*b03_01^6*b02_03^6 - b12_23^2*b01_13^2*b23_13^2*b03_01^3*b02_03^2 - 2*b12_23*b01_13*b23_13*b03_01^4*b02_03^4 - b03_01^5*b02_03^6 + b12_23*b01_13*b23_13*b03_01^2*b02_03^2 + b12_23*b01_13*b23_13]\n",
      "\n",
      "\n",
      "Sign conventions: A tet: [1, -1, 1] B tet: [-1, 1, 1]\n",
      "[b12_23*b01_13*b23_13*b03_01^8*b02_03^8 + b12_23*b01_13*b23_13*b03_01^6*b02_03^6 - b12_23^2*b01_13^2*b23_13^2*b03_01^3*b02_03^2 + 2*b12_23*b01_13*b23_13*b03_01^4*b02_03^4 + b03_01^5*b02_03^6 - b12_23*b01_13*b23_13*b03_01^2*b02_03^2 + b12_23*b01_13*b23_13]\n",
      "\n",
      "\n",
      "Sign conventions: A tet: [-1, 1, 1] B tet: [1, 1, -1]\n",
      "[b12_23*b01_13*b23_13*b03_01^8*b02_03^8 + b12_23*b01_13*b23_13*b03_01^6*b02_03^6 + b12_23^2*b01_13^2*b23_13^2*b03_01^3*b02_03^2 + 2*b12_23*b01_13*b23_13*b03_01^4*b02_03^4 - b03_01^5*b02_03^6 - b12_23*b01_13*b23_13*b03_01^2*b02_03^2 + b12_23*b01_13*b23_13]\n",
      "\n",
      "\n",
      "Sign conventions: A tet: [-1, 1, 1] B tet: [1, -1, 1]\n",
      "[b12_23*b01_13*b23_13*b03_01^8*b02_03^8 - b12_23*b01_13*b23_13*b03_01^6*b02_03^6 + b12_23^2*b01_13^2*b23_13^2*b03_01^3*b02_03^2 + 2*b12_23*b01_13*b23_13*b03_01^4*b02_03^4 - b03_01^5*b02_03^6 + b12_23*b01_13*b23_13*b03_01^2*b02_03^2 + b12_23*b01_13*b23_13]\n",
      "\n",
      "\n",
      "Sign conventions: A tet: [-1, 1, 1] B tet: [-1, 1, 1]\n",
      "[b12_23*b01_13*b23_13*b03_01^8*b02_03^8 - b12_23*b01_13*b23_13*b03_01^6*b02_03^6 + b12_23^2*b01_13^2*b23_13^2*b03_01^3*b02_03^2 - 2*b12_23*b01_13*b23_13*b03_01^4*b02_03^4 + b03_01^5*b02_03^6 - b12_23*b01_13*b23_13*b03_01^2*b02_03^2 + b12_23*b01_13*b23_13]\n",
      "\n",
      "\n"
     ]
    }
   ],
   "source": [
    "skein_kernel_unsigned =  [\n",
    "    [(a23_13*a23_02*a01_13*a01_02)*W, 1, (a23_13*a23_02*a01_13*a01_02)*(a02_12*a13_12*a02_03*a13_03)*W^2],\n",
    "    [(b23_13*b23_02*b01_13*b01_02)*W, 1, (b23_13*b23_02*b01_13*b01_02)*(b02_12*b13_12*b02_03*b13_03)*W^2]\n",
    "]\n",
    "\n",
    "sign_conventions = [\n",
    "    [1,1,-1],[1,-1,1],[-1,1,1]\n",
    "]\n",
    "\n",
    "for sc1 in sign_conventions:\n",
    "    for sc2 in sign_conventions:\n",
    "        skein_equation = [sum([sign*monomial for sign,monomial in zip(sc1,skein_kernel_unsigned[0])]),sum([sign*monomial for sign,monomial in zip(sc2,skein_kernel_unsigned[1])])]\n",
    "        Itmp = R.ideal(short_edge_identifications+monodromy_equations+skein_equation)\n",
    "        print(\"Sign conventions:\",\"A tet:\", sc1,\"B tet:\",sc2)\n",
    "        print(Itmp.elimination_ideal([b01_02,b02_12,b12_01,b03_23,b13_03,b13_12,b23_02,a02_12,a12_23,a23_02,a12_01,a01_13,a13_12,a03_23,a13_03,a23_13,a01_02,a03_01,a02_03,W]).gens())\n",
    "        print(\"\\n\")"
   ]
  }
 ],
 "metadata": {
  "kernelspec": {
   "display_name": "SageMath 9.5",
   "language": "sage",
   "name": "sagemath"
  },
  "language_info": {
   "codemirror_mode": {
    "name": "ipython",
    "version": 3
   },
   "file_extension": ".py",
   "mimetype": "text/x-python",
   "name": "python",
   "nbconvert_exporter": "python",
   "pygments_lexer": "ipython3",
   "version": "3.10.6"
  },
  "toc": {
   "base_numbering": 1,
   "nav_menu": {},
   "number_sections": true,
   "sideBar": true,
   "skip_h1_title": false,
   "title_cell": "Table of Contents",
   "title_sidebar": "Contents",
   "toc_cell": false,
   "toc_position": {},
   "toc_section_display": true,
   "toc_window_display": false
  }
 },
 "nbformat": 4,
 "nbformat_minor": 5
}
