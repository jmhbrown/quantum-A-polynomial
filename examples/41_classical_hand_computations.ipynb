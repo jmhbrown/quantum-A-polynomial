{
 "cells": [
  {
   "cell_type": "code",
   "execution_count": 1,
   "id": "b159b8a4",
   "metadata": {},
   "outputs": [],
   "source": [
    "R.<W,a02_12,a12_23,a23_02,a12_01,a01_13,a13_12,a03_23,a13_03,a23_13,a01_02,a03_01,a02_03,b02_12,b12_23,b23_02,b12_01,b01_13,b13_12,b03_23,b13_03,b23_13,b01_02,b03_01,b02_03> = PolynomialRing(ZZ)"
   ]
  },
  {
   "cell_type": "code",
   "execution_count": 2,
   "id": "c5ca4d1e",
   "metadata": {},
   "outputs": [],
   "source": [
    "short_edge_identifications = [\n",
    "    a12_23*b23_13-1, a13_12*b13_12-1, a23_13*b12_23-1,\n",
    "    a23_02*b01_02-1, a03_23*b02_12-1, a02_03*b12_01-1,\n",
    "    a03_01*b01_13-1, a01_13*b03_01-1, a13_03*b13_03-1,\n",
    "    a01_02*b23_02-1, a12_01*b02_03-1, a02_12*b03_23-1\n",
    "]\n",
    "\n",
    "monodromy_equations = [\n",
    "    a02_12*a12_23*a23_02 - 1, a12_01*a01_13*a13_12 - 1, a03_23*a13_03*a23_13 - 1, a01_02*a03_01*a02_03 - 1,\n",
    "    b02_12*b12_23*b23_02 - 1, b12_01*b01_13*b13_12 - 1, b03_23*b13_03*b23_13 - 1, b01_02*b03_01*b02_03 - 1\n",
    "]\n",
    "\n",
    "skein_kernel_equations = [\n",
    "    (a23_13*a23_02*a01_13*a01_02)*W - 1 - (a23_13*a23_02*a01_13*a01_02)*(a02_12*a13_12*a02_03*a13_03)*W^2,\n",
    "    (b23_13*b23_02*b01_13*b01_02)*W - 1 - (b23_13*b23_02*b01_13*b01_02)*(b02_12*b13_12*b02_03*b13_03)*W^2\n",
    "]"
   ]
  },
  {
   "cell_type": "code",
   "execution_count": 3,
   "id": "f0942974",
   "metadata": {},
   "outputs": [],
   "source": [
    "I = R.ideal(short_edge_identifications+monodromy_equations+skein_kernel_equations)"
   ]
  },
  {
   "cell_type": "code",
   "execution_count": 34,
   "id": "0bcceb1b",
   "metadata": {},
   "outputs": [],
   "source": [
    "elim_vars = list(set([W,a02_12,a12_23,a23_02,a12_01,a01_13,a13_12,a03_23,a13_03,a23_13,a01_02,a03_01,a02_03,b02_12,b12_23,b23_02,b12_01,b01_13,b13_12,b03_23,b13_03,b23_13,b01_02,b03_01,b02_03])\n",
    "                 - set([b13_03]) - set([b12_23,b01_13,a12_01,a02_12]))"
   ]
  },
  {
   "cell_type": "code",
   "execution_count": 37,
   "id": "743e19e3",
   "metadata": {},
   "outputs": [
    {
     "name": "stdout",
     "output_type": "stream",
     "text": [
      "Solving away: [a13_03, a02_03, b02_12, b03_01, b23_13, a13_12, b23_02, b13_12, b01_02, W, a12_23, a23_02, b12_01, a03_01, a01_13, a03_23, b03_23, b02_03, a23_13, a01_02]\n"
     ]
    },
    {
     "data": {
      "text/plain": [
       "[a02_12^2*a12_01^2*b12_23^2*b01_13^2*b13_03^4 + a02_12*a12_01*b12_23*b01_13*b13_03^8 - a02_12*a12_01*b12_23*b01_13*b13_03^6 - 2*a02_12*a12_01*b12_23*b01_13*b13_03^4 - a02_12*a12_01*b12_23*b01_13*b13_03^2 + a02_12*a12_01*b12_23*b01_13 + b13_03^4]"
      ]
     },
     "execution_count": 37,
     "metadata": {},
     "output_type": "execute_result"
    }
   ],
   "source": [
    "print(\"Solving away:\",elim_vars)\n",
    "\n",
    "I.elimination_ideal(elim_vars).gens()"
   ]
  },
  {
   "cell_type": "markdown",
   "id": "7d76761c",
   "metadata": {},
   "source": [
    "# Try all the different sign conventions\n"
   ]
  },
  {
   "cell_type": "code",
   "execution_count": 38,
   "id": "016b04ce",
   "metadata": {},
   "outputs": [
    {
     "name": "stdout",
     "output_type": "stream",
     "text": [
      "Sign conventions: A tet: [1, 1, -1] B tet: [1, 1, -1]\n",
      "[a02_12^2*a12_01^2*b12_23^2*b01_13^2*b13_03^4 - a02_12*a12_01*b12_23*b01_13*b13_03^8 - a02_12*a12_01*b12_23*b01_13*b13_03^6 + 2*a02_12*a12_01*b12_23*b01_13*b13_03^4 - a02_12*a12_01*b12_23*b01_13*b13_03^2 - a02_12*a12_01*b12_23*b01_13 + b13_03^4]\n",
      "\n",
      "\n",
      "Sign conventions: A tet: [1, 1, -1] B tet: [1, -1, 1]\n",
      "[a02_12^2*a12_01^2*b12_23^2*b01_13^2*b13_03^4 - a02_12*a12_01*b12_23*b01_13*b13_03^8 + a02_12*a12_01*b12_23*b01_13*b13_03^6 + 2*a02_12*a12_01*b12_23*b01_13*b13_03^4 + a02_12*a12_01*b12_23*b01_13*b13_03^2 - a02_12*a12_01*b12_23*b01_13 + b13_03^4]\n",
      "\n",
      "\n",
      "Sign conventions: A tet: [1, 1, -1] B tet: [-1, 1, 1]\n",
      "[a02_12^2*a12_01^2*b12_23^2*b01_13^2*b13_03^4 - a02_12*a12_01*b12_23*b01_13*b13_03^8 - a02_12*a12_01*b12_23*b01_13*b13_03^6 - 2*a02_12*a12_01*b12_23*b01_13*b13_03^4 + a02_12*a12_01*b12_23*b01_13*b13_03^2 - a02_12*a12_01*b12_23*b01_13 - b13_03^4]\n",
      "\n",
      "\n",
      "Sign conventions: A tet: [1, -1, 1] B tet: [1, 1, -1]\n",
      "[a02_12^2*a12_01^2*b12_23^2*b01_13^2*b13_03^4 - a02_12*a12_01*b12_23*b01_13*b13_03^8 + a02_12*a12_01*b12_23*b01_13*b13_03^6 + 2*a02_12*a12_01*b12_23*b01_13*b13_03^4 + a02_12*a12_01*b12_23*b01_13*b13_03^2 - a02_12*a12_01*b12_23*b01_13 + b13_03^4]\n",
      "\n",
      "\n",
      "Sign conventions: A tet: [1, -1, 1] B tet: [1, -1, 1]\n",
      "[a02_12^2*a12_01^2*b12_23^2*b01_13^2*b13_03^4 - a02_12*a12_01*b12_23*b01_13*b13_03^8 - a02_12*a12_01*b12_23*b01_13*b13_03^6 + 2*a02_12*a12_01*b12_23*b01_13*b13_03^4 - a02_12*a12_01*b12_23*b01_13*b13_03^2 - a02_12*a12_01*b12_23*b01_13 + b13_03^4]\n",
      "\n",
      "\n",
      "Sign conventions: A tet: [1, -1, 1] B tet: [-1, 1, 1]\n",
      "[a02_12^2*a12_01^2*b12_23^2*b01_13^2*b13_03^4 - a02_12*a12_01*b12_23*b01_13*b13_03^8 + a02_12*a12_01*b12_23*b01_13*b13_03^6 - 2*a02_12*a12_01*b12_23*b01_13*b13_03^4 - a02_12*a12_01*b12_23*b01_13*b13_03^2 - a02_12*a12_01*b12_23*b01_13 - b13_03^4]\n",
      "\n",
      "\n",
      "Sign conventions: A tet: [-1, 1, 1] B tet: [1, 1, -1]\n",
      "[a02_12^2*a12_01^2*b12_23^2*b01_13^2*b13_03^4 + a02_12*a12_01*b12_23*b01_13*b13_03^8 - a02_12*a12_01*b12_23*b01_13*b13_03^6 + 2*a02_12*a12_01*b12_23*b01_13*b13_03^4 + a02_12*a12_01*b12_23*b01_13*b13_03^2 + a02_12*a12_01*b12_23*b01_13 - b13_03^4]\n",
      "\n",
      "\n",
      "Sign conventions: A tet: [-1, 1, 1] B tet: [1, -1, 1]\n",
      "[a02_12^2*a12_01^2*b12_23^2*b01_13^2*b13_03^4 + a02_12*a12_01*b12_23*b01_13*b13_03^8 + a02_12*a12_01*b12_23*b01_13*b13_03^6 + 2*a02_12*a12_01*b12_23*b01_13*b13_03^4 - a02_12*a12_01*b12_23*b01_13*b13_03^2 + a02_12*a12_01*b12_23*b01_13 - b13_03^4]\n",
      "\n",
      "\n",
      "Sign conventions: A tet: [-1, 1, 1] B tet: [-1, 1, 1]\n",
      "[a02_12^2*a12_01^2*b12_23^2*b01_13^2*b13_03^4 + a02_12*a12_01*b12_23*b01_13*b13_03^8 - a02_12*a12_01*b12_23*b01_13*b13_03^6 - 2*a02_12*a12_01*b12_23*b01_13*b13_03^4 - a02_12*a12_01*b12_23*b01_13*b13_03^2 + a02_12*a12_01*b12_23*b01_13 + b13_03^4]\n",
      "\n",
      "\n"
     ]
    }
   ],
   "source": [
    "skein_kernel_unsigned =  [\n",
    "    [(a23_13*a23_02*a01_13*a01_02)*W, 1, (a23_13*a23_02*a01_13*a01_02)*(a02_12*a13_12*a02_03*a13_03)*W^2],\n",
    "    [(b23_13*b23_02*b01_13*b01_02)*W, 1, (b23_13*b23_02*b01_13*b01_02)*(b02_12*b13_12*b02_03*b13_03)*W^2]\n",
    "]\n",
    "\n",
    "sign_conventions = [\n",
    "    [1,1,-1],[1,-1,1],[-1,1,1]\n",
    "]\n",
    "\n",
    "for sc1 in sign_conventions:\n",
    "    for sc2 in sign_conventions:\n",
    "        skein_equation = [sum([sign*monomial for sign,monomial in zip(sc1,skein_kernel_unsigned[0])]),sum([sign*monomial for sign,monomial in zip(sc2,skein_kernel_unsigned[1])])]\n",
    "        Itmp = R.ideal(short_edge_identifications+monodromy_equations+skein_equation)\n",
    "        print(\"Sign conventions:\",\"A tet:\", sc1,\"B tet:\",sc2)\n",
    "        print(Itmp.elimination_ideal(elim_vars).gens())\n",
    "        print(\"\\n\")"
   ]
  },
  {
   "cell_type": "markdown",
   "id": "7f92c458",
   "metadata": {},
   "source": [
    "Here's the version that gives us exactly the right signs:\n",
    "```\n",
    "Sign conventions: A tet: [1, 1, -1] B tet: [1, -1, 1]\n",
    "[a02_12^2*a12_01^2*b12_23^2*b01_13^2*b13_03^4 - a02_12*a12_01*b12_23*b01_13*b13_03^8 + a02_12*a12_01*b12_23*b01_13*b13_03^6 + 2*a02_12*a12_01*b12_23*b01_13*b13_03^4 + a02_12*a12_01*b12_23*b01_13*b13_03^2 - a02_12*a12_01*b12_23*b01_13 + b13_03^4]\n",
    "```\n",
    "\n",
    "Specifically, that means the two relations are:\n",
    "\n",
    "tet A : `a23_13*a23_02*a01_13*a01_02)*W + 1 - (a23_13*a23_02*a01_13*a01_02)*(a02_12*a13_12*a02_03*a13_03)*W^2`\n",
    "\n",
    "tet B : `b23_13*b23_02*b01_13*b01_02)*W - 1 + (b23_13*b23_02*b01_13*b01_02)*(b02_12*b13_12*b02_03*b13_03)*W^2`"
   ]
  },
  {
   "cell_type": "code",
   "execution_count": null,
   "id": "4ba49a45",
   "metadata": {},
   "outputs": [],
   "source": []
  }
 ],
 "metadata": {
  "kernelspec": {
   "display_name": "SageMath 9.5",
   "language": "sage",
   "name": "sagemath"
  },
  "language_info": {
   "codemirror_mode": {
    "name": "ipython",
    "version": 3
   },
   "file_extension": ".py",
   "mimetype": "text/x-python",
   "name": "python",
   "nbconvert_exporter": "python",
   "pygments_lexer": "ipython3",
   "version": "3.10.6"
  },
  "toc": {
   "base_numbering": 1,
   "nav_menu": {},
   "number_sections": true,
   "sideBar": true,
   "skip_h1_title": false,
   "title_cell": "Table of Contents",
   "title_sidebar": "Contents",
   "toc_cell": false,
   "toc_position": {},
   "toc_section_display": true,
   "toc_window_display": false
  },
  "varInspector": {
   "cols": {
    "lenName": 16,
    "lenType": 16,
    "lenVar": 40
   },
   "kernels_config": {
    "python": {
     "delete_cmd_postfix": "",
     "delete_cmd_prefix": "del ",
     "library": "var_list.py",
     "varRefreshCmd": "print(var_dic_list())"
    },
    "r": {
     "delete_cmd_postfix": ") ",
     "delete_cmd_prefix": "rm(",
     "library": "var_list.r",
     "varRefreshCmd": "cat(var_dic_list()) "
    }
   },
   "types_to_exclude": [
    "module",
    "function",
    "builtin_function_or_method",
    "instance",
    "_Feature"
   ],
   "window_display": false
  }
 },
 "nbformat": 4,
 "nbformat_minor": 5
}
