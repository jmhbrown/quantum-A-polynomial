{
 "cells": [
  {
   "cell_type": "markdown",
   "metadata": {},
   "source": [
    "# Setup"
   ]
  },
  {
   "cell_type": "markdown",
   "metadata": {},
   "source": [
    "## Helper Methods"
   ]
  },
  {
   "cell_type": "code",
   "execution_count": 2,
   "metadata": {
    "init_cell": true
   },
   "outputs": [],
   "source": [
    "#import functools\n",
    "\n",
    "# Get the short and long edges in vector form.\n",
    "def short_edge(i,j,power=1):\n",
    "    vec = [0]*18\n",
    "    vec[3*(i-1)+j-1] = power\n",
    "    return vec\n",
    "\n",
    "def long_edge(i,power=1):\n",
    "    vec = [0]*18\n",
    "    vec[11+i] = power\n",
    "    return vec\n",
    "\n",
    "def std_basis(i,dim,power=1):\n",
    "    # returns (0,...,0,power,0,...,0) in ZZ^dim\n",
    "    vec = [0]*dim\n",
    "    vec[i] = power\n",
    "    return vector(vec)\n",
    "\n",
    "# list + list is concatenation, here's a method to add lists termwise:\n",
    "# needs the library functools for reduce.\n",
    "def add_termwise(*args,return_type=list):\n",
    "    return return_type(reduce(lambda x,y: vector(x)+vector(y), args))\n"
   ]
  },
  {
   "cell_type": "markdown",
   "metadata": {},
   "source": [
    "## Relations Matrix - for the 4_1 knot!"
   ]
  },
  {
   "cell_type": "code",
   "execution_count": 3,
   "metadata": {
    "init_cell": true
   },
   "outputs": [],
   "source": [
    "# first do short edges around a puncture\n",
    "omega_short_one_puncture = matrix([\n",
    "    [ 0, 1,-1],\n",
    "    [-1, 0, 1],\n",
    "    [ 1,-1, 0]\n",
    "])\n",
    "omega_short = matrix.block_diagonal([omega_short_one_puncture]*4)\n",
    "\n",
    "# columns are A_1, ... , A_6\n",
    "omega_short_long = matrix([\n",
    "    [0,0,0,1,1,0],\n",
    "    [0,0,1,0,1,0],\n",
    "    [0,0,1,1,0,0],\n",
    "    #\n",
    "    [0,0,1,0,0,1],\n",
    "    [0,1,1,0,0,0],\n",
    "    [0,1,0,0,0,1],\n",
    "    #\n",
    "    [0,1,0,0,1,0],\n",
    "    [1,0,0,0,1,0],\n",
    "    [1,1,0,0,0,0],\n",
    "    #\n",
    "    [1,0,0,0,0,1],\n",
    "    [1,0,0,1,0,0],\n",
    "    [0,0,0,1,0,1]\n",
    "])\n",
    "\n",
    "\n",
    "\n",
    "# columns are a_11,a_12,...,a_41,a_42,a_42, A_1, ... , A_6\n",
    "omega = block_matrix([\n",
    "    [omega_short,omega_short_long],\n",
    "    [-omega_short_long.transpose(),0]\n",
    "])\n",
    "\n",
    "# columns are a11, a12,...,a43,A1,...,A6,b11,b12,...,b43,B1,...,B6. - no q\n",
    "WRONG_omega_x_threads = matrix([\n",
    "    add_termwise(short_edge(1,1,-1),short_edge(1,2,-1),long_edge(5,-1))+add_termwise(short_edge(4,3, 1),short_edge(4,2, 1),long_edge(4,-1)),\n",
    "    add_termwise(short_edge(1,1, 1),short_edge(1,3, 1),long_edge(4,-1))+add_termwise(short_edge(4,3,-1),short_edge(4,1,-1),long_edge(6,-1)),\n",
    "    add_termwise(short_edge(4,2,-1),short_edge(4,3,-1),long_edge(4,-1))+add_termwise(short_edge(2,1, 1),short_edge(2,3, 1),long_edge(6,-1)),\n",
    "    add_termwise(short_edge(4,2, 1),short_edge(4,1, 1),long_edge(1,-1))+add_termwise(short_edge(2,1,-1),short_edge(2,2,-1),long_edge(3,-1)),\n",
    "    add_termwise(short_edge(3,2,-1),short_edge(3,3,-1),long_edge(1,-1))+add_termwise(short_edge(1,3, 1),short_edge(1,2, 1),long_edge(3,-1)),\n",
    "    add_termwise(short_edge(3,2, 1),short_edge(3,1, 1),long_edge(5,-1))+add_termwise(short_edge(1,3,-1),short_edge(1,1,-1),long_edge(4,-1))\n",
    "])\n",
    "\n",
    "# columns are a11, a12,...,a43,A1,...,A6,b11,b12,...,b43,B1,...,B6. - no q\n",
    "WRONG_omega_y_threads = matrix([\n",
    "    add_termwise(short_edge(1,3,-1),short_edge(1,1,-1),long_edge(4,-1))+add_termwise(short_edge(3,1, 1),short_edge(3,3, 1),long_edge(2,-1)),\n",
    "    add_termwise(short_edge(1,3, 1),short_edge(1,2, 1),long_edge(3,-1))+add_termwise(short_edge(3,1,-1),short_edge(3,2,-1),long_edge(5,-1)),\n",
    "    add_termwise(short_edge(2,1,-1),short_edge(2,2,-1),long_edge(3,-1))+add_termwise(short_edge(1,2, 1),short_edge(1,1, 1),long_edge(5,-1)),\n",
    "    add_termwise(short_edge(2,1, 1),short_edge(2,3, 1),long_edge(6,-1))+add_termwise(short_edge(1,2,-1),short_edge(1,3,-1),long_edge(3,-1)),\n",
    "    add_termwise(short_edge(4,3,-1),short_edge(4,1,-1),long_edge(6,-1))+add_termwise(short_edge(2,2, 1),short_edge(2,1, 1),long_edge(3,-1)),\n",
    "    add_termwise(short_edge(4,3, 1),short_edge(4,2, 1),long_edge(4,-1))+add_termwise(short_edge(2,2,-1),short_edge(2,3,-1),long_edge(2,-1))\n",
    "])\n",
    "\n",
    "# columns are a11, a12,...,a43,A1,...,A6,b11,b12,...,b43,B1,...,B6. - no q\n",
    "WRONG_omega_z_threads = matrix([\n",
    "    add_termwise(short_edge(1,2,-1),short_edge(1,3,-1),long_edge(3,-1))+add_termwise(short_edge(3,3, 1),short_edge(3,2, 1),long_edge(1,-1)),\n",
    "    add_termwise(short_edge(1,2, 1),short_edge(1,1, 1),long_edge(5,-1))+add_termwise(short_edge(3,3,-1),short_edge(3,1,-1),long_edge(2,-1)),\n",
    "    add_termwise(short_edge(3,1,-1),short_edge(3,2,-1),long_edge(5,-1))+add_termwise(short_edge(2,3, 1),short_edge(2,2, 1),long_edge(2,-1)),\n",
    "    add_termwise(short_edge(3,1, 1),short_edge(3,3, 1),long_edge(2,-1))+add_termwise(short_edge(2,3,-1),short_edge(2,1,-1),long_edge(6,-1)),\n",
    "    add_termwise(short_edge(2,2,-1),short_edge(2,3,-1),long_edge(2,-1))+add_termwise(short_edge(4,1, 1),short_edge(4,3, 1),long_edge(6,-1)),\n",
    "    add_termwise(short_edge(2,2, 1),short_edge(2,1, 1),long_edge(3,-1))+add_termwise(short_edge(4,1,-1),short_edge(4,2,-1),long_edge(1,-1))\n",
    "])\n",
    "\n",
    "# columns are a11, a12,...,a43,A1,...,A6,b11,b12,...,b43,B1,...,B6. - no q\n",
    "WRONG_omega_w_threads = matrix([\n",
    "    add_termwise(short_edge(4,1,-1),short_edge(4,2,-1),long_edge(1,-1))+add_termwise(short_edge(3,2, 1),short_edge(3,1, 1),long_edge(5,-1)),\n",
    "    add_termwise(short_edge(4,1, 1),short_edge(4,3, 1),long_edge(6,-1))+add_termwise(short_edge(3,2,-1),short_edge(3,3,-1),long_edge(1,-1)),\n",
    "    add_termwise(short_edge(2,3,-1),short_edge(2,1,-1),long_edge(6,-1))+add_termwise(short_edge(4,2, 1),short_edge(4,1, 1),long_edge(1,-1)),\n",
    "    add_termwise(short_edge(2,3, 1),short_edge(2,2, 1),long_edge(2,-1))+add_termwise(short_edge(4,2,-1),short_edge(4,3,-1),long_edge(4,-1)),\n",
    "    add_termwise(short_edge(3,3,-1),short_edge(3,1,-1),long_edge(2,-1))+add_termwise(short_edge(1,1, 1),short_edge(1,3, 1),long_edge(4,-1)),\n",
    "    add_termwise(short_edge(3,3, 1),short_edge(3,2, 1),long_edge(1,-1))+add_termwise(short_edge(1,1,-1),short_edge(1,2,-1),long_edge(5,-1))\n",
    "])\n",
    "\n",
    "WRONG_omega_threads = block_matrix([[WRONG_omega_x_threads],[WRONG_omega_y_threads],[WRONG_omega_z_threads],[WRONG_omega_w_threads]])\n",
    "\n",
    "# relations between threads\n",
    "# first make the threads in 24 dim\n",
    "x1vec = std_basis(0+ 0,24); x2vec = std_basis(1+ 0,24); x3vec = std_basis(2+ 0,24); x4vec = std_basis(3+ 0,24); x5vec = std_basis(4+ 0,24); x6vec = std_basis(5+ 0,24)\n",
    "y1vec = std_basis(0+ 6,24); y2vec = std_basis(1+ 6,24); y3vec = std_basis(2+ 6,24); y4vec = std_basis(3+ 6,24); y5vec = std_basis(4+ 6,24); y6vec = std_basis(5+ 6,24)\n",
    "z1vec = std_basis(0+12,24); z2vec = std_basis(1+12,24); z3vec = std_basis(2+12,24); z4vec = std_basis(3+12,24); z5vec = std_basis(4+12,24); z6vec = std_basis(5+12,24)\n",
    "w1vec = std_basis(0+18,24); w2vec = std_basis(1+18,24); w3vec = std_basis(2+18,24); w4vec = std_basis(3+18,24); w5vec = std_basis(4+18,24); w6vec = std_basis(5+18,24)\n",
    "\n",
    "#TODO: Check thread relations\n",
    "WRONG_omega_threads_threads = matrix([\n",
    "    # x1 - x6\n",
    "    list(z2vec-w4vec),\n",
    "    list(z5vec-y1vec),\n",
    "    list(y6vec-z4vec),\n",
    "    list(y5vec-w1vec),\n",
    "    list(w6vec-y4vec),\n",
    "    list(w5vec-z3vec),\n",
    "    # y1 - y6\n",
    "    list(x2vec-z2vec),\n",
    "    list(w1vec-z1vec),\n",
    "    list(z6vec-w6vec),\n",
    "    list(x5vec-w3vec),\n",
    "    list(w2vec-x4vec),\n",
    "    list(z3vec-x3vec),\n",
    "    # z1 - z6\n",
    "    list(y2vec-w2vec),\n",
    "    list(y1vec-x1vec),\n",
    "    list(x6vec-y6vec),\n",
    "    list(x3vec-w5vec),\n",
    "    list(w4vec-x2vec),\n",
    "    list(w3vec-y3vec),\n",
    "    # w1 - w6\n",
    "    list(x4vec-y2vec),\n",
    "    list(z1vec-y5vec),\n",
    "    list(y4vec-z6vec),\n",
    "    list(x1vec-z5vec),\n",
    "    list(z4vec-x6vec),\n",
    "    list(y3vec-x5vec)\n",
    "])\n",
    "\n",
    "WRONG_omega_41 = block_matrix([[block_diagonal_matrix(omega,omega),-WRONG_omega_threads.transpose()],[WRONG_omega_threads,WRONG_omega_threads_threads]])\n",
    "#print(\"omega_41 is skew symmetric: \", omega_41.is_skew_symmetric())"
   ]
  },
  {
   "cell_type": "markdown",
   "metadata": {},
   "source": [
    "## Lattice and Free Algebra"
   ]
  },
  {
   "cell_type": "markdown",
   "metadata": {},
   "source": [
    "### Variables, the algebra, and ordering"
   ]
  },
  {
   "cell_type": "code",
   "execution_count": 12,
   "metadata": {
    "init_cell": true
   },
   "outputs": [],
   "source": [
    "## Setting up the weight lattice.\n",
    "num_tetrahedra = 2\n",
    "num_face_gluings = 4\n",
    "num_generators = 18*num_tetrahedra+6*num_face_gluings\n",
    "lattice = ZZ^(num_generators)\n",
    "\n",
    "## Base Field qrt4^4 = q\n",
    "Qq.<qrt4> = FractionField(QQ['qrt4'])\n",
    "var('q')\n",
    "var('qrt2')\n",
    "qrt2 = qrt4^2\n",
    "q = qrt4^4\n",
    "\n",
    "## Make the variables - for the free algebra\n",
    "short_edge_list = [\"a{0}_{1}{2}\".format(n,i,j)\n",
    "                   for n in range(num_tetrahedra)\n",
    "                   for i in range(1,5)\n",
    "                   for j in range(1,4)\n",
    "                  ]\n",
    "\n",
    "long_edge_list = [\"A{0}_{1}\".format(n,i)\n",
    "                  for n in range(num_tetrahedra)\n",
    "                  for i in range(1,7)\n",
    "                 ]\n",
    "thread_list = [\"x{0}_{1}\".format(n,i)\n",
    "              for n in range(num_face_gluings)\n",
    "              for i in range(1,7)\n",
    "              ]\n",
    "\n",
    "# make the free algebra. working over Q(q) since it displays more nicely.\n",
    "the_free_algebra = FreeAlgebra(Qq,short_edge_list+long_edge_list+thread_list)\n",
    "\n",
    "# this horrible thing makes a list in the order\n",
    "# (short edges for tet 0), (long edges for tet 0),..., (long edges for tet n), (threads x0_1,x0_2,...,xn_5,xn_6)\n",
    "lexicographical_order = [variable for sublist in \n",
    "                         [short_edge_list[6*i+0:6*i+12] + long_edge_list[6*i+0:6*i+6] for i in range(num_tetrahedra)]\n",
    "                         for variable in sublist\n",
    "                        ] + thread_list"
   ]
  },
  {
   "cell_type": "code",
   "execution_count": 8,
   "metadata": {},
   "outputs": [],
   "source": [
    "## TODO: do I need negative powers for the elements of the free ring?\n",
    "## Trying to convert between the free algebra and my dictionaries.\n",
    "short_lex_order = ['a','b','c']\n",
    "short_F = FreeAlgebra(Qq,['a','b','c'])\n",
    "short_L.<a,b,c> = LaurentPolynomialRing(QQ)\n",
    "exp = (1,2,3)\n",
    "\n",
    "#lattice_coord_to_free_algebra_element([1,1,0],short_lex_order,short_L)\n"
   ]
  },
  {
   "cell_type": "markdown",
   "metadata": {},
   "source": [
    "### Converting between formats"
   ]
  },
  {
   "cell_type": "code",
   "execution_count": 5,
   "metadata": {
    "init_cell": true
   },
   "outputs": [],
   "source": [
    "def str_to_free_algebra_element(string,free_algebra=the_free_algebra):\n",
    "    \"\"\"converts a string into an element of the free algebra.\n",
    "    \n",
    "    This is a workaround, since there's a bug in the sagemath code.\n",
    "    \n",
    "    Parameters:\n",
    "    str -- the string to be converted\n",
    "    free_algebra (FreeAlgebra) -- the free algebra where the element should live\n",
    "    \"\"\"\n",
    "    parameters = free_algebra.gens_dict_recursive()\n",
    "    return free_algebra(sage_eval(string,locals=parameters))\n",
    "\n",
    "def lattice_coord_to_free_algebra_element(lattice_coord,lex_order=lexicographical_order, free_algebra= the_free_algebra):\n",
    "    \"\"\"converts a lattice coordinate to a monomial in the free algebra\n",
    "    \n",
    "    Parameters:\n",
    "    lex_order (list of strings) -- the lexicographical order used for the lattice.\n",
    "    free_algebra (FreeAlgebra) -- the free algebra where the result should live.\n",
    "    \n",
    "    Returns:\n",
    "    FreeAlgebraElement -- the monomial represented by the lattix\"\"\"\n",
    "    elem = \"*\".join([\"{0}^({1})\".format(var,power) for var, power in list(zip(lex_order,lattice_coord))])\n",
    "    return str_to_free_algebra_element(elem,free_algebra=free_algebra)\n",
    "    \n",
    "def dict_to_free_algebra_element(dict_poly,lex_order=lexicographical_order, free_algebra=the_free_algebra):\n",
    "    elem = \" + \".join([\"{0}*{1}\".format(coeff,lattice_coord_to_free_algebra_element(lattice_coord,lex_order=lex_order,free_algebra=free_algebra)) for lattice_coord, coeff in dict_poly.items()])\n",
    "    print(elem)\n",
    "    return str_to_free_algebra_element(elem,free_algebra=free_algebra)\n",
    "# terms = [str_to_free_algebra_element(,free_algebra=free_alebra)]"
   ]
  },
  {
   "cell_type": "code",
   "execution_count": null,
   "metadata": {},
   "outputs": [],
   "source": [
    "#lattice_coord_to_free_algebra_element((0,2,0),lex_order=short_lex_order, free_algebra=F)\n",
    "#str_to_free_algebra_element(\"1/q*b^2*c + q*a + -1*1\",free_algebra=F)\n",
    "#dict_to_free_algebra_element({(0,2,1):q^-1, (1,0,0):q, (0,0,0):-1},lex_order=short_lex_order, free_algebra=F)"
   ]
  },
  {
   "cell_type": "code",
   "execution_count": 6,
   "metadata": {
    "init_cell": true
   },
   "outputs": [],
   "source": [
    "def relations_matrix_to_dict(ordering=lexicographical_order,relations=matrix.identity(3)):\n",
    "    \"\"\"\n",
    "    Converts matrix relations to a dictionary.\n",
    "    \n",
    "    Parameters:\n",
    "    ordering (list or tuple): list of variable names, in the order assumed by the relations matrix\n",
    "    relations (matrix): the matrix defining the skew-symmetric form on the lattice underlying the quantum tori\n",
    "    \"\"\"\n",
    "    return {\n",
    "        (ordering[i],ordering[j]):relations[i,j] for i in range(relations.dimensions()[0]) for j in range(relations.dimensions()[1]) if not relations[i,j].is_zero()\n",
    "   }"
   ]
  },
  {
   "cell_type": "markdown",
   "metadata": {},
   "source": [
    "### Ordering Scalars\n",
    "Our polynomials are assumed in lexicographical order, e.g. {(1,2,0) : q} denotes q X^(1,0,0) X^(0,2,0)"
   ]
  },
  {
   "cell_type": "code",
   "execution_count": 7,
   "metadata": {
    "init_cell": true
   },
   "outputs": [],
   "source": [
    "def get_lex_ordering_scalar(term1,term2,relations=matrix.identity(3)):\n",
    "    \"\"\"\n",
    "    Takes two lattice coordinates and returns the power of q introduced by putting their product into lexicographical order.\n",
    "    \n",
    "    Parameters:\n",
    "    term1 -- a lattice coordinate\n",
    "    term2 -- a lattice coordinate\n",
    "    relations (matrix) -- the relations matrix\n",
    "    \n",
    "    Output:\n",
    "    expression of the form q^n, such that X^term1 * X^term2 = q^n X^(term1+term2)[0] * X^(term1+term2)[1] * ... * X^(term1 + term2)[-1]\n",
    "    \"\"\"\n",
    "    q_power = 0\n",
    "    dim = len(term1)\n",
    "    for i in range(dim):\n",
    "        if not (term2[i].is_zero() or vector(term1[i+1:]).is_zero()):\n",
    "            first_factor = [0]*dim\n",
    "            second_factor = [0]*dim\n",
    "            \n",
    "            first_factor[i+1:] = term1[i+1:]\n",
    "            second_factor[i] = term2[i]\n",
    "            \n",
    "            q_power += (matrix(first_factor)*relations*matrix(second_factor).transpose())[0,0]\n",
    "            \n",
    "    return q^q_power\n",
    "\n",
    "\n",
    "\n",
    "def get_lex_to_normal_ordering_scalar(term,relations=matrix.identity(3)):\n",
    "    \"\"\"\n",
    "    Takes a lattice coordinate for lexigraphical ordering and returns the power of q introduced by putting it into normal order.\n",
    "    \n",
    "    Parameters:\n",
    "    term (vector, tuple, or list) -- a lattice coordinate\n",
    "    relations (matrix) -- the relations matrix\n",
    "    \n",
    "    Output:\n",
    "    expression of the form q^n, such that X^term1 * X^term2 = q^n X^(term1+term2)\n",
    "    \"\"\"\n",
    "    \n",
    "    q_power = 0\n",
    "    dim = len(term)\n",
    "    for i in range(dim):\n",
    "        if not (term[i].is_zero() or vector(term[i+1:]).is_zero()):\n",
    "            leading_factor = vector([0]*dim)\n",
    "            trailing_terms = vector([0]*dim)\n",
    "            \n",
    "            leading_factor[i] = term[i]\n",
    "            trailing_terms[i+1:] = term[i+1:]\n",
    "        \n",
    "            q_power += (matrix(leading_factor)*relations*matrix(trailing_terms).transpose())[0,0]\n",
    "    return q^(q_power/2)\n",
    "    \n",
    "    \n",
    "def normal_to_lexicographical_ordering(polynomial,relations=matrix.identity(3)):\n",
    "    \"\"\"\n",
    "    Takes a polynomial and scales each monomial as if it were in normal ordering.\n",
    "    e.g. xy + z is interpreted as :xy + z: = q^n/2 xy + z, where xy = q^-n yx.\n",
    "    \n",
    "    Parameters:\n",
    "    polynomial (dict) -- the polynomial in normal order\n",
    "    \n",
    "    Output:\n",
    "    dict -- the polynomial with scalars added\n",
    "    \"\"\"\n",
    "    return {exp : coeff*get_lex_to_normal_ordering_scalar(exp,relations) for exp,coeff in polynomial.items()}"
   ]
  },
  {
   "cell_type": "markdown",
   "metadata": {},
   "source": [
    "### Multiplication"
   ]
  },
  {
   "cell_type": "code",
   "execution_count": 8,
   "metadata": {
    "init_cell": true
   },
   "outputs": [],
   "source": [
    "def multiply_lattice_monomials(*args,relations=matrix.identity(3)):\n",
    "    \"\"\"\n",
    "    Multiplies monomials based on their lattice coordinates. Returns a monomial in normal order.\n",
    "    \n",
    "    Monomials are generally non-commutative but always represented in a lexicographical order.\n",
    "    Reordering the terms in a product of monomials introduces a power of q.\n",
    "    \n",
    "    Parameters:\n",
    "    *args (list or vector) -- an arbitrary number of lattice coordinates\n",
    "    relations (matrix) -- the relations matrix\n",
    "    \n",
    "    Output:\n",
    "    dict of the form {(lattice_coord): scalar} \n",
    "    \"\"\"\n",
    "    q_power = sum([1/2*matrix(args[i])*relations*matrix(args[j]).transpose() for i in range(len(args)) for j in range(i+1,len(args))])[0,0]\n",
    "    lattice_coordinate = sum([vector(v) for v in args])\n",
    "    \n",
    "    return {tuple(lattice_coordinate) : q^(q_power)}\n",
    "\n",
    "def multiply_pair_of_polynomials(term1,term2,relations=matrix.identity(3)):\n",
    "    \"\"\"\n",
    "    Takes a pair of polynomials and returns their product as a new dictionary\n",
    "    \"\"\"\n",
    "    product_dict = {}\n",
    "    for exp1,coeff1 in term1.items():\n",
    "        for exp2,coeff2 in term2.items():\n",
    "            # product_exponent = exp1 + exp2, the scalar q^n depends on the relations matrix\n",
    "            product_exponent, normal_ordering_scalar = multiply_lattice_monomials(exp1,exp2,relations=relations).popitem()\n",
    "            # account for prior instances of this particular monomial\n",
    "            old_coeff = product_dict.get(product_exponent,0)\n",
    "            product_dict[product_exponent] = old_coeff+normal_ordering_scalar*coeff1*coeff2\n",
    "    \n",
    "    return product_dict\n",
    "\n",
    "def multiply_polynomials(*args,relations=matrix.identity(3)):\n",
    "    \"\"\"\n",
    "    Takes an arbitrary number of polynomials and returns their product.\n",
    "    \"\"\"\n",
    "    return reduce(lambda a,b : multiply_pair_of_polynomials(a,b,relations=relations), args)\n",
    "\n",
    "def scale_polynomial(polynomial,scalar):\n",
    "    \"\"\" Multiplies a polynomial by a scalar.\n",
    "    \n",
    "    Parameters:\n",
    "    dict -- the polynomial to be scaled\n",
    "    expression - the scalar. has to be in the base ring of the polynomial.\n",
    "    \n",
    "    Output:\n",
    "    dict -- the scaled polynomial.\"\"\"\n",
    "    \n",
    "    return {key : scalar*old_coeff for key, old_coeff in polynomial.items()}"
   ]
  },
  {
   "cell_type": "code",
   "execution_count": 30,
   "metadata": {},
   "outputs": [
    {
     "data": {
      "text/plain": [
       "True"
      ]
     },
     "execution_count": 30,
     "metadata": {},
     "output_type": "execute_result"
    }
   ],
   "source": [
    "\n",
    "\n",
    "omega_test = matrix([[0,1,0],[-1,0,0],[0,0,0]])\n",
    "d1 = {(0,1,1):q+1, (1,1,1):2}\n",
    "d2 = {(0,1,1):3, (0,0,0):5}\n",
    "d3 = {(1,0,1):q, (1,4,0):q^5}\n",
    "#short_lex_order = ['a','b','c']\n",
    "#multiply_pair_of_polynomials(d1,d2,relations=omega_test)\n",
    "#multiply_polynomials(d1,d2,d3,relations=omega_test)\n",
    "multiply_lattice_monomials((1,1,3),(1,0,6),relations=omega_test)\n",
    "\n",
    "# These should agree\n",
    "scale_polynomial(d1,q^-4+3) == multiply_polynomials(d1,{(0,0,0): q^-4+3},relations=omega_test)\n"
   ]
  },
  {
   "cell_type": "markdown",
   "metadata": {},
   "source": [
    "### Addition"
   ]
  },
  {
   "cell_type": "code",
   "execution_count": 9,
   "metadata": {
    "init_cell": true
   },
   "outputs": [],
   "source": [
    "def add_pair_of_polynomials(term1,term2):\n",
    "    sum_dict = {}\n",
    "    sum_dict.update(term1)\n",
    "    for power,coeff in term2.items():\n",
    "        sum_dict[power] = coeff + sum_dict.get(power,0)\n",
    "    return sum_dict\n",
    "\n",
    "def add_polynomials(*args):\n",
    "    return reduce(lambda a,b : add_pair_of_polynomials(a,b), args)"
   ]
  },
  {
   "cell_type": "code",
   "execution_count": 33,
   "metadata": {},
   "outputs": [
    {
     "data": {
      "text/plain": [
       "{(0, 1, 1): 2*qrt4^4 + 5,\n",
       " (1, 1, 1): 4,\n",
       " (0, 0, 0): 5,\n",
       " (1, 0, 1): qrt4^4,\n",
       " (1, 4, 0): qrt4^20}"
      ]
     },
     "execution_count": 33,
     "metadata": {},
     "output_type": "execute_result"
    }
   ],
   "source": [
    "add_polynomials(d1,d2,d1,d3)"
   ]
  },
  {
   "cell_type": "markdown",
   "metadata": {},
   "source": [
    "### Other helper methods"
   ]
  },
  {
   "cell_type": "code",
   "execution_count": 10,
   "metadata": {
    "init_cell": true
   },
   "outputs": [],
   "source": [
    "def simplify_coeffs(polynomial):\n",
    "    \"\"\"\n",
    "    Takes a polynomial and simplifies its coefficients using collect.\n",
    "    \n",
    "    Parameters:\n",
    "    polynomial (dict) -- a dictionary representation of a polynomial\n",
    "    \n",
    "    Returns:\n",
    "    dict -- a new representation of the polynomial, with the coefficients simplified.\n",
    "    \"\"\"\n",
    "    \n",
    "    return {k : (v).collect(q) for  k,v in polynomial.items()}\n",
    "\n",
    "def pretty_print_polynomial(poly_dict,ordering=lexicographical_order):\n",
    "    \"\"\"Turns a dictionary into something more human readable.\"\"\"\n",
    "    poly_string = ' + '.join([('{0} ' if str(poly_dict[k]).count('+')==0 else '({0}) ').format(poly_dict[k])+' '.join([\"{0}\".format(ordering[i]) + (\"\" if k[i] == 1 else \"^{{{0}}}\".format(k[i])) for i in range(len(k)) if not k[i] == 0]) for k in poly_dict.keys()])\n",
    "    return poly_string"
   ]
  },
  {
   "cell_type": "code",
   "execution_count": null,
   "metadata": {},
   "outputs": [],
   "source": [
    "#latex_code = ' + '.join(['*'.join(['({2}){0}^{{{1}}}'.format(short_lex_order[i],k[i],d1[k])  for i in range(len(k)) if not k[i].is_zero()]) for k in d1.keys()])\n",
    "#from IPython.display import display, Math, Latex\n",
    "#display(Math(pretty_print_polynomial(d1,ordering=short_lex_order)))"
   ]
  }
 ],
 "metadata": {
  "celltoolbar": "Initialization Cell",
  "kernelspec": {
   "display_name": "SageMath 9.5",
   "language": "sage",
   "name": "sagemath"
  },
  "language_info": {
   "codemirror_mode": {
    "name": "ipython",
    "version": 3
   },
   "file_extension": ".py",
   "mimetype": "text/x-python",
   "name": "python",
   "nbconvert_exporter": "python",
   "pygments_lexer": "ipython3",
   "version": "3.10.6"
  },
  "toc": {
   "base_numbering": 1,
   "nav_menu": {},
   "number_sections": true,
   "sideBar": true,
   "skip_h1_title": false,
   "title_cell": "Table of Contents",
   "title_sidebar": "Contents",
   "toc_cell": false,
   "toc_position": {},
   "toc_section_display": true,
   "toc_window_display": false
  },
  "varInspector": {
   "cols": {
    "lenName": 16,
    "lenType": 16,
    "lenVar": 40
   },
   "kernels_config": {
    "python": {
     "delete_cmd_postfix": "",
     "delete_cmd_prefix": "del ",
     "library": "var_list.py",
     "varRefreshCmd": "print(var_dic_list())"
    },
    "r": {
     "delete_cmd_postfix": ") ",
     "delete_cmd_prefix": "rm(",
     "library": "var_list.r",
     "varRefreshCmd": "cat(var_dic_list()) "
    }
   },
   "types_to_exclude": [
    "module",
    "function",
    "builtin_function_or_method",
    "instance",
    "_Feature"
   ],
   "window_display": false
  }
 },
 "nbformat": 4,
 "nbformat_minor": 4
}
